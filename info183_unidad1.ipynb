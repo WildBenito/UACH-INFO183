{
 "cells": [
  {
   "cell_type": "code",
   "execution_count": null,
   "metadata": {
    "slideshow": {
     "slide_type": "skip"
    }
   },
   "outputs": [],
   "source": [
    "%%HTML\n",
    "<!-- Mejorar visualización en proyector -->\n",
    "<style>\n",
    ".rendered_html {font-size: 1.2em; line-height: 150%;}\n",
    "div.prompt {min-width: 0ex; padding: 0px;}\n",
    ".container {width:90% !important;}\n",
    "</style>"
   ]
  },
  {
   "cell_type": "code",
   "execution_count": 2,
   "metadata": {
    "slideshow": {
     "slide_type": "skip"
    }
   },
   "outputs": [],
   "source": [
    "# Imports and matplotlib configuration\n",
    "import numpy as np\n",
    "import scipy.signal\n",
    "%matplotlib notebook\n",
    "import matplotlib.pylab as plt\n",
    "from matplotlib import animation, patches\n",
    "from IPython.display import display, Audio, HTML\n",
    "import soundfile as sf\n",
    "from style import *"
   ]
  },
  {
   "cell_type": "markdown",
   "metadata": {
    "slideshow": {
     "slide_type": "slide"
    }
   },
   "source": [
    "### Universidad Austral de Chile \n",
    "## INFO183: Análisis de sistemas lineales\n",
    "\n",
    "\n",
    "# Unidad 1: Introducción al procesamiento digital de señales\n",
    "\n",
    "### Dr. Pablo Huijse, phuijse at inf dot uach dot cl \n",
    "\n",
    "### <a href=\"https://github.com/phuijse/UACH-INFO183\"> github.com/phuijse/UACH-INFO183 </a>\n"
   ]
  },
  {
   "cell_type": "markdown",
   "metadata": {
    "slideshow": {
     "slide_type": "slide"
    }
   },
   "source": [
    "# Contenidos\n",
    "\n",
    "1. [Conceptos básicos de señales](#section11)\n",
    "1. [Clasificación y propiedades de las señales](#section12)\n",
    "1. [Muestreo y digitalización de señales](#section13)\n",
    "1. [Esquema general DSP](#section14)\n",
    "\n",
    "\n",
    "\n",
    "# Bibliografía\n",
    "\n",
    "1. Alan V. Oppenheim y Alan S. Willsky, “Señales y Sistemas”, 2da edición, *Prentice Hall*, 1998, **BM621.382 OPP**\n",
    "2. Alan V. Oppenheim y Ronald. W. Schafer, “Tratamiento de señales en tiempo discreto”, 3ra edición, *Pearson*, 2000, **BM621.382 OPPt**\n",
    "3. Jonathan Y. Stein, “Digital Signal Processing: A Computer Science Perspective”, *John Wiley and Sons*, 2000\n",
    "4. Monson H. Hayes, “Digital Signal Processing”. 2da edición, *Mc Graw Hill*, 2011\n",
    "\n",
    "\n"
   ]
  },
  {
   "cell_type": "markdown",
   "metadata": {
    "slideshow": {
     "slide_type": "slide"
    }
   },
   "source": [
    "<a id='section11'></a>\n",
    "\n",
    "# 1. Conceptos básicos de señales\n",
    "\n",
    "\n",
    "¿Qué es una señal?\n",
    "- Describe o representa el comportamiento de un fenómeno físico o sistema\n",
    "- Patrón que exhibe variabilidad en tiempo, espacio u otra variable independiente\n"
   ]
  },
  {
   "cell_type": "markdown",
   "metadata": {
    "slideshow": {
     "slide_type": "subslide"
    }
   },
   "source": [
    "<img class=\"displayed\" src=\"img/signal-ipsa.png\">"
   ]
  },
  {
   "cell_type": "markdown",
   "metadata": {
    "slideshow": {
     "slide_type": "subslide"
    }
   },
   "source": [
    "<img src=\"img/signal-electric.gif\">"
   ]
  },
  {
   "cell_type": "markdown",
   "metadata": {
    "slideshow": {
     "slide_type": "subslide"
    }
   },
   "source": [
    "<img src=\"img/signal-clock.png\">"
   ]
  },
  {
   "cell_type": "markdown",
   "metadata": {
    "slideshow": {
     "slide_type": "subslide"
    }
   },
   "source": [
    "<img class=\"displayed\" src=\"img/signal-transit.gif\">"
   ]
  },
  {
   "cell_type": "markdown",
   "metadata": {
    "slideshow": {
     "slide_type": "subslide"
    }
   },
   "source": [
    "<img src=\"img/signal-audio.gif\">"
   ]
  },
  {
   "cell_type": "markdown",
   "metadata": {
    "slideshow": {
     "slide_type": "subslide"
    }
   },
   "source": [
    "<img class=\"displayed\" src=\"img/signal-eeg.png\">"
   ]
  },
  {
   "cell_type": "markdown",
   "metadata": {
    "slideshow": {
     "slide_type": "subslide"
    }
   },
   "source": [
    "<img src=\"img/signal-weather.gif\">"
   ]
  },
  {
   "cell_type": "markdown",
   "metadata": {
    "slideshow": {
     "slide_type": "subslide"
    }
   },
   "source": [
    "<img src=\"img/signal-bunny.gif\">"
   ]
  },
  {
   "cell_type": "markdown",
   "metadata": {
    "slideshow": {
     "slide_type": "subslide"
    }
   },
   "source": [
    "**Procesamiento de señales** \n",
    "\n",
    "Disciplina que se decida al diseño de **sistemas** para la/el :\n",
    "- representación,\n",
    "- filtrado,\n",
    "- codificación,\n",
    "- transmisión,\n",
    "- estimación,\n",
    "- detección,\n",
    "- inferencia,\n",
    "- descubrimiento,\n",
    "- reconocimiento,\n",
    "- síntesis,\n",
    "- reproducción,\n",
    "- ...\n",
    "\n",
    "de las señales. \n",
    "\n",
    "\n",
    "1. Jose S.F. Moura, \"What is signal processing\", *IEEE signal processing magazine*, DOI: <a href=\"https://ieeexplore.ieee.org/stamp/stamp.jsp?arnumber=5230869\">10.1109/MSP.2009.934636 </a>"
   ]
  },
  {
   "cell_type": "markdown",
   "metadata": {
    "slideshow": {
     "slide_type": "slide"
    }
   },
   "source": [
    "<a id=\"section12\"></a>\n",
    "\n",
    "# Clasificación y propiedades de las señales\n",
    "\n",
    "- Una señal se representa matematicamente como una **función** (f)\n",
    "$$\n",
    "y = f(x)\n",
    "$$\n",
    "$$\n",
    "x \\mapsto f(x)\n",
    "$$\n",
    "$$\n",
    "f: \\mathcal{X} \\rightarrow \\mathcal{Y}, \\quad x \\in \\mathcal{X} \\wedge y \\in \\mathcal{Y},\n",
    "$$\n",
    "donde:\n",
    "    - $x$ se llama **variable independiente**, **entrada** o **argumento** y su espacio se llama **dominio**\n",
    "    - $y$ se llama **variable dependiente**, **salida** o **retorno** y su espacio se llama **codominio**"
   ]
  },
  {
   "cell_type": "markdown",
   "metadata": {
    "slideshow": {
     "slide_type": "subslide"
    }
   },
   "source": [
    "¿Qué es una **función**?\n",
    "- Una función es una relación entre la variable independiente $x$ y dependiente $y$ \n",
    "    - Para cada $x$ existe un y solo un $y$ asociado\n",
    "    - Puede haber más de una variable dependiente/indepediente\n",
    "\n",
    "\n",
    "- **Ejemplos de variable independiente:** tiempo, coordenadas espaciales\n",
    "    - Cuando una señal/función cambia en el tiempo hablamos de una **serie de tiempo**"
   ]
  },
  {
   "cell_type": "markdown",
   "metadata": {
    "slideshow": {
     "slide_type": "subslide"
    }
   },
   "source": [
    "### Clasificación según tipo de variable\n",
    "\n",
    "A grandes rasgos podemos clasificar las señales como:\n",
    "\n",
    "- Variable independiente continua\n",
    "- Variable independiente discreta\n",
    "- Variable dependiente continua: **Señal analógica**\n",
    "- Variable dependiente discreta o cuantizada: **Señal digital**\n",
    "\n",
    "¿Cómo se clasifican los ejemplos de señal que vimos recientente?\n",
    "\n",
    "\n",
    "\n",
    "<img src=\"img/signal-classification1.png\">"
   ]
  },
  {
   "cell_type": "markdown",
   "metadata": {
    "slideshow": {
     "slide_type": "subslide"
    }
   },
   "source": [
    "- Los computadores trabajan con **señales digitales de tiempo discreto**\n",
    "- Los señales \"naturales\" son en general analógicas de tiempo continuo\n",
    "- Para trabajar con señales analógicas en nuestro computador:\n",
    "    - Se discretiza en el tiempo **muestreando** según el reloj del sistema, por ejemplo:\n",
    "$$\n",
    "x_A(t=kT_S) = x[k], \\quad k \\in \\mathbb{Z}\n",
    "$$\n",
    "    - Se cuantiza la amplitud, por ejemplo:\n",
    "$$\n",
    "v_D = \\begin{cases} 0 & v_A \\in [0.0, 0.8] V \\\\ 1 & v_A \\in [2.0, 5.0] V\\end{cases}\n",
    "$$\n",
    "\n",
    "\n",
    "- Una señal discreta es una secuencia de valores indexada por un entero\n",
    "    "
   ]
  },
  {
   "cell_type": "code",
   "execution_count": null,
   "metadata": {
    "slideshow": {
     "slide_type": "subslide"
    }
   },
   "outputs": [],
   "source": [
    "plt.close('all'); fig, ax = plt.subplots(1, 3, figsize=(8, 3))\n",
    "x = np.linspace(0.0, 2.0, num=1000)\n",
    "y = np.sin(2.0*np.pi*1.0*x)\n",
    "ax[0].plot(x, y)\n",
    "ax[1].plot(x, np.floor(y//0.249))\n",
    "ax[2].stem(x[::20], np.floor(y[::20]//0.249));"
   ]
  },
  {
   "cell_type": "markdown",
   "metadata": {
    "slideshow": {
     "slide_type": "subslide"
    }
   },
   "source": [
    "### Funciones típicas\n",
    "\n",
    "Impulso unitario:\n",
    "$$\n",
    "\\delta[n] = \\begin{cases} 1 & n=0\\\\ 0 & n \\neq 0 \\end{cases}\n",
    "$$\n",
    "Escalo unitario:\n",
    "$$\n",
    "u[n] = \\sum_{k=0}^\\infty \\delta[n-k] = \\begin{cases} 1 & n\\geq 0\\\\ 0 & n < 0 \\end{cases} \n",
    "$$\n",
    "Propiedad: $\\delta[n] = u[n] - u[n-1]$\n",
    "\n",
    "Función exponencial real:\n",
    "$$\n",
    "y[n] = C e^{\\alpha n}\n",
    "$$\n",
    "\n",
    "Función exponencial compleja:\n",
    "$$\n",
    "y[n] = e^{jn\\omega} = \\Re [e^{jn\\omega}] + j \\Im[e^{jn\\omega}]  = \\cos(n\\omega) + j \\sin (n\\omega)\n",
    "$$\n",
    "\n",
    "Función exponencial compleja general:\n",
    "$$\n",
    "y[n] = |C|e^{\\alpha n + j\\omega n + j\\phi} = |C|e^{\\alpha n} [\\cos(\\omega n + \\phi) + j\\sin(\\omega n + \\phi)]\n",
    "$$\n",
    "Función Gaussiana\n",
    "$$\n",
    "y[n] = e^{- \\alpha (n-n_0)^2}, \\alpha> 0\n",
    "$$"
   ]
  },
  {
   "cell_type": "code",
   "execution_count": null,
   "metadata": {
    "slideshow": {
     "slide_type": "subslide"
    }
   },
   "outputs": [],
   "source": [
    "plt.close('all'); fig, ax = plt.subplots(2, 3, figsize=(10, 6))\n",
    "x = np.linspace(-10, 10, num=1000)\n",
    "ax[0, 0].plot(x, x, label='y = x');  \n",
    "ax[0, 0].plot(x, np.absolute(x), label='y = |x|', linestyle='--');  ax[0, 0].legend()\n",
    "ax[0, 1].plot(x[x>0], np.sqrt(x[x>0]), label='y = sqrt(x)'); \n",
    "ax[0, 1].plot(x[x>0], np.log(x[x>0]), label='y = log(x)', linestyle='--');  ax[0, 1].legend();\n",
    "ax[0, 2].plot(x, np.exp(0.25*x), label='y = exp(x/4)');\n",
    "ax[0, 2].plot(x, np.exp(-0.25*x), label='y = exp(-x/4)', linestyle='--');  ax[0, 2].legend(); \n",
    "ax[1, 0].plot(x, np.cos(x), label='y=cos(x)')\n",
    "ax[1, 0].plot(x, np.sin(x), label='y=sin(x)', linestyle='--'); ax[1, 0].legend(loc=1)\n",
    "ax[1, 1].plot(x, np.heaviside(x, 0), label='y=step(x)'); \n",
    "ax[1, 1].plot(x, 1.0/(1.0+np.exp(-x)), label='y=logit(x)', linestyle='--'); ax[1, 1].legend(loc=1)\n",
    "ax[1, 2].plot(x, scipy.signal.unit_impulse(len(x), 'mid'), label='y=delta(x)');\n",
    "ax[1, 2].plot(x, np.exp(-0.5*x**2), label='y=exp(-x^2)', linestyle='--'); ax[1, 2].legend(loc=1);"
   ]
  },
  {
   "cell_type": "code",
   "execution_count": null,
   "metadata": {
    "slideshow": {
     "slide_type": "subslide"
    }
   },
   "outputs": [],
   "source": [
    "plt.close('all'); fig, ax = plt.subplots(3, 1, figsize=(8, 5))\n",
    "x = np.linspace(-2, 2, num=500)\n",
    "line0, = ax[0].plot(x, np.cos(2.0*np.pi*x)); ax[0].set_title('Sinusoidal')\n",
    "line1, = ax[1].plot(x, scipy.signal.sawtooth(2.0*np.pi*x));  ax[1].set_title('Diente de sierra')\n",
    "line2, = ax[2].plot(x, scipy.signal.square(x));  ax[2].set_title('Cuadrada');\n",
    "\n",
    "def update(k = 1): \n",
    "    arg = 2.0*np.pi*(x - k*0.01)\n",
    "    line0.set_ydata(np.cos(arg))\n",
    "    line1.set_ydata(scipy.signal.sawtooth(arg))\n",
    "    line2.set_ydata(scipy.signal.square(arg))\n",
    "anim = animation.FuncAnimation(fig, update, frames=100, interval=20, blit=True)"
   ]
  },
  {
   "cell_type": "code",
   "execution_count": null,
   "metadata": {
    "scrolled": false,
    "slideshow": {
     "slide_type": "subslide"
    }
   },
   "outputs": [],
   "source": [
    "plt.close('all'); fig, ax = plt.subplots(3, 1, figsize=(8, 5))\n",
    "x = np.linspace(-14, 14, num=1000)\n",
    "ax[0].plot(x, np.exp(-0.1*x)*np.cos(2.0*np.pi*x));\n",
    "ax[1].plot(x, np.exp(0.1*x)*np.cos(2.0*np.pi*x));\n",
    "ax[2].plot(x, np.exp(-0.01*x**2)*np.cos(2.0*np.pi*x));"
   ]
  },
  {
   "cell_type": "markdown",
   "metadata": {
    "slideshow": {
     "slide_type": "subslide"
    }
   },
   "source": [
    "### Algunas propiedades de las funciones\n",
    "\n",
    "- Función par o simétrica: \n",
    "$$f(x) = f(-x) $$\n",
    "- Función inpar o antisimétrica: \n",
    "$$f(x) = -f(-x) $$\n",
    "- Función periódica: \n",
    "$$\\exists ~ T ~\\text{tal que}~ f(x) = f(x+T) $$\n",
    "- Función lineal (adición vectorial y multiplicación escalar): \n",
    "$$f(ax + by) = a f(x) + b f(y),$$\n",
    "con $a$, $b$ coeficientes escalares \n"
   ]
  },
  {
   "cell_type": "code",
   "execution_count": null,
   "metadata": {
    "scrolled": true,
    "slideshow": {
     "slide_type": "subslide"
    }
   },
   "outputs": [],
   "source": [
    "plt.close('all'); fig, ax = plt.subplots(figsize=(8, 3))\n",
    "x = np.linspace(-10, 10, num=1000)\n",
    "ax.plot(x, -(-x)**3, label='y = x');  "
   ]
  },
  {
   "cell_type": "code",
   "execution_count": null,
   "metadata": {
    "slideshow": {
     "slide_type": "subslide"
    }
   },
   "outputs": [],
   "source": [
    "plt.close('all'); fig, ax = plt.subplots(figsize=(8, 3))\n",
    "t = np.linspace(-6, 6, num=1000)\n",
    "x = np.sin(2*np.pi*1*t)\n",
    "line = ax.plot(t, x)\n",
    "def update(k = 1): \n",
    "    line[0].set_ydata(np.sin(2*np.pi*0.01*k*t));\n",
    "    ax.set_title(\"Frequency: %0.2f [Hz]\" %(0.01*k))\n",
    "anim = animation.FuncAnimation(fig, update, frames=100, interval=100, blit=True) "
   ]
  },
  {
   "cell_type": "markdown",
   "metadata": {
    "slideshow": {
     "slide_type": "subslide"
    }
   },
   "source": [
    "### Propiedades de las señales\n",
    "\n",
    "- Siempre trabajaremos con señales que dentro de un rango de interés observado son **acotadas** en energía, potencia y/o en ancho de banda dentro. \n",
    "    - Es decir son señales finitas (no divergen ni se vuelven singulares)\n",
    "\n",
    "- El rango en que una señal varía se conoce como su **rango dinámico**\n",
    "\n",
    "- La **energía** de una señal mide su \"tamaño\" o el \"espacio que ocupa\". Para una señal analógica y discreta, respectivamente\n",
    "$$\n",
    "E_s = \\int_{-\\infty}^\\infty |s(t)|^2 \\,dt  \\qquad E_s = \\sum_{n=-\\infty}^\\infty |s[n]|^2 \n",
    "$$\n",
    "    - Una señal acotada en energía debe cumplir $E_s < \\infty$"
   ]
  },
  {
   "cell_type": "markdown",
   "metadata": {
    "slideshow": {
     "slide_type": "subslide"
    }
   },
   "source": [
    "- La **potencia** promedio de una señal se define como su energía por unidad de tiempo\n",
    "$$\n",
    "P_s = \\lim_{T\\to \\infty} \\frac{1}{2T} \\int_{- T}^{T} |s(t)|^2 \\,dt  \\qquad P_s = \\lim_{N\\to \\infty} \\frac{1}{2N+1} \\sum_{n = - N}^{N} |s[n]|^2 \n",
    "$$\n",
    "    - Una señal acotada en potencia debe cumplir $P_s < \\infty$\n",
    "    - Una señal de energía finita tiene potencia cero\n",
    "    - Una señal de potencia finita tiene duración infinita\n",
    "\n",
    "- El **ancho de banda** de una señal mide su tasa de cambio o velocidad\n",
    "    - Una señal acotada en **ancho de banda** debe tener transiciones suaves"
   ]
  },
  {
   "cell_type": "markdown",
   "metadata": {
    "slideshow": {
     "slide_type": "subslide"
    }
   },
   "source": [
    "¿Cual es la energía de esta señal?\n",
    "$$\n",
    "s(t) = \\begin{cases} 0 & t < 0 \\\\ 2e^{-t/2} & t \\geq 0\\end{cases}\n",
    "$$"
   ]
  },
  {
   "cell_type": "code",
   "execution_count": null,
   "metadata": {
    "slideshow": {
     "slide_type": "fragment"
    }
   },
   "outputs": [],
   "source": [
    "plt.close('all'); fig, ax = plt.subplots(figsize=(8, 3))\n",
    "dt=0.001; x = np.arange(-5, 20, step=dt)\n",
    "y = np.zeros(shape=(x.shape))\n",
    "y[x>=0] = 2*np.exp(-x[x>=0]/2)\n",
    "ax.plot(x, y)\n",
    "print((y**2).sum()*dt);"
   ]
  },
  {
   "cell_type": "markdown",
   "metadata": {
    "slideshow": {
     "slide_type": "subslide"
    }
   },
   "source": [
    "### Transformaciones simples \n",
    "- Traslación y escalamiento de la variable independiente"
   ]
  },
  {
   "cell_type": "code",
   "execution_count": null,
   "metadata": {
    "slideshow": {
     "slide_type": "fragment"
    }
   },
   "outputs": [],
   "source": [
    "plt.close('all'); fig, ax = plt.subplots(figsize=(8, 3))\n",
    "x = np.arange(-20, 20, step=.1)\n",
    "y = np.zeros(shape=(x.shape))\n",
    "y[x>=0] = 2*np.exp(-x[x>=0]/2)\n",
    "line = ax.plot(x, y); ax.set_xlim(-5, 20)\n",
    "def update(m=0):\n",
    "    y_translation = np.roll(y, 10*m)\n",
    "    line[0].set_ydata(y_translation)\n",
    "interact(update, m=IntSlider_nice(description=\"Translation\", value=0, min=-10, max=10));"
   ]
  },
  {
   "cell_type": "code",
   "execution_count": null,
   "metadata": {
    "slideshow": {
     "slide_type": "fragment"
    }
   },
   "outputs": [],
   "source": [
    "plt.close('all'); fig, ax = plt.subplots(figsize=(8, 3))\n",
    "x = np.arange(-20, 20, step=0.1)\n",
    "y = np.zeros(shape=(x.shape))\n",
    "y[x>=0] = 2*np.exp(-x[x>=0]/2)\n",
    "line = ax.plot(x, y); ax.set_xlim(-5, 20)\n",
    "def update(m=0):\n",
    "    y[x>=0] = 2*np.exp(-m*x[x>=0]/2)\n",
    "    line[0].set_ydata(y)\n",
    "interact(update, m=FloatSlider_nice(description=\"Scaling\", value=1, min=0.1, max=2));"
   ]
  },
  {
   "cell_type": "markdown",
   "metadata": {
    "slideshow": {
     "slide_type": "slide"
    }
   },
   "source": [
    "## Clasificación según características de la señal\n",
    "\n",
    "- **Señal determinista:** Puede describirse completamente por una ecuación matemática\n",
    "    - Se puede subclasificar como periódica o aperiódica"
   ]
  },
  {
   "cell_type": "code",
   "execution_count": null,
   "metadata": {
    "slideshow": {
     "slide_type": "fragment"
    }
   },
   "outputs": [],
   "source": [
    "plt.close('all'); fig, ax = plt.subplots(figsize=(8, 3))\n",
    "x = np.linspace(-10, 10, num=1000)\n",
    "ax.plot(x, np.cos(x)*np.sin(2*x) + 0.1*x);  "
   ]
  },
  {
   "cell_type": "markdown",
   "metadata": {
    "slideshow": {
     "slide_type": "fragment"
    }
   },
   "source": [
    "- **Señal estocástica:** Se describe probabilisticamente, es decir en términos de su densidad de probabilidad.\n",
    "    - Ejemplo: $z \\in \\mathbb{R}^N$ se distribuye normal con media $\\mu \\in \\mathbb{R}^N$ y covarianza $\\Sigma \\in \\mathbb{R}^{N\\times N}$\n",
    "$$ \n",
    "z \\sim \\mathcal{N}(\\mu, \\Sigma) ~~\\vee~~ p(z) = \\mathcal{N}(\\mu, \\Sigma) = \\frac{1}{\\sqrt{(2\\pi)^d |\\Sigma|}} \\exp \\left(-0.5 (z-  \\mu)^T \\Sigma^{-1} (z-  \\mu) \\right)\n",
    "$$\n",
    "    - Se puede subclasificar como estacionaria o no estacionaria\n",
    "    - Formalmente se definen como **procesos aleatorios**"
   ]
  },
  {
   "cell_type": "code",
   "execution_count": null,
   "metadata": {
    "slideshow": {
     "slide_type": "fragment"
    }
   },
   "outputs": [],
   "source": [
    "plt.close('all'); fig, ax = plt.subplots(figsize=(8, 3))\n",
    "np.random.seed(0)\n",
    "ax.plot(np.random.multivariate_normal(np.zeros(100), np.eye(100)));  "
   ]
  },
  {
   "cell_type": "markdown",
   "metadata": {
    "slideshow": {
     "slide_type": "subslide"
    }
   },
   "source": [
    "### Variable y proceso aleatorio\n",
    "\n",
    "**Variable aleatoria**: Variable cuyos valores posibles son resultados de un fenomeno aleatorio \n",
    "- Se describe en términos de su función de densidad de probabilidad (fdp) o distribución \n",
    "- Los valores observados a partir de la V.A. se llaman **realizaciones**\n",
    "- Por lo general asumimos que las realizaciones son **iid**: independientes e identicamente distribuidas\n",
    "- Usualmente se denota como $X$ y sus realizaciones como $\\{x_1, x_2, \\ldots, x_N\\}$\n",
    "\n",
    "**Proceso aleatorio**: Colección de V.As indexada en el tiempo\n",
    "- Una realización del P.A corresponde a una serie de tiempo\n",
    "- Una conjunto de realizaciones se denomina ensamble"
   ]
  },
  {
   "cell_type": "markdown",
   "metadata": {
    "slideshow": {
     "slide_type": "subslide"
    }
   },
   "source": [
    "### Distribuciones de probabilidad y momentos estadísticos \n",
    "\n",
    "Una distribución se describe a través de sus momentos estadísticos. Para una variable aleatoria X su momento de orden k es\n",
    "$$\n",
    "\\mu_k = \\mathbb{E} \\left[X^k\\right]\n",
    "$$\n",
    "y su momento central de orden k\n",
    "$$\n",
    "\\hat \\mu_k =\\mathbb{E} \\left[(X - \\mathbb{E}[X])^k\\right]\n",
    "$$\n",
    "donde la esperanza se define como\n",
    "$$\n",
    "\\mathbb{E}[X] = \\sum_n x_n p(x_n)\n",
    "$$\n",
    "y la media muestreal es\n",
    "$$\n",
    "\\langle X \\rangle = \\frac{1}{N} \\sum_{n=1}^N x_n\n",
    "$$\n",
    "\n",
    "Los momentos estadísticos más usados son la \n",
    "- Media ($\\mu$): $\\mu_1$ \n",
    "- Varianza ($\\sigma^2$): $\\hat \\mu_2$ \n",
    "- Simetría: $\\frac{\\hat \\mu_3 }{\\sqrt{\\hat \\mu_2^3}}$\n",
    "- Kurtosis: $\\frac{\\hat \\mu_4 }{ \\hat \\mu_2^2}$\n",
    "\n",
    "\n",
    "<img src=\"img/moments.png\">\n",
    "\n",
    "\n",
    "\n"
   ]
  },
  {
   "cell_type": "markdown",
   "metadata": {
    "slideshow": {
     "slide_type": "subslide"
    }
   },
   "source": [
    "- Las señales **deterministas** se generan por un algoritmo o sistema no probabilístico. \n",
    "   - Son reproducibles y predecibles: conocemos su valor\n",
    "- Las señales **estocásticas** se modelan como una variable aleatoria: no conocemos su valor. \n",
    "    - Sin embargo, podemos conocer el tipo y parámetros de su distribución."
   ]
  },
  {
   "cell_type": "code",
   "execution_count": null,
   "metadata": {
    "slideshow": {
     "slide_type": "fragment"
    }
   },
   "outputs": [],
   "source": [
    "plt.close('all'); fig, ax = plt.subplots(1, 2, figsize=(8, 3))\n",
    "x = np.linspace(-3, 3, num=100); \n",
    "np.random.seed(0)\n",
    "data = np.random.randn(1000)\n",
    "def update(N = 1):    \n",
    "    ax[0].cla(); ax[1].cla(); ax[0].set_ylim(-3, 3);\n",
    "    ax[1].set_ylim(-3, 3); ax[1].set_xlim(0, 0.5);\n",
    "    ax[0].plot(data[:N]); \n",
    "    ax[1].hist(data[:N], bins=10, density=True, orientation=u'horizontal'); \n",
    "    ax[1].plot(np.exp(-x**2)/np.sqrt(2.0*np.pi), x); \n",
    "anim = animation.FuncAnimation(fig, update, frames=1000, interval=100, blit=True)"
   ]
  },
  {
   "cell_type": "code",
   "execution_count": null,
   "metadata": {
    "slideshow": {
     "slide_type": "subslide"
    }
   },
   "outputs": [],
   "source": [
    "plt.close('all'); fig, ax = plt.subplots(figsize=(8, 5))\n",
    "def update(seed):\n",
    "    np.random.seed(seed); ax.cla(); ax.set_ylim(-5, 25)\n",
    "    for k in range(0, 25, 5): \n",
    "        ax.plot(100*[k], 'k--', alpha=0.5)\n",
    "        data = k + np.random.randn(100);        \n",
    "        #data = k + np.random.multivariate_normal(np.zeros(100), np.eye(100))\n",
    "        ax.plot(data); \n",
    "interact(update, seed=IntSlider_nice(description='Random seed'));"
   ]
  },
  {
   "cell_type": "markdown",
   "metadata": {
    "slideshow": {
     "slide_type": "subslide"
    }
   },
   "source": [
    "### Proceso estacionario\n",
    "- Un proceso aleatorio es una colección de variables aleatorias indexadas \n",
    "$$X^t = {X_1, X_2, X_3, \\ldots, X_T}$$\n",
    "- Una realización del P.A. es una serie de tiempo \n",
    "$$X^t \\sim \\{x_t\\}_{t=1,\\ldots,T} = {x_1, x_2, x_3, \\ldots, x_T}$$\n",
    "- Un **proceso estacionario** es aquel donde sus momentos no varían con el tiempo, *e.g.*\n",
    "$$\n",
    "\\mathbb{E}[X_1] = \\mathbb{E}[X_2] = \\ldots = \\mathbb{E}[X_T] \n",
    "$$\n",
    "- Un **proceso ergódico** es aquel donde los momentos se pueden deducir a partir de una realización (suficientemente larga) del P.A. \n",
    "    - Esto es útil pues muchas veces observamos sólo una realización\n",
    "    - Los promedios muestreales del ensamble equivalen a promedios muestreales temporales\n",
    "\n",
    "$$\n",
    "\\langle x_t \\rangle = \\mathbb{E}[X_k] ~~\\forall k\n",
    "$$\n",
    "\n",
    "<img src=\"img/stationary-and-ergodic.png\">"
   ]
  },
  {
   "cell_type": "markdown",
   "metadata": {
    "slideshow": {
     "slide_type": "subslide"
    }
   },
   "source": [
    "## Ruido en las señales\n",
    "\n",
    "- En la práctica no solemos observar señales puramente deterministas\n",
    "- Esto se debe a la presencia del **ruido**\n",
    "- El ruido es una señal puramente estocástica\n",
    "- El ruido es una corrupción indeseable que modifica la señal de interés\n",
    "- Un modelo clásico consiste en asumir una corrupción aditiva\n",
    "$$\n",
    "y[k] = x[k] + n[k],\n",
    "$$\n",
    "donde $y$ es la señal observada, $x$ es la señal de interés y $n$ es una señal de ruido"
   ]
  },
  {
   "cell_type": "code",
   "execution_count": null,
   "metadata": {
    "slideshow": {
     "slide_type": "subslide"
    }
   },
   "outputs": [],
   "source": [
    "plt.close('all'); fig, ax = plt.subplots(1, 3, figsize=(8, 3))\n",
    "t = np.linspace(-10, 10, num=500)\n",
    "x = np.cos(t)*np.sin(2*t) + 0.1*t\n",
    "np.random.seed(0)\n",
    "n = np.random.randn(len(t))\n",
    "ax[0].plot(t, x); \n",
    "def update(s = 1.0):\n",
    "    ax[1].cla(); ax[1].plot(t, n*s); ax[1].set_ylim(-5, 5)\n",
    "    ax[2].cla(); ax[2].plot(t, x+n*s) \n",
    "    ax[2].set_title(\"SNR: %0.2f [dB]\" %(10*np.log10(np.sum(x**2)/np.sum((n*s)**2))))\n",
    "interact(update, s=FloatSlider_nice(description=\"Gaussian noise $\\sigma$\", min=0.01, max=3.0));"
   ]
  },
  {
   "cell_type": "markdown",
   "metadata": {
    "slideshow": {
     "slide_type": "subslide"
    }
   },
   "source": [
    "- Podemos cuantificar el \"nivel de ruido\" o la claridad de la señal observado en términos de la **razón señal a ruido** (SNR)\n",
    "- La SNR se define como la razón entre la energía de la señal y la energía del ruido\n",
    "- La SNR se mide en decibeles [dB]\n",
    "\n",
    "$$\n",
    "\\text{SNR} = 10 \\log_{10} \\frac{E_x}{E_n}\n",
    "$$"
   ]
  },
  {
   "cell_type": "markdown",
   "metadata": {
    "slideshow": {
     "slide_type": "subslide"
    }
   },
   "source": [
    "### Tipos de ruido\n",
    "Podemos clasificar el ruido según\n",
    "-  la distribución que sigue, *e.g.* ruido Gaussiano, ruido Uniforme\n",
    "-  la dependencia temporal entre sus realizaciones (características espectrales), *e.g.* ruido blanco, ruido rojo\n"
   ]
  },
  {
   "cell_type": "code",
   "execution_count": null,
   "metadata": {
    "slideshow": {
     "slide_type": "fragment"
    }
   },
   "outputs": [],
   "source": [
    "plt.close('all'); fig, ax = plt.subplots(1, 2, figsize=(8, 3))\n",
    "def update(N = 1.0, seed=0):\n",
    "    np.random.seed(seed)\n",
    "    #data = np.random.uniform(low=-2, high=2, size=(10**N, 2))\n",
    "    #data = np.random.normal(0, 1, size=(10**N, 2))\n",
    "    data = np.random.laplace(0, 1, size=(10**N, 2))\n",
    "    ax[0].cla(); ax[1].cla();\n",
    "    ax[0].set_xlim([-3, 3]); ax[0].set_ylim([-3, 3])\n",
    "    ax[0].scatter(data[:, 0], data[:, 1], s=2) \n",
    "    counts, xbins, ybins = np.histogram2d(data[:, 1], data[:, 0], bins=10, range=[[-3 ,3], [-3, 3]])\n",
    "    ax[1].contourf(counts, extent=[-3, 3, -3, 3])\n",
    "interact(update, N=IntSlider_nice(description=\"log Number of realizations\", min=0, max=4), \n",
    "         seed=IntSlider_nice(description='Random seed'));"
   ]
  },
  {
   "cell_type": "code",
   "execution_count": null,
   "metadata": {
    "scrolled": false,
    "slideshow": {
     "slide_type": "subslide"
    }
   },
   "outputs": [],
   "source": [
    "plt.close('all'); fig, ax = plt.subplots(figsize=(8, 5))\n",
    "def update(seed, tau):\n",
    "    np.random.seed(seed); ax.cla(); ax.set_ylim(-5, 25)\n",
    "    for k in range(0, 25, 5): \n",
    "        ax.plot(100*[k], 'k--', alpha=0.5)\n",
    "        dt = np.repeat(np.reshape(np.arange(100), (1, -1)), 100, axis=0)\n",
    "        S = np.exp(-np.absolute(dt - dt.T)/tau)\n",
    "        data = k + np.random.multivariate_normal(np.zeros(100), S)\n",
    "        ax.plot(data); \n",
    "interact(update, tau=FloatSlider_nice(description=\"Time decay\", min=0.1, max=10),\n",
    "         seed=IntSlider_nice(description='Random seed'));"
   ]
  },
  {
   "cell_type": "markdown",
   "metadata": {
    "slideshow": {
     "slide_type": "slide"
    }
   },
   "source": [
    "### Reducción de ruido simple\n",
    "Sea una señal periódica con ruido es aditivo, estacionario y de media cero. En este caso podemos reducir el ruido haciendo promedios de la señal de interés.\n",
    "\n",
    "$$\n",
    "\\langle y \\rangle = \\langle x + n \\rangle = \\langle x  \\rangle + \\langle  n \\rangle= \\langle x \\rangle\n",
    "$$"
   ]
  },
  {
   "cell_type": "code",
   "execution_count": null,
   "metadata": {
    "slideshow": {
     "slide_type": "fragment"
    }
   },
   "outputs": [],
   "source": [
    "plt.close('all'); fig, ax = plt.subplots(figsize=(8, 5))\n",
    "x = np.linspace(0, 10, num=1000)\n",
    "def update(seed, s):\n",
    "    np.random.seed(seed); ax.cla(); ax.set_ylim(-5, 35)\n",
    "    data_avg = 0.0\n",
    "    for k in range(0, 35, 5): \n",
    "        ax.plot([0, 10], 2*[k], 'k--', alpha=0.5, linewidth=4)\n",
    "        data = scipy.signal.square(2.0*np.pi*x) + s*np.random.randn(1000);        \n",
    "        data_avg += data\n",
    "        ax.plot(x, k + data, alpha=0.8); \n",
    "    ax.plot([11, 21], 2*[15], 'k--', alpha=0.5, linewidth=4);\n",
    "    ax.plot(11+ x, 15 + data_avg/7, 'k'); \n",
    "interact(update, seed=IntSlider_nice(description='Random seed'), \n",
    "         s=FloatSlider_nice(description='Noise $\\sigma$', min=0.1, max=1.5, value=1.0));"
   ]
  },
  {
   "cell_type": "code",
   "execution_count": null,
   "metadata": {
    "slideshow": {
     "slide_type": "skip"
    }
   },
   "outputs": [],
   "source": [
    "from mpl_toolkits.mplot3d import Axes3D\n",
    "\n",
    "sigma, beta, rho = 10, 2.667, 28\n",
    "u0, v0, w0 = 0, 1, 1.05\n",
    "tmax, n = 100, 10000\n",
    "def lorenz(X, t, sigma, beta, rho):\n",
    "    \"\"\"The Lorenz equations.\"\"\"\n",
    "    u, v, w = X\n",
    "    up = -sigma*(u - v)\n",
    "    vp = rho*u - v - u*w\n",
    "    wp = -beta*w + u*v\n",
    "    return up, vp, wp\n",
    "t = np.linspace(0, tmax, n)\n",
    "f = scipy.integrate.odeint(lorenz, (u0, v0, w0), t, args=(sigma, beta, rho))\n",
    "x, y, z = f.T\n",
    "plt.close('all'); fig = plt.figure()\n",
    "ax = fig.add_subplot(111, projection='3d')\n",
    "line = ax.plot(x, y, z, linewidth=0.5); \n",
    "\"\"\"\n",
    "ax.set_xlim([np.amin(x), np.amax(x)]); ax.set_ylim([np.amin(y), np.amax(y)]); ax.set_zlim([np.amin(z), np.amax(z)]);\n",
    "def update(k=0): \n",
    "    line[0].set_data(f.T); \n",
    "    line[0].set_3d_properties(f.T)\n",
    "    return line\n",
    "anim = animation.FuncAnimation(fig, update, frames=100, interval=100, blit=True) \n",
    "\"\"\""
   ]
  },
  {
   "cell_type": "markdown",
   "metadata": {
    "slideshow": {
     "slide_type": "slide"
    }
   },
   "source": [
    "## Apéndice: Procesamiento de señales de audio con Scipy y soundfile\n",
    "\n",
    "Referencias\n",
    "- https://docs.scipy.org/doc/scipy/reference/signal.html\n",
    "- https://pysoundfile.readthedocs.io/en/0.9.0/"
   ]
  },
  {
   "cell_type": "code",
   "execution_count": null,
   "metadata": {
    "slideshow": {
     "slide_type": "subslide"
    }
   },
   "outputs": [],
   "source": [
    "# Espectrograma de una sinusoide pura y de una sinusoide modulada (tremolo y vibrato)\n",
    "plt.close('all'); fig, ax = plt.subplots(2, figsize=(8, 6))\n",
    "sample_rate = 44100; time = np.arange(0, 3, step=1.0/sample_rate)\n",
    "noise = 0.0*np.random.randn(len(time))\n",
    "mod_am = 1.0 # 0.25 + (1.0 + np.cos(2*np.pi*4*time))*0.75\n",
    "mod_fm = 20*np.cos(2.*np.pi*8*time);\n",
    "phase_fix = np.add.accumulate(time*np.concatenate((np.zeros(1), 2*np.pi*(mod_fm[:-1]-mod_fm[1:]))))\n",
    "data = mod_am*np.sin(2.*np.pi*(220 + mod_fm)*time + phase_fix) + noise\n",
    "ax[0].plot(time, data); \n",
    "freq, ttime, Sxx = scipy.signal.spectrogram(data, fs=sample_rate, window=('tukey', 0.25), \n",
    "                                            nperseg=256, noverlap=None, detrend=False,\n",
    "                                            return_onesided=True, scaling='density', mode='magnitude')\n",
    "ax[1].pcolormesh(ttime, freq, np.log10(Sxx + 1e-5), cmap=plt.cm.magma); #ax[1].set_ylim([0., 5e+3]) \n",
    "Audio(data, rate=sample_rate)"
   ]
  },
  {
   "cell_type": "code",
   "execution_count": null,
   "metadata": {},
   "outputs": [],
   "source": [
    "sample_rate"
   ]
  },
  {
   "cell_type": "code",
   "execution_count": 1,
   "metadata": {
    "slideshow": {
     "slide_type": "subslide"
    }
   },
   "outputs": [
    {
     "ename": "NameError",
     "evalue": "name 'plt' is not defined",
     "output_type": "error",
     "traceback": [
      "\u001b[0;31m---------------------------------------------------------------------------\u001b[0m",
      "\u001b[0;31mNameError\u001b[0m                                 Traceback (most recent call last)",
      "\u001b[0;32m<ipython-input-1-64ee3d6a0ca9>\u001b[0m in \u001b[0;36m<module>\u001b[0;34m\u001b[0m\n\u001b[1;32m      1\u001b[0m \u001b[0;31m# Espectrograma de audio sintético\u001b[0m\u001b[0;34m\u001b[0m\u001b[0;34m\u001b[0m\u001b[0;34m\u001b[0m\u001b[0m\n\u001b[0;32m----> 2\u001b[0;31m \u001b[0mplt\u001b[0m\u001b[0;34m.\u001b[0m\u001b[0mclose\u001b[0m\u001b[0;34m(\u001b[0m\u001b[0;34m'all'\u001b[0m\u001b[0;34m)\u001b[0m\u001b[0;34m;\u001b[0m \u001b[0mfig\u001b[0m\u001b[0;34m,\u001b[0m \u001b[0max\u001b[0m \u001b[0;34m=\u001b[0m \u001b[0mplt\u001b[0m\u001b[0;34m.\u001b[0m\u001b[0msubplots\u001b[0m\u001b[0;34m(\u001b[0m\u001b[0;36m2\u001b[0m\u001b[0;34m,\u001b[0m \u001b[0mfigsize\u001b[0m\u001b[0;34m=\u001b[0m\u001b[0;34m(\u001b[0m\u001b[0;36m8\u001b[0m\u001b[0;34m,\u001b[0m \u001b[0;36m6\u001b[0m\u001b[0;34m)\u001b[0m\u001b[0;34m)\u001b[0m\u001b[0;34m\u001b[0m\u001b[0;34m\u001b[0m\u001b[0m\n\u001b[0m\u001b[1;32m      3\u001b[0m \u001b[0mdata\u001b[0m\u001b[0;34m,\u001b[0m \u001b[0msample_rate\u001b[0m \u001b[0;34m=\u001b[0m \u001b[0msf\u001b[0m\u001b[0;34m.\u001b[0m\u001b[0mread\u001b[0m\u001b[0;34m(\u001b[0m\u001b[0;34m\"data/DPSAU.ogg\"\u001b[0m\u001b[0;34m)\u001b[0m\u001b[0;34m\u001b[0m\u001b[0;34m\u001b[0m\u001b[0m\n\u001b[1;32m      4\u001b[0m \u001b[0mtime\u001b[0m \u001b[0;34m=\u001b[0m \u001b[0mnp\u001b[0m\u001b[0;34m.\u001b[0m\u001b[0mlinspace\u001b[0m\u001b[0;34m(\u001b[0m\u001b[0;36m0.0\u001b[0m\u001b[0;34m,\u001b[0m \u001b[0mlen\u001b[0m\u001b[0;34m(\u001b[0m\u001b[0mdata\u001b[0m\u001b[0;34m)\u001b[0m\u001b[0;34m/\u001b[0m\u001b[0msample_rate\u001b[0m\u001b[0;34m,\u001b[0m \u001b[0mnum\u001b[0m\u001b[0;34m=\u001b[0m\u001b[0mlen\u001b[0m\u001b[0;34m(\u001b[0m\u001b[0mdata\u001b[0m\u001b[0;34m)\u001b[0m\u001b[0;34m)\u001b[0m\u001b[0;34m\u001b[0m\u001b[0;34m\u001b[0m\u001b[0m\n\u001b[1;32m      5\u001b[0m \u001b[0max\u001b[0m\u001b[0;34m[\u001b[0m\u001b[0;36m0\u001b[0m\u001b[0;34m]\u001b[0m\u001b[0;34m.\u001b[0m\u001b[0mplot\u001b[0m\u001b[0;34m(\u001b[0m\u001b[0mtime\u001b[0m\u001b[0;34m,\u001b[0m \u001b[0mdata\u001b[0m\u001b[0;34m)\u001b[0m\u001b[0;34m;\u001b[0m\u001b[0;34m\u001b[0m\u001b[0;34m\u001b[0m\u001b[0m\n",
      "\u001b[0;31mNameError\u001b[0m: name 'plt' is not defined"
     ]
    }
   ],
   "source": [
    "# Espectrograma de audio sintético\n",
    "plt.close('all'); fig, ax = plt.subplots(2, figsize=(8, 6))\n",
    "data, sample_rate = sf.read(\"data/DPSAU.ogg\")\n",
    "time = np.linspace(0.0, len(data)/sample_rate, num=len(data))\n",
    "ax[0].plot(time, data);\n",
    "freq, ttime, Sxx = scipy.signal.spectrogram(data, fs=sample_rate, window=('tukey', 0.25), \n",
    "                                            nperseg=2048, noverlap=512, detrend=False,\n",
    "                                            return_onesided=True, scaling='density', mode='magnitude')\n",
    "ax[1].pcolormesh(ttime, freq, np.log10(Sxx+1e-3), cmap=plt.cm.magma); ax[1].set_ylim([0.0, 2e+3]);\n",
    "\n",
    "Audio(data, rate=sample_rate)"
   ]
  },
  {
   "cell_type": "code",
   "execution_count": null,
   "metadata": {
    "slideshow": {
     "slide_type": "subslide"
    }
   },
   "outputs": [],
   "source": [
    "# Espectrograma de una señal de voz\n",
    "plt.close('all'); fig, ax = plt.subplots(2, figsize=(8, 6))\n",
    "data, sample_rate = sf.read(\"data/123.ogg\")\n",
    "time = np.linspace(0.0, len(data)/sample_rate, num=len(data))\n",
    "ax[0].plot(time, data);\n",
    "freq, ttime, Sxx = scipy.signal.spectrogram(data, fs=sample_rate, window=('tukey', 0.25), \n",
    "                                            nperseg=256, noverlap=None, detrend=False,\n",
    "                                            return_onesided=True, scaling='density', mode='magnitude')\n",
    "ax[1].pcolormesh(ttime, freq, np.log10(Sxx+1e-5), cmap=plt.cm.magma); ax[1].set_ylim([0.0, 5e+3]);\n",
    "Audio(data, rate=sample_rate)"
   ]
  },
  {
   "cell_type": "code",
   "execution_count": null,
   "metadata": {
    "slideshow": {
     "slide_type": "subslide"
    }
   },
   "outputs": [],
   "source": [
    "# Filtro de polos y zeros en frecuencia para una señal de voz\n",
    "plt.close('all'); fig, ax = plt.subplots(1, figsize=(8, 3))\n",
    "b, a = scipy.signal.butter(7, 0.01, btype='lowpass')\n",
    "data_filt = scipy.signal.lfilter(b, a, data)\n",
    "\n",
    "freq, ttime, Sxx = scipy.signal.spectrogram(data_filt, fs=sample_rate, window=('tukey', 0.25), \n",
    "                                            nperseg=256, noverlap=None, detrend=False,\n",
    "                                            return_onesided=True, scaling='density', mode='magnitude')\n",
    "ax.pcolormesh(ttime, freq, np.log10(Sxx+1e-5), cmap=plt.cm.magma); ax.set_ylim([0.0, 5e+3]);\n",
    "Audio(data_filt, rate=sample_rate)"
   ]
  },
  {
   "cell_type": "code",
   "execution_count": null,
   "metadata": {
    "slideshow": {
     "slide_type": "subslide"
    }
   },
   "outputs": [],
   "source": [
    "# Filtro de polos y zeros hecho \"a mano\" para dar un efecto de eco\n",
    "plt.close('all'); fig, ax = plt.subplots(1, figsize=(8, 3))\n",
    "b = np.zeros(shape=(sample_rate//2,)); b[0] = 1\n",
    "for p in range(0, len(b)+1, len(b)):\n",
    "    b[p-1] = 0.5\n",
    "\n",
    "data_filt = scipy.signal.lfilter(b, np.array([1.0, 0.0]), np.hstack((data, np.zeros(shape=(sample_rate,)))))\n",
    "freq, ttime, Sxx = scipy.signal.spectrogram(data_filt, fs=sample_rate, window=('tukey', 0.25), \n",
    "                                            nperseg=256, noverlap=None, detrend=False,\n",
    "                                            return_onesided=True, scaling='density', mode='magnitude')\n",
    "ax.pcolormesh(ttime, freq, np.log10(Sxx+1e-5), cmap=plt.cm.magma); ax.set_ylim([0.0, 5e+3]);\n",
    "Audio(data_filt, rate=sample_rate)"
   ]
  },
  {
   "cell_type": "code",
   "execution_count": null,
   "metadata": {
    "slideshow": {
     "slide_type": "fragment"
    }
   },
   "outputs": [],
   "source": [
    "# Ref: https://ipython-books.github.io/117-creating-a-sound-synthesizer-in-the-notebook/\n",
    "from ipywidgets import Button, Box, Output\n",
    "duration, sample_rate = .25, 44000.\n",
    "t = np.linspace(0., duration, int(sample_rate*duration))\n",
    "synth = lambda f: np.sin(2. * np.pi * f * t)\n",
    "notes = 'C,C#,D,D#,E,F,F#,G,G#,A,A#,B,C'.split(',')\n",
    "freqs = 440. * 2**(np.arange(3, 3 + len(notes)) / 12.)\n",
    "buttons, layout_synth = [], Layout(width='30px', height='60px', border='1px solid black')\n",
    "for note, freq in zip(notes, freqs):\n",
    "    button = Button(description=note, layout=layout_synth)\n",
    "    def on_button_clicked(f, b):\n",
    "        with Output(): # suppress the audio widget output \n",
    "            display(Audio(synth(f), rate=sample_rate, autoplay=True))\n",
    "    button.on_click(partial(on_button_clicked, freq))\n",
    "    buttons.append(button)\n",
    "Box(children=buttons)"
   ]
  },
  {
   "cell_type": "markdown",
   "metadata": {
    "slideshow": {
     "slide_type": "slide"
    }
   },
   "source": [
    "<a id='section13'></a>\n",
    "\n",
    "# Muestreo y digitalización de señales\n",
    "\n",
    "- Las señales físicas naturales son analógicas de tiempo continuo\n",
    "- Para procesar señales con nuestro computador debemos discretizarlas y cuantizarlas\n",
    "    - Se llama **conversor A/D** a un dispositivo que realiza dicha transformación\n",
    "        - Se llama muestreador al dispositivo que discretiza la señal en el tiempo\n",
    "        - Se llama digitalizador al dispositivo que cuantiza la amplitud de la señal\n",
    "    - Se llama **conversor D/A** a un dispositivo que realiza la transformación inversa"
   ]
  },
  {
   "cell_type": "markdown",
   "metadata": {
    "slideshow": {
     "slide_type": "subslide"
    }
   },
   "source": [
    "- Conversor A/D de tipo flash \n",
    "- Los resistencias disminuyen el voltaje de referencia del comparador $V_k = V_{ref} (1-k/N), ~ k \\in [1,N-1]$\n",
    "- El comparador $k$ \"se prende\" si $V_{in} > V_k$. Esto se conoce como \"esquema termómetro\"\n",
    "- Para una resolución de $b=3$ [bit] se obtienen $2^b = 8$ niveles y se necesitan $8$ comparadores\n",
    "\n",
    "\n",
    "<table>\n",
    "    <tr><td><img src=\"img/signal-ADC2.png\" width=\"400\"> </td><td> <img src=\"img/signal-ADC.png\" width=\"400\"></td></tr>\n",
    "</table>"
   ]
  },
  {
   "cell_type": "markdown",
   "metadata": {
    "slideshow": {
     "slide_type": "subslide"
    }
   },
   "source": [
    "- Conversor D/A tipo R-2R\n",
    "- Cada switch es una salida binaria\n",
    "- El circuito con opamp suma los voltages y produce la salida analógica\n",
    "\n",
    "<img src=\"img/signal-DAC.png\">"
   ]
  },
  {
   "cell_type": "code",
   "execution_count": null,
   "metadata": {},
   "outputs": [],
   "source": [
    "from matplotlib import ticker"
   ]
  },
  {
   "cell_type": "code",
   "execution_count": null,
   "metadata": {
    "slideshow": {
     "slide_type": "skip"
    }
   },
   "outputs": [],
   "source": [
    "def format_plot(ax, dt, ds, fs=640.):\n",
    "    ax.xaxis.set_major_locator(ticker.MultipleLocator(1.0))\n",
    "    ax.xaxis.set_minor_locator(ticker.MultipleLocator(dt/fs))\n",
    "    ax.yaxis.set_major_locator(ticker.MultipleLocator(1.0))\n",
    "    ax.yaxis.set_minor_locator(ticker.MultipleLocator(ds))\n",
    "    ax.grid(True, which='minor');\n",
    "    \n",
    "def quantize(s, ds):\n",
    "    sbins = np.arange(-1-ds/2, 1+ds, step=ds)\n",
    "    slevels = (sbins[1:] + sbins[:-1])/2\n",
    "    return slevels[np.digitize(s, sbins[:-1], right=False)-1]"
   ]
  },
  {
   "cell_type": "code",
   "execution_count": null,
   "metadata": {
    "slideshow": {
     "slide_type": "subslide"
    }
   },
   "outputs": [],
   "source": [
    "plt.close('all'); fig, ax = plt.subplots(figsize=(7, 4))\n",
    "t = np.arange(0, 2.01, step=1./640) # 1 sec = 640 samples\n",
    "harmonic = lambda x, f=1: np.sin(2.0*np.pi*x*f)\n",
    "q = lambda y, yscale: np.digitize(y, yscale, right=False)-1\n",
    "ax.plot(t, harmonic(t), linewidth=4, label=\"s(t)\");\n",
    "line = ax.plot([], [], linestyle='--', marker='o', label=\"s[n]\", markersize=20)\n",
    "plt.legend(loc=1)\n",
    "def update(dt, ds):\n",
    "    Nts = int(640*dt)\n",
    "    sn = quantize(harmonic(t[::Nts]), ds)\n",
    "    line[0].set_xdata(t[::Nts]); \n",
    "    line[0].set_ydata(sn)\n",
    "    format_plot(ax, Nts, ds)\n",
    "interact(update, dt=SelectionSlider_nice(description=\"$T_s$\", options=[1./32, 1./16, 1./8, 1./4, 1./2], value=1./4), \n",
    "         ds=SelectionSlider_nice(description=\"$\\Delta s$\", options=[1./8, 1./4, 1./2, 1., 2.], value=1./4));"
   ]
  },
  {
   "cell_type": "markdown",
   "metadata": {
    "slideshow": {
     "slide_type": "subslide"
    }
   },
   "source": [
    "- Una señal análogica muestreada y digitalizada se convierte en un tren de pulsos de amplitud variable (PCM)\n",
    "- **Modulación:** Proceso en que se varía un parámetro de la señal para guardar y transmitir información\n",
    "- Algunos parámetros por ejemplo son la amplitud, frecuencia y fase\n",
    "- **PAM**: Pulse Amplitude Modulation (Modulación por amplitud de pulsos)\n",
    "- **PCM**: Pulse Code Modulation (Modulación por impulsos codificados)"
   ]
  },
  {
   "cell_type": "code",
   "execution_count": null,
   "metadata": {
    "slideshow": {
     "slide_type": "subslide"
    }
   },
   "outputs": [],
   "source": [
    "plt.close('all'); fig, ax = plt.subplots(figsize=(7, 4))\n",
    "dt, ds = 0.125, 0.5\n",
    "ax.plot(t, harmonic(t), linewidth=4);\n",
    "sn = quantize(harmonic(t[::int(640*dt)]), ds)\n",
    "format_plot(ax, int(640*dt), ds)\n",
    "(markers, stemlines, baseline) = ax.stem(t[::int(640*dt)], sn, bottom=-1);\n",
    "plt.setp(markers, marker='o', markersize=20, color=\"orange\")\n",
    "plt.setp(stemlines, color=\"orange\", linewidth=4)\n",
    "plt.setp(baseline, color=\"orange\", linewidth=4);\n",
    "format_plot(ax, int(640*dt), ds)"
   ]
  },
  {
   "cell_type": "markdown",
   "metadata": {
    "slideshow": {
     "slide_type": "subslide"
    }
   },
   "source": [
    "- El muestreo puede llevar a una pérdida de información\n",
    "- **Indefinición:** un muestreo puede corresponder a más de una señal\n",
    "\n",
    "### Ejemplo\n",
    "\n",
    "- Sea una señal sinusoidal con frecuencia $f$, muestreada a $f_s$\n",
    "- Todas las sinusoides con frecuencia $f - m f_s, ~ m \\in \\mathbb{Z}$ son aliases de la señal original "
   ]
  },
  {
   "cell_type": "code",
   "execution_count": null,
   "metadata": {
    "slideshow": {
     "slide_type": "fragment"
    }
   },
   "outputs": [],
   "source": [
    "plt.close('all'); fig, ax = plt.subplots(figsize=(7, 4))\n",
    "dt, ds = 0.25, 0.5; Nts = int(640*dt)\n",
    "# Sampling is 4 Hz, maximum frequency is 1 Hz\n",
    "ax.plot(t, harmonic(t), linewidth=4);\n",
    "sn = quantize(harmonic(t[::Nts]), ds)\n",
    "ax.plot(t[::Nts], sn, linestyle='--', marker='o', markersize=20)\n",
    "line = ax.plot(t, harmonic(t, 1), linewidth=4, zorder=-1);\n",
    "format_plot(ax, Nts, ds)\n",
    "update = lambda m: line[0].set_ydata(harmonic(t, 1 - m/dt))\n",
    "interact(update, m=SelectionSlider_nice(description='$f - m f_s$', \n",
    "                                        options=[0, 1, -1, 2, -2, 3, -3], value=0));"
   ]
  },
  {
   "cell_type": "markdown",
   "metadata": {
    "slideshow": {
     "slide_type": "subslide"
    }
   },
   "source": [
    "### Muestreo\n",
    "\n",
    "- Usualmente las señales analógicas se muestrean a una tasa fija de $f_s$ [Hz]\n",
    "- Este valor se denominada **frecuencia de muestreo** \n",
    "- Es decir se captura una muestra de la señal cada $T_s = 1/f_s$\n",
    "- El índice $n$ de nuestra secuencia discreta equivale a $n T_s$ [segundos]\n",
    "\n",
    "### Aliasing\n",
    "- **Aliasing:** Los instantes muestreados en la señal digital coinciden con más de una señal analógica\n",
    "- Todas las señales analógicas que calzan en los instantes muestreados son los [**aliases**](http://dle.rae.es/srv/search?w=alias) de la señal real\n",
    "- ¿Qué condiciones debe cumplir el muestreo para que podamos recuperar nuestra señal?"
   ]
  },
  {
   "cell_type": "markdown",
   "metadata": {
    "slideshow": {
     "slide_type": "subslide"
    }
   },
   "source": [
    "Ejemplo de aliasing en una imagen:\n",
    "\n",
    "<img src=\"img/signal-aliasing-image.jpg\">"
   ]
  },
  {
   "cell_type": "markdown",
   "metadata": {
    "slideshow": {
     "slide_type": "subslide"
    }
   },
   "source": [
    "## Teorema del muestreo\n",
    "\n",
    "Sea una señal continua $s(t)$ muestreada a $f_s = 1/T_s$ produciendo una señal digital $s[n] = s(nT_s)$\n",
    "- Si la $f_s > 2 f_{max}$, donde $f_{max}$ es la componente de frecuencia más alta de la señal, entonces la señal analógica puede ser recuperada a partir de sus muestras discretas\n",
    "- El valor de la señal reconstruida es:\n",
    "$$\n",
    "s(t) = \\sum_{n=-\\infty}^{\\infty} s_n \\text{sinc}(\\pi f_s (t - n T_s) )\n",
    "$$\n",
    "- La frecuencia de muestreo mínima es $2 f_{max}$ y se denomina **taza de muestreo de Nyquist**"
   ]
  },
  {
   "cell_type": "code",
   "execution_count": null,
   "metadata": {
    "slideshow": {
     "slide_type": "subslide"
    }
   },
   "outputs": [],
   "source": [
    "plt.close('all'); fig, ax = plt.subplots(figsize=(7, 4))\n",
    "t = np.linspace(-10, 10, num=1000); s = np.sinc(t)\n",
    "line = ax.plot(t, s)\n",
    "def update(n = 1): \n",
    "    line[0].set_ydata(np.sinc(0.01*n*t))\n",
    "    ax.set_title(\"Frequency: %0.2f [Hz]\" %(0.01*n/2))\n",
    "anim = animation.FuncAnimation(fig, update, frames=200, interval=100, blit=True) "
   ]
  },
  {
   "cell_type": "code",
   "execution_count": null,
   "metadata": {},
   "outputs": [],
   "source": [
    "1.5124*2"
   ]
  },
  {
   "cell_type": "code",
   "execution_count": null,
   "metadata": {
    "slideshow": {
     "slide_type": "subslide"
    }
   },
   "outputs": [],
   "source": [
    "plt.close('all'); fig, ax = plt.subplots(2, figsize=(7, 5))\n",
    "t = np.arange(0, 10.01, step=1/640.) # 1[s] = 640 samples\n",
    "s = harmonic(t, f=1.5124) # fmax = 1 Hz\n",
    "def update(dt, ds):\n",
    "    Nts = int(640*dt)\n",
    "    fs, sn = (640.)/Nts, quantize(s[::Nts], ds)\n",
    "    for axis in ax:\n",
    "        axis.cla()\n",
    "        format_plot(axis, Nts, ds)    \n",
    "    ax[0].plot(t[::Nts], sn, linestyle='--', marker='o', markersize=12)\n",
    "    ax[0].set_title(\"Sampling frequency: %0.2f\" %(fs)); s_recon = 0.0\n",
    "    ax[1].plot(t, s, linewidth=2, label='original');\n",
    "    for k in range(len(sn)):\n",
    "        s_recon += sn[k]*np.sinc(fs*(t - k/fs))\n",
    "    ax[1].plot(t, s_recon, linewidth=2, linestyle='--', label='reconstructed')\n",
    "    plt.legend(loc=1);\n",
    "interact(update, \n",
    "         dt=SelectionSlider_nice(description=\"$T_s$\", \n",
    "                                 options=[1./32, 1./16, 1./8, 1./4, 1/3, 1./2], value=0.25), \n",
    "         ds=SelectionSlider_nice(description=\"$\\Delta s$\", \n",
    "                                 options=[0.125, 0.25, 0.5, 1.0, 2.0], value=0.25));"
   ]
  },
  {
   "cell_type": "markdown",
   "metadata": {
    "slideshow": {
     "slide_type": "subslide"
    }
   },
   "source": [
    "### Teorema del muestreo\n",
    "- Una señal discreta con frecuencia de muestreo $f_s$ tiene correspondencia única con una señal analógica ssi su frecuencia máxima cumple $f_{max} < f_s/2$\n",
    "- Luego para evitar el aliasing se puede:\n",
    "    - Filtrar la señal para que cumpla $f_{max} < f_s/2 = f_{Nyq}$\n",
    "    - Incrementar la frecuencia de muestro tal que $f_s > 2 f_{max}$"
   ]
  },
  {
   "cell_type": "markdown",
   "metadata": {
    "slideshow": {
     "slide_type": "slide"
    }
   },
   "source": [
    "<a id='section14'></a>\n",
    "\n",
    "## Esquema DSP general\n",
    "\n",
    "<img src=\"img/signal-DSP-pipe.png\">\n",
    "\n",
    "- El filtro antialising inicial se encarga de eliminar las frecuencias mayores a $f_s/2$\n",
    "- El filtro de reconstrucción suaviza la salida del conversor D/A\n",
    "\n",
    "\n",
    "### Esta historia continuará (en la siguiente unidad)"
   ]
  }
 ],
 "metadata": {
  "celltoolbar": "Slideshow",
  "kernelspec": {
   "display_name": "Python 3",
   "language": "python",
   "name": "python3"
  },
  "language_info": {
   "codemirror_mode": {
    "name": "ipython",
    "version": 3
   },
   "file_extension": ".py",
   "mimetype": "text/x-python",
   "name": "python",
   "nbconvert_exporter": "python",
   "pygments_lexer": "ipython3",
   "version": "3.7.4"
  }
 },
 "nbformat": 4,
 "nbformat_minor": 2
}
