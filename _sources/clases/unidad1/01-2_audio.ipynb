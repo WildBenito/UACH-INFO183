{
 "cells": [
  {
   "cell_type": "code",
   "execution_count": null,
   "metadata": {
    "ExecuteTime": {
     "end_time": "2020-09-11T00:50:48.655537Z",
     "start_time": "2020-09-11T00:50:48.444759Z"
    },
    "slideshow": {
     "slide_type": "skip"
    }
   },
   "outputs": [],
   "source": [
    "%matplotlib notebook\n",
    "import numpy as np\n",
    "import scipy.signal\n",
    "import matplotlib.pylab as plt\n",
    "from matplotlib import animation, patches\n",
    "import ipywidgets as widgets\n",
    "import matplotlib as mpl\n",
    "mpl.rcParams['savefig.dpi'] = 80\n",
    "mpl.rcParams['figure.dpi'] = 80\n",
    "from IPython.display import YouTubeVideo"
   ]
  },
  {
   "cell_type": "markdown",
   "metadata": {
    "slideshow": {
     "slide_type": "slide"
    }
   },
   "source": [
    "## Apéndice: Procesamiento de señales de audio con Scipy y soundfile\n",
    "\n",
    "Referencias\n",
    "- https://docs.scipy.org/doc/scipy/reference/signal.html\n",
    "- https://pysoundfile.readthedocs.io/en/0.9.0/"
   ]
  },
  {
   "cell_type": "code",
   "execution_count": null,
   "metadata": {
    "ExecuteTime": {
     "end_time": "2020-09-11T00:49:37.912522Z",
     "start_time": "2020-09-11T00:49:37.741167Z"
    },
    "slideshow": {
     "slide_type": "subslide"
    }
   },
   "outputs": [],
   "source": [
    "# Espectrograma de una sinusoide pura y de una sinusoide modulada (tremolo y vibrato)\n",
    "plt.close('all'); fig, ax = plt.subplots(2, figsize=(8, 6))\n",
    "sample_rate = 44100; time = np.arange(0, 3, step=1.0/sample_rate)\n",
    "noise = 0.0*np.random.randn(len(time))\n",
    "mod_am = 1.0 # 0.25 + (1.0 + np.cos(2*np.pi*4*time))*0.75\n",
    "mod_fm = 20*np.cos(2.*np.pi*8*time);\n",
    "phase_fix = np.add.accumulate(time*np.concatenate((np.zeros(1), 2*np.pi*(mod_fm[:-1]-mod_fm[1:]))))\n",
    "data = mod_am*np.sin(2.*np.pi*(220 + mod_fm)*time + phase_fix) + noise\n",
    "ax[0].plot(time, data); \n",
    "freq, ttime, Sxx = scipy.signal.spectrogram(data, fs=sample_rate, window=('tukey', 0.25), \n",
    "                                            nperseg=256, noverlap=None, detrend=False,\n",
    "                                            return_onesided=True, scaling='density', mode='magnitude')\n",
    "ax[1].pcolormesh(ttime, freq, np.log10(Sxx + 1e-5), cmap=plt.cm.magma); #ax[1].set_ylim([0., 5e+3]) \n",
    "Audio(data, rate=sample_rate)"
   ]
  },
  {
   "cell_type": "code",
   "execution_count": null,
   "metadata": {
    "ExecuteTime": {
     "end_time": "2020-09-11T00:41:00.209573Z",
     "start_time": "2020-09-11T00:40:58.161Z"
    }
   },
   "outputs": [],
   "source": [
    "sample_rate"
   ]
  },
  {
   "cell_type": "code",
   "execution_count": null,
   "metadata": {
    "ExecuteTime": {
     "end_time": "2020-09-11T00:49:50.057308Z",
     "start_time": "2020-09-11T00:49:49.995790Z"
    },
    "slideshow": {
     "slide_type": "subslide"
    }
   },
   "outputs": [],
   "source": [
    "# Espectrograma de audio sintético\n",
    "plt.close('all'); fig, ax = plt.subplots(2, figsize=(8, 6))\n",
    "data, sample_rate = sf.read(\"data/DPSAU.ogg\")\n",
    "time = np.linspace(0.0, len(data)/sample_rate, num=len(data))\n",
    "ax[0].plot(time, data);\n",
    "freq, ttime, Sxx = scipy.signal.spectrogram(data, fs=sample_rate, window=('tukey', 0.25), \n",
    "                                            nperseg=2048, noverlap=512, detrend=False,\n",
    "                                            return_onesided=True, scaling='density', mode='magnitude')\n",
    "ax[1].pcolormesh(ttime, freq, np.log10(Sxx+1e-3), cmap=plt.cm.magma); ax[1].set_ylim([0.0, 2e+3]);\n",
    "\n",
    "Audio(data, rate=sample_rate)"
   ]
  },
  {
   "cell_type": "code",
   "execution_count": null,
   "metadata": {
    "ExecuteTime": {
     "end_time": "2020-09-11T00:41:00.212107Z",
     "start_time": "2020-09-11T00:40:58.168Z"
    },
    "slideshow": {
     "slide_type": "subslide"
    }
   },
   "outputs": [],
   "source": [
    "# Espectrograma de una señal de voz\n",
    "plt.close('all'); fig, ax = plt.subplots(2, figsize=(8, 6))\n",
    "data, sample_rate = sf.read(\"data/123.ogg\")\n",
    "time = np.linspace(0.0, len(data)/sample_rate, num=len(data))\n",
    "ax[0].plot(time, data);\n",
    "freq, ttime, Sxx = scipy.signal.spectrogram(data, fs=sample_rate, window=('tukey', 0.25), \n",
    "                                            nperseg=256, noverlap=None, detrend=False,\n",
    "                                            return_onesided=True, scaling='density', mode='magnitude')\n",
    "ax[1].pcolormesh(ttime, freq, np.log10(Sxx+1e-5), cmap=plt.cm.magma); ax[1].set_ylim([0.0, 5e+3]);\n",
    "Audio(data, rate=sample_rate)"
   ]
  },
  {
   "cell_type": "code",
   "execution_count": null,
   "metadata": {
    "ExecuteTime": {
     "end_time": "2020-09-11T00:41:00.213532Z",
     "start_time": "2020-09-11T00:40:58.173Z"
    },
    "slideshow": {
     "slide_type": "subslide"
    }
   },
   "outputs": [],
   "source": [
    "# Filtro de polos y zeros en frecuencia para una señal de voz\n",
    "plt.close('all'); fig, ax = plt.subplots(1, figsize=(8, 3))\n",
    "b, a = scipy.signal.butter(7, 0.01, btype='lowpass')\n",
    "data_filt = scipy.signal.lfilter(b, a, data)\n",
    "\n",
    "freq, ttime, Sxx = scipy.signal.spectrogram(data_filt, fs=sample_rate, window=('tukey', 0.25), \n",
    "                                            nperseg=256, noverlap=None, detrend=False,\n",
    "                                            return_onesided=True, scaling='density', mode='magnitude')\n",
    "ax.pcolormesh(ttime, freq, np.log10(Sxx+1e-5), cmap=plt.cm.magma); ax.set_ylim([0.0, 5e+3]);\n",
    "Audio(data_filt, rate=sample_rate)"
   ]
  },
  {
   "cell_type": "code",
   "execution_count": null,
   "metadata": {
    "ExecuteTime": {
     "end_time": "2020-09-11T00:41:00.214810Z",
     "start_time": "2020-09-11T00:40:58.177Z"
    },
    "slideshow": {
     "slide_type": "subslide"
    }
   },
   "outputs": [],
   "source": [
    "# Filtro de polos y zeros hecho \"a mano\" para dar un efecto de eco\n",
    "plt.close('all'); fig, ax = plt.subplots(1, figsize=(8, 3))\n",
    "b = np.zeros(shape=(sample_rate//2,)); b[0] = 1\n",
    "for p in range(0, len(b)+1, len(b)):\n",
    "    b[p-1] = 0.5\n",
    "\n",
    "data_filt = scipy.signal.lfilter(b, np.array([1.0, 0.0]), np.hstack((data, np.zeros(shape=(sample_rate,)))))\n",
    "freq, ttime, Sxx = scipy.signal.spectrogram(data_filt, fs=sample_rate, window=('tukey', 0.25), \n",
    "                                            nperseg=256, noverlap=None, detrend=False,\n",
    "                                            return_onesided=True, scaling='density', mode='magnitude')\n",
    "ax.pcolormesh(ttime, freq, np.log10(Sxx+1e-5), cmap=plt.cm.magma); ax.set_ylim([0.0, 5e+3]);\n",
    "Audio(data_filt, rate=sample_rate)"
   ]
  },
  {
   "cell_type": "code",
   "execution_count": null,
   "metadata": {
    "ExecuteTime": {
     "end_time": "2020-09-11T00:41:00.215939Z",
     "start_time": "2020-09-11T00:40:58.179Z"
    },
    "slideshow": {
     "slide_type": "fragment"
    }
   },
   "outputs": [],
   "source": [
    "# Ref: https://ipython-books.github.io/117-creating-a-sound-synthesizer-in-the-notebook/\n",
    "from ipywidgets import Button, Box, Output\n",
    "duration, sample_rate = .25, 44000.\n",
    "t = np.linspace(0., duration, int(sample_rate*duration))\n",
    "synth = lambda f: np.sin(2. * np.pi * f * t)\n",
    "notes = 'C,C#,D,D#,E,F,F#,G,G#,A,A#,B,C'.split(',')\n",
    "freqs = 440. * 2**(np.arange(3, 3 + len(notes)) / 12.)\n",
    "buttons, layout_synth = [], Layout(width='30px', height='60px', border='1px solid black')\n",
    "for note, freq in zip(notes, freqs):\n",
    "    button = Button(description=note, layout=layout_synth)\n",
    "    def on_button_clicked(f, b):\n",
    "        with Output(): # suppress the audio widget output \n",
    "            display(Audio(synth(f), rate=sample_rate, autoplay=True))\n",
    "    button.on_click(partial(on_button_clicked, freq))\n",
    "    buttons.append(button)\n",
    "Box(children=buttons)"
   ]
  }
 ],
 "metadata": {
  "kernelspec": {
   "display_name": "Python3 (pyro)",
   "language": "python",
   "name": "pyro-env"
  },
  "language_info": {
   "codemirror_mode": {
    "name": "ipython",
    "version": 3
   },
   "file_extension": ".py",
   "mimetype": "text/x-python",
   "name": "python",
   "nbconvert_exporter": "python",
   "pygments_lexer": "ipython3",
   "version": "3.7.3"
  },
  "toc": {
   "base_numbering": 1,
   "nav_menu": {},
   "number_sections": true,
   "sideBar": true,
   "skip_h1_title": false,
   "title_cell": "Table of Contents",
   "title_sidebar": "Contents",
   "toc_cell": false,
   "toc_position": {},
   "toc_section_display": true,
   "toc_window_display": true
  }
 },
 "nbformat": 4,
 "nbformat_minor": 2
}
