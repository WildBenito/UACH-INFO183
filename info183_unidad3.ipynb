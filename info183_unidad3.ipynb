{
 "cells": [
  {
   "cell_type": "code",
   "execution_count": null,
   "metadata": {
    "slideshow": {
     "slide_type": "skip"
    }
   },
   "outputs": [],
   "source": [
    "%%HTML\n",
    "<!-- Mejorar visualización en proyector -->\n",
    "<style>\n",
    ".rendered_html {font-size: 1.2em; line-height: 150%;}\n",
    "div.prompt {min-width: 0ex; padding: 0px;}\n",
    ".container {width:90% !important;}\n",
    "</style>"
   ]
  },
  {
   "cell_type": "code",
   "execution_count": null,
   "metadata": {
    "slideshow": {
     "slide_type": "skip"
    }
   },
   "outputs": [],
   "source": [
    "import numpy as np\n",
    "import scipy.signal\n",
    "from scipy import fftpack\n",
    "%matplotlib notebook\n",
    "import matplotlib.pylab as plt\n",
    "from matplotlib import animation, patches\n",
    "from IPython.display import display, Audio, HTML\n",
    "#import soundfile as sf\n",
    "from style import *\n",
    "\n",
    "def clean_4_audio(y):\n",
    "    if np.amax(np.absolute(y)) > 1.:\n",
    "        return y/np.amax(np.absolute(y))\n",
    "    else:\n",
    "        return np.concatenate((y, [1, -1]))"
   ]
  },
  {
   "cell_type": "markdown",
   "metadata": {
    "slideshow": {
     "slide_type": "slide"
    }
   },
   "source": [
    "### Universidad Austral de Chile \n",
    "\n",
    "## INFO183: Análisis de sistemas lineales\n",
    "\n",
    "# Unidad 3: Sistemas para el procesamiento de señales\n",
    "\n",
    "### Dr. Pablo Huijse, phuijse at inf dot uach dot cl \n",
    "\n",
    "### <a href=\"https://github.com/phuijse/UACH-INFO183\"> github.com/phuijse/UACH-INFO183 </a>\n"
   ]
  },
  {
   "cell_type": "markdown",
   "metadata": {
    "slideshow": {
     "slide_type": "slide"
    }
   },
   "source": [
    "***\n",
    "<a id=\"index\"></a>\n",
    "\n",
    "# Contenidos de la unidad\n",
    "\n",
    "***\n",
    "\n",
    "1. [Definición de sistema](#section1)\n",
    "1. [Sistema FIR](#section2)\n",
    "1. [Sistemas LTI y filtros](#section3)\n",
    "1. [Sistema IIR](#section4)\n",
    "1. [Transformada Z](#section5)"
   ]
  },
  {
   "cell_type": "markdown",
   "metadata": {
    "slideshow": {
     "slide_type": "slide"
    }
   },
   "source": [
    "***\n",
    "<a id=\"section1\"></a>\n",
    "\n",
    "# Definición de sistema\n",
    "\n",
    "***\n",
    "\n",
    "- *Análisis de señales:* El estudio de las señales y sus propiedades en el dominio del tiempo y frecuencia\n",
    "- *Procesamiento de señales:* El diseño de **sistemas** que procesan **señales de entrada** y producen **señales de salida**\n",
    "    - Adicionalmente, un sistema puede tener parámetros (entradas númericas o booleanas)\n",
    "    - Adicionalmente, un sistema puede tener retornos (salidas númericas o booleanas)\n",
    "    - Sistema sin señal de entrada: Oscilador\n",
    "    - Sistema sin señal de salida: Detector/clasificador de señal\n",
    "    - Existen sistemas analógicos (continuos) y digitales (discretos), nos enfocaremos en los últimos\n",
    "    \n",
    "   \n",
    "<center><img src=\"img/system.png\"></center>\n",
    "\n",
    "- Usaremos $x[n]$ para denotar la señal (discreta) de entrada y $X[k]$ su espectro\n",
    "- Usaremos $y[n]$ para denotar la señal (discreta) de salida e $Y[k]$ su espectro\n",
    " \n"
   ]
  },
  {
   "cell_type": "markdown",
   "metadata": {
    "slideshow": {
     "slide_type": "subslide"
    }
   },
   "source": [
    "### Ejemplos\n",
    "\n",
    "1. Un sistema para reducir el ruido de una EEG\n",
    "\n",
    "<center><img src=\"img/system-denoise-eeg.png\"></center>\n",
    "\n",
    "1. Un sistema para mejorar (sharpen) una imagen fuera de foco\n",
    "\n",
    "<center><img src=\"img/system-sharpen.jpg\"></center>\n",
    "\n",
    "1. Un sistema para eliminar el eco de un audio\n",
    "\n",
    "<center><img src=\"img/system-echo.png\"></center>\n"
   ]
  },
  {
   "cell_type": "markdown",
   "metadata": {
    "slideshow": {
     "slide_type": "subslide"
    }
   },
   "source": [
    "***\n",
    "\n",
    "# Sistemas  sin memoria\n",
    "\n",
    "Los sistemas sin memoria son de forma\n",
    "\n",
    "$$\n",
    "y[n] = f(x[n]),\n",
    "$$\n",
    "\n",
    "es decir la salida del sistema en un instante dado depende solo de la entrada en ese instante\n",
    "\n",
    "### Ejemplos\n",
    "\n",
    "\n",
    "- Sistema amplificador ideal \n",
    "$$\n",
    "y[n] = A x[n], \n",
    "$$\n",
    "donde $A>0$ se llama *ganancia*\n",
    "    - provoca atenuación de la entrada si $0<A<1$\n",
    "    - es un sistema identidad si $A=1$\n",
    "\n",
    "- Sistema con corrupción cuadrática\n",
    "$$\n",
    "y_n = x_n + \\epsilon x_n^2\n",
    "$$\n",
    "\n",
    "- Sistema saturador (clamp)\n",
    "$$\n",
    "y_n = \\begin{cases} B &x_n > B \\\\x_n & x_n \\in [-B, B]\\\\ -B & x_n < -B\\end{cases}\n",
    "$$\n",
    "- Sistema rectificador\n",
    "$$\n",
    "y_n = | x_n |\n",
    "$$"
   ]
  },
  {
   "cell_type": "code",
   "execution_count": null,
   "metadata": {
    "slideshow": {
     "slide_type": "fragment"
    }
   },
   "outputs": [],
   "source": [
    "plt.close('all'); fig, ax = plt.subplots(figsize=(7, 4))\n",
    "Fs = 22050; n = np.arange(0, 2, step=1.0/Fs)\n",
    "x = 0.2*np.sin(2.0*np.pi*200*n); \n",
    "y = np.abs(x) #+ 2*x**2\n",
    "ax.plot(n, x, label='input'); ax.plot(n, y, label='output'); \n",
    "ax.set_xlim([0, 0.1]); plt.legend()\n",
    "Audio(clean_4_audio(y), rate=Fs)"
   ]
  },
  {
   "cell_type": "markdown",
   "metadata": {
    "slideshow": {
     "slide_type": "slide"
    }
   },
   "source": [
    "***\n",
    "\n",
    "# Sistema Lineal\n",
    "\n",
    "Propiedades de los sistemas lineales\n",
    "\n",
    "- **Homogeneidad:** Un cambio en la amplitud de la entrada produce un cambio equivalente en la salida\n",
    "\n",
    "$$\n",
    "f(cx[n]) = c f(x[n]) = c y[n]\n",
    "$$\n",
    "\n",
    "- **Aditividad:** Señales que se suman en la entrada producen señales que se suman en la salida\n",
    "\n",
    "$$\n",
    "f(x_1[n] + x_2[n]) = f(x_1[n]) + f(x_2[n]) = y_1[n] + y_2[n]\n",
    "$$\n",
    "\n",
    "    - Las señales pasan por el sistema sin interactuar entre ellas\n",
    "- Si no se cumple alguna de estas propiedades el sistema es **no lineal**\n",
    "- ¿Son los sistemas anteriores lineales?\n"
   ]
  },
  {
   "cell_type": "markdown",
   "metadata": {
    "slideshow": {
     "slide_type": "subslide"
    }
   },
   "source": [
    "\n",
    "### Otras propiedades de los sistemas lineales\n",
    "\n",
    "\n",
    "- Una cascada de sistemas lineales forman un sistema lineal equivalente\n",
    "    - **Conmutatividad:** El orden de los sistemas en la cascada no es relevante\n",
    "<img src=\"img/system-conmu.png\" width=\"400px\">\n",
    "\n",
    "- **Principio de superposición**: \n",
    "    - Considere una método de descomposición de funciones (Fourier, Taylor, PCA)\n",
    "    - Si descomponemos una señal en $M$ componentes: $x[n] = x_1[n] + x_2[n] + \\ldots +  x_M[n]$\n",
    "    - Y aplicamos un **sistema lineal** a cada componente $y_j[n] = f(x_j[n])$\n",
    "    - Podemos recuperar la salida total usando **aditividad** como $y_1[n] + y_2[n] + \\ldots +  y_M[n] = y[n]$\n",
    "\n",
    "<img src=\"img/system-superpos.png\" width=\"400px\">\n",
    "    \n"
   ]
  },
  {
   "cell_type": "markdown",
   "metadata": {
    "slideshow": {
     "slide_type": "slide"
    }
   },
   "source": [
    "***\n",
    "\n",
    "# Sistemas con memoria\n",
    "\n",
    "Un sistema con memoria es aquel cuya salida puede depender de \n",
    "- la entrada actual\n",
    "- las entradas anteriores\n",
    "- las salidas anteriores\n",
    "\n",
    "$$\n",
    "\\begin{align}\n",
    "y[n] = f(x[n], &x[n-1], x[n-2], \\ldots, x[0], \\\\ \\nonumber\n",
    "&y[n-1], y[n-2], \\ldots, y[0]) \\nonumber\n",
    "\\end{align}\n",
    "$$\n",
    "\n",
    "esto también se conoce como **sistema causal**\n",
    "\n",
    "Un **sistema no-causal** usa entradas futuras ($x[n+1]$, $x[n+2]$, ...) y por ende solo se puede implementar de forma offline (una vez que sea ha observado toda la señal)\n",
    "\n",
    "### Ejemplos de sistemas lineales con memoria simples\n",
    "\n",
    "- Sistema con un retardo (delay)\n",
    "\n",
    "$$\n",
    "y[n] = x[n-m],\n",
    "$$\n",
    "    - depende solo de \"una\" entrada anterior\n",
    "    - el valor de m define que tan \"antigua\" es la entrada pasada\n",
    "\n",
    "- Sistema reverberador (eco)\n",
    "\n",
    "$$\n",
    "y[n] = x[n] + A x[n-m],\n",
    "$$\n",
    "\n",
    "    - depende de una entrada \"pasada\" y la entrada actual\n",
    "    - la ganancia controla si el \"eco\" se atenua o amplifica"
   ]
  },
  {
   "cell_type": "markdown",
   "metadata": {
    "slideshow": {
     "slide_type": "subslide"
    }
   },
   "source": [
    "- El delay no afecta la amplitud de los componentes frecuenciales pero si su fase\n",
    "- Más adelante veremos que este es un tipo de filtro conocido como pasa-todo (*all-pass*)"
   ]
  },
  {
   "cell_type": "code",
   "execution_count": null,
   "metadata": {
    "slideshow": {
     "slide_type": "fragment"
    }
   },
   "outputs": [],
   "source": [
    "plt.close('all'); fig, ax = plt.subplots(3, figsize=(6, 6))\n",
    "n = np.arange(0, 400, step=1)\n",
    "x = lambda m: np.sin(2.0*np.pi*0.05*(n-m)) \n",
    "f = fftpack.fftshift(fftpack.fftfreq(d=1, n=len(n)))\n",
    "\n",
    "def update(m):\n",
    "    m = m*0.5 # Para hacer la animación + fluida\n",
    "    ax[0].cla(); ax[0].plot(n, x(m));\n",
    "    X = fftpack.fftshift(fftpack.fft(x(m)))\n",
    "    Xm = np.absolute(X); Xp = np.angle(X)\n",
    "    # Espectro de magnitud:\n",
    "    ax[1].cla(); ax[1].plot(f, Xm); \n",
    "    # Espectro de fase enmascarado con el espectro de magnitud\n",
    "    ax[2].cla(); ax[2].plot(f, Xm*Xp/np.amax(Xm)); ax[2].set_ylim([-np.pi, np.pi])\n",
    "    angle_delay = Xp[np.argmax(Xm)]\n",
    "    ax[2].set_title(\"%0.4f [rad], %0.0f [deg]\" % (angle_delay, 180*angle_delay/np.pi))\n",
    "\n",
    "#interact(update, m=IntSlider_nice(min=0, max=20));\n",
    "anim = animation.FuncAnimation(fig, update, frames=40, interval=100, blit=True)\n",
    "#plt.close(); HTML(anim.to_html5_video())"
   ]
  },
  {
   "cell_type": "raw",
   "metadata": {
    "slideshow": {
     "slide_type": "skip"
    }
   },
   "source": [
    "$$\n",
    "x[n] = A \\sin(2 \\pi k_0 (n-m)/N)\n",
    "$$\n",
    "\n",
    "$$\n",
    "\\begin{align}\n",
    "X[k] &= A \\sum_{n=0}^{N-1} \\sin(2 \\pi k_0 (n-m)/N) e^{-j2\\pi \\frac{nk}{N}} \\\\ \\nonumber\n",
    "& = \\frac{A}{2j} e^{-j2\\pi m/N} \\sum_{n=0}^{N-1}  e^{-j2\\pi \\frac{n(k-k_0)}{N}} -  \\frac{A}{2j} e^{j2\\pi m/N} \\sum_{n=0}^{N-1} e^{-j2\\pi \\frac{n(k+k_0)}{N}} \\nonumber\n",
    "\\end{align}\n",
    "$$"
   ]
  },
  {
   "cell_type": "code",
   "execution_count": null,
   "metadata": {
    "slideshow": {
     "slide_type": "subslide"
    }
   },
   "outputs": [],
   "source": [
    "plt.close('all'); fig, ax = plt.subplots(figsize=(6, 3))\n",
    "Fs=22050; n = np.arange(0, 4, step=1.0/Fs) \n",
    "x = lambda m: np.sin(2.0*np.pi*880*(n-m))*np.exp(-(n-m)**2/0.5**2)*np.heaviside(n-m, 0)\n",
    "y = x(0)  #+ 0.5*x(1.)   + 0.25*x(2.) + 0.125*x(3.)\n",
    "ax.plot(n, y);\n",
    "Audio(clean_4_audio(y), rate=Fs)"
   ]
  },
  {
   "cell_type": "markdown",
   "metadata": {
    "slideshow": {
     "slide_type": "subslide"
    }
   },
   "source": [
    "- El eco en cambio si modifica el espectro de magnitud\n",
    "- Notemos el efecto de interferencia constructiva y destructiva al modificar el retardo\n",
    "- La señal retardada cancela la original cuando tiene la misma amplitud ($A=1$)"
   ]
  },
  {
   "cell_type": "code",
   "execution_count": null,
   "metadata": {
    "slideshow": {
     "slide_type": "fragment"
    }
   },
   "outputs": [],
   "source": [
    "plt.close('all'); fig, ax = plt.subplots(3, figsize=(6, 6))\n",
    "n = np.arange(0, 400, step=1)\n",
    "x = lambda m: np.sin(2.0*np.pi*0.05*(n-m)) \n",
    "f = fftpack.fftshift(fftpack.fftfreq(d=1, n=len(n)))\n",
    "A = 1.\n",
    "def update(m):\n",
    "    m = 0.5*m; y = x(0) + A*x(m)\n",
    "    ax[0].cla(); ax[0].plot(n, x(0), n, A*x(m))\n",
    "    ax[1].cla(); ax[1].plot(n, y); ax[1].set_ylim([-A-1.1, A+1.1])\n",
    "    X = fftpack.fftshift(fftpack.fft(y))\n",
    "    ax[2].cla(); ax[2].plot(f, np.absolute(X)); \n",
    "    ax[2].set_ylim([-20, (1+A)*len(n)/2 + 20])\n",
    "#interact(update, m=IntSlider_nice(min=0, max=20), \n",
    "#         A=SelectionSlider_nice(options=[0.5, 1., 2.], value=1));\n",
    "anim = animation.FuncAnimation(fig, update, frames=40, interval=100, blit=False)"
   ]
  },
  {
   "cell_type": "markdown",
   "metadata": {
    "slideshow": {
     "slide_type": "fragment"
    }
   },
   "source": [
    "Notemos que en el caso $A=1$\n",
    "\n",
    "$$\n",
    "\\begin{align}\n",
    "y[n] &= \\sin(2\\pi k_0 n) + \\sin(2\\pi k_0 (n-m)) \\nonumber \\\\ \n",
    "&= 2 \\cos(\\pi k_0 m) \\sin(2\\pi k_0 (n-m/2))  \\nonumber\n",
    "\\end{align}\n",
    "$$\n",
    "\n",
    "se anula si\n",
    "\n",
    "$$\n",
    "\\begin{align}\n",
    "\\pi k_0 m & = \\frac{\\pi}{2} + \\pi i, \\quad i \\in \\mathbb{Z} \\nonumber \\\\\n",
    "m &= \\frac{1 + 2i}{2 k_0}, \\quad i \\in \\mathbb{Z} \\nonumber\n",
    "\\end{align}\n",
    "$$"
   ]
  },
  {
   "cell_type": "code",
   "execution_count": null,
   "metadata": {
    "slideshow": {
     "slide_type": "subslide"
    }
   },
   "outputs": [],
   "source": [
    "plt.close('all'); fig, ax = plt.subplots(figsize=(6, 3))\n",
    "n = np.arange(0, 4, step=1.0/22050)\n",
    "x = lambda m: np.sin(2.0*np.pi*880*(n-m))*np.exp(-(n-m)**2/0.5**2)*np.heaviside(n-m, 0)\n",
    "y = x(0) + 1.*x(1./(2*880))\n",
    "ax.plot(n, y);\n",
    "Audio(clean_4_audio(y), rate=22050)"
   ]
  },
  {
   "cell_type": "markdown",
   "metadata": {
    "slideshow": {
     "slide_type": "fragment"
    }
   },
   "source": [
    "https://www.youtube.com/watch?v=IU8xeJlJ0mk"
   ]
  },
  {
   "cell_type": "markdown",
   "metadata": {
    "slideshow": {
     "slide_type": "skip"
    }
   },
   "source": [
    "[&larr; Volver al índice](#index)"
   ]
  },
  {
   "cell_type": "markdown",
   "metadata": {
    "slideshow": {
     "slide_type": "slide"
    }
   },
   "source": [
    "***\n",
    "<a id=\"section2\"></a>\n",
    "\n",
    "# Sistema FIR \n",
    "\n",
    "***\n",
    "\n",
    "Generalizando el ejemplo de sistema lineal reverberante a más retardos llegamos a \n",
    "\n",
    "$$\n",
    "\\begin{align}\n",
    "y[n] &= h[0] x[n] + h[1] x[n-1] + h[2] x[n-2] + \\ldots + h[L] x[n-L] \\nonumber \\\\\n",
    "&= \\sum_{j=0}^{L} h[j] x[n-j] \\nonumber \\\\\n",
    "&= (h* x)[n] \\nonumber \n",
    "\\end{align}\n",
    "$$\n",
    "\n",
    "que se puede modelar como una convolución discreta o en pseuco-código como un ciclo iterativo\n",
    "```\n",
    "   y[n] = 0\n",
    "   for j in 0 to L\n",
    "       y[n] = y[n] + h[j] x[n-j]\n",
    "```\n",
    "y se conoce como\n",
    "\n",
    "\n",
    "- sistema FIR (finite impulse response)\n",
    "- sistema MA (moving average)\n",
    "- sistema todo-zeros \n",
    "\n",
    "\n",
    "y es de orden L (posee L+1 coeficientes)\n",
    "\n",
    "- ¿Es este sistema lineal?\n",
    "- ¿Que ocurre si entra al sistema un impulso unitario?"
   ]
  },
  {
   "cell_type": "markdown",
   "metadata": {
    "slideshow": {
     "slide_type": "subslide"
    }
   },
   "source": [
    "## Intepretación como media movil (MA)\n",
    "\n",
    "- El sistema FIR es equivalente a una media movil ponderada (*weighted moving average*)\n",
    "- Los coeficientes del sistema son los ponderadores \n",
    "\n",
    "Por ejemplo sea un sistema de 3 coeficientes unitarios\n",
    "$$\n",
    "\\begin{align}\n",
    "y[n] = (h*x)[n] &= \\sum_{j=0}^{2} h[j] x[n-j] \\nonumber \\\\\n",
    "&= x[n] + x[n-1] + x[n-2] \\nonumber\n",
    "\\end{align}\n",
    "$$\n",
    "donde cada salida se calcula a partir de \n",
    "$$\n",
    "\\overbrace{x[0], x[1], x[2]}^{y[2]} , x[3], x[4], \\ldots\n",
    "$$\n",
    "$$\n",
    "x[0], \\overbrace{x[1], x[2] , x[3]}^{y[3]}, x[4], \\ldots\n",
    "$$\n",
    "$$\n",
    "x[0], x[1], \\overbrace{x[2] , x[3], x[4]}^{y[4]}, \\ldots\n",
    "$$\n",
    "\n",
    "En este caso para obtener el valor de $y[0]$ e $y[1]$ se deben establecer \"condiciones de borde\""
   ]
  },
  {
   "cell_type": "markdown",
   "metadata": {
    "slideshow": {
     "slide_type": "subslide"
    }
   },
   "source": [
    "### Ejemplo: Eliminando ruido blanco aditivo"
   ]
  },
  {
   "cell_type": "code",
   "execution_count": null,
   "metadata": {
    "slideshow": {
     "slide_type": "fragment"
    }
   },
   "outputs": [],
   "source": [
    "plt.close('all'); fig, ax = plt.subplots(3, figsize=(9, 7))\n",
    "np.random.seed(0); n = np.arange(0, 100, step=1)\n",
    "C = 5*np.exp(-0.5*(n[:, np.newaxis] - n[:, np.newaxis].T)**2/10**2)\n",
    "x_clean = np.random.multivariate_normal(np.zeros_like(n), C) \n",
    "ax[0].plot(n, x_clean)\n",
    "x = x_clean + 2*np.random.randn(len(n))\n",
    "ax[0].plot(n, x, 'k.'); ylims = ax[0].get_ylim()\n",
    "# System:\n",
    "L = 10; h = np.ones(shape=(L,))/L; \n",
    "# Acumulator\n",
    "y = np.zeros_like(n, dtype=np.float)\n",
    "\n",
    "def init():\n",
    "    global y\n",
    "    y = np.zeros_like(n, dtype=np.float)\n",
    "    \n",
    "def update(m):\n",
    "    c = np.zeros_like(n, dtype=np.float); c[m:m+L] = h\n",
    "    ax[1].cla(); ax[1].plot(n, c); \n",
    "    y[m] = np.sum(h*x[m:m+L])\n",
    "    ax[2].cla(); ax[2].plot(n, y);  ax[2].set_ylim(ylims)\n",
    "    ax[2].plot([m, m], [ylims[0], ylims[1]], 'r--', alpha=0.5)\n",
    "\n",
    "anim = animation.FuncAnimation(fig, update,init_func=init, \n",
    "                               frames=100-len(h), interval=200, blit=True)"
   ]
  },
  {
   "cell_type": "markdown",
   "metadata": {
    "slideshow": {
     "slide_type": "fragment"
    }
   },
   "source": [
    "En la práctica podemos usar [`scipy.signal.convolve`](https://docs.scipy.org/doc/scipy/reference/generated/scipy.signal.convolve.html)"
   ]
  },
  {
   "cell_type": "code",
   "execution_count": null,
   "metadata": {
    "scrolled": false,
    "slideshow": {
     "slide_type": "fragment"
    }
   },
   "outputs": [],
   "source": [
    "plt.close('all'); fig, ax = plt.subplots(3, figsize=(8, 6))\n",
    "ax[0].plot(n, x_clean); ax[0].plot(n, x, 'k.')\n",
    "L = 10; \n",
    "h = np.ones(shape=(L,)); \n",
    "#h = scipy.signal.tukey(L)\n",
    "#h = scipy.signal.hamming(L)\n",
    "h = h/np.sum(h)\n",
    "ax[1].plot(h)\n",
    "ax[2].plot(scipy.signal.convolve(x, h, mode='same', method='auto')); \n",
    "ax[2].set_ylim(ylims);"
   ]
  },
  {
   "cell_type": "markdown",
   "metadata": {
    "slideshow": {
     "slide_type": "subslide"
    }
   },
   "source": [
    "### Ejemplo: Encontrando cambios en una señal"
   ]
  },
  {
   "cell_type": "code",
   "execution_count": null,
   "metadata": {
    "slideshow": {
     "slide_type": "fragment"
    }
   },
   "outputs": [],
   "source": [
    "plt.close('all'); fig, ax = plt.subplots(3, figsize=(8, 6))\n",
    "n = np.arange(0, 100, step=1)\n",
    "x = np.zeros_like(n, dtype=np.float)\n",
    "x[20:] += 1.; x[40:] += 1.; x[80:] -= 1.;\n",
    "ax[0].plot(n, x)\n",
    "# System:\n",
    "h = np.array([-0.5, 0.5])\n",
    "# Acumulator\n",
    "y = np.zeros_like(n, dtype=np.float)\n",
    "def init():\n",
    "    global y\n",
    "    y = np.zeros_like(n, dtype=np.float)\n",
    "\n",
    "def update(m):\n",
    "    c = np.zeros_like(n, dtype=np.float); c[m:m+len(h)] = h\n",
    "    ax[1].cla(); ax[1].plot(n, c); \n",
    "    y[m] = np.sum(h*x[m:m+len(h)])\n",
    "    ax[2].cla(); ax[2].plot(n, y);  \n",
    "    ax[2].plot([m, m], [-0.5, 0.5], 'r--', alpha=0.5)\n",
    "\n",
    "anim = animation.FuncAnimation(fig, update, init_func=init, frames=100-len(h), interval=200, blit=True)"
   ]
  },
  {
   "cell_type": "markdown",
   "metadata": {
    "slideshow": {
     "slide_type": "subslide"
    }
   },
   "source": [
    "### Ejemplo: Removiendo una tendencia"
   ]
  },
  {
   "cell_type": "code",
   "execution_count": null,
   "metadata": {
    "slideshow": {
     "slide_type": "fragment"
    }
   },
   "outputs": [],
   "source": [
    "plt.close('all'); fig, ax = plt.subplots(3, figsize=(8, 6))\n",
    "np.random.seed(0); n = np.arange(0, 100, step=1)\n",
    "C = np.exp(-0.5*(n[:, np.newaxis] - n[:, np.newaxis].T)**2/30**2)\n",
    "x = np.sin(2.0*np.pi*0.1*n) + 5*np.random.multivariate_normal(np.zeros_like(n), C)\n",
    "ax[0].plot(n, x); ylims = ax[0].get_ylim()\n",
    "# System:\n",
    "L = 5; h = -np.ones(shape=(L,))/L; h[L//2] += 1\n",
    "# Acumulator\n",
    "y = np.zeros_like(n, dtype=np.float)\n",
    "def init():\n",
    "    global y\n",
    "    y = np.zeros_like(n, dtype=np.float)\n",
    "    \n",
    "def update(m):\n",
    "    c = np.zeros_like(n, dtype=np.float); c[m:m+len(h)] = h\n",
    "    ax[1].cla(); ax[1].plot(n, c); \n",
    "    y[m] = np.sum(h*x[m:m+len(h)])\n",
    "    ax[2].cla(); ax[2].plot(n, y);  \n",
    "    ax[2].plot([m, m], [-0.5, 0.5], 'r--', alpha=0.5)\n",
    "    \n",
    "anim = animation.FuncAnimation(fig, update, init_func=init, \n",
    "                               frames=100-len(h), interval=200, blit=True)"
   ]
  },
  {
   "cell_type": "markdown",
   "metadata": {
    "slideshow": {
     "slide_type": "subslide"
    }
   },
   "source": [
    "### Ejemplo: Detectando una patrón específico en una señal ruidosa"
   ]
  },
  {
   "cell_type": "code",
   "execution_count": null,
   "metadata": {
    "slideshow": {
     "slide_type": "fragment"
    }
   },
   "outputs": [],
   "source": [
    "def sine_pulse(n, k0, center):\n",
    "    x = np.zeros_like(n, dtype=np.float); L = int(1/k0)\n",
    "    x[center:center+L] = np.sin(2.0*np.pi*k0*(n[center:center+L] - n[center]))\n",
    "    return x\n",
    "\n",
    "plt.close('all'); fig, ax = plt.subplots(3, figsize=(8, 6))\n",
    "np.random.seed(0); n = np.arange(0, 100, step=1)\n",
    "x_clean = sine_pulse(n, k0=0.05, center=50) \n",
    "ax[0].plot(n, x_clean)\n",
    "s = 1.;  x = x_clean + s*np.random.randn(len(n))\n",
    "ax[0].plot(n, x, 'k.'); ylims = ax[0].get_ylim()\n",
    "ax[0].set_title(\"SNR %0.2f [dB]\" %(10*np.log(0.5/s**2)))\n",
    "# System:\n",
    "h = np.sin(2.0*np.pi*0.05*n[:int(len(n)/5)] + np.pi); h = h/np.sum(np.absolute(h))\n",
    "# Acumulator\n",
    "y = np.zeros_like(n, dtype=np.float)\n",
    "def init():\n",
    "    global y\n",
    "    y = np.zeros_like(n, dtype=np.float)\n",
    "    \n",
    "def update(m):\n",
    "    c = np.zeros_like(n, dtype=np.float); c[m:m+len(h)] = h\n",
    "    ax[1].cla(); ax[1].plot(c); \n",
    "    y[m] = np.sum(h*x[m:m+len(h)])\n",
    "    ax[2].cla(); ax[2].plot(n, y**2);  #ax[2].set_ylim(ylims)\n",
    "    ax[2].plot([m, m], [np.amin(y**2), np.amax(y**2)], 'r--', alpha=0.5)\n",
    "\n",
    "anim = animation.FuncAnimation(fig, update, init_func=init, \n",
    "                               frames=100-len(h), interval=200, blit=True)"
   ]
  },
  {
   "cell_type": "markdown",
   "metadata": {
    "slideshow": {
     "slide_type": "slide"
    }
   },
   "source": [
    "***\n",
    "\n",
    "# Sistema invariante al desplazamiento\n",
    "\n",
    "***\n",
    "\n",
    "Un sistema es invariante al desplazamiento  (*shift-invariant*) de su entrada si \n",
    "\n",
    "$$\n",
    "f(x[n-m]) = y[n-m] \n",
    "$$\n",
    "\n",
    "Es decir que \n",
    "- Aplicar un retardo en la entrada provoca un retardo equivalente en la salida\n",
    "    - Un *blip* en la entrada produce un *blop* en la salida sin importar **cuando** ocurre el blip\n",
    "- Las características del sistema no cambian con $n$\n",
    "- Si $n$ representa el tiempo decimos que el sistema es **invariante en el tiempo**\n",
    "\n",
    "\n",
    "***\n",
    "Un sistema FIR es invariante al desplazamiento si los valores de $h$ son constantes para todo $n$\n",
    "\n",
    "$$\n",
    "h[n] = \\text{Cte} \\quad \\forall n\n",
    "$$\n",
    "\n",
    "***"
   ]
  },
  {
   "cell_type": "code",
   "execution_count": null,
   "metadata": {
    "slideshow": {
     "slide_type": "fragment"
    }
   },
   "outputs": [],
   "source": [
    "plt.close('all'); fig, ax = plt.subplots(2, figsize=(8, 5))\n",
    "n = np.arange(0, 500)\n",
    "l0 = ax[0].plot(n, np.zeros_like(n)); \n",
    "ax[0].set_ylim([-0.1, 1.1]); ax[0].set_title('Input')\n",
    "l1 = ax[1].plot(n, np.zeros_like(n));\n",
    "\n",
    "def update(m):\n",
    "    x = 0.5 + 0.5*scipy.signal.square((n-m)/(2.*np.pi*5), duty=0.3)      \n",
    "    ax[1].set_ylim([-0.1, 1.1]); ax[1].set_title('Output')\n",
    "    L = 50; h = np.ones(shape=(L, ))\n",
    "    # h = 1.+ np.cos(2.0*np.pi*2.*(n-m)/len(n))\n",
    "    h = h/np.sum(np.absolute(h))\n",
    "    l0[0].set_ydata(x); l1[0].set_ydata(scipy.signal.convolve(x, h, mode='same'))\n",
    "\n",
    "anim = animation.FuncAnimation(fig, update, frames=500, interval=200, blit=True);"
   ]
  },
  {
   "cell_type": "markdown",
   "metadata": {
    "slideshow": {
     "slide_type": "slide"
    }
   },
   "source": [
    "***\n",
    "\n",
    "# Respuesta al impulso de un sistema\n",
    "\n",
    "***\n",
    "\n",
    "Sea el impulso unitario o delta de Kronecker\n",
    "$$\n",
    "\\delta[n-m] = \\begin{cases} 1 & n=m \\\\ 0 & n \\neq m \\end{cases}\n",
    "$$\n",
    "\n",
    "La **respuesta al impulso de un sistema discreto** es la salida obtenida cuando la entrada es un impulso unitario\n",
    "\n",
    "***\n",
    "\n",
    "Para un sistema FIR arbitrario tenemos\n",
    "\n",
    "$$\n",
    "y[n]|_{x=\\delta} = (h * \\delta)[n] = \\sum_{j=0}^L h[j] \\delta[n-j] = \\begin{cases} h[n] & n \\in [0, L] \\\\ 0 & \\text{en otro caso} \\end{cases} \\\\\n",
    "$$\n",
    "\n",
    "es decir que la respuesta al impulso:\n",
    "-  tiene **una duración finita y luego decae a zero**\n",
    "-  recupera los coeficientes $h[j]$ del sistema\n",
    "\n",
    "En un sistema causal se tiene que $h[n] = 0 \\quad \\forall n < 0$\n",
    "\n",
    "Llamamos **soporte** del sistema a todos aquellos valores de $n$ tal que  $h[n] \\neq 0$\n",
    "\n",
    "***\n",
    "\n",
    "**Ejemplo:** Para \n",
    "$$\n",
    "y[n] = x[n] + A x[n-m]\n",
    "$$\n",
    "la respuesta al impulso es: \n",
    "$$\n",
    "y[n] = \\delta[n] + A \\delta[n-m] = \\begin{cases} 1 & n=0\\\\ A& n=m \\\\ 0 & \\text{en otro caso} \\end{cases}\n",
    "$$"
   ]
  },
  {
   "cell_type": "markdown",
   "metadata": {
    "slideshow": {
     "slide_type": "skip"
    }
   },
   "source": [
    "[&larr; Volver al índice](#index)"
   ]
  },
  {
   "cell_type": "markdown",
   "metadata": {
    "slideshow": {
     "slide_type": "slide"
    }
   },
   "source": [
    "***\n",
    "<a id=\"section3\"></a>\n",
    "\n",
    "# Sistema LTI \n",
    "***\n",
    "\n",
    "Los sistemas LTI (*linear time-invariant*) cumplen \n",
    "\n",
    "- linealidad: homogeneo y aditivo\n",
    "- invarianza al desplazamiento de la entrada\n",
    "\n",
    "y se expresan como\n",
    "\n",
    "$$\n",
    "y[n] = (h * x)[n] = \\sum_j h[j] x[n-j]\n",
    "$$\n",
    "- h es la respuesta al impulso\n",
    "- h guarda los coeficientes del sistema\n",
    "\n",
    "***\n",
    "Por propiedad de la DFT sabemos que un sistema LTI cumple\n",
    "\n",
    "$$\n",
    "\\begin{align}\n",
    "\\text{DFT}_N [y[n]] & = \\text{DFT}_N [(h * x)[n]] \\nonumber \\\\\n",
    "\\text{DFT}_N [y[n]] & = \\text{DFT}_N [h[n]]  \\text{DFT}_N [x[n]] \\nonumber \\\\\n",
    "Y[k] &= H[k] X[k] , \\nonumber\n",
    "\\end{align}\n",
    "$$\n",
    "\n",
    "donde convertimos la convolución temporal en una multiplicación frecuencial\n",
    "\n",
    "\n",
    "- Llamamos a $H[k]$ la **respuesta en frecuencia del sistema** \n",
    "- La respuesta en frecuencia es la transformada de Fourier de la respuesta al impulso\n",
    "\n",
    "***\n",
    "\n",
    "Los sistemas LTI tienen intepretación directa en el dominio del frecuencia\n",
    "\n",
    "***"
   ]
  },
  {
   "cell_type": "markdown",
   "metadata": {
    "slideshow": {
     "slide_type": "slide"
    }
   },
   "source": [
    "***\n",
    "\n",
    "# Filtros digitales\n",
    "***\n",
    "\n",
    "Un **filtro** es un sistema cuyo objetivo es reducir o resaltar un cierto aspecto de una señal\n",
    "\n",
    "Por ejemplo\n",
    "\n",
    "- Disminuir el nivel de ruido\n",
    "- Separar señales mezcladas\n",
    "- Ecualizar\n",
    "- Restaurar (eliminar desenfoque o artefactos de grabación)\n",
    "\n",
    "Llamamos filtro digital a los filtros aplicados a señales digitales\n",
    "\n",
    "Hablamos de \"señal filtrada\" para referirnos a la salida del filtro\n",
    "\n",
    "A continuación estudiaremos filtros LTI, más adelante extenderemos a filtros adaptivos (no-TI) y filtros no-lineales (no-L)\n",
    "\n",
    "***\n",
    "\n",
    "El **filtro LTI** se puede estudiar en frecuencia usando \n",
    "\n",
    "$$\n",
    "Y[k] = H[k] X[k] ,\n",
    "$$\n",
    "\n",
    "donde $H[k]$ es la DFT del filtro (respuesta en frecuencia)\n",
    "\n",
    "- El **filtro LTI** actua como una máscara que modifica el espectro de la entrada\n",
    "- Solo puede acentuar, atenuar o remover ciertas frecuencias pero **nunca crear nuevas frecuencias**\n",
    "\n",
    "Consideremos los siguienes filtros (máscaras) ideales\n",
    "\n",
    "<img src=\"img/ideal_filters.gif\">"
   ]
  },
  {
   "cell_type": "markdown",
   "metadata": {
    "slideshow": {
     "slide_type": "slide"
    }
   },
   "source": [
    "***\n",
    "\n",
    "## Diseño de un filtro FIR: Método de la ventana\n",
    "\n",
    "\n",
    "Recordemos, un filtro FIR \n",
    "\n",
    "$$\n",
    "\\begin{align}\n",
    "y[n] &= h[0] x[n] + h[1] x[n-1] + h[2] x[n-2] + \\ldots + h[L] x[n-L] \\nonumber \\\\\n",
    "&= \\sum_{j=0}^{L} h[j] x[n-j] \\nonumber \\\\\n",
    "&= (h* x)[n] \\nonumber \n",
    "\\end{align}\n",
    "$$\n",
    "\n",
    "está definido por su orden (L) y sus coeficientes $h[j], j=0,\\ldots, L$\n",
    "***\n",
    "Diseñar un filtro consisten en encontrar L y los valores de los coeficientes\n",
    "***\n",
    "Podemos diseñar un filtro FIR siguiendo estos pasos\n",
    "\n",
    "1. Especificar una **respuesta en frecuencia** ideal $H_d[k]$\n",
    "1. Usar la transformada de Fourier inversa para obtener la **respuesta al impulso ideal** $h_d[n]$\n",
    "1. Truncar la respuesta al impulso ideal usando **una ventana** tal que $h[n] = h_d[n] w[n]$\n",
    "1. $h[n]$ nos da los coeficientes del filtro FIR y w[n] nos da el largo del filtro\n",
    "\n",
    "La ventana $w[n]$ puede ser cualquiera de las funciones vistas en la unidad anterior, por ejemplo una ventana rectangular\n",
    "\n",
    "$$\n",
    "w[n] = \\begin{cases} 1 & n \\leq L \\\\ 0 & n > L \\end{cases}\n",
    "$$\n",
    "\n",
    "o la ventana de Hann\n",
    "\n",
    "$$\n",
    "w[n] = 0.5 - 0.5 \\cos \\left( \\frac{2\\pi n}{L-1} \\right)\n",
    "$$\n",
    "\n"
   ]
  },
  {
   "cell_type": "markdown",
   "metadata": {
    "slideshow": {
     "slide_type": "subslide"
    }
   },
   "source": [
    "***\n",
    "\n",
    "### Ejemplo: Filtro pasa bajo (LPF)\n",
    "\n",
    "Un filtro pasa bajo es aquel que sólo deja pasar las **bajas** frecuencias\n",
    "\n",
    "Sus usos son:\n",
    "- Recuperar una tendencia o comportamiento lento en la señal\n",
    "- Eliminar el ruido aditivo\n",
    "\n",
    "Diseñemos un filtro que elimine todas las frecuencias mayores a $f_c$ [Hz] de una señal $x[n]$ muestreada con frecuencia $F_s$. \n",
    "\n",
    "1. Propongamos la siguiente respuesta en frecuencia ideal que solo deja pasar las frecuencias menores a $f_c$\n",
    "$$\n",
    "\\begin{align}\n",
    "H_d(\\omega) &= \\begin{cases} K & |f| < f_c\\\\ 0 & |f| > f_c \\end{cases} \\nonumber \\\\\n",
    "&= K \\text{rect}(f/f_c) \\nonumber \n",
    "\\end{align}\n",
    "$$\n",
    "\n",
    "1. Obtenemos su transformada de Fourier inversa\n",
    "$$\n",
    "\\begin{align}\n",
    "h_d(t) &= K \\int_{-f_c}^{f_c} e^{j 2 \\pi f t} df \\nonumber \\\\\n",
    "& = \\frac{2j K f_c}{2 j \\pi f_c t} \\sin(2 \\pi f_c t) = 2 K f_c \\text{sinc}(2 \\pi f_c t) \\nonumber \n",
    "\\end{align}\n",
    "$$\n",
    "que es una función infinitamente larga\n",
    "\n",
    "1. La versión discreta sería\n",
    "$$\n",
    "h_d[n] = 2 K f_c\\text{sinc}(2 \\pi f_c n/ F_s) \n",
    "$$\n",
    "\n",
    "1. Para obtener una respuesta al impulso finita multiplicamos por una ventana de largo finito\n",
    "\n",
    "$$\n",
    "h[n] = 2 K f_c \\text{sinc}(2 \\pi f_c n /F_s) \\text{rect}(n/(L+1))\n",
    "$$\n",
    "\n",
    "que implica esto en la respuesta en frecuencia real?\n"
   ]
  },
  {
   "cell_type": "code",
   "execution_count": null,
   "metadata": {
    "slideshow": {
     "slide_type": "fragment"
    }
   },
   "outputs": [],
   "source": [
    "plt.close('all'); fig, ax = plt.subplots(5, 2, figsize=(8, 9))\n",
    "n = np.arange(0, 100, step=1); \n",
    "f = fftpack.fftshift(fftpack.fftfreq(n=len(n), d=1))\n",
    "np.random.seed(0); C = 5*np.exp(-0.5*(n[:, np.newaxis] - n[:, np.newaxis].T)**2/10**2)\n",
    "x_clean = np.random.multivariate_normal(np.zeros_like(n), C)\n",
    "x_clean -= np.mean(x_clean)\n",
    "x = x_clean + 2*np.random.randn(len(n))\n",
    "def update(fc, L, window='rect'):\n",
    "    [axx.cla() for axx in ax.ravel()]\n",
    "    # Señal limpia\n",
    "    ax[0, 0].plot(n, x_clean); \n",
    "    ax[0, 1].plot(f, fftpack.fftshift(np.absolute(fftpack.fft(x_clean))))\n",
    "    ax[0, 0].set_title(\"Tiempo\"); ax[0, 1].set_title(\"Frecuencia\")    \n",
    "    # Señal contaminada\n",
    "    ax[1, 0].plot(n, x); ylims = ax[1, 0].get_ylim(); ax[0, 0].set_ylim(ylims)\n",
    "    X = fftpack.fft(x); \n",
    "    ax[1, 1].plot(f, fftpack.fftshift(np.absolute(X)))\n",
    "    # Filtro ideal\n",
    "    kc = int(len(n)*fc)\n",
    "    Hd = np.zeros_like(n, dtype=np.float); Hd[:kc] = 1.; Hd[len(Hd)-kc+1:] = 1.\n",
    "    ax[2, 1].plot(f, fftpack.fftshift(Hd))\n",
    "    hd = np.real(fftpack.ifftshift(fftpack.ifft(Hd)))\n",
    "    ax[2, 0].plot(n, hd)\n",
    "    # Filtro real\n",
    "    w = np.zeros_like(n, dtype=np.float); \n",
    "    if window == 'rect':\n",
    "        w[len(w)//2-L//2:len(w)//2+L//2+1] = 1.;\n",
    "    elif window == 'hann':\n",
    "        w[len(w)//2-L//2:len(w)//2+L//2+1] = scipy.signal.hann(L+1)\n",
    "    h = w*hd; H = fftpack.fft(h); \n",
    "    print(\"NMSE entre H y Hd %0.4f\" % (np.mean((np.absolute(H) - Hd)**2)/np.mean(Hd**2)))\n",
    "    ax[3, 0].plot(n, h);  ylims2 = ax[3, 0].get_ylim(); \n",
    "    ax[3, 0].plot(n, w, '--'); ax[3, 0].set_ylim(ylims2)\n",
    "    ax[3, 1].plot(f, fftpack.fftshift(np.absolute(H)))\n",
    "    # Señal filtrada\n",
    "    xf = scipy.signal.convolve(x, h, mode='same')\n",
    "    ax[4, 0].plot(n, np.real(xf)); \n",
    "    ax[4, 1].plot(f, fftpack.fftshift(np.absolute(fftpack.fft(xf)))); ax[4, 0].set_ylim(ylims)\n",
    "    \n",
    "interact(update, fc=FloatSlider_nice(min=0.01, max=0.5, step=0.01, value=0.1),\n",
    "         L=SelectionSlider_nice(options=[4, 6, 10, 20, 40, 60, 80], value=60),\n",
    "         window=SelectionSlider_nice(options=['rect', 'hann']));"
   ]
  },
  {
   "cell_type": "markdown",
   "metadata": {
    "slideshow": {
     "slide_type": "fragment"
    }
   },
   "source": [
    "- La respuesta en frecuencia \"ideal\" $H_d[k]$ es plana y tiene discontinuidades\n",
    "- La respuesta en frecuencia \"real\" $H[k]$ busca aproximar a $H_d[k]$\n",
    "- Observando $H[k]$ notamos que\n",
    "    - No tiene zonas perfectamente planas (ni es perfectamente zero)\n",
    "    - No tiene discontinuidades fuertes como el caso ideal\n",
    "- Esto se debe al recorte que hacemos con la ventana\n",
    "\n",
    "<img src=\"img/system-real-filter.png\" width=\"500\">\n",
    "\n",
    "- Podemos usar una ventana suave (Hann) para disminuir los *ripples* al costo de hacer más lenta las transiciones\n",
    "***\n",
    "El diseño del filtro está dado entonces por su\n",
    "- **Función:** Definida por la respuesta en frecuencia ideal $|H_d[k]| \\angle H_d[k]$ \n",
    "    - Podemos definir la magnitud o el ángulo dependiendo de la aplicación\n",
    "- **Fidelidad:** El error tolerable entre la respuesta en frecuencia ideal y la real\n",
    "***"
   ]
  },
  {
   "cell_type": "markdown",
   "metadata": {
    "slideshow": {
     "slide_type": "subslide"
    }
   },
   "source": [
    "***\n",
    "\n",
    "### Ejemplo: Filtro pasa alto (HPF)\n",
    "\n",
    "Un filtro pasa alto es aquel que sólo deja pasar las **altas** frecuencias\n",
    "\n",
    "Sus usos son:\n",
    "- Identificar cambios/detalles, es decir comportamientos rápidos en una señal\n",
    "- Eliminar tendencias\n",
    "\n",
    "Diseñemos un filtro que elimine todas las frecuencias menores a $f_c$ [Hz] de una señal $x[n]$ muestreada con frecuencia $F_s$. \n",
    "\n",
    "1. Propongamos la siguiente respuesta en frecuencia ideal que solo deja pasar las frecuencias **mayores** a $f_c$\n",
    "$$\n",
    "H_d(\\omega) = \\begin{cases} K & |f| \\geq f_c\\\\ 0 & |f| < f_c \\end{cases} \n",
    "$$\n",
    "\n",
    "1. Obtenemos su transformada de Fourier inversa\n",
    "$$\n",
    "\\begin{align}\n",
    "h_d(t) &= K \\int_{-\\infty}^{-f_c} e^{j 2 \\pi f t} df  + K \\int_{f_c}^{\\infty} e^{j 2 \\pi f t} df\\nonumber \\\\\n",
    "&= K \\int_{-\\infty}^{\\infty} e^{j 2 \\pi f t} df  - K \\int_{-f_c}^{f_c} e^{j 2 \\pi f t} df\\nonumber \\\\\n",
    "& = K \\delta(t) - 2 K f_c \\text{sinc}(2 \\pi f_c t) \\nonumber \n",
    "\\end{align}\n",
    "$$\n",
    "\n",
    "1. La versión discreta sería\n",
    "$$\n",
    "h_d[n] = K (\\delta[n] - 2 F_c\\text{sinc}(2 \\pi f_c n/ F_s) )\n",
    "$$\n",
    "\n",
    "1. Finalmente la hacemos finita multiplicando por una ventana de largo finito\n",
    "$$\n",
    "h[n] = K (\\delta[n] - 2 f_c\\text{sinc}(2 \\pi f_c n/ F_s) ) \\text{rect}(n/(L+1))\n",
    "$$\n",
    "\n",
    "***\n",
    "- Un filtro pasa alto se obtiene de forma trivial **restandole un filtro pasa bajo a un impulso unitario**\n",
    "- Este \"truco\" se conoce como  **inversión espectral**\n",
    "\n",
    "\n",
    "<img src=\"img/system-hpf.png\" width=\"400\">\n",
    "***\n"
   ]
  },
  {
   "cell_type": "markdown",
   "metadata": {
    "slideshow": {
     "slide_type": "subslide"
    }
   },
   "source": [
    "***\n",
    "\n",
    "### Ejemplo: Filtro pasa banda (BPF) y rechaza banda (BRF)\n",
    "\n",
    "- Como sus nombres lo indicam estos filtros \n",
    "    - Dejan pasar una cierta banda de frecuencia (BPF) o\n",
    "    - Dejan pasar todas las frecuencias excepto una banda determinada (BRF)\n",
    "- La banda de frecuencia está definida por sus frecuencias de corte mínima y máxima \n",
    "- Se pueden construir combinando el filtro pasa bajo y pasa alto\n",
    "\n",
    "**Filtro pasa banda**: \n",
    "Para recuperar solo una cierta banda de frecuencia seguimos:\n",
    "1. Definir frecuencias de corte $f_{c1} < f_{c2}$\n",
    "- Construir un filtro pasa bajo con frecuencia de corte $f_{c2}$\n",
    "- Convolucionar la señal con la respuesta al impulso resultante\n",
    "- Construir un filtro pasa alto con frecuencia de corte $f_{c1}$\n",
    "- Convolucionar la señal filtrada con la respuesta al impulso resultante\n",
    "\n",
    "<img src=\"img/system-bpf.png\" width=\"400\">\n",
    "\n",
    "**Filtro rechazabanda**: \n",
    "Para eliminar una cierta banda de frecuencia seguimos:\n",
    "1. Definir frecuencias de corte $f_{c1} > f_{c2}$\n",
    "- Construir un filtro pasa bajo con frecuencia de corte $f_{c2}$\n",
    "- Construir un filtro pasa alto con frecuencia de corte $f_{c1}$\n",
    "- Sumar ambos las respuestas al impulso de ambos filtros\n",
    "- Convolucionar la señal con la respuesta al impulso resultante\n",
    "\n",
    "<img src=\"img/system-rbf.png\" width=\"400\">"
   ]
  },
  {
   "cell_type": "markdown",
   "metadata": {
    "slideshow": {
     "slide_type": "fragment"
    }
   },
   "source": [
    "Respuesta en frecuencia de un filtro:\n",
    "\n",
    "`scipy.signal.freqz(b, a=1, worN=512, whole=False, plot=None)`\n",
    "- b (arreglo): coeficientes del numerador de $H[k]$\n",
    "- a (arreglo): coeficientes del denominador de $H[k]$"
   ]
  },
  {
   "cell_type": "code",
   "execution_count": null,
   "metadata": {
    "slideshow": {
     "slide_type": "fragment"
    }
   },
   "outputs": [],
   "source": [
    "plt.close('all'); fig, ax = plt.subplots(4, figsize=(8, 8), tight_layout=True)\n",
    "\n",
    "def low_pass_h(L, fc, fs):\n",
    "    h = np.sinc(2*fc*np.arange(-L//2, L//2)/fs) \n",
    "    return h/np.sum(h) # ganancia unitaria K = 1/(2fc sum h)\n",
    "\n",
    "L = 200+1; fc_lp, fc_hp, fs = 2, 3, 10\n",
    "h_lp = low_pass_h(L, fc_lp, fs)\n",
    "h_hp = -low_pass_h(L, fc_hp, fs); h_hp[L//2+1] += 1\n",
    "\n",
    "h = h_lp\n",
    "# h = h_hp + h_lp\n",
    "# h = scipy.signal.convolve(h_hp, h_lp)\n",
    "\n",
    "ax[0].plot(h); ax[0].set_ylabel(\"h[n]\")\n",
    "freq, response = scipy.signal.freqz(h)\n",
    "\n",
    "ax[1].plot(0.5*fs*freq/np.pi, np.abs(response));\n",
    "ax[2].plot(0.5*fs*freq/np.pi, np.unwrap(np.angle(response)));\n",
    "freq, delay = scipy.signal.group_delay((h, 1))\n",
    "ax[3].plot(0.5*fs*freq/np.pi, delay); ax[3].set_ylabel(\"Retardo\")\n",
    "ax[3].set_ylim([-50, 150])\n",
    "ax[1].set_ylabel(\"|H[k]|\"); ax[2].set_ylabel(\"angle H[k]\"); "
   ]
  },
  {
   "cell_type": "code",
   "execution_count": null,
   "metadata": {
    "slideshow": {
     "slide_type": "subslide"
    }
   },
   "outputs": [],
   "source": [
    "import soundfile as of\n",
    "data, sample_rate = sf.read(\"data/nomekop.ogg\")\n",
    "plt.close('all'); fig, ax = plt.subplots(1, figsize=(8, 3))\n",
    "freq, ttime, Sxx = scipy.signal.spectrogram(data, fs=sample_rate, window=('tukey', 0.25), \n",
    "                                            nperseg=256, noverlap=None, detrend=False,\n",
    "                                            return_onesided=True, scaling='density', mode='magnitude')\n",
    "ax.pcolormesh(ttime, freq, 20*np.log10(Sxx+1e-4), cmap=plt.cm.magma); ax.set_ylim([0.0, 1e+4]);\n",
    "Audio(data, rate=int(sample_rate))"
   ]
  },
  {
   "cell_type": "markdown",
   "metadata": {
    "slideshow": {
     "slide_type": "fragment"
    }
   },
   "source": [
    "`scipy.signal.firwin(numtaps, cutoff, width=None, window='hamming', pass_zero=True, scale=True, nyq=None, fs=None)`\n",
    "- numtaps (entero): Largo del filtro \n",
    "- cutoff (arreglo flotante): frecuencias de corte\n",
    "- window (string): tipo de ventana\n",
    "- pass_zero (bool): pasa bajo o pasa alto\n",
    "- fs (flotante): Frecuencia de muestreo"
   ]
  },
  {
   "cell_type": "code",
   "execution_count": null,
   "metadata": {
    "slideshow": {
     "slide_type": "fragment"
    }
   },
   "outputs": [],
   "source": [
    "h = scipy.signal.firwin(numtaps=1000+1, cutoff=[200, 500], \n",
    "                        pass_zero=False, window='hann',\n",
    "                        fs=sample_rate)\n",
    "\n",
    "plt.close('all'); fig = plt.figure(figsize=(8, 6))\n",
    "ax1 = plt.subplot2grid((2, 2 ), (0, 0)); ax1.set_title(\"Respuesta al impulso\")\n",
    "ax2 = plt.subplot2grid((2, 2 ), (0, 1)); ax2.set_title(\"Respuesta en frecuencia\")\n",
    "ax3 = plt.subplot2grid((2, 2 ), (1, 0), colspan=2, rowspan=1)\n",
    "\n",
    "freq, response = scipy.signal.freqz(h)\n",
    "ax1.plot(h); ax2.semilogy(0.5*sample_rate*freq/np.pi, np.abs(response));\n",
    "data_filt = scipy.signal.convolve(data, h)\n",
    "freq, ttime, Sxx = scipy.signal.spectrogram(data_filt, fs=sample_rate, window=('tukey', 0.25), \n",
    "                                            nperseg=256, noverlap=None, detrend=False,\n",
    "                                            return_onesided=True, scaling='density', mode='magnitude')\n",
    "ax3.pcolormesh(ttime, freq, 20*np.log10(Sxx+1e-4), cmap=plt.cm.magma); ax3.set_ylim([0.0, 1e+4]);\n",
    "Audio(data_filt, rate=int(sample_rate))"
   ]
  },
  {
   "cell_type": "markdown",
   "metadata": {
    "slideshow": {
     "slide_type": "subslide"
    }
   },
   "source": [
    "***\n",
    "\n",
    "### Filtro FIR con respuesta en frecuencia arbitraria\n",
    "\n",
    "Consideremos un filtro FIR \n",
    "- De orden $L$ (par) con $L+1$ coeficientes \n",
    "- Centrado en el origen (cero fase)\n",
    "- Con respuesta al impulso simétrica: $h_{n} = h_{-n}$\n",
    "\n",
    "Podemos escribir su respuesta en frecuencia como \n",
    "\n",
    "$$\n",
    "H[k] = \\sum_{n=-L/2}^{L/2} h[n] e^{-j \\frac{2\\pi}{N} k n} = h[0] + \\sum_{n=1}^{L/2} h[n]\\cos \\left(\\frac{2\\pi}{N} k n\\right)\n",
    "$$\n",
    "que para $k=0, \\ldots, N-1$ en forma matricial es\n",
    "\n",
    "$$ \n",
    "\\begin{align} \n",
    "\\begin{pmatrix} H[0] \\\\ H[1] \\\\ H[2] \\\\ \\vdots \\\\ H[N-1] \\\\ \\end{pmatrix} \n",
    "&= \n",
    "\\begin{pmatrix} \n",
    "1 & 1 & 1 & \\cdots & 1 \\\\ \n",
    "1 & \\cos \\left(\\frac{2\\pi}{N} \\right) & \\cos \\left(\\frac{2\\pi}{N} 2\\right) & \\cdots & \\cos \\left(\\frac{2\\pi}{N} L/2\\right) \\\\ \n",
    "1 & \\cos \\left(\\frac{2\\pi}{N} 2 \\right) & \\cos \\left(\\frac{2\\pi}{N} 4 \\right) & \\cdots & \\cos \\left(\\frac{2\\pi}{N} 2 L/2\\right) \\\\ \n",
    "\\vdots & \\dots & \\dots & \\ddots & \\vdots \\\\ \n",
    "1 & \\cos \\left(\\frac{2\\pi}{N} (N-1)\\right) & \\cos \\left(\\frac{2\\pi}{N} (N-1) 2\\right) & \\cdots & \\cos \\left(\\frac{2\\pi}{N} (N-1) L/2\\right) \\\\ \n",
    "\\end{pmatrix} \n",
    "\\begin{pmatrix} h[0] \\\\ h[1] \\\\ h[2] \\\\ \\vdots \\\\ h[L/2] \\\\ \\end{pmatrix} \\nonumber \\\\\n",
    "H &= A h, \\nonumber\n",
    "\\end{align} \n",
    "$$\n",
    "\n",
    "donde $A \\in \\mathbb{R}^{NxL/2}$\n",
    "\n",
    "Si especificamos $H$ podemos despejar $h$ pero no podemos invertir A ya que no es cuadrada.\n",
    "***\n",
    "Una alternativa es buscar $\\hat h \\approx h$ que minimice el error cuadrático medio\n",
    "\n",
    "$$\n",
    "\\min_h \\| H - Ah\\|^2,\n",
    "$$\n",
    "derivando e igualando a cero obtenemos el sistema de **ecuaciones normales**\n",
    "\n",
    "$$\n",
    "\\begin{align}\n",
    "\\frac{d}{dh} \\| H - Ah\\|^2 &= 0 \\nonumber \\\\\n",
    "- 2 A^T (H - Ah) &= 0 \\nonumber \\\\\n",
    "A^T A h &= A^T H \\nonumber \\\\\n",
    "\\hat h &= (A^T A)^{-1} A^T H  \\nonumber \\\\\n",
    "\\hat h &= A^{\\dagger} H, \\nonumber\n",
    "\\end{align}\n",
    "$$\n",
    "\n",
    "donde \n",
    "- $A^{\\dagger} = (A^T A)^{-1} A^T$ se conoce como la pseudo-inversa de A\n",
    "- $\\hat h$ se conoce como el **estimador de mínimos cuadrados** de h\n",
    "\n",
    "***"
   ]
  },
  {
   "cell_type": "markdown",
   "metadata": {
    "slideshow": {
     "slide_type": "subslide"
    }
   },
   "source": [
    "`scipy.signal.firls(numtaps, bands, desired, weight=None, nyq=None, fs=None)`\n",
    "\n",
    "- numtaps (entero impar): número de coeficientes\n",
    "- bands: secuencia creciente de frecuencias\n",
    "- desired: secuencia creciente de ganancias\n",
    "- fs (flotante): Frecuencia de muestreo"
   ]
  },
  {
   "cell_type": "code",
   "execution_count": null,
   "metadata": {
    "slideshow": {
     "slide_type": "fragment"
    }
   },
   "outputs": [],
   "source": [
    "# Estimador de minimos cuadrados para filtro FIR usando scipy.signal\n",
    "h = scipy.signal.firls(numtaps=1000+1, \n",
    "                       bands=(0., 640, 650, 2340, 2350, 2750, 2760, sample_rate//2), \n",
    "                       desired=(5., 5., 0., 0., 1., 1., 0., 0.), fs=sample_rate)\n",
    "\n",
    "plt.close('all'); fig = plt.figure(figsize=(8, 6))\n",
    "ax1 = plt.subplot2grid((2, 2 ), (0, 0)); ax1.set_title(\"Respuesta al impulso\")\n",
    "ax2 = plt.subplot2grid((2, 2 ), (0, 1)); ax2.set_title(\"Respuesta en frecuencia\")\n",
    "ax3 = plt.subplot2grid((2, 2 ), (1, 0), colspan=2, rowspan=1)\n",
    "\n",
    "freq, response = scipy.signal.freqz(h)\n",
    "ax1.plot(h); ax2.semilogy(0.5*sample_rate*freq/np.pi, np.abs(response));\n",
    "data_filt = scipy.signal.convolve(data, h)\n",
    "freq, ttime, Sxx = scipy.signal.spectrogram(data_filt, fs=sample_rate, window=('tukey', 0.25), \n",
    "                                            nperseg=256, noverlap=None, detrend=False,\n",
    "                                            return_onesided=True, scaling='density', mode='magnitude')\n",
    "ax3.pcolormesh(ttime, freq, 20*np.log10(Sxx+1e-4), cmap=plt.cm.magma); ax3.set_ylim([0.0, 1e+4]);\n",
    "Audio(data_filt, rate=int(sample_rate))"
   ]
  },
  {
   "cell_type": "markdown",
   "metadata": {
    "slideshow": {
     "slide_type": "skip"
    }
   },
   "source": [
    "[&larr; Volver al índice](#index)"
   ]
  },
  {
   "cell_type": "markdown",
   "metadata": {
    "slideshow": {
     "slide_type": "slide"
    }
   },
   "source": [
    "Un filtro FIR de buena calidad puede requerir una gran cantidad de coeficientes\n",
    "\n",
    "Es posible implementar filtros más eficientes usando recursividad\n",
    "\n",
    "***\n",
    "<a id=\"section4\"></a>\n",
    "\n",
    "# Sistema IIR (infinite impulse response)\n",
    "\n",
    "***\n",
    "\n",
    "Generalizando el sistema FIR para incluir versiones pasadas de la salida y asumiendo $a[0] = 1$ llegamos a \n",
    "\n",
    "$$\n",
    "\\begin{align}\n",
    "y[n] &= b[0] x[n] + b[1] x[n-1] + b[2] x[n-2] + \\ldots + b[L] x[n-L]  \\nonumber \\\\\n",
    "& - a[1] y[n-1] - a[2] y[n-2] - \\ldots - a[M] y[n-M] \\nonumber \\\\\n",
    "&= \\sum_{l=0}^{L} b[l] x[n-l] - \\sum_{m=1}^{M} a[m] y[n-m]  \\nonumber  \\\\\n",
    "\\sum_{m=0}^{M} a[m] y[n-m] &= \\sum_{l=0}^{L} b[l] x[n-l] \\nonumber \\\\\n",
    "(a * y)[n] &= (b * x)[n], \\nonumber\n",
    "\\end{align}\n",
    "$$\n",
    "\n",
    "es decir dos convoluciones discretas que definen una **ecuación de diferencias**\n",
    "\n",
    "Este tipo de sistema se conoce como \n",
    "- sistema IIR (infinite impulse response)\n",
    "- sistema *auto-regresive moving average* (ARMA)\n",
    "    - autoregresivo de orden M: incluye valores pasados de la salida\n",
    "    - media movil de orden L+1: pondera el valor presente y pasados de la entrada\n",
    "\n",
    "¿Cuando se recupera un sistema FIR?\n",
    "\n",
    "R: Si $a[m] = 0$ para $m=[1, \\ldots, M]$"
   ]
  },
  {
   "cell_type": "markdown",
   "metadata": {
    "slideshow": {
     "slide_type": "subslide"
    }
   },
   "source": [
    "***\n",
    "\n",
    "## Respuesta en frecuencia del sistema IIR\n",
    "\n",
    "Aplicando la transformada de Fourier convertimos las convoluciones en multiplicaciones y encontramos la respuesta en frecuencia como\n",
    "\n",
    "$$\n",
    "\\begin{align}\n",
    "\\text{DFT}_N[(a * y)[n]] &= \\text{DFT}_N[(b * x)[n]] \\nonumber \\\\\n",
    "A[k] Y[k] &= B[k] X[k] \\nonumber \\\\\n",
    "H[k] = \\frac{Y[k]}{X[k]} &= \\frac{B[k]}{A[k]} = \\frac{ \\sum_{l=0}^L b[l]e^{-j \\frac{2\\pi}{N} nl} }{ \\sum_{m=0}^M a[m]e^{-j \\frac{2\\pi}{N} mk}} \\nonumber\n",
    "\\end{align}\n",
    "$$\n",
    "siempre que $A[k] \\neq 0$. \n",
    "\n",
    "Se llega a un resultado equivalente usando la propiedad de traslación de la DFT\n",
    "\n",
    "$$\n",
    "\\begin{align}\n",
    "\\text{DFT}_N\\left[\\sum_{m=0}^{M} a[m] y[n-m]\\right] &= \\text{DFT}_N\\left[\\sum_{l=0}^{L} b[l] x[n-l]\\right] \\nonumber \\\\\n",
    "\\sum_{m=0}^{M} a[m] \\mathbb{DFT}_N\\left[y[n-m]\\right] &= \\sum_{l=0}^{L} b[l] \\mathbb{DFT}_N\\left[x[n-l]\\right] \\nonumber \\\\\n",
    "\\sum_{m=0}^{M} a[m] Y[k] e^{-j \\frac{2\\pi}{N} km} &= \\sum_{l=0}^{L} b[l] X[k] e^{-j \\frac{2\\pi}{N} kl} \\nonumber \\\\\n",
    "Y[k] \\sum_{m=0}^{M} a[m] e^{-j \\frac{2\\pi}{N} km} &= X[k] \\sum_{l=0}^{L} b[l] e^{-j \\frac{2\\pi}{N} kl} \\nonumber \\\\\n",
    "H[k] = \\frac{Y[k]}{X[k]} &= \\frac{ \\sum_{l=0}^L b[l]e^{-j \\frac{2\\pi}{N} lk} }{ \\sum_{m=0}^M a[m]e^{-j \\frac{2\\pi}{N} mk}} \\nonumber\n",
    "\\end{align}\n",
    "$$\n",
    "\n",
    "que también puede expresarse de forma alternativa como \n",
    "\n",
    "$$\n",
    "H[k] = K \\frac{ \\prod_{l=1}^L (e^{j \\frac{2\\pi}{N} k}- \\beta[l]) }{ \\prod_{m=1}^M (e^{j \\frac{2\\pi}{N} k}- \\alpha[m])} \n",
    "$$\n",
    "\n",
    "donde $K$ es la **ganancia** y las raices de los polinomios se llaman **ceros** (numerador) y **polos** (denominador)"
   ]
  },
  {
   "cell_type": "markdown",
   "metadata": {
    "slideshow": {
     "slide_type": "subslide"
    }
   },
   "source": [
    "### Ejemplo:\n",
    "\n",
    "Consideremos el siguiente sistema IIR \n",
    "\n",
    "$$\n",
    "\\begin{align}\n",
    "y[n] &= (1-\\gamma) x[n] + \\gamma y[n-1] \\nonumber \\\\\n",
    "y[n] - \\gamma y[n-1] &= (1-\\gamma) x[n] \\nonumber\n",
    "\\end{align}\n",
    "$$\n",
    "\n",
    "¿Cuántos coeficientes tiene este sistema?\n",
    "\n",
    "R: $a[0] = 1$, $a[1] = -\\gamma$ y $b[0] = (1-\\gamma)$, es decir MA de orden 1 y AR de orden 1\n",
    "\n",
    "¿Cúal es su respuesta al impulso? (asumiendo $y[n]=0, n<0$)\n",
    "\n",
    "$$\n",
    "\\begin{matrix}\n",
    "n & \\delta[n] & y[n] \\\\\n",
    "-2 & 0 & 0 \\\\\n",
    "-1 & 0 & 0 \\\\\n",
    "0 & 1 & (1-\\gamma) \\\\\n",
    "1 & 0 & \\gamma(1-\\gamma) \\\\\n",
    "2 & 0 & \\gamma^2(1-\\gamma)  \\\\\n",
    "3 & 0 & \\gamma^3(1-\\gamma) \\\\\n",
    "4 & 0 & \\gamma^4(1-\\gamma) \\\\\n",
    "\\end{matrix}\n",
    "$$\n",
    "\n",
    "¿Qué pasa si $\\gamma \\geq 1$?"
   ]
  },
  {
   "cell_type": "code",
   "execution_count": null,
   "metadata": {
    "scrolled": true,
    "slideshow": {
     "slide_type": "fragment"
    }
   },
   "outputs": [],
   "source": [
    "plt.close('all'); fig, ax = plt.subplots(1, figsize=(9, 5))\n",
    "\n",
    "def update(gamma):\n",
    "    t, y = scipy.signal.dimpulse(([1-gamma, 0], [1, -gamma], 1), x0=0, n=30)\n",
    "    ax.cla(); ax.plot(t, y[0], lw=4); \n",
    "\n",
    "interact(update, gamma=FloatSlider_nice(min=-1.1, max=2.1, step=0.01), msg_throttle=1);"
   ]
  },
  {
   "cell_type": "markdown",
   "metadata": {
    "slideshow": {
     "slide_type": "fragment"
    }
   },
   "source": [
    "- La respuesta al impulso puede tender a infinito!\n",
    "- A diferencia de un sistema FIR el sistema IIR puede tener una configuración\n",
    "    - Estable: $h$ tiende a cero\n",
    "    - Condicionalmente estable: $h$ oscila a una taza constante\n",
    "    - Inestable: $h$ crece/decrece infinitamente\n",
    "\n",
    "Consideremos el sistema anterior y asumamos que $|\\gamma|<1$, desenrollando tenemos que \n",
    "\n",
    "$$\n",
    "\\begin{align}\n",
    "y[0] &= (1-\\gamma) x[0] \\nonumber \\\\\n",
    "y[1] &= (1-\\gamma) (x[1] + \\gamma x[0]) \\nonumber \\\\\n",
    "y[2] &= (1-\\gamma) (x[2] + \\gamma x[1] + \\gamma^2 x[0]) \\nonumber \\\\\n",
    "y[3] &= (1-\\gamma) (x[3] + \\gamma x[2] + \\gamma^2 x[1] + \\gamma^3 x[0]) \\nonumber \\\\\n",
    "y[4] &= (1-\\gamma) (x[4] + \\gamma x[3] + \\gamma^2 x[2] + \\gamma^3 x[1]  + \\gamma^4 x[0]) \\nonumber \\\\\n",
    "y[5] &= \\ldots \\nonumber \n",
    "\\end{align}\n",
    "$$\n",
    "\n",
    "Con un sistema IIR de 3 coeficientes podemos representar un sistema FIR considerablemente más grande\n",
    "\n",
    "Por ejemplo si escogemos $\\gamma$ tal que $\\gamma^{20 }\\approx 0$ entonces aproximamos un sistema FIR de orden 20"
   ]
  },
  {
   "cell_type": "markdown",
   "metadata": {
    "slideshow": {
     "slide_type": "fragment"
    }
   },
   "source": [
    "Por otra parte la respuesta en frecuencia de este sistema\n",
    "\n",
    "$$\n",
    "\\begin{align}\n",
    "Y[k] &= (1-\\gamma) X[k] + \\gamma Y[k] e^{-j \\frac{2\\pi}{N} k} \\nonumber \\\\\n",
    "H[k] = \\frac{Y[k]}{X[k]} &= \\frac{1-\\gamma}{1 - \\gamma e^{-j \\frac{2\\pi}{N} k} } = (1-\\gamma)\\frac{e^{j \\frac{2\\pi}{N} k} - 0}{e^{j \\frac{2\\pi}{N} k} - \\gamma  } \\nonumber \n",
    "\\end{align}\n",
    "$$\n",
    "\n",
    "que tiene un cero en $0$, un polo en $\\gamma$ y ganancia $1-\\gamma$\n",
    "\n",
    "Para entender mejor este sistema estudiemos la magnitud de $|H[k]|$ para $\\gamma < 1$\n",
    "\n",
    "$$\n",
    "\\begin{align}\n",
    "| H[k]| &= \\frac{|1-\\gamma|}{|1 - \\gamma e^{-j \\frac{2\\pi}{N} k}|}  \\nonumber \\\\\n",
    "&=  \\frac{1-\\gamma}{\\sqrt{1 - 2\\gamma \\cos(\\frac{2\\pi}{N} k) + \\gamma^2}} \\nonumber\n",
    "\\end{align}\n",
    "$$\n",
    "\n",
    "¿Cómo se ve $|H[k]|$? ¿Qué función cumple este sistema?"
   ]
  },
  {
   "cell_type": "code",
   "execution_count": null,
   "metadata": {
    "slideshow": {
     "slide_type": "fragment"
    }
   },
   "outputs": [],
   "source": [
    "plt.close('all'); fig, ax = plt.subplots(1, figsize=(9, 5))\n",
    "k = np.arange(-24, 25)/50\n",
    "Hk = lambda gamma, k : (1-gamma)/np.sqrt(1 - 2*gamma*np.cos(2.0*np.pi*k) + gamma**2)\n",
    "l = ax.plot(k, np.zeros_like(k), lw=4); ax.set_ylim([-0.05, 1.05]); ax.set_xlabel('Frequency')\n",
    "def update(gamma):\n",
    "    l[0].set_ydata(Hk(gamma, k));\n",
    "    ax.set_title(r\"$\\gamma$: %0.2f\" %(gamma))\n",
    "interact(update, gamma=FloatSlider_nice(min=0., max=0.99, step=0.01), msg_throttle=1);"
   ]
  },
  {
   "cell_type": "markdown",
   "metadata": {
    "slideshow": {
     "slide_type": "fragment"
    }
   },
   "source": [
    "- Este sistema actua como filtro pasa bajo!"
   ]
  },
  {
   "cell_type": "markdown",
   "metadata": {
    "slideshow": {
     "slide_type": "slide"
    }
   },
   "source": [
    "## Diseño de filtros IIR simples\n",
    "\n",
    "Los filtros IIR más simples son los de un polo y un cero\n",
    "\n",
    "$$\n",
    "H[k] = \\frac{b[0] + b[1] e^{-j \\frac{2\\pi}{N} k}}{1 + a[1] e^{-j \\frac{2\\pi}{N} k}}  = K\\frac{e^{j \\frac{2\\pi}{N} k} - \\beta}{e^{j \\frac{2\\pi}{N} k} - \\alpha  } \n",
    "$$\n",
    "\n",
    "donde podemos reconocer $b[0]=K$, $\\beta = - b[1]K$ y $\\alpha=-a[1]$\n",
    "\n",
    "- Definimos la frecuencia de corte $f_c$ como aquella frecuencia en la que el filtro alcanza una atenuación de 0.7 (-3 dB)\n",
    "- En este caso $\\gamma = e^{-2\\pi f_c}$\n",
    "\n",
    "**Receta para un filtro pasa bajo IIR con frecuencia de corte $f_c$**\n",
    "\n",
    "- $b[0] = 1 - e^{-2\\pi f_c}$\n",
    "- $b[1] = 0$\n",
    "- $a[1] = -e^{-2\\pi f_c}$\n",
    "\n",
    "$$\n",
    "H[k] = \\frac{1-e^{-2\\pi f_c}}{1 - e^{-2\\pi f_c} e^{-j \\frac{2\\pi}{N} k}} = (1-e^{-2\\pi f_c}) \\frac{(e^{j \\frac{2\\pi}{N} k}- 0)}{(e^{j \\frac{2\\pi}{N} k} - e^{-2\\pi f_c} )}\n",
    "$$\n",
    "- Un cero en $0$, un polo en $e^{-2\\pi f_c}$ y ganancia $1-e^{-2\\pi f_c}$\n",
    "\n",
    "**Receta para un filtro pasa alto IIR con frecuencia de corte $f_c$**\n",
    "- $b[0] = (1 + e^{-2\\pi f_c})/2$\n",
    "- $b[1] = -(1 + e^{-2\\pi f_c})/2$\n",
    "- $a[1] = -e^{-2\\pi f_c}$\n",
    "\n",
    "$$\n",
    "H[k] = \\frac{1+e^{-2\\pi f_c}}{2} \\frac{(e^{j \\frac{2\\pi}{N} k} - 1)}{(e^{j \\frac{2\\pi}{N} k} - e^{-2\\pi f_c})}\n",
    "$$\n",
    "- Un cero en $1$, un polo en $e^{-2\\pi f_c}$ y ganancia $\\frac{1+e^{-2\\pi f_c}}{2}$\n",
    "\n"
   ]
  },
  {
   "cell_type": "code",
   "execution_count": null,
   "metadata": {
    "slideshow": {
     "slide_type": "fragment"
    }
   },
   "outputs": [],
   "source": [
    "plt.close('all'); fig, ax = plt.subplots(3, figsize=(9, 7))\n",
    "\n",
    "def update(fc):\n",
    "    gamma = np.exp(2*np.pi*fc)\n",
    "    b, a = [(1-gamma), 0], [1, -gamma]\n",
    "    #gamma = np.exp(-2*np.pi*(fc))\n",
    "    #b, a = [(1+gamma)/2, -(1+gamma)/2], [1, -gamma]\n",
    "    freq, response = scipy.signal.freqz(b, a)\n",
    "    ax[0].cla(); ax[0].plot(0.5*freq/np.pi, np.abs(response))\n",
    "    ax[0].set_ylabel('Espectro de\\n magnitud')\n",
    "    ax[1].cla(); ax[1].plot(0.5*freq/np.pi, np.unwrap(np.angle(response)));\n",
    "    ax[1].set_ylabel('Espectro de\\n ángulo')\n",
    "    freq, delay = scipy.signal.group_delay(system=(b, a))\n",
    "    ax[2].cla(); ax[2].plot(0.5*freq/np.pi, delay); ax[2].set_ylabel(\"Retardo\")\n",
    "\n",
    "interact(update, fc=FloatSlider_nice(min=0.01, max=0.49, step=0.01, value=0.01));"
   ]
  },
  {
   "cell_type": "markdown",
   "metadata": {
    "slideshow": {
     "slide_type": "fragment"
    }
   },
   "source": [
    "- Su retardo no es igual para todas las frecuencias! ¿Qué consecuencia tiene esto?\n"
   ]
  },
  {
   "cell_type": "markdown",
   "metadata": {
    "slideshow": {
     "slide_type": "fragment"
    }
   },
   "source": [
    "Aplicar un filtro a una señal:\n",
    "\n",
    "`scipy.signal.lfilter(b, a, x, axis=-1, zi=None)`\n",
    "- b (arreglo): coeficientes del numerador\n",
    "- a (arreglo): coeficientes del denominador\n",
    "- x (arreglo): señal de entrada"
   ]
  },
  {
   "cell_type": "code",
   "execution_count": null,
   "metadata": {
    "slideshow": {
     "slide_type": "fragment"
    }
   },
   "outputs": [],
   "source": [
    "plt.close('all'); fig, ax = plt.subplots(2, figsize=(8, 7))\n",
    "fc = 0.05; gamma = np.exp(-2*np.pi*(fc))\n",
    "# b, a = [(1-gamma), 0], [1, -gamma]  # Low Pass\n",
    "b, a = [(1+gamma)/2, -(1+gamma)/2], [1, -gamma]  # High pass\n",
    "n = np.arange(0, 500)\n",
    "l0 = ax[0].plot(n, np.zeros_like(n)); ax[0].set_ylim([-0.05, 1.05]); ax[0].set_title('Input')\n",
    "l1 = ax[1].plot(n, np.zeros_like(n)); ax[1].set_ylim([-0.5, 1.05]); ax[1].set_title('Output')\n",
    "\n",
    "def update(m):\n",
    "    x = 0.5 + 0.5*scipy.signal.square((n-m)/(2.*np.pi*5), duty=0.3)\n",
    "    l0[0].set_ydata(x);\n",
    "    y = scipy.signal.lfilter(b, a, x)\n",
    "    l1[0].set_ydata(y);\n",
    "\n",
    "anim = animation.FuncAnimation(fig, update, frames=200, interval=100, blit=True); \n",
    "#plt.close(); HTML(anim.to_html5_video())"
   ]
  },
  {
   "cell_type": "markdown",
   "metadata": {
    "slideshow": {
     "slide_type": "skip"
    }
   },
   "source": [
    "# Diseño de filtros IIR de segundo orden\n",
    "\n",
    "Los filtros IIR de segundo orden o **biquad** tienen dos polos y dos ceros.\n",
    "\n",
    "Su respuesta en frecuencia es\n",
    "$$\n",
    "H[k] = \\frac{b[0] + b[1] W_N^k + b[2] W_N^{2k}}{1 + a[1] W_N^k + a[2] W_N^{2k}} = K \\frac{(W_N^{-k} - \\beta_1) (W_N^{-k} - \\beta_2)}{(W_N^{-k} - \\alpha_1)(W_N^{-k} - \\alpha_2)},\n",
    "$$\n",
    "donde $W_N = e^{-j \\frac{2 \\pi}{N}}$ y la relación entreo coeficientes y polos/ceros es: \n",
    "$$\n",
    "b[0] = K, \\quad b[1] = -K (\\beta_1 + \\beta_2), \\quad b[2]= K \\beta_1\\beta_2\n",
    "$$\n",
    "$$\n",
    "a[1] = - (\\alpha_1 + \\alpha_2), \\quad a[2]=\\alpha_1 \\alpha_2\n",
    "$$\n",
    "\n",
    "\n",
    "- Con arquitecturas de segundo orden se pueden crear filtros pasabanda y rechaza banda\n",
    "- Los filtros IIR de primer y segundo orden son menos propensos a inestabilidades\n",
    "- https://www.dsprelated.com/showarticle/1137.php\n"
   ]
  },
  {
   "cell_type": "code",
   "execution_count": null,
   "metadata": {
    "slideshow": {
     "slide_type": "skip"
    }
   },
   "outputs": [],
   "source": [
    "#https://www.slideshare.net/op205/basics-of-digital-filters-presentation\n",
    "\n",
    "plt.close('all'); fig, ax = plt.subplots(3, figsize=(8, 6))\n",
    "\n",
    "def update(fc1, fc2):\n",
    "    gamma1 = np.exp(-2*np.pi*fc1)\n",
    "    # gamma2 = np.exp(-2*np.pi*fc2)\n",
    "    # b, a = [(1-gamma), 0], [1, -gamma]\n",
    "    #b, a = [(1+gamma)/2, -(1+gamma)/2], [1, -gamma]\n",
    "    z = [1, -1]\n",
    "    p = [0.9*np.exp(-1j*2*np.pi*fc1), 0.9*np.exp(1j*2*np.pi*fc1)]\n",
    "    k=1\n",
    "    freq, response = scipy.signal.freqz_zpk(z=z, k=k, p=p)\n",
    "    ax[0].cla(); ax[0].plot(0.5*freq/np.pi, np.abs(response))\n",
    "    ax[0].set_ylabel('Espectro de\\n magnitud')\n",
    "    ax[1].cla(); ax[1].plot(0.5*freq/np.pi, np.unwrap(np.angle(response)));\n",
    "    ax[1].set_ylabel('Espectro de\\n ángulo')\n",
    "    #freq, delay = scipy.signal.group_delay(system=(b, a))\n",
    "    #ax[2].cla(); ax[2].plot(0.5*freq/np.pi, delay); ax[2].set_ylabel(\"Retardo\")\n",
    "\n",
    "interact(update, fc1=FloatSlider_nice(min=0.01, max=0.49, step=0.01, value=0.25),\n",
    "         fc2=FloatSlider_nice(min=0.01, max=0.49, step=0.01, value=0.3));"
   ]
  },
  {
   "cell_type": "markdown",
   "metadata": {
    "slideshow": {
     "slide_type": "slide"
    }
   },
   "source": [
    "# Diseño de filtros IIR de orden mayor\n",
    "\n",
    "Crear coeficientes de filtro IIR de orden mayor\n",
    "\n",
    "`scipy.signal.iirfilter(N, Wn, rp=None, rs=None, btype='bandpass', analog=False, ftype='butter', output='ba')`\n",
    "\n",
    "- N (entero): orden del filtro\n",
    "- Wn (arreglo): Frecuencias de corte (normalizadas en [0, 1])\n",
    "- btype (string): Tipo de filtro {'bandpass', 'lowpass', 'highpass', 'bandstop'}\n",
    "- ftype (string): Tipo de filtro {'butter', 'ellip', 'cheby1', 'cheby2', 'bessel'}\n",
    "- output (string): Tipo de retorno\n",
    "\n",
    "El filtro Butterworth ('butter') es óptimo en el sentido de tener la banda de paso lo más plana posible. Otros filtros se diseñaron con otras consideraciones. Los filtros IIR digitales están basados en los filtros IIR analógicos."
   ]
  },
  {
   "cell_type": "code",
   "execution_count": null,
   "metadata": {
    "slideshow": {
     "slide_type": "fragment"
    }
   },
   "outputs": [],
   "source": [
    "plt.close('all'); fig, ax = plt.subplots(3, figsize=(9, 7))\n",
    "\n",
    "def update(order, ftype):\n",
    "    b, a = scipy.signal.iirfilter(N=order, Wn=0.2, ftype=ftype, btype='lowpass', output='ba')\n",
    "    freq, response = scipy.signal.freqz(b, a)\n",
    "    ax[0].cla(); ax[0].plot(freq/np.pi, np.abs(response))\n",
    "    ax[0].set_ylabel('Espectro\\nde magnitud')\n",
    "    ax[1].cla(); ax[1].plot(freq/np.pi, np.unwrap(np.angle(response)));\n",
    "    ax[1].set_ylabel('Espectro\\nde ángulo')\n",
    "    freq, delay = scipy.signal.group_delay(system=(b, a))\n",
    "    ax[2].cla(); ax[2].plot(freq/np.pi, delay); ax[2].set_ylabel(\"Retardo\")\n",
    "    \n",
    "interact(update, order=SelectionSlider_nice(options=[1, 2, 3, 5, 10, 15, 25], value=1),\n",
    "         ftype=SelectionSlider_nice(options=['butter', 'bessel']));"
   ]
  },
  {
   "cell_type": "code",
   "execution_count": null,
   "metadata": {
    "scrolled": false,
    "slideshow": {
     "slide_type": "fragment"
    }
   },
   "outputs": [],
   "source": [
    "plt.close('all'); fig, ax = plt.subplots(2, figsize=(8, 6))\n",
    "\n",
    "b, a = scipy.signal.iirfilter(N=10, Wn=0.03, ftype='butter', btype='lowpass', output='ba')\n",
    "n = np.arange(0, 500)\n",
    "l0 = ax[0].plot(n, np.zeros_like(n)); ax[0].set_ylim([-0.05, 1.05]); ax[0].set_title('Input')\n",
    "l1 = ax[1].plot(n, np.zeros_like(n)); ax[1].set_ylim([-0.2, 1.2]); ax[1].set_title('Output')\n",
    "\n",
    "def update(m):\n",
    "    x = 0.5 + 0.5*scipy.signal.square((n-m)/(2.*np.pi*5), duty=0.3)\n",
    "    l0[0].set_ydata(x);\n",
    "    y = scipy.signal.lfilter(b, a, x)\n",
    "    #y = scipy.signal.filtfilt(b, a, x)\n",
    "    l1[0].set_ydata(y);\n",
    "\n",
    "anim = animation.FuncAnimation(fig, update, frames=200, interval=100, blit=True); \n",
    "#plt.close(); HTML(anim.to_html5_video())"
   ]
  },
  {
   "cell_type": "markdown",
   "metadata": {
    "slideshow": {
     "slide_type": "slide"
    }
   },
   "source": [
    "## Respuesta en frecuencia de filtros FIR e IIR del orden equivalente"
   ]
  },
  {
   "cell_type": "code",
   "execution_count": null,
   "metadata": {
    "slideshow": {
     "slide_type": "fragment"
    }
   },
   "outputs": [],
   "source": [
    "plt.close('all'); fig, ax = plt.subplots(2, 2, figsize=(9, 6))\n",
    "b, a = scipy.signal.iirfilter(N=20, Wn=0.2, ftype='butter', btype='lowpass', output='ba')\n",
    "h = scipy.signal.firwin(numtaps=20, cutoff=0.2, pass_zero=True, window='hann', fs=2)\n",
    "freq_fir, response_fir = scipy.signal.freqz(h, 1)\n",
    "freq_iir, response_iir = scipy.signal.freqz(b, a)\n",
    "\n",
    "ax[0, 0].set_title('Espectro\\nde magnitud'); ax[0, 1].set_title('Retardo')\n",
    "ax[0, 0].plot(freq_fir/np.pi, np.abs(response_fir))\n",
    "ax[1, 0].plot(freq_iir/np.pi, np.abs(response_iir)); \n",
    "ax[0, 0].set_ylabel('FIR'); ax[1, 0].set_ylabel('IIR'); \n",
    "freq_fir, delay_fir = scipy.signal.group_delay(system=(h, 1))\n",
    "ax[0, 1].plot(freq_fir/np.pi, delay_fir); ax[0, 1].set_ylim([np.mean(delay_fir)-1, np.mean(delay_fir)+1])\n",
    "freq_iir, delay_iir = scipy.signal.group_delay(system=(b, a))\n",
    "ax[1, 1].plot(freq_iir/np.pi, delay_iir); "
   ]
  },
  {
   "cell_type": "markdown",
   "metadata": {
    "slideshow": {
     "slide_type": "subslide"
    }
   },
   "source": [
    "# Efectos de audio: <a href=\"https://en.wikipedia.org/wiki/Wah-wah_(music)\">Wah-wah</a> \n",
    "\n",
    "- Filtro pasabanda modulado\n",
    "- Ancho de pasada fijo $f_b$ [Hz]\n",
    "- Frecuencia central variable $f_c$ [Hz]\n",
    "- La frecuencia central se modula con una onda lenta\n",
    "- Se modela como el siguiente sistema **IIR**\n",
    "$$\n",
    "H[k] = \\frac{(1+c)W_N^{2k} -(1+c) }{W_N^{2k} + d(1-c)W_N^k -c}\n",
    "$$\n",
    "donde $d=-\\cos(2\\pi f_c/f_s)$ y $c = \\frac{\\tan(\\pi f_b/f_s) -1}{\\tan(2\\pi f_b /f_s)+1}$\n",
    "\n",
    "\n",
    "\n",
    "Ref: https://www.ee.columbia.edu/~ronw/adst-spring2010/lectures/lecture2.pdf"
   ]
  },
  {
   "cell_type": "code",
   "execution_count": null,
   "metadata": {
    "slideshow": {
     "slide_type": "fragment"
    }
   },
   "outputs": [],
   "source": [
    "data, fs = sf.read(\"data/nomekop.ogg\")\n",
    "Audio(data, rate=int(fs))"
   ]
  },
  {
   "cell_type": "code",
   "execution_count": null,
   "metadata": {
    "slideshow": {
     "slide_type": "fragment"
    }
   },
   "outputs": [],
   "source": [
    "fb, N, Nw = 200, len(data), 5\n",
    "c  = (np.tan(np.pi*fb/fs) - 1.)/(np.tan(2*np.pi*fb/fs) +1)\n",
    "data_wah = []\n",
    "zi = np.zeros(shape=(2,))\n",
    "for k in range(int(N/Nw)+1):\n",
    "    fc = 500 + 2000*(np.cos(2.0*np.pi*k*30./fs) +1)/2\n",
    "    d = -np.cos(2*np.pi*fc/fs)\n",
    "    data2, zi = scipy.signal.lfilter([(1+c), 0, -(1+c)], [1, d*(1-c), -c], \n",
    "                                     x=data[k*Nw:(k+1)*Nw], zi=zi)\n",
    "    data_wah.append(data2)\n",
    "Audio(np.hstack(data_wah), rate=int(fs))"
   ]
  },
  {
   "cell_type": "code",
   "execution_count": null,
   "metadata": {},
   "outputs": [],
   "source": []
  },
  {
   "cell_type": "markdown",
   "metadata": {},
   "source": [
    "Design of recursive filters\n",
    "http://www-pagines.fib.upc.es/~pds/Lect06.pdf"
   ]
  },
  {
   "cell_type": "markdown",
   "metadata": {
    "slideshow": {
     "slide_type": "skip"
    }
   },
   "source": [
    "[&larr; Volver al índice](#index)"
   ]
  },
  {
   "cell_type": "markdown",
   "metadata": {
    "slideshow": {
     "slide_type": "skip"
    }
   },
   "source": [
    "<a id=\"section5\"></a>\n",
    "***\n",
    "\n",
    "# Generalizando la DFT: Transformada Z\n",
    "\n",
    "***\n",
    "\n",
    "Sea una señal muestrada como una secuencia finita $x[n]$, $n=0, \\ldots, N-1$\n",
    "\n",
    "Su **transformada Z** es \n",
    "\n",
    "$$\n",
    "X[z] = \\sum_{n=0}^{N-1} x[n] z^{-n},\n",
    "$$\n",
    "\n",
    "donde $z$ es un número complejo. Consideremos $z=r e^{j \\frac{2\\pi}{N} k}$ entonces\n",
    "\n",
    "$$\n",
    "X[z] = \\sum_{n=0}^{N-1} (x[n]r^{-n}) e^{-j \\frac{2\\pi}{N} nk},\n",
    "$$\n",
    "\n",
    "es decir que \n",
    "- la transformada Z es la DFT de la secuencia $x[n]r^{-n}$ \n",
    "- la transformada Z existe si $\\sum_n |x[n]r^{-n}| \\leq \\infty$\n",
    "- si $r=1$ entonces $z= e^{j \\frac{2\\pi}{N} k}$, y la transformada Z es equivalente a la DFT\n",
    "- la DFT es un caso particular de la transformada Z\n",
    "\n",
    "***\n",
    "\n",
    "### Propiedades \n",
    "\n",
    "Tres propiedades relevantes para nuestros propósitos son\n",
    "- Linealidad:  $Z\\{a x[n] +  b y[n]\\} = a X[z] + b Y[z]$\n",
    "- Convolución: $Z\\{x[n] * y[n]\\}  =  X[z] Y[z]$\n",
    "- Traslación: $X[z-m] = X[z]z^{-m}$ \n"
   ]
  },
  {
   "cell_type": "markdown",
   "metadata": {
    "slideshow": {
     "slide_type": "skip"
    }
   },
   "source": [
    "***\n",
    "\n",
    "# Función de transferencia de un sistema\n",
    "\n",
    "\n",
    "El sistema IIR general se define con la ecuación de diferencias\n",
    "\n",
    "$$\n",
    "\\sum_{m=0}^{M} a[m] y[n-m] = \\sum_{l=0}^{L} b[l] x[n-l],\n",
    "$$\n",
    "\n",
    "Aplicando transformada Z a ambos lados convertimos la ecuación de diferencias en polinomios\n",
    "\n",
    "$$\n",
    "\\begin{align}\n",
    "\\sum_{m=0}^{M} a[m] Y[z] z^{-m} &= \\sum_{l=0}^{L} b[l] X[z] z^{-l} \\nonumber \\\\\n",
    "Y[z] \\sum_{m=0}^{M} a[m]  z^{-m} &= X[z] \\sum_{l=0}^{L} b[l]  z^{-l}, \\nonumber \n",
    "\\end{align}\n",
    "$$\n",
    "despejando en la última ecuación tenemos\n",
    "$$\n",
    "\\frac{Y[z]}{X[z]} = H[z] =   \\frac{\\sum_{l=0}^{L} b[l] z^{-l} }{ \\sum_{m=0}^{M} a[m] z^{-m} } , \n",
    "$$\n",
    "donde $H[z]$ se conoce como **función de transferencia** del sistema y suele expresarse de las siguientes formas equivalentes\n",
    "\n",
    "$$\n",
    "H[z] = \\frac{\\sum_{l=0}^{L} b[l] z^{-l} }{ \\sum_{m=0}^{M} a[m] z^{-m} } = K \\frac{ \\prod_{l=1}^L (z-\\beta_l)}{ \\prod_{m=1}^M (z-\\alpha_m)},\n",
    "$$\n",
    "\n",
    "- Forma 1: En términos de los coeficientes $\\{a\\}_l$ y $\\{b\\}_m$ \n",
    "- Forma 2: En términos de la ganancia $K$ y las raices de los polinomios: los **polos** $\\{\\alpha\\}_l$ y los **ceros** $\\{\\beta\\}_m$ \n",
    "    - Un cero es una señal compleja que es atenuada por el sistema\n",
    "    - Un polo es una señal compleja que es amplificada por el sistema\n",
    "    - ...\n",
    "\n",
    "***\n",
    "La respuesta en frecuencia se obtiene de la función de transferencia haciendo\n",
    "\n",
    "$$\n",
    "H[k] = H[z=e^{j \\frac{2\\pi}{N} k} ]\n",
    "$$\n",
    "\n",
    "La función de transferencia es la transformada Z de la respuesta al impulso del sistema\n",
    "\n",
    "$$\n",
    "H[z] = \\sum_{n=0}^{N-1} h[n] z^{-n}\n",
    "$$\n",
    "\n",
    "\n",
    "***"
   ]
  },
  {
   "cell_type": "markdown",
   "metadata": {
    "slideshow": {
     "slide_type": "skip"
    }
   },
   "source": [
    "***\n",
    "\n",
    "**Ejemplo:** Para el sistema IIR que vimos anteriormente\n",
    "\n",
    "$$\n",
    "y[n] = (1-\\gamma) x[n] + \\gamma y[n-1]\n",
    "$$\n",
    "\n",
    "Aplicando transformada Z y obtenemos la siguiente función de transferencia\n",
    "\n",
    "$$\n",
    "\\begin{align}\n",
    "Y[z] &= (1-\\gamma) X[z] + \\gamma Y[z] z^{-1} \\nonumber \\\\\n",
    "H[z] = \\frac{Y[z]}{X[z]} &= (1-\\gamma) \\frac{1}{1 - \\gamma z^{-1}} = (1-\\gamma) \\frac{(z - 0)}{(z - \\gamma)} \\nonumber\n",
    "\\end{align}\n",
    "$$\n",
    "\n",
    "que tiene un polo en $\\gamma$, un cero en $0$ y ganancia $1-\\gamma$"
   ]
  },
  {
   "cell_type": "markdown",
   "metadata": {
    "slideshow": {
     "slide_type": "skip"
    }
   },
   "source": [
    "### Filtro pasa todo (all pass filter)\n",
    "\n",
    "aplicacion definiendo el angulo\n",
    "\n",
    "- https://www.dsprelated.com/freebooks/filters/Allpass_Filters.html\n",
    "- http://www.dspguide.com/ch20/2.htm\n",
    "- http://www.dspguide.com/ch22.htm\n",
    "- http://www.dspguide.com/ch33.htm\n",
    "- https://ccrma.stanford.edu/~nfram/220c/tvfilts.html\n",
    "- https://sound.eti.pg.gda.pl/student/eim/synteza/adamx/eindex.html\n",
    "- http://www.ee.ic.ac.uk/hp/staff/dmb/courses/DSPDF/00500_Filters.pdf"
   ]
  },
  {
   "cell_type": "code",
   "execution_count": null,
   "metadata": {
    "slideshow": {
     "slide_type": "skip"
    }
   },
   "outputs": [],
   "source": [
    "plt.close('all'); fig, ax = plt.subplots(2, figsize=(6, 4))\n",
    "n = np.arange(0, 400, step=1)\n",
    "x = np.sin(2.0*np.pi*20*n/len(n)) + 0.25*np.random.randn(len(n))\n",
    "f = fftpack.fftshift(fftpack.fftfreq(d=1, n=len(n)))\n",
    "def update(L):\n",
    "    y = np.convolve(x, np.ones(shape=(L,))/L, mode='same')\n",
    "    ax[0].cla(); ax[0].plot(n, x, 'k.', n, y, 'r-'); \n",
    "    X = fftpack.fftshift(fftpack.fft(y*scipy.signal.hamming(len(n))))\n",
    "    ax[1].cla(); ax[1].plot(f, 2*np.absolute(X)/len(n)); \n",
    "interact(update, L=SelectionSlider_nice(options=[1, 2, 3, 4, 5, 10, 15, 20]));"
   ]
  }
 ],
 "metadata": {
  "celltoolbar": "Slideshow",
  "kernelspec": {
   "display_name": "Python 3",
   "language": "python",
   "name": "python3"
  },
  "language_info": {
   "codemirror_mode": {
    "name": "ipython",
    "version": 3
   },
   "file_extension": ".py",
   "mimetype": "text/x-python",
   "name": "python",
   "nbconvert_exporter": "python",
   "pygments_lexer": "ipython3",
   "version": "3.7.6"
  }
 },
 "nbformat": 4,
 "nbformat_minor": 2
}
