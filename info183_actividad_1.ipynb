{
 "cells": [
  {
   "cell_type": "markdown",
   "metadata": {},
   "source": [
    "# Actividad 1 INFO183\n",
    "\n",
    "Instrucciones:\n",
    "- Complete este cuadernillo jupyter con sus códigos y respuestas\n",
    "- Se trabajará en grupos de dos personas\n",
    "- Se entrega un cuadernillo por grupo\n",
    "- La entrega es a través de correo electrónico a phuijse@inf.uach.cl\n",
    "- La fecha de entrega es el Miércoles 10 de Octubre a las 23:59\n",
    "- Use las librerías `scipy`, `numpy` y `matplotlib`"
   ]
  },
  {
   "cell_type": "markdown",
   "metadata": {},
   "source": [
    "### Nombre completo integrantes: LLENAR AQUÍ"
   ]
  },
  {
   "cell_type": "code",
   "execution_count": null,
   "metadata": {},
   "outputs": [],
   "source": [
    "%matplotlib inline\n",
    "import matplotlib.pyplot as plt\n",
    "import numpy as np\n",
    "import scipy"
   ]
  },
  {
   "cell_type": "markdown",
   "metadata": {},
   "source": [
    "# 1) Transformada de Fourier de coseno y seno"
   ]
  },
  {
   "cell_type": "markdown",
   "metadata": {},
   "source": [
    "Considere un vector de tiempo con duración 10 segundos y frecuencia de muestreo 100 Hz\n",
    "\n",
    "Calcule la transformada de Fourier de $x$"
   ]
  },
  {
   "cell_type": "code",
   "execution_count": null,
   "metadata": {},
   "outputs": [],
   "source": [
    "t = np.arange(0.0, 10.0, step=0.01)\n",
    "x = np.cos(2.0*np.pi*t)\n",
    "plt.figure()\n",
    "plt.plot(t, x);"
   ]
  },
  {
   "cell_type": "markdown",
   "metadata": {},
   "source": [
    "Muestre graficamente\n",
    "- La parte real de la transformada\n",
    "- La parte imaginaria de la transformada\n",
    "- El valor absoluto de la transformada\n",
    "- El ángulo de la transformada\n",
    "\n",
    "Indique el valor absoluto y el ángulo para la frecuencia fundamental de la señal (1Hz)"
   ]
  },
  {
   "cell_type": "markdown",
   "metadata": {},
   "source": [
    "Repita para $y$"
   ]
  },
  {
   "cell_type": "code",
   "execution_count": null,
   "metadata": {},
   "outputs": [],
   "source": [
    "y = np.sin(2.0*np.pi*t)"
   ]
  },
  {
   "cell_type": "markdown",
   "metadata": {},
   "source": [
    "# 2) Análisis de señal estacionaria"
   ]
  },
  {
   "cell_type": "markdown",
   "metadata": {},
   "source": [
    "Considere la señal estacionaria con 500 muestras y frecuencia de muestreo 50 Hz guardada en `signal.dat`\n",
    "\n",
    "Responda\n",
    "- ¿Cuál es la duración temporal de la señal?\n",
    "- ¿Cuál es la mayor frecuencia que podemos estudiar usando Fourier en este escenario?\n",
    "\n",
    "\n",
    "Calcule la transformada de Fourier de este señal y grafique\n",
    "- La parte real de la transformada\n",
    "- La parte imaginaria de la transformada\n",
    "- El valor absoluto de la transformada\n",
    "- El ángulo de la transformada\n",
    "    \n",
    "En base a estas visualizaciones y lo observado en el punto anterior indique la fórmula que generó esta señal"
   ]
  },
  {
   "cell_type": "code",
   "execution_count": null,
   "metadata": {},
   "outputs": [],
   "source": [
    "x = np.loadtxt('signal.dat')\n",
    "plt.figure()\n",
    "plt.plot(x);"
   ]
  },
  {
   "cell_type": "markdown",
   "metadata": {},
   "source": [
    "# 3) Estimación de frecuencia fundamental en señal de audio"
   ]
  },
  {
   "cell_type": "markdown",
   "metadata": {},
   "source": [
    "Considere la siguiente señal de audio no estacionaria"
   ]
  },
  {
   "cell_type": "code",
   "execution_count": null,
   "metadata": {},
   "outputs": [],
   "source": [
    "import soundfile as sf\n",
    "from IPython.display import Audio\n",
    "\n",
    "fig, ax = plt.subplots(figsize=(8, 6))\n",
    "data, sample_rate = sf.read(\"data/DPSAU.ogg\")\n",
    "time = np.linspace(0.0, len(data)/sample_rate, num=len(data))\n",
    "ax.plot(time, data);\n",
    "Audio(data, rate=sample_rate)"
   ]
  },
  {
   "cell_type": "markdown",
   "metadata": {},
   "source": [
    "- Escriba una rutina en Python usando `scipy.fftpack.fft` que estime la frecuencia fundamental de esta señal **en función del tiempo** \n",
    "- En base a lo anterior indique los 8 tonos musicales utilizados en esta melodia \n",
    "\n",
    "Ref: https://es.wikipedia.org/wiki/Frecuencias_de_afinaci%C3%B3n_del_piano"
   ]
  },
  {
   "cell_type": "code",
   "execution_count": null,
   "metadata": {},
   "outputs": [],
   "source": []
  }
 ],
 "metadata": {
  "kernelspec": {
   "display_name": "Python 3",
   "language": "python",
   "name": "python3"
  },
  "language_info": {
   "codemirror_mode": {
    "name": "ipython",
    "version": 3
   },
   "file_extension": ".py",
   "mimetype": "text/x-python",
   "name": "python",
   "nbconvert_exporter": "python",
   "pygments_lexer": "ipython3",
   "version": "3.7.4"
  }
 },
 "nbformat": 4,
 "nbformat_minor": 2
}
