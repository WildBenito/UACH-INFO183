{
 "cells": [
  {
   "cell_type": "markdown",
   "metadata": {},
   "source": [
    "# Actividad 2 INFO183\n",
    "\n",
    "#### Instrucciones generales\n",
    "\n",
    "- Complete este cuadernillo jupyter con sus códigos y respuestas\n",
    "- Se trabajará en grupos de tres personas\n",
    "- Se entrega un cuadernillo por grupo\n",
    "- La entrega es a través de correo electrónico a phuijse@inf.uach.cl\n",
    "- La fecha de entrega es el Lunes 6 de Abril a las 23:59\n",
    "- Use las librerías `scipy`, `numpy` y `matplotlib`"
   ]
  },
  {
   "cell_type": "markdown",
   "metadata": {},
   "source": [
    "### Nombre completo de los integrantes: \n",
    "- A\n",
    "- B\n",
    "- C"
   ]
  },
  {
   "cell_type": "code",
   "execution_count": null,
   "metadata": {},
   "outputs": [],
   "source": [
    "import numpy as np\n",
    "%matplotlib notebook\n",
    "import matplotlib.pylab as plt\n",
    "\n",
    "NMSE = lambda y, yhat : np.sum((y - yhat)**2)/np.var(y)"
   ]
  }
 ],
 "metadata": {
  "kernelspec": {
   "display_name": "Python 3",
   "language": "python",
   "name": "python3"
  },
  "language_info": {
   "codemirror_mode": {
    "name": "ipython",
    "version": 3
   },
   "file_extension": ".py",
   "mimetype": "text/x-python",
   "name": "python",
   "nbconvert_exporter": "python",
   "pygments_lexer": "ipython3",
   "version": "3.8.0"
  }
 },
 "nbformat": 4,
 "nbformat_minor": 2
}
