{
 "cells": [
  {
   "cell_type": "markdown",
   "metadata": {},
   "source": [
    "# Actividad 2: Aliasing\n",
    "\n",
    "- Se tiene una señal con tres componentes a 1Hz, 12Hz y 23Hz, respectivamente\n",
    "- Modifica la frecuencia de muestreo y detecta los componentes erroneos o aliases en el espectro\n",
    "- Verifica como afectan a la reconstrucción de la señal"
   ]
  },
  {
   "cell_type": "code",
   "execution_count": null,
   "metadata": {},
   "outputs": [],
   "source": [
    "import scipy.fft as fftpack\n",
    "\n",
    "fig, ax = plt.subplots(4, figsize=(6, 6));\n",
    "t = np.arange(-3, 3, step=0.01); N = len(t)\n",
    "s =  np.cos(2*np.pi*t) - 0.5*np.sin(2.0*np.pi*12*t + np.pi/3) + 0.25*np.sin(2.0*np.pi*23*t) \n",
    "ax[0].plot(t, s, '-'); ax[0].set_title('Original')\n",
    "\n",
    "def update(Fs):    \n",
    "    t_short = t[::int(100/Fs)]; s_short = s[::int(100/Fs)]\n",
    "    ax[1].cla(); ax[1].plot(t_short, s_short, '.'); ax[1].set_title('Sampled at %0.2f' %(Fs))\n",
    "    S = fftpack.fft(s_short); f = fftpack.fftshift(fftpack.fftfreq(n=len(S), d=1.0/Fs)); \n",
    "    ax[2].cla(); ax[2].plot(f, fftpack.fftshift((np.absolute(S))), linewidth=2);\n",
    "    S_pad = np.concatenate((S[:int(len(S)/2)], np.zeros(shape=(N-len(S))), S[int(len(S)/2):]))\n",
    "    ax[2].set_title('Spectrum '); s_recon = np.real(fftpack.ifft(S_pad))\n",
    "    ax[3].cla(); ax[3].plot(t, s_recon*len(t)/len(t_short), '-', linewidth=2); \n",
    "    ax[3].set_title(\"Reconstruction from padded spectrum\");\n",
    "interact(update, Fs=SelectionSlider(options=[5, 10, 25, 33, 50, 100], value=100));"
   ]
  }
 ],
 "metadata": {
  "kernelspec": {
   "display_name": "INFO183",
   "language": "python",
   "name": "info183"
  },
  "language_info": {
   "codemirror_mode": {
    "name": "ipython",
    "version": 3
   },
   "file_extension": ".py",
   "mimetype": "text/x-python",
   "name": "python",
   "nbconvert_exporter": "python",
   "pygments_lexer": "ipython3",
   "version": "3.8.5"
  }
 },
 "nbformat": 4,
 "nbformat_minor": 4
}
