{
 "cells": [
  {
   "cell_type": "code",
   "execution_count": null,
   "metadata": {
    "slideshow": {
     "slide_type": "skip"
    }
   },
   "outputs": [],
   "source": [
    "%%HTML\n",
    "<!-- Mejorar visualización en proyector -->\n",
    "<style>\n",
    ".rendered_html {font-size: 1.2em; line-height: 150%;}\n",
    "div.prompt {min-width: 0ex; padding: 0px;}\n",
    ".container {width:95% !important;}\n",
    "</style>"
   ]
  },
  {
   "cell_type": "code",
   "execution_count": null,
   "metadata": {
    "slideshow": {
     "slide_type": "skip"
    }
   },
   "outputs": [],
   "source": [
    "# Imports and matplotlib configuration\n",
    "import numpy as np\n",
    "import scipy.signal\n",
    "from scipy import fftpack\n",
    "%matplotlib notebook\n",
    "import matplotlib.pylab as plt\n",
    "from matplotlib import animation, patches\n",
    "from IPython.display import display, Audio, HTML\n",
    "import soundfile as sf\n",
    "from style import *"
   ]
  },
  {
   "cell_type": "markdown",
   "metadata": {
    "slideshow": {
     "slide_type": "slide"
    }
   },
   "source": [
    "### Universidad Austral de Chile \n",
    "## INFO183: Análisis de sistemas lineales\n",
    "\n",
    "\n",
    "# Unidad 2: Herramientas de análisis de señales\n",
    "\n",
    "### Dr. Pablo Huijse, phuijse at inf dot uach dot cl \n",
    "\n",
    "### <a href=\"https://github.com/phuijse/UACH-INFO183\"> github.com/phuijse/UACH-INFO183 </a>\n"
   ]
  },
  {
   "cell_type": "markdown",
   "metadata": {
    "slideshow": {
     "slide_type": "slide"
    }
   },
   "source": [
    "***\n",
    "<a id=\"index\"></a>\n",
    "\n",
    "# Contenidos de la unidad\n",
    "\n",
    "***\n",
    "\n",
    "1. [Representación por serie de Fourier](#section1)\n",
    "1. [Transformada de Fourier](#section2)\n",
    "1. [Principio de incertidumbre](#section3)\n",
    "1. [Transformada de Fourier discreta (DFT) y sus propiedades](#section4)\n",
    "1. [Efectos del muestreo y del enventanado](#section5)\n",
    "1. [Transformada rápida de Fourier (FFT)](#section6)\n",
    "1. [Espectrograma con Transformada de Fourier de tiempo reducido](#section7)\n",
    "\n",
    "\n",
    "***\n",
    " - [Ejercicios](#ej1)\n"
   ]
  },
  {
   "cell_type": "markdown",
   "metadata": {
    "slideshow": {
     "slide_type": "slide"
    }
   },
   "source": [
    "***\n",
    "\n",
    "# Espectro\n",
    "\n",
    "***\n",
    "\n",
    "- Isaac Newton llamó **espectros** a los componentes que forman la luz blanca y que normalmente no se pueden ver\n",
    "- Newton mostró usando prismas que la luz blanca pueden descomponerse en colores y viceverza\n",
    "- Hoy entendemos que la luz como onda tiene una frecuencia asociada y que cada color es una frecuencia particular\n",
    "\n",
    "\n",
    "| <img src=\"img/fourier-newton.jpg\">  | <img src=\"img/fourier-prism.jpg\" width=\"75%\">  |\n",
    "|:-:|:-:|\n",
    "\n",
    "- Paradojicamente, Newton nunca acepto que esto se debía a la frecuencia de la radiación ya que creía en la teoría corpuscular de la luz\n"
   ]
  },
  {
   "cell_type": "markdown",
   "metadata": {
    "slideshow": {
     "slide_type": "subslide"
    }
   },
   "source": [
    "## Onda\n",
    "\n",
    "- Es una perturbación que transporta energía a través del espacio\n",
    "- Es una oscilación o vibración de un medio físico o campo\n",
    "- Se describe (tipicamente) por su frecuencia (período), amplitud y desfase\n",
    "\n",
    "**Onda electromagnética** \n",
    "- Oscilaciones en el campo eléctrico y magnético\n",
    "- Transporta energía electromágnetica radiativa\n",
    "- Dependiendo de su frecuencia se clasifican como:\n",
    "<img src=\"img/fourier-colors.jpg\">"
   ]
  },
  {
   "cell_type": "markdown",
   "metadata": {
    "slideshow": {
     "slide_type": "subslide"
    }
   },
   "source": [
    "## Componentes frecuenciales y harmónicos\n",
    "\n",
    "- Una sinusoide es una función del tiempo completamente descrita por su amplitud $A$, frecuencia $f$ y fase $\\phi$\n",
    "\n",
    "$$\n",
    "s(t) = A \\cos (2 \\pi f t + \\phi)\n",
    "$$\n",
    "\n",
    "*Ejercicio:* Explique intuitivamente como estos parámetros afectan a $s(t)$ "
   ]
  },
  {
   "cell_type": "markdown",
   "metadata": {
    "slideshow": {
     "slide_type": "fragment"
    }
   },
   "source": [
    "- El recíproco de la frecuencia es el período $P= \\frac{1}{f}$\n",
    "- Notemos que una señal que es períodica en $\\frac{P}{k} ~ \\forall k \\in \\mathbb{N}$ también lo es en $P$\n",
    "- Llamamos a $f_0 = 1/P$ la **frecuencia fundamental**\n",
    "- Llamamos a $f_k = kf_0 = k/P ~~ \\forall k \\in \\mathbb{N}$ el **k-esimo armónico de $f_0$**"
   ]
  },
  {
   "cell_type": "code",
   "execution_count": null,
   "metadata": {
    "slideshow": {
     "slide_type": "fragment"
    }
   },
   "outputs": [],
   "source": [
    "plt.close('all'); fig, ax = plt.subplots(figsize=(7, 3))\n",
    "f = 1.51518\n",
    "t = np.linspace(0, 2/f, num=500); x = np.cos(2.0*np.pi*f*t)\n",
    "ax.plot(t, x, label='fundamental')\n",
    "line = ax.plot(t, x, label='k-th harmonic'); ax.legend(loc=4)\n",
    "ax.set_xticks([0, 1/f, 2/f]); ax.set_xticklabels([\"0\", r\"$1/f_0$\", r\"$2/f_0$\"]);\n",
    "update = lambda k: line[0].set_ydata(np.cos(2.0*np.pi*t*f*k))\n",
    "interact(update, k=SelectionSlider_nice(options=[2, 3, 4, 5, 6]));"
   ]
  },
  {
   "cell_type": "markdown",
   "metadata": {
    "slideshow": {
     "slide_type": "subslide"
    }
   },
   "source": [
    "- Si sumamos dos sinusoides con amplitudes arbitrarias pero con igual frecuencia fundamental $f_0$ [Hz], la suma también es periódica con fundamental $f_0$ [Hz]\n",
    "- La suma puede ser una señal periódica arbitraria (no trigonométrica)"
   ]
  },
  {
   "cell_type": "code",
   "execution_count": null,
   "metadata": {
    "slideshow": {
     "slide_type": "fragment"
    }
   },
   "outputs": [],
   "source": [
    "plt.close('all'); fig, ax = plt.subplots(figsize=(7, 3))\n",
    "f = 1.51518\n",
    "t = np.linspace(0, 3/f, num=500); x = np.cos(2.0*np.pi*f*t)\n",
    "line = ax.plot(t, 2*x)\n",
    "ax.set_xticks([0, 1/f, 2/f, 3/f]); ax.set_xticklabels([\"0\", r\"$1/f_0$\", r\"$2/f_0$\", r\"$3/f_0$\"]);\n",
    "ax.set_title(r\"$\\cos(2\\pi t f_0) + A \\sin(2\\pi t k f_0)$\")\n",
    "update = lambda k, A: line[0].set_ydata(x + A*np.sin(2.0*np.pi*t*f*k))\n",
    "interact(update, k=SelectionSlider_nice(options=[1, 2, 3, 4, 5, 6]), \n",
    "         A=FloatSlider_nice(min=0.5, max=1.0, value=0.5));"
   ]
  },
  {
   "cell_type": "markdown",
   "metadata": {
    "slideshow": {
     "slide_type": "subslide"
    }
   },
   "source": [
    "- Dependiendo de los armónicos que incorporemos podemos reproducir distintas señales periódicas"
   ]
  },
  {
   "cell_type": "code",
   "execution_count": null,
   "metadata": {
    "slideshow": {
     "slide_type": "fragment"
    }
   },
   "outputs": [],
   "source": [
    "plt.close('all'); fig, ax = plt.subplots(figsize=(6, 4))\n",
    "f = 1.51518; t = np.linspace(-2/f, 2/f, num=5000); \n",
    "line = ax.plot(t, np.zeros_like(t))\n",
    "ax.set_xticks([-2/f, -1/f, 0, 1/f, 2/f]); \n",
    "ax.set_xticklabels([r\"$-2/f_0$\", r\"$-1/f_0$\", \"0\", r\"$1/f_0$\", r\"$2/f_0$\"]);\n",
    "ax.set_title(r\"$s_K(t) =  \\frac{1}{2} + \\sum_{k=1}^K \\frac{\\sin(\\pi k/2)}{\\pi k/2} \\cos(2\\pi k f_0 t ) $\")\n",
    "def update(K):\n",
    "    y = np.zeros_like(t) + 0.5\n",
    "    for k in range(1, K+1):\n",
    "        y += 2*np.sin(np.pi*k/2)*np.cos(2.0*np.pi*k*f*t)/(np.pi*k)\n",
    "    line[0].set_ydata(y); ax.set_ylim([-0.2, 1.2])\n",
    "interact(update, K=SelectionSlider_nice(options=[1, 2, 3, 4, 5, 6, 10, 20, 30, 50, 100]));"
   ]
  },
  {
   "cell_type": "code",
   "execution_count": null,
   "metadata": {
    "slideshow": {
     "slide_type": "fragment"
    }
   },
   "outputs": [],
   "source": [
    "plt.close('all'); fig, ax = plt.subplots(figsize=(6, 4))\n",
    "f = 1.51518; t = np.linspace(-2/f, 2/f, num=5000); \n",
    "line = ax.plot(t, np.zeros_like(t))\n",
    "ax.set_xticks([-2/f, -1/f, 0, 1/f, 2/f]); \n",
    "ax.set_xticklabels([r\"$-2/f_0$\", r\"$-1/f_0$\", \"0\", r\"$1/f_0$\", r\"$2/f_0$\"]);\n",
    "ax.set_title(r\"$s_K(t) = \\sum_{k=1}^K \\frac{1}{k} \\sin(2\\pi k f_0 t) $\")\n",
    "def update(K):\n",
    "    y = np.zeros_like(t)\n",
    "    for k in range(1, K+1):\n",
    "        y += np.sin(2.0*np.pi*k*f*t)/k\n",
    "    line[0].set_ydata(y); ax.set_ylim([np.amin(y)*1.1, np.amax(y)*1.1])\n",
    "interact(update, K=SelectionSlider_nice(options=[1, 2, 3, 4, 5, 10, 20, 30, 50, 100]));"
   ]
  },
  {
   "cell_type": "markdown",
   "metadata": {
    "slideshow": {
     "slide_type": "subslide"
    }
   },
   "source": [
    "- Las funciones coseno y seno son par e impar, respectivamente\n",
    "- ¿Cómo podemos construir una señal periódica que no es par ni impar?\n",
    "- Consideremos la siguiente forma general\n",
    "$$\n",
    "\\begin{align}\n",
    "s(t) &= \\sum_{k=0}^\\infty A_k \\cos(2\\pi k f t + \\phi_k) \\nonumber \\\\\n",
    "&= \\sum_{k=0}^\\infty a_k \\cos(2\\pi k f t) + b_k \\sin(2\\pi k f t), \\nonumber\n",
    "\\end{align}\n",
    "$$\n",
    "donde $a_k = A_k \\cos(\\phi_k)$ y $b_k = -A_k \\sin(\\phi_k)$ se obtienen de $\\cos(x+y) = \\cos(x)\\cos(y) - \\sin(x)\\sin(y)$\n",
    "- De esta forma $s(t)$ puede ser cualquier función real periódica con período $P=1/f$\n",
    "- Esto se conoce como **serie trigonométrica** "
   ]
  },
  {
   "cell_type": "code",
   "execution_count": null,
   "metadata": {
    "slideshow": {
     "slide_type": "fragment"
    }
   },
   "outputs": [],
   "source": [
    "plt.close('all'); fig, ax = plt.subplots(figsize=(6, 4))\n",
    "f = 1.51518; t = np.linspace(-2/f, 2/f, num=5000); \n",
    "line = ax.plot(t, np.zeros_like(t))\n",
    "ax.set_xticks([-2/f, -1/f, 0, 1/f, 2/f]); \n",
    "ax.set_xticklabels([r\"$-2/f_0$\", r\"$-1/f_0$\", \"0\", r\"$1/f_0$\", r\"$2/f_0$\"]);\n",
    "def update(K):\n",
    "    y = np.zeros_like(t)\n",
    "    for k in range(1, K+1):\n",
    "        y += np.cos(2.0*np.pi*k*f*t)/k + (-1)**k*np.sin(2.0*np.pi*(2*k-1)*f*t)/(2*k-1)\n",
    "    line[0].set_ydata(y); ax.set_ylim([np.amin(y)*1.1, np.amax(y)*1.1])\n",
    "interact(update, K=SelectionSlider_nice(options=[1, 2, 3, 4, 5, 10, 20, 30, 50, 100]));"
   ]
  },
  {
   "cell_type": "markdown",
   "metadata": {
    "slideshow": {
     "slide_type": "slide"
    }
   },
   "source": [
    "### Apéndice: Números complejos\n",
    "\n",
    "Sea z un número complejo, lo podemos escribir en forma cartesiana \n",
    "$$\n",
    "z = \\Re[z] + j \\Im[z] = a + j b\n",
    "$$\n",
    "donde $a \\in \\mathbb{R}$, $b \\in \\mathbb{R}$ y $j = \\sqrt{-1}$ es el número imaginario.\n",
    "\n",
    "\n",
    "También podemos escribirlo en forma polar\n",
    "$$\n",
    "z = c e^{j\\phi} = c \\cos(\\phi) + j c \\sin(\\phi)\n",
    "$$\n",
    "donde \n",
    "- $c = |z| = \\sqrt{a^2 + b^2} \\in [0, \\infty]$ es la magnitud \n",
    "- $\\phi = \\angle z = \\tan^{-1} \\left (\\frac{b}{a} \\right) \\in [-\\frac{\\pi}{2}, \\frac{\\pi}{2}]$ es el ángulo\n",
    "- $a = c \\cos(\\phi)$\n",
    "- $b = c\\sin(\\phi)$\n",
    "\n",
    "se pueden escribir las siguientes relaciones \n",
    "\n",
    "$$\n",
    "\\cos(\\phi) = \\frac{1}{2} (e^{j\\phi} + e^{-j\\phi}) ~\\wedge~ \\sin(\\phi) = \\frac{1}{2j} (e^{j\\phi} - e^{-j\\phi})\n",
    "$$\n",
    "\n",
    "el complejo conjugado de $z = a + j b = c e^{j\\phi}$ es\n",
    "$$\n",
    "z^* = a - jb = c e^{-j\\phi}\n",
    "$$"
   ]
  },
  {
   "cell_type": "code",
   "execution_count": null,
   "metadata": {
    "slideshow": {
     "slide_type": "fragment"
    }
   },
   "outputs": [],
   "source": [
    "from matplotlib import patches\n",
    "plt.close('all'); fig, ax = plt.subplots(figsize=(4, 4))\n",
    "my_arrow = partial(ax.arrow, x=0, y=0, width=0.02, length_includes_head=True, linewidth=0)\n",
    "my_arrow(dx=np.sqrt(0.5), dy=np.sqrt(0.5)); my_arrow(dx=1, dy=0); my_arrow(dx=0, dy=1)\n",
    "ax.text(x=-0.2, y=1.0, s=\"Imag\", fontsize=30); ax.text(x=1.0, y=-0.0, s=\"Re\", fontsize=30);\n",
    "ax.text(x=-0.15, y=np.sqrt(0.5), s=\"b\", fontsize=30); ax.text(x=np.sqrt(0.5), y=-.15, s=\"a\", fontsize=30);\n",
    "ax.text(x=0.2, y=0.5, s=\"$|z|$\", fontsize=30, rotation=45.); ax.text(x=0.3, y=0.1, s=\"$\\phi$\", fontsize=30);\n",
    "ax.plot([0, np.sqrt(0.5)], [np.sqrt(0.5), np.sqrt(0.5)],'k--');\n",
    "ax.plot([np.sqrt(0.5), np.sqrt(0.5)], [0, np.sqrt(0.5)],'k--')\n",
    "p = patches.Circle(xy=(0, 0), radius=1, alpha=0.1); ax.set_xticks([]); ax.set_yticks([])\n",
    "ax.scatter([0, np.sqrt(0.5)], [np.sqrt(0.5), 0], c='k', s=200);\n",
    "ax.add_artist(p); plt.xlim([-0.25 , 1.25]); plt.ylim([-0.2 , 1.2]);"
   ]
  },
  {
   "cell_type": "markdown",
   "metadata": {
    "slideshow": {
     "slide_type": "subslide"
    }
   },
   "source": [
    "***\n",
    "<a id=\"section1\"></a>\n",
    "[Volver al índice](#index)\n",
    "\n",
    "# Serie de Fourier\n",
    "***\n",
    "\n",
    "- En 1807 *Jean Baptiste Joseph Fourier* presenta un teorema indicando que una función periódica arbitraria con periódo $P=1/f_0$ puede representarse como una suma ponderada de senos y cosenos\n",
    "- La serie de Fourier (FS) para una función compleja se define como\n",
    "$$\n",
    "s(t) = \\sum_{k=-\\infty}^{\\infty} c_k e^{j 2\\pi k f_0 t}, ~~ c_k \\in \\mathbb{C}\n",
    "$$\n",
    "\n",
    "***"
   ]
  },
  {
   "cell_type": "markdown",
   "metadata": {
    "slideshow": {
     "slide_type": "fragment"
    }
   },
   "source": [
    "**Notemos que: ** La serie trigonométrica es el caso particular de la FS para una función real\n",
    "$$\n",
    "\\begin{align}\n",
    "s(t) &= \\sum_{k=-\\infty}^{\\infty} c_k e^{j 2\\pi kf_0 t} \\nonumber \\\\\n",
    "&= \\sum_{k=1}^{\\infty} c_{-k} e^{-j 2\\pi kf_0 t} + c_0 + \\sum_{k=1}^{\\infty} c_{k} e^{j 2\\pi kf_0 t} \\nonumber\\\\\n",
    "&= \\sum_{k=1}^{\\infty} \\left(c_{k} e^{j 2\\pi kf_0 t}\\right)^* + c_0 + \\sum_{k=1}^{\\infty} c_{k} e^{j 2\\pi kf_0 t} \\nonumber\\\\\n",
    "&= c_0 + 2 \\sum_{k=1}^{\\infty} \\Re [ c_{k} e^{j 2\\pi kf_0 t} ]\\nonumber\\\\\n",
    "&= \\sum_{k=0}^{\\infty} A_k \\cos({j 2\\pi kf_0 t + \\phi_k} ), \\nonumber\n",
    "\\end{align}\n",
    "$$\n",
    "donde en la última equivalencia reconocemos\n",
    "$$\n",
    "c_k = \\begin{cases}  \\frac{1}{2} A_k e^{j\\phi_k} & k> 0 \\\\ A_0 & k = 0 \\\\ c_{|k|}* & k < 0\\end{cases}\n",
    "$$"
   ]
  },
  {
   "cell_type": "markdown",
   "metadata": {
    "slideshow": {
     "slide_type": "subslide"
    }
   },
   "source": [
    "***\n",
    "\n",
    "### Apéndice: Bases generadoras\n",
    " - Una base es un conjunto de un espacio vectorial\n",
    " - Los elementos de la base son linealmente independientes\n",
    " - Todos los elementos del espacio pueden expresarse como una combinación lineal de la base\n",
    " \n",
    "Considere el espacio vectorial $\\mathbb{R}^3$. El siguiente conjunto \n",
    "\n",
    "$$\n",
    "\\left \\{ v_1=\\begin{pmatrix} 1 \\\\ 0 \\\\ 0 \\end{pmatrix}, v_2= \\begin{pmatrix} 0 \\\\ 1 \\\\ 0 \\end{pmatrix}, v_3=\\begin{pmatrix} 0 \\\\ 0 \\\\ 1 \\end{pmatrix}\\right \\},\n",
    "$$\n",
    "\n",
    "es una base generadora de $\\mathbb{R}^3$, es decir un vector cualquiera $\\vec a = (a_1, a_2, a_3) \\in \\mathbb{R}^3$ se puede representar como \n",
    "\n",
    "$$\n",
    "\\vec a = a_1 v_1 + a_2 v_2 + a_3 v_3.\n",
    "$$\n",
    "\n",
    "Un conjunto ortonormal siempre es linealmente independiente\n",
    "***"
   ]
  },
  {
   "cell_type": "markdown",
   "metadata": {
    "slideshow": {
     "slide_type": "subslide"
    }
   },
   "source": [
    "***\n",
    "\n",
    "## Base de Fourier\n",
    "\n",
    "El conjunto de funciones \n",
    "\n",
    "$$\n",
    "v_k (t) = \\frac{1}{\\sqrt{P}} e^{j2\\pi k t / P} ~~ \\forall k \\in \\mathbb{Z}\n",
    "$$\n",
    "\n",
    "cumple \n",
    "\n",
    "$$\n",
    "\\langle v_n (t), v_m (t) \\rangle = \\int_0^P v_n (t) v_m^* (t) dt = \\frac{1}{P} \\int_0^P e^{j2\\pi (n-m)t/P} dt =\\begin{cases}1 & n=m \\\\ 0 & n \\neq m\\end{cases}\n",
    "$$\n",
    "\n",
    "*i.e.* es un conjunto ortonormal (l.i.) en el espacio de funciones periódicas con periódo $P$\n",
    "\n",
    "Esto es facilmente comprobable si estudiamos\n",
    "\n",
    "$$\n",
    "\\int_0^P e^{j2\\pi k t / P} dt = \\int_0^P \\cos(2\\pi k t/P) dt + j \\int_0^P \\sin(2\\pi k t/P) dt \n",
    "$$"
   ]
  },
  {
   "cell_type": "code",
   "execution_count": null,
   "metadata": {
    "slideshow": {
     "slide_type": "fragment"
    }
   },
   "outputs": [],
   "source": [
    "plt.close('all'); fig, ax = plt.subplots(figsize=(6, 3))\n",
    "dt=1e-4; P=1.1234; t = np.arange(0, P, step=dt);\n",
    "line = ax.plot(t, np.zeros_like(t)); ax.set_ylim([-1.2, 1.2])\n",
    "harmonic = lambda k: np.cos(2.0*np.pi*k*t/P)\n",
    "def update(k):\n",
    "    ax.cla(); ax.set_ylim([-1.2, 1.2])\n",
    "    ax.plot(t, harmonic(k), 'k--')\n",
    "    ax.fill_between(t, 0, harmonic(k), harmonic(k)>0, color='b', alpha=0.5)\n",
    "    ax.fill_between(t, 0, harmonic(k), harmonic(k)<0, color='r', alpha=0.5)\n",
    "    ax.set_title(\"$\\int s dt$ = %e\" %(np.sum(harmonic(k)*dt)))\n",
    "interact(update, k=IntSlider_nice(min=0, max=10, value=1));"
   ]
  },
  {
   "cell_type": "markdown",
   "metadata": {
    "slideshow": {
     "slide_type": "skip"
    }
   },
   "source": [
    "propiedad generadora?"
   ]
  },
  {
   "cell_type": "markdown",
   "metadata": {
    "slideshow": {
     "slide_type": "subslide"
    }
   },
   "source": [
    "***\n",
    "### Síntesis\n",
    "\n",
    "$$\n",
    "s(t) = \\sum_{k=-\\infty}^{\\infty} c_k e^{j 2\\pi k t/P} \n",
    "$$\n",
    "\n",
    "***\n",
    "\n",
    "***\n",
    "### Análisis\n",
    "\n",
    "\\begin{align}\n",
    "\\langle s(t),  e^{j 2\\pi m t/ P} \\rangle &= \\int_0^P s(t) e^{-j 2\\pi m t/ P} dt \\nonumber \\\\\n",
    "&= \\int_0^P \\sum_{k=-\\infty}^{\\infty} c_k e^{j 2\\pi k t/P} e^{-j 2\\pi m t/P} dt \\nonumber \\\\\n",
    "&= \\sum_{k=-\\infty}^{\\infty} c_k  \\int_0^P e^{j 2\\pi (k-m) t/P}  dt \\nonumber \\\\\n",
    "&=  c_m  P \\nonumber \\\\\n",
    "\\end{align}\n",
    "\n",
    "Es decir los coeficientes de la FS se pueden encuentrar usando\n",
    "\n",
    "$$\n",
    "c_m = \\frac{1}{P} \\int_0^P s(t) e^{-j 2\\pi m t/P} dt\n",
    "$$\n",
    "***"
   ]
  },
  {
   "cell_type": "markdown",
   "metadata": {
    "slideshow": {
     "slide_type": "subslide"
    }
   },
   "source": [
    "***\n",
    "\n",
    "### Ejemplo: FS de señal cuadrada\n",
    "\n",
    "Sea \n",
    "$$\n",
    "s(t) = \\begin{cases} 1 & t \\in[0, \\frac{P}{2}] \\\\ 0 & t \\in [\\frac{P}{2}, P] \\end{cases}\n",
    "$$\n",
    "Los coeficientes de su FS son\n",
    "\n",
    "$$\n",
    "c_0 = \\frac{1}{P} \\int_0^P s(t) dt = \\frac{1}{P} \\int_0^{P/2} dt = \\frac{1}{2}\n",
    "$$\n",
    "y\n",
    "$$\n",
    "\\begin{align}\n",
    "c_k &= \\frac{1}{P} \\int_0^\\frac{P}{2} e^{-j2\\pi kt/P} dt  \\nonumber  \\\\  \n",
    "&= -\\frac{j}{P}  \\int_0^\\frac{P}{2} \\sin(2\\pi kt/P) dt \\nonumber \\\\\n",
    "&=  0 + j \\frac{\\cos(\\pi k)  - 1}{2\\pi k} \\nonumber \n",
    "\\end{align}\n",
    "$$\n",
    "Notemos que los coeficientes \n",
    "- A excepsión de $c_0$ sólo tienen parte imaginaria\n",
    "- sólo son distintos de cero para armónicos impares\n",
    "- $c_k$ es una función impar"
   ]
  },
  {
   "cell_type": "code",
   "execution_count": null,
   "metadata": {
    "slideshow": {
     "slide_type": "fragment"
    }
   },
   "outputs": [],
   "source": [
    "plt.close('all'); fig, ax = plt.subplots(figsize=(6, 4))\n",
    "k = np.arange(-10, 10, step=1).astype('float')\n",
    "ax.stem(k, (np.cos(np.pi*k)-1)/(2*np.pi*k+1e-10), basefmt=\" \")\n",
    "ax.set_xticks(range(-10, 10, 2)); ax.set_xlabel(\"k\"); ax.set_ylabel(\"$\\Im[c_k]$\");"
   ]
  },
  {
   "cell_type": "markdown",
   "metadata": {
    "slideshow": {
     "slide_type": "fragment"
    }
   },
   "source": [
    "Finalmente la FS está dada por\n",
    "$$\n",
    "\\begin{align}\n",
    "s(t) &= \\sum_{k=-\\infty}^{\\infty} j \\frac{\\cos(\\pi k)  - 1}{2\\pi k}  e^{j 2\\pi k t/P} \\nonumber \\\\\n",
    "&= \\frac{1}{2} + \\sum_{k=1}^{\\infty}  \\frac{1 - \\cos(\\pi k)}{\\pi k} \\sin(2\\pi k t/P)  \\nonumber \n",
    "\\end{align}\n",
    "$$"
   ]
  },
  {
   "cell_type": "code",
   "execution_count": null,
   "metadata": {
    "slideshow": {
     "slide_type": "fragment"
    }
   },
   "outputs": [],
   "source": [
    "plt.close('all'); fig, ax = plt.subplots(figsize=(6, 4))\n",
    "f_0 = 1.51518; t = np.linspace(-2/f_0, 2/f_0, num=5000); \n",
    "line = ax.plot(t, np.zeros_like(t))\n",
    "ax.set_xticks([-2/f_0, -1/f_0, 0, 1/f_0, 2/f_0]); \n",
    "ax.set_xticklabels([r\"$-2/f_0$\", r\"$-1/f_0$\", \"0\", r\"$1/f_0$\", r\"$2/f_0$\"]);\n",
    "def update(K):\n",
    "    y = np.zeros_like(t) + 0.5\n",
    "    for k in range(1, K+1):\n",
    "        y += (1-np.cos(np.pi*k))*np.sin(2.0*np.pi*t*k*f_0)/(np.pi*k)\n",
    "    line[0].set_ydata(y); ax.set_ylim([-0.2, 1.2])\n",
    "interact(update, K=SelectionSlider_nice(options=[1, 2, 3, 4, 5, 10, 20, 30, 50, 100]));"
   ]
  },
  {
   "cell_type": "markdown",
   "metadata": {
    "slideshow": {
     "slide_type": "subslide"
    }
   },
   "source": [
    "***\n",
    "\n",
    "## Propiedades de la FS\n",
    "\n",
    "- Si $s(t)$ es par entonces $c_k$ es par\n",
    "- Si $s(t)$ es impar entonces $c_k$ es impar\n",
    "- Si $s(t + P/2) = -s(t)$ (antiperiódica) entonces $c_k=0 $ para k par\n",
    "- Si $s(t)$ es real y par entonces $c_k$ es real y par\n",
    "- Si $s(t)$ es real e impar entonces $c_k$ es imaginario e impar\n",
    "- La FS es lineal\n",
    "\n",
    "***\n",
    "\n",
    "### Teorema de Parseval\n",
    "\n",
    "La potencia de una señal puede calcularse a partir de sus componentes\n",
    "\n",
    "\\begin{align}\n",
    "P_s &= \\frac{1}{P} \\int_0^P |s(t)|^2 dt \\nonumber \\\\\n",
    "&= \\frac{1}{P} \\int_0^P |\\sum_{k=-\\infty}^{\\infty} c_k e^{j 2\\pi k t/P }|^2 dt \\nonumber \\\\\n",
    "&= \\frac{1}{P} \\int_0^P \\sum_{k=-\\infty}^{\\infty} |c_k |^2 dt \\nonumber \\\\\n",
    "&= \\sum_{k=-\\infty}^\\infty |c_k|^2 \\nonumber\n",
    "\\end{align}\n",
    "***"
   ]
  },
  {
   "cell_type": "markdown",
   "metadata": {
    "slideshow": {
     "slide_type": "subslide"
    }
   },
   "source": [
    "Visualización interactiva de la FS: https://bl.ocks.org/jinroh/7524988"
   ]
  },
  {
   "cell_type": "markdown",
   "metadata": {
    "slideshow": {
     "slide_type": "subslide"
    }
   },
   "source": [
    "***\n",
    "\n",
    "## Convergencia de la serie de Fourier (Oppenheim, SS, Chap 3.4)\n",
    "\n",
    "Para una serie periódica con periódo $P$, si\n",
    "1. Es absolutamente integrable: $\\int_0^P |s(t)| dt < \\infty$\n",
    "1. Tiene un número finito de extremos\n",
    "1. Tiene un número finito de discontinuidades\n",
    "\n",
    "entonces su FS converge para todo tiempo, excepto en las discontinuidades donde converge al punto medio.\n",
    "\n",
    "\n",
    "- Estos tres puntos se conocen como **Condiciones de Dirichlet**\n",
    "- **Fenomeno de Gibbs:** Una discontinuidad requiere ancho de banda infinito, *i.e.* no puede reproducirse con un número finito de términos (vea el ejemplo de la señal cuadrada)\n",
    "\n",
    "***"
   ]
  },
  {
   "cell_type": "markdown",
   "metadata": {
    "slideshow": {
     "slide_type": "slide"
    }
   },
   "source": [
    "***\n",
    "<a id=\"section2\"></a>\n",
    "[Volver al índice](#index)\n",
    "\n",
    "# Transformada de Fourier\n",
    "***\n",
    "- El concepto de frecuencia puede aplicarse también a señales no-periódicas\n",
    "- **Joseph Fourier:** Una señal no-periódica puede ser vista como una señal periódica **con un período infinito**\n",
    "- El único requisito es que ahora las frecuencias son un continuo, con un espaciado infinitesimal\n",
    "\n",
    "\n",
    "Veremos que:\n",
    "- Una señal analógica puede ser vista como continua en el tiempo o continua en frecuencia\n",
    "- Más adelante estudiaremos la Transformada de Fourier discreta (DFT) para señales digitales\n"
   ]
  },
  {
   "cell_type": "markdown",
   "metadata": {
    "slideshow": {
     "slide_type": "subslide"
    }
   },
   "source": [
    "***\n",
    "\n",
    "Sea un tren de pulsos cuadrado con periódo P y ancho $2T < P$ definido en un período como\n",
    "\n",
    "$$\n",
    "s(t) = \\begin{cases} 1, & |t| < T \\\\ 0, & T<|t| < P/2 \\end{cases}\n",
    "$$"
   ]
  },
  {
   "cell_type": "code",
   "execution_count": null,
   "metadata": {
    "slideshow": {
     "slide_type": "fragment"
    }
   },
   "outputs": [],
   "source": [
    "plt.close('all'); fig, ax = plt.subplots(figsize=(6, 3))\n",
    "\n",
    "def create_square_pulse_train(t, T=0.25, P=2):\n",
    "    s = np.zeros_like(t)\n",
    "    for k in np.unique(t//P):\n",
    "        s[(t> k*P - T) & (t< k*P + T)] = 1\n",
    "    return s\n",
    "\n",
    "t = np.linspace(-3, 3, num=300)\n",
    "ax.plot(t, create_square_pulse_train(t), linewidth=4);"
   ]
  },
  {
   "cell_type": "markdown",
   "metadata": {
    "slideshow": {
     "slide_type": "fragment"
    }
   },
   "source": [
    "Su serie de Fourier es \n",
    "$$\n",
    "c_0 = \\frac{1}{P} \\int_{-P/2}^{P/2} s(t) dt = \\frac{1}{P} \\int_{-T}^{T}  dt = \\frac{2T}{P}\n",
    "$$\n",
    "y\n",
    "$$\n",
    "\\begin{align}\n",
    "c_k &= \\frac{1}{P} \\int_{-T}^{T} e^{-j2\\pi kt/P} dt  \\nonumber \\\\\n",
    "&= \\frac{1}{\\pi k} \\sin \\left (2\\pi k \\frac{T}{P} \\right)  \\nonumber \n",
    "\\end{align}\n",
    "$$\n",
    "¿Qué ocurre a medida que P crece?\n"
   ]
  },
  {
   "cell_type": "code",
   "execution_count": null,
   "metadata": {
    "slideshow": {
     "slide_type": "fragment"
    }
   },
   "outputs": [],
   "source": [
    "plt.close('all'); fig, ax = plt.subplots(2, 1, figsize=(6, 5))\n",
    "\n",
    "def update(P, show_envelope=False):\n",
    "    ax[0].cla(); ax[1].cla(); T=0.25\n",
    "    s = create_square_pulse_train(t, T=T, P=P)\n",
    "    xhat = np.zeros_like(t) + 2*T/P\n",
    "    ck = np.zeros(shape=(201, )); ck[100] = 2*T/P\n",
    "    ck[101:] = np.array([np.sin(2.0*np.pi*k*T/P)/(np.pi*k) for k in range(1, 101)])\n",
    "    ck[:100] = ck[101:][::-1]\n",
    "    for k in range(1, 100):\n",
    "        xhat += 2*np.cos(2.*np.pi*t*k/P)*ck[100+k]\n",
    "    ax[0].plot(t, s, linewidth=4); ax[0].plot(t, xhat, linestyle='--', linewidth=4);\n",
    "    f_axis = np.linspace(-100/P, 100/P, num=len(ck))\n",
    "    ax[1].stem(f_axis, P*ck); \n",
    "    if show_envelope:\n",
    "        ax[1].plot(f_axis, 2*T*np.sinc(2*f_axis*T), 'k-', linewidth=4, alpha=0.75);\n",
    "interact(update, P=IntSlider_nice(min=1, max=15));"
   ]
  },
  {
   "cell_type": "markdown",
   "metadata": {
    "slideshow": {
     "slide_type": "fragment"
    }
   },
   "source": [
    "¿Qué ocurre con este ejemplo?\n",
    "\n",
    "- A mayor P disminuye la frecuencia fundamental\n",
    "- Cuando P es muy grande el tren de pulsos tiende a un único pulso\n",
    "- A mayor P los coeficientes de la FS muestrean con más fineza **la envolvente**\n",
    "- ¿A qué corresponde la envolvente en este caso?\n",
    "\n",
    "***"
   ]
  },
  {
   "cell_type": "markdown",
   "metadata": {
    "slideshow": {
     "slide_type": "subslide"
    }
   },
   "source": [
    "***\n",
    "\n",
    "Del ejemplo anterior notamos que la envolvente de la FS:\n",
    "- Es una función de la frecuencia $f=kf_0 = k/P$\n",
    "- Se obtiene cuando $P\\to \\infty$ y se define como\n",
    "$$\n",
    "S(f) = P c_k = \\int_{-\\infty}^{\\infty} s(t) e^{-j 2\\pi t  f} dt,\n",
    "$$\n",
    "o también\n",
    "$$\n",
    "S(\\omega) = \\int_{-\\infty}^{\\infty} s(t) e^{-j\\omega t } dt,\n",
    "$$\n",
    "donde $\\omega = 2\\pi f$ se llama frecuencia angular.\n",
    "- Se conoce como **transformada de Fourier directa** o **integral de Fourier**.\n",
    "\n",
    "***\n",
    "\n",
    "Reemplazando el resultado anterior en la ecuación de síntesis tenemos que\n",
    "$$\n",
    "\\begin{align}\n",
    "s(t) &= \\lim_{f_0 \\to 0} \\sum_{k=-\\infty}^{\\infty} f_0 S(k f_0) e^{j 2\\pi t  k f_0} \\nonumber  \\\\\n",
    "&= \\int_{-\\infty}^{\\infty} S(f) e^{j 2\\pi t  f} df \\nonumber \\\\\n",
    "&= \\frac{1}{2\\pi} \\int_{-\\infty}^{\\infty} S(\\omega) e^{j \\omega t } d\\omega, \\nonumber \n",
    "\\end{align}\n",
    "$$\n",
    "que se conoce como **transformada de Fourier inversa**.\n",
    "\n",
    "***"
   ]
  },
  {
   "cell_type": "markdown",
   "metadata": {
    "slideshow": {
     "slide_type": "subslide"
    }
   },
   "source": [
    "***\n",
    "\n",
    "## Par de Fourier\n",
    "\n",
    "***\n",
    "\n",
    "Directa:\n",
    "$$\n",
    "S(\\omega) = \\mathbb{FT}[s(t)] =  \\int_{-\\infty}^{\\infty} s(t) e^{-j\\omega t } dt,\n",
    "$$\n",
    "\n",
    "***\n",
    "\n",
    "Inversa:\n",
    "$$\n",
    "s(t) =  \\mathbb{FT}^{-1}[S(\\omega)] = \\frac{1}{2\\pi} \\int_{-\\infty}^{\\infty} S(\\omega) e^{j \\omega t } d\\omega,\n",
    "$$\n",
    "\n",
    "***"
   ]
  },
  {
   "cell_type": "markdown",
   "metadata": {
    "slideshow": {
     "slide_type": "subslide"
    }
   },
   "source": [
    "***\n",
    "\n",
    "### Ejemplo: Transformada de Fourier de pulso cuadrado\n",
    "\n",
    "Sea\n",
    "$$\n",
    "s(t) = \\begin{cases} 1, & |t| < T \\\\ 0, & |t| > T\\end{cases}\n",
    "$$\n",
    "\n",
    "su transformada de Fourier es\n",
    "$$\n",
    "\\begin{align}\n",
    "S(\\omega) &= \\int_{-\\infty}^{\\infty} s(t) e^{-j\\omega t } dt \\nonumber \\\\\n",
    "&= \\int_{-T}^{T} e^{-j\\omega t } dt \\nonumber \\\\\n",
    "&= \\frac{1}{-j\\omega} \\left(e^{-j\\omega T }  - e^{j\\omega T } \\right) \\nonumber \\\\\n",
    "&= \\frac{2}{\\omega}  \\sin(\\omega T) = 2T \\text{sinc}(\\omega T) \\nonumber \n",
    "\\end{align}\n",
    "$$"
   ]
  },
  {
   "cell_type": "code",
   "execution_count": null,
   "metadata": {
    "slideshow": {
     "slide_type": "fragment"
    }
   },
   "outputs": [],
   "source": [
    "plt.close('all'); fig, ax = plt.subplots(2, figsize=(6, 5))\n",
    "t = np.linspace(-5, 5, num=500); \n",
    "f = np.linspace(-25, 25, num=500)\n",
    "Fdict = np.cos(2.0*np.pi*t[:, np.newaxis]*f[:, np.newaxis].T)\n",
    "ax[0].set_xlabel('Time [s]'); ax[1].set_xlabel('Frequency [Hz]');\n",
    "line_square = ax[0].plot(t, np.zeros_like(t), linewidth=4); ax[0].set_ylim([-.1, 1.1])\n",
    "line_sinc = ax[1].plot(f, np.zeros_like(f), linewidth=4, label='analytic')\n",
    "#line_FT = ax[1].plot(f, np.zeros_like(f), linewidth=4, linestyle='--', label='numeric')\n",
    "ax[1].legend(loc=1)\n",
    "\n",
    "def update(T):    \n",
    "    s = np.zeros_like(t); s[(t> - T) & (t<  T)] = 1\n",
    "    S =  np.sum(s*Fdict, axis=1)*0.02\n",
    "    line_square[0].set_ydata(s); \n",
    "    line_sinc[0].set_ydata(2*T*np.sinc(2*f*T)); \n",
    "    #line_FT[0].set_ydata(S); \n",
    "    ax[1].set_ylim([np.amin(S)*1.2, np.amax(S)*1.2])\n",
    "\n",
    "interact(update, T=SelectionSlider_nice(options=[1/16, 1/8, 1/4, 1/2, 1, 2]));"
   ]
  },
  {
   "cell_type": "markdown",
   "metadata": {
    "slideshow": {
     "slide_type": "subslide"
    }
   },
   "source": [
    "***\n",
    "\n",
    "## Propiedades de la transformada de Fourier\n",
    "\n",
    "Sea $S(\\omega) = \\mathbb{FT} [s(t)]$\n",
    "\n",
    "- La FT es lineal\n",
    "$$\n",
    "\\mathbb{FT}[c_1 s_1(t) + c_2 s_2(t)] = c_1\\mathbb{FT}[s_1(t)] + c_2\\mathbb{FT}[s_2(t)] \n",
    "$$\n",
    "- Traslación\n",
    "$$\n",
    "\\mathbb{FT}[s(t \\pm \\tau)] = e^{\\pm j\\omega \\tau}\\mathbb{FT}[s(t)] \n",
    "$$\n",
    "\n",
    "- Escalamiento\n",
    "$$\n",
    "\\mathbb{FT}[s(\\beta t)] = \\frac{1}{|\\beta|} S \\left( \\frac{\\omega}{\\beta} \\right)\n",
    "$$\n",
    "\n",
    "- Propiedad de diferenciación\n",
    "$$\n",
    "\\mathbb{FT}\\left[\\frac{ds(t)}{dt}\\right] = j \\omega S(\\omega)\n",
    "$$\n",
    "***\n",
    "- La convolución en el tiempo es multiplicación en frecuencia \n",
    "$$\n",
    "\\mathbb{FT}[(s_1 * s_2)(t)] =  \\mathbb{FT}[s_1(t)] \\cdot \\mathbb{FT}[s_2(t)],\n",
    "$$\n",
    "donde \n",
    "$$\n",
    "(s_1 * s_2)(t) = \\int s_1(\\tau) s_2(t-\\tau) d\\tau\n",
    "$$\n",
    "es la operación de convolución\n",
    "- y viceversa\n",
    "$$\n",
    "\\mathbb{FT}[s_1(t)\\cdot s_2(t)] =  \\frac{1}{2\\pi}\\mathbb{FT}[s_1(t)] * \\mathbb{FT}[s_2(t)]  \n",
    "$$\n",
    "***\n",
    "- Dualidad\n",
    "$$\n",
    "\\mathbb{FT}[S(t)] = 2\\pi s(-\\omega)\n",
    "$$\n",
    "***\n",
    "- Teorema de Parseval\n",
    "$$\n",
    "\\int | s(t) |^2 dt = \\frac{1}{2\\pi} \\int | S(\\omega) |^2 d\\omega\n",
    "$$\n",
    "***"
   ]
  },
  {
   "cell_type": "markdown",
   "metadata": {
    "slideshow": {
     "slide_type": "subslide"
    }
   },
   "source": [
    "***\n",
    "\n",
    "### Anexo: Operación de convolución\n",
    "\n",
    "Convolución se define como:\n",
    "$$\n",
    "(s_1 * s_2)(t) = \\int s_1(\\tau) s_2(t-\\tau) d\\tau\n",
    "$$"
   ]
  },
  {
   "cell_type": "code",
   "execution_count": null,
   "metadata": {
    "slideshow": {
     "slide_type": "fragment"
    }
   },
   "outputs": [],
   "source": [
    "plt.close('all'); fig, ax = plt.subplots(2, figsize=(7, 4))\n",
    "t = np.arange(-4, 4, step=1e-2)\n",
    "\n",
    "def square_pulse(t, a=0, T=1):\n",
    "    s = np.zeros(shape=t.shape)\n",
    "    s[np.absolute(t-a)<T] = 0.5 + 0.5*(t[np.absolute(t-a)<T]-a)/T \n",
    "    return s\n",
    "lap_pulse = lambda t, a=0, s=1 : np.exp(-np.absolute(t-a)/s)\n",
    "conv_s = np.convolve(square_pulse(t), lap_pulse(t), mode='same')\n",
    "\n",
    "def update(a = 0): \n",
    "    ax[0].cla(); ax[1].cla()\n",
    "    p1, p2 = square_pulse(t, 0.1*a - 4), lap_pulse(t)\n",
    "    ax[0].plot(t, p2); ax[0].plot(t, p1); \n",
    "    ax[0].fill_between(t, 0, p1*p2, alpha=0.5)\n",
    "    ax[1].plot(t, conv_s[::-1]); ax[1].scatter(0.1*a -4, np.sum(p1*p2), s=100, c='k')\n",
    "    \n",
    "anim = animation.FuncAnimation(fig, update, frames=80, interval=100, blit=True)"
   ]
  },
  {
   "cell_type": "markdown",
   "metadata": {
    "slideshow": {
     "slide_type": "subslide"
    }
   },
   "source": [
    "***\n",
    "\n",
    "### Ejemplo: Transformada de Fourier de una delta de Dirac\n",
    "\n",
    "La delta de dirac se define como \n",
    "\n",
    "$$\n",
    "\\delta(t-t_0) = \\begin{cases} +\\infty, & t=t_0 \\\\ 0, & t\\neq t_0 \\end{cases}\n",
    "$$\n",
    "\n",
    "y su transformada de Fourier es\n",
    "$$\n",
    "\\begin{align}\n",
    "S(\\omega) &= \\int_{-\\infty}^{\\infty} \\delta(t-t_0) e^{-j\\omega t } dt \\nonumber\\\\\n",
    "&= e^{-j\\omega t_0} \\nonumber\n",
    "\\end{align}\n",
    "$$\n",
    "\n",
    "Notemos que\n",
    "\n",
    "$$\n",
    "\\delta(t-t_0) = \\mathbb{FT}^{-1} \\left[e^{-j\\omega t_0}\\right] = \\frac{1}{2\\pi} \\int_{-\\infty}^{\\infty} e^{-j\\omega (t-t_0)} d\\omega\n",
    "$$\n",
    "\n",
    "***\n",
    "\n",
    "### Ejemplo: Transformada de Fourier de una exponencial compleja\n",
    "\n",
    "Sea\n",
    "\n",
    "$$\n",
    "s(t) = e^{j\\omega_0 t}\n",
    "$$\n",
    "\n",
    "su transformada de Fourier es:\n",
    "$$\n",
    "\\begin{align}\n",
    "S(\\omega) &= \\int_{-\\infty}^{\\infty} e^{- j(\\omega-\\omega_0) t}  dt \\nonumber \\\\\n",
    "&= 2 \\pi \\delta(\\omega - \\omega_0)\\nonumber\n",
    "\\end{align}\n",
    "$$\n",
    "\n",
    "***Nota:*** Usando la propiedad de dualidad se llega al mismo resultado\n",
    "$$\n",
    "\\mathbb{FT}[S(t)=e^{-j t \\omega_0}] = 2\\pi\\delta(\\omega_0 - \\omega) = 2\\pi\\delta(\\omega - \\omega_0)\n",
    "$$\n",
    "\n",
    "***\n",
    "\n",
    "### Ejemplo: Transformada de Fourier de coseno\n",
    "\n",
    "Sea\n",
    "\n",
    "$$\n",
    "s(t) = \\cos(\\omega_0 t) = \\frac{1}{2} (e^{j\\omega_0 t} + e^{-j\\omega_0 t})\n",
    "$$\n",
    "\n",
    "su transformada de Fourier es:\n",
    "$$\n",
    "\\begin{align}\n",
    "S(\\omega) &= \\frac{1}{2} \\int_{-\\infty}^{\\infty} e^{- j(\\omega-\\omega_0) t}  + e^{- j(\\omega+\\omega_0) t} dt \\nonumber \\\\\n",
    "&= \\pi \\left[ \\delta(\\omega - \\omega_0) + \\delta(\\omega + \\omega_0) \\right]\\nonumber\n",
    "\\end{align}\n",
    "$$"
   ]
  },
  {
   "cell_type": "code",
   "execution_count": null,
   "metadata": {
    "slideshow": {
     "slide_type": "fragment"
    }
   },
   "outputs": [],
   "source": [
    "def plot_spectrum(axis, arrows, dirs, colors):\n",
    "    axis.plot([-2, 2], [0, 0], linestyle='--', linewidth=2, c='k', alpha=0.5)\n",
    "    axis.plot([0, 0], [-2, 2], linestyle='--', linewidth=2, c='k', alpha=0.5)\n",
    "    axis.set_xlim([-2 , 2]); axis.set_ylim([-1.5 , 1.5]);\n",
    "    for arrow, dire, color in zip(arrows, dirs, colors):\n",
    "        axis.arrow(arrow, 0, 0, dire, head_width=0.1, \n",
    "                   head_length=0.2, linewidth=2, fc=color, ec=color)\n",
    "        \n",
    "fig, ax = plt.subplots(3, 2, figsize=(6, 6))\n",
    "t = np.linspace(-2, 2, num=1000); \n",
    "y = np.cos(2.0*np.pi*t); ax[0, 0].plot(t, y, c='k');\n",
    "y = np.sin(2.0*np.pi*t); ax[0, 0].plot(t, y, c='r');\n",
    "plot_spectrum(ax[0, 1], [1], [1], ['k'])\n",
    "y = np.cos(2.0*np.pi*t); ax[1, 0].plot(t, y, c='k');\n",
    "plot_spectrum(ax[1, 1], [-1, 1], [1, 1], ['k', 'k'])\n",
    "y = np.sin(2.0*np.pi*t); ax[2, 0].plot(t, y, c='k');\n",
    "plot_spectrum(ax[2, 1], [-1, 1], [1, -1], ['r', 'r'])"
   ]
  },
  {
   "cell_type": "markdown",
   "metadata": {
    "slideshow": {
     "slide_type": "subslide"
    }
   },
   "source": [
    "***\n",
    "\n",
    "### Propiedades de la transformada de Fourier\n",
    "\n",
    "Con la transformada de la delta de Dirac podemos escribir\n",
    "$$\n",
    "\\begin{align}\n",
    "\\mathbb{FT}^{-1}[\\mathbb{FT}[s(t)]] &= \\frac{1}{2\\pi} \\int_{\\omega=-\\infty}^{\\infty}  \\int_{t'=-\\infty}^{\\infty} s(t') e^{-j\\omega t' } dt' e^{j \\omega t } d\\omega \\nonumber \\\\\n",
    "&= \\frac{1}{2\\pi} \\int_{t'=-\\infty}^{\\infty} s(t') \\int_{\\omega=-\\infty}^{\\infty}   e^{j \\omega (t -t')} d\\omega dt' \\nonumber  \\\\\n",
    "&= \\int_{t'=-\\infty}^{\\infty} s(t') \\delta(t-t') dt' \\nonumber \\nonumber  \\\\\n",
    "& = s(t) \\nonumber\n",
    "\\end{align}\n",
    "$$\n",
    "\n",
    "***\n",
    "### Propiedad de convolución de la FT\n",
    "\n",
    "$$\n",
    "\\begin{align}\n",
    "\\mathbb{FT}[(s_1 * s_2)(t)] &=  \\int_t \\int_\\tau  s_1(\\tau) s_2(t-\\tau) e^{-j\\omega t} d\\tau dt \\nonumber \\\\\n",
    "&=   \\int_\\tau  s_1(\\tau) e^{-j\\omega \\tau} d\\tau \\int_x s_2(x) e^{-j\\omega x}  dx \\nonumber \\\\\n",
    "&=  \\mathbb{FT}[s_1(t)] \\cdot \\mathbb{FT}[s_2(t)], \\nonumber \n",
    "\\end{align}\n",
    "$$\n",
    "\n",
    "***\n",
    "\n",
    "### Propiedad de modulación de la FT\n",
    "\n",
    "$$\n",
    "\\begin{align}\n",
    "\\mathbb{FT}[s_1(t) \\cdot s_2(t)] &=    \\int_t  s_1(t) s_2(t) e^{-j\\omega t}  dt \\nonumber \\\\\n",
    "&=  \\frac{1}{2\\pi} \\int_{\\widehat \\omega} S_1(\\widehat \\omega)  \\int_t  s_2(t) e^{-j(\\omega - \\widehat \\omega )t}  dt d\\widehat \\omega  \\nonumber \\\\\n",
    "&=  \\frac{1}{2\\pi} \\int_{\\widehat \\omega} S_1(\\widehat \\omega) S_2(\\omega-\\widehat \\omega) d\\widehat \\omega  \\nonumber \\\\\n",
    "&=  \\frac{1}{2\\pi} \\mathbb{FT}[s_1(t)] * \\mathbb{FT}[s_2(t)]  , \\nonumber \n",
    "\\end{align}\n",
    "$$\n",
    "\n",
    "que también se puede probar por dualidad\n",
    "***"
   ]
  },
  {
   "cell_type": "markdown",
   "metadata": {
    "slideshow": {
     "slide_type": "fragment"
    }
   },
   "source": [
    "## Caso práctico\n",
    "\n",
    "Sean $f_M(t)$ una señal cualquiera y $f_C(t) = \\cos(\\omega_c t)$\n",
    "\n",
    "Usando la propiedad de modulación tenemos\n",
    "\n",
    "$$\n",
    "\\begin{align}\n",
    "\\mathbb{FT}[f_M(t) f_C(t)] &= \\frac{1}{2\\pi} \\mathbb{FT}[f_M(t)] * \\mathbb{FT}[\\cos(\\omega_c t)] \\nonumber \\\\\n",
    "&= \\frac{1}{2} F_M(\\omega) * \\left[ \\delta(\\omega - \\omega_c) + \\delta(\\omega + \\omega_c) \\right] \\nonumber \\\\\n",
    "&= \\frac{1}{2} F_M(\\omega - \\omega_c) + \\frac{1}{2} F_M(\\omega + \\omega_c) \\nonumber\n",
    "\\end{align}\n",
    "$$\n",
    "\n",
    "El espectro de $f_M(t)$ se traslada en $\\pm \\omega_c$!\n",
    "\n",
    "### Modulación de amplitud (AM)\n",
    "\n",
    "Consideremos que:\n",
    "- El audio (onda mecánica) en rango audible está en $[20, 20k]$ [Hz]\n",
    "- Las ondas de radio (EM) están en el rango de los $\\sim$[GHz] y se transmiten bien en la atmósfera terrestre\n",
    "\n",
    "Luego:\n",
    "- Llamamos a $f_M(t)$ señal modulada, es la que contiene la información, *e.g.* una señal de voz grabada\n",
    "- Llamamos a $f_C(t)$ señal portadora, es la que \"acarrea\" la información, *e.g* una señal de radio a $1$ [MHz]\n",
    "- En este caso  particular la información corresponde a la amplitud de la portadora\n",
    "\n",
    "Es decir que:\n",
    "- La información de audio puede viajar en la atmosfera terrestre!\n",
    "- Se pueden tener múltiples canales enviando distintos $f_M(t)$\n"
   ]
  },
  {
   "cell_type": "markdown",
   "metadata": {
    "slideshow": {
     "slide_type": "subslide"
    }
   },
   "source": [
    "***\n",
    "\n",
    "### Ejemplo: Transformada de Fourier de una exponencial decayente\n",
    "\n",
    "Sea\n",
    "\n",
    "$$\n",
    "s(t) = \\begin{cases} e^{-\\gamma t} & t \\geq 0 \\\\ 0 & t<0 \\end{cases}\n",
    "$$\n",
    "\n",
    "Su transformada de Fourier es\n",
    "\n",
    "$$\n",
    "\\begin{align}\n",
    "S(\\omega) &= \\int_0^\\infty e^{-\\gamma t} e^{-j\\omega t} dt \\nonumber \\\\\n",
    "&= \\int_0^\\infty e^{-t (\\gamma +j\\omega)} dt \\nonumber \\\\\n",
    "&= \\frac{1}{\\gamma + j \\omega} = \\frac{\\gamma - j \\omega}{\\gamma^2 + \\omega^2} \\nonumber \\\\\n",
    "& = \\frac{1}{\\sqrt{\\gamma^2 + \\omega^2}} e^{j \\tan^{-1}(-\\omega/\\gamma)} = |S(\\omega)| e^{j\\Phi(\\omega)} \\nonumber \n",
    "\\end{align}\n",
    "$$"
   ]
  },
  {
   "cell_type": "markdown",
   "metadata": {
    "slideshow": {
     "slide_type": "subslide"
    }
   },
   "source": [
    "***\n",
    "\n",
    "## Definición: Espectros de amplitud y fase\n",
    "\n",
    "Sea la transformada de Fourier de una función general $s(t)$, podemos escribirla como\n",
    "\n",
    "$$\n",
    "S(\\omega) = |S(\\omega)| e^{j\\Phi(\\omega)},\n",
    "$$\n",
    "\n",
    "donde $|S(\\omega)|$ se conoce como **espectro de amplitud** y $\\Phi(\\omega)$ como **espectro de fase**\n",
    "\n",
    "Para el ejemplo anterior:"
   ]
  },
  {
   "cell_type": "code",
   "execution_count": null,
   "metadata": {
    "slideshow": {
     "slide_type": "fragment"
    }
   },
   "outputs": [],
   "source": [
    "fig, ax = plt.subplots(3, figsize=(6, 5))\n",
    "t = np.linspace(-2, 5, num=200); s = np.zeros_like(t); \n",
    "line_s = ax[0].plot(t, s); ax[0].set_ylim([-.2, 1.2])\n",
    "w = np.linspace(-5, 5, num=200); Sa = np.zeros_like(w); Sp = np.zeros_like(w)\n",
    "line_sa = ax[1].plot(w, Sa); ax[1].set_title(\"Espectro de magnitud\")\n",
    "line_sp = ax[2].plot(w, Sp); ax[2].set_ylim([-np.pi/2, np.pi/2]); ax[2].set_title(\"Espectro de fase\")\n",
    "def update(gamma):\n",
    "    s[t>0] = np.exp(-gamma*t[t>0])\n",
    "    line_s[0].set_ydata(s); \n",
    "    line_sa[0].set_ydata(1/(gamma**2+w**2)); ax[1].set_ylim([-0.2, 1.1/gamma**2])\n",
    "    line_sp[0].set_ydata(np.arctan(-w/gamma)); \n",
    "\n",
    "interact(update, gamma=SelectionSlider_nice(description=r\"$\\gamma$\", options=[0.25, 0.5, 1, 2, 4], value=1));"
   ]
  },
  {
   "cell_type": "markdown",
   "metadata": {
    "slideshow": {
     "slide_type": "slide"
    }
   },
   "source": [
    "***\n",
    "\n",
    "<a id=\"section3\"></a>\n",
    "[Volver al índice](#index)\n",
    "\n",
    "# Principio o Teorema de incertidumbre\n",
    "\n",
    "***\n",
    "\n",
    "El principio de incertidumbre de Heisenberg nos dice que la precisión (certeza) con que medimos la posición de una particula es inversamente proporcional a la precisión con que medimos su momentum lineal:\n",
    "\n",
    "$$\n",
    "\\Delta x \\Delta p \\geq \\frac{h}{4\\pi},\n",
    "$$\n",
    "\n",
    "donde $h$ es la constante de Planck. \n",
    "\n",
    "**En señales existe un principio análogo:** No podemos especificar con infinita precisión la localización temporal y frecuencial de una señal al mismo tiempo.\n",
    "\n",
    "***\n",
    "\n",
    "### Ejemplo: Pulso cuadrado\n",
    "\n",
    "Teníamos\n",
    "\n",
    "$$\n",
    "s(t) = \\begin{cases} 1, & |t| < T \\\\ 0, & |t| > T\\end{cases}\n",
    "$$\n",
    "\n",
    "con\n",
    "\n",
    "$$\n",
    "S(\\omega) = \\mathbb{FT}[s(t)] = 2T \\text{sinc}(\\omega T)\n",
    "$$\n",
    "\n",
    "y notamos que a mayor ancho en tiempo menor ancho en frecuencia y viceversa. \n",
    "\n",
    "Definiendo la resolución o ancho de la señal como la distancia entre sus cruces por cero, es fácil verificar que:\n",
    "\n",
    "- $\\Delta t = 2T$\n",
    "- $\\Delta \\omega =  \\omega|_{\\text{sinc}(- \\omega T) = 0}^{\\text{sinc}(\\omega T) = 0} = \\frac{2\\pi}{T}$\n",
    "- $\\Delta t \\Delta \\omega = 4 \\pi$\n",
    "\n",
    "Es decir a menor ancho en el tiempo, mayor ancho en frecuencia y viceverza"
   ]
  },
  {
   "cell_type": "code",
   "execution_count": null,
   "metadata": {
    "slideshow": {
     "slide_type": "fragment"
    }
   },
   "outputs": [],
   "source": [
    "plt.close('all'); fig, ax = plt.subplots(1, 2, figsize=(6, 3))\n",
    "t = np.linspace(-5, 5, num=500); f = np.linspace(-5, 5, num=500)\n",
    "ax[0].set_xlabel('Time [s]'); ax[1].set_xlabel('Frequency [Hz]');\n",
    "line_square = ax[0].plot(t, np.zeros_like(t), linewidth=4); ax[0].set_ylim([-.1, 1.1])\n",
    "line_gabor1 = ax[0].plot([-1, 1], [0, 0], 'r--')\n",
    "line_sinc = ax[1].plot(f, np.zeros_like(f), linewidth=4)\n",
    "line_gabor2 = ax[1].plot([-0.5, 0.5], [0, 0], 'r--')\n",
    "\n",
    "def update(T):    \n",
    "    s = np.zeros_like(t); s[(t> - T) & (t<  T)] = 1    \n",
    "    line_square[0].set_ydata(s);  line_gabor1[0].set_xdata([-T, T])\n",
    "    S = 2*T*np.sinc(2*f*T); line_sinc[0].set_ydata(S); \n",
    "    line_gabor2[0].set_xdata([-0.5/T, 0.5/T])\n",
    "    ax[1].set_ylim([-2*T/np.pi, 2.2*T])\n",
    "    \n",
    "interact(update, T=SelectionSlider_nice(options=[1/8, 1/4, 1/2, 1, 2, 4], value=1));"
   ]
  },
  {
   "cell_type": "markdown",
   "metadata": {
    "slideshow": {
     "slide_type": "subslide"
    }
   },
   "source": [
    "***\n",
    "\n",
    "### Intuición: Resolución frecuencial de una sinusoide"
   ]
  },
  {
   "cell_type": "code",
   "execution_count": null,
   "metadata": {
    "slideshow": {
     "slide_type": "fragment"
    }
   },
   "outputs": [],
   "source": [
    "plt.close('all'); fig, ax = plt.subplots(figsize=(7, 3))\n",
    "t = np.arange(-4, 4, step=1e-2)\n",
    "def update(dt):\n",
    "    ax.cla(); ax.plot(t, np.cos(2.0*np.pi*t))\n",
    "    ax.plot(t, np.cos(2.0*np.pi*(1.0+0.125/dt)*t))\n",
    "    rect = patches.Rectangle((-dt, -1), 2*dt, 2, fill=False, lw=2)\n",
    "    ax.add_patch(rect)\n",
    "interact(update, dt=SelectionSlider_nice(options=[0.5, 1., 2.]));"
   ]
  },
  {
   "cell_type": "markdown",
   "metadata": {
    "slideshow": {
     "slide_type": "subslide"
    }
   },
   "source": [
    "Denis Gabor (1946) fue el primero en darse cuenta de que el principio de incertidumbre aplica para señales. Formalmente su teorema:\n",
    "\n",
    "Para una señal con energía finita \n",
    "$$\n",
    "E = \\int |s(t)|^2 dt\n",
    "$$\n",
    "con valor medio \n",
    "$$\n",
    "\\langle t \\rangle = \\frac{1}{E} \\int t |s(t)|^2 dt,\n",
    "$$\n",
    "y varianza temporal\n",
    "$$\n",
    "(\\Delta t)^2 = \\frac{1}{E} \\int (t - \\langle t \\rangle)^2 |s(t)|^2 dt,\n",
    "$$\n",
    "cuya transformada de Fourier $\\mathbb{FT}[s(t)] = S(\\omega)$ tiene un valor medio en frecuencia\n",
    "$$\n",
    "\\langle \\omega \\rangle = \\frac{1}{E} \\int (\\omega - \\langle \\omega \\rangle) |S (\\omega)|^2 d \\omega\n",
    "$$\n",
    "y varianza frecuencial\n",
    "$$\n",
    "(\\Delta \\omega)^2 = \\frac{1}{E} \\int (\\omega - \\langle \\omega \\rangle)^2 |S(\\omega)|^2 d\\omega\n",
    "$$\n",
    "\n",
    "***\n",
    "Entonces se cumple que\n",
    "\n",
    "$$\n",
    "\\Delta t \\Delta \\omega \\geq \\frac{1}{2},\n",
    "$$\n",
    "\n",
    "es decir $\\Delta t$ y $\\Delta \\omega$ no pueden ser arbitrariamente pequeños. Esto se conoce también como límite de Gabor\n",
    "\n",
    "***\n"
   ]
  },
  {
   "cell_type": "markdown",
   "metadata": {
    "slideshow": {
     "slide_type": "subslide"
    }
   },
   "source": [
    "***\n",
    "\n",
    "### Ejemplo: Transformada de Fourier de una Gaussiana\n",
    "\n",
    "La función Gaussiana se define como\n",
    "\n",
    "$$\n",
    "s(t) = \\alpha e^{- \\beta t^2}\n",
    "$$\n",
    "y su transformada de Fourier es\n",
    "\n",
    "$$\n",
    "\\begin{align}\n",
    "S(\\omega) &= \\alpha \\int  e^{- \\beta t^2} e^{-j\\omega t} dt \\nonumber \\\\\n",
    "&= \\alpha e^{- \\frac{\\omega^2}{4\\beta}}\\int e^{-\\beta (t + \\frac{j\\omega}{2\\beta})^2 } dt \\nonumber \\\\\n",
    "&= \\alpha e^{- \\frac{\\omega^2}{4\\beta}} \\sqrt{\\frac{\\pi}{\\beta}} = \\hat \\alpha e^{- \\hat \\beta \\omega^2}, \\nonumber \n",
    "\\end{align}\n",
    "$$\n",
    "es decir otra gaussiana.\n",
    "\n",
    "La gaussiana es la unica función que cumple $\\Delta t \\Delta \\omega = \\frac{1}{2}$"
   ]
  },
  {
   "cell_type": "markdown",
   "metadata": {
    "slideshow": {
     "slide_type": "subslide"
    }
   },
   "source": [
    "***\n",
    "\n",
    "## Definiciones\n",
    "\n",
    "- Función limitada en el tiempo\n",
    "$$\n",
    "s(t) = 0 \\quad \\forall |t| > T,\n",
    "$$\n",
    "para alguna constante $T$\n",
    "\n",
    "- Función limitada en ancho de banda\n",
    "$$\n",
    "S(\\omega) = 0 \\quad \\forall |\\omega| > \\Omega,\n",
    "$$\n",
    "para alguna constante $\\Omega$"
   ]
  },
  {
   "cell_type": "markdown",
   "metadata": {
    "slideshow": {
     "slide_type": "subslide"
    }
   },
   "source": [
    "***\n",
    "\n",
    "## Enventanado\n",
    "\n",
    "- En la práctica no trabajamos con señales de duración infinita\n",
    "- Una señal de duración infinita puede hacerse finita multiplicando por una **ventana** finita\n",
    "- Por ejemplo\n",
    "$$\n",
    "s_T(t) = \\cos(\\omega_0 t) \\text{rect}(t/T),\n",
    "$$\n",
    "donde \n",
    "$$\n",
    "\\text{rect}(x) = \\begin{cases} 1 & |x| \\leq 1 \\\\ 0 & |x| > 0 \\end{cases}\n",
    "$$\n",
    "es una ventana rectangular, *i.e.* pulso cuadrado\n",
    "\n",
    "¿Cúal es la transformada de Fourier de $s_T(t)$?\n",
    "\n",
    "$$\n",
    "\\begin{align}\n",
    "S_T(\\omega) &= \\int s_T(t) e^{-j\\omega t} dt \\nonumber \\\\\n",
    "&= \\int_{-T}^T \\cos(\\omega_0 t) \\cos(\\omega t) dt \\nonumber \\\\\n",
    "&= T \\text{sinc}((\\omega - \\omega_0)T) +  T \\text{sinc}((\\omega + \\omega_0)T) \\nonumber \n",
    "\\end{align}\n",
    "$$\n",
    "\n",
    "\n",
    "Donde usamos que \n",
    "$$\n",
    "2 \\cos(\\alpha)\\cos(\\beta) = \\cos(\\alpha - \\beta) +  \\cos(\\alpha + \\beta)\n",
    "$$\n",
    "\n",
    "Que también se resuelve usando la propiedad de modulación\n",
    "$$\n",
    "\\begin{align}\n",
    "S_T(\\omega) &= T \\text{sinc}((\\omega - \\omega_0)T) +  T \\text{sinc}((\\omega + \\omega_0)T) \\nonumber \\\\\n",
    "&=  T \\text{sinc}(\\omega T) * \\left[ \\delta(\\omega - \\omega_0) + \\delta(\\omega + \\omega_0) \\right] \\nonumber \\\\\n",
    "&= \\frac{1}{2\\pi} \\mathbb{FT}[\\text{rect}(t/T)] * \\mathbb{FT}[\\cos(\\omega_0 t)] \\nonumber\n",
    "\\end{align}\n",
    "$$\n",
    "\n",
    "- Es decir que multiplicar por una ventana rectangular en el tiempo es equivalente a convolucionar con un sinc en frecuencia\n",
    "- ¿Qué repercusión tiene esto en el espectro?"
   ]
  },
  {
   "cell_type": "code",
   "execution_count": null,
   "metadata": {
    "slideshow": {
     "slide_type": "fragment"
    }
   },
   "outputs": [],
   "source": [
    "plt.close('all'); fig, ax = plt.subplots(2, figsize=(6, 4))\n",
    "f = np.linspace(-3, 3, num=500)\n",
    "def update(T, window):\n",
    "    t = np.arange(-T, T, step=1e-2); \n",
    "    tf = np.cos(2.0*np.pi*t[:, np.newaxis]*f[:, np.newaxis].T);\n",
    "    if window == \"rect\":\n",
    "        w = np.ones_like(t)\n",
    "    elif window == \"gaussian\":\n",
    "        w = np.exp(-0.5*t**2/(0.333*T)**2)\n",
    "    s = w*np.cos(2.0*np.pi*t); \n",
    "    S = np.average(s[:, np.newaxis]*tf, axis=0)\n",
    "    ax[0].cla(); ax[1].cla(); ax[0].set_title(r'$s_T(t) = rect(t/T)cos(2\\pi t)$')\n",
    "    ax[0].plot(t, s); ax[1].plot(f, S); ax[1].set_title(r'$\\Re[S_T(f)]$')\n",
    "interact(update, T=SelectionSlider_nice(options=[0.5, 1, 2, 4, 8, 16], value=8),\n",
    "         window=SelectionSlider_nice(options=[\"rect\", \"gaussian\"]));"
   ]
  },
  {
   "cell_type": "markdown",
   "metadata": {
    "slideshow": {
     "slide_type": "slide"
    }
   },
   "source": [
    "***\n",
    "[Volver al índice](#index)\n",
    "\n",
    "<a id=\"section4\"></a>\n",
    "\n",
    "# Transformada de Fourier Discreta (DFT)\n",
    "\n",
    "***\n",
    "\n",
    "- Nos interesa trabajar con señales digitales que están muestreadas en el tiempo\n",
    "- Asumimos que la señal fue observada en un ventana de tiempo de ancho $T = t_z - t_a$ [s]\n",
    "- Digamos que existe un sistema muestreador con frecuencia de muestreo $F_s$ [Hz] tal que\n",
    "$$\n",
    "s(t) = \\sum_{n=0}^{N-1} s[n] \\delta(t - n/F_s),\n",
    "$$\n",
    "y que hemos tomado $N = T F_s$ muestras de $s(t)$\n",
    "- Reemplazando en la transformada de Fourier\n",
    "$$\n",
    "\\begin{align}\n",
    "S(\\omega) &= \\int s(t) e^{-j\\omega t} dt \\nonumber \\\\\n",
    "&= \\int \\sum_{n=0}^{N-1} s[n] \\delta(t - n/F_s) e^{-j\\omega t} dt \\nonumber \\\\\n",
    "&=  \\sum_{n=0}^{N-1} s[n] \\int \\delta(t - n/F_s) e^{-j\\omega t} dt \\nonumber \\\\\n",
    "&=  \\sum_{n=0}^{N-1} s[n] e^{-j\\omega n/F_s} \\nonumber \n",
    "\\end{align}\n",
    "$$\n",
    "- Definiendo entonces $\\omega = 2 \\pi f = 2 \\pi k \\Delta f$ donde $\\Delta f = \\frac{1}{T} = \\frac{F_s}{N}$ y reemplazando \n",
    "$$\n",
    "S[k] =  \\sum_{n=0}^{N-1} s[n] e^{-j \\frac{2 \\pi}{N} k n},\n",
    "$$\n",
    "donde $k = [0, 1, \\ldots N-1]$, ¿A qué frecuencias corresponden estos índices?\n"
   ]
  },
  {
   "cell_type": "markdown",
   "metadata": {
    "slideshow": {
     "slide_type": "subslide"
    }
   },
   "source": [
    "***\n",
    "\n",
    "## Propiedades de la DFT\n",
    "\n",
    "- La DFT comparte las propiedades de la FT\n",
    "- Esto incluye la propiedad de convolución, pero usando la **convolución circular** para secuencias de largo $N$\n",
    "$$\n",
    "\\begin{align}\n",
    "S_1[k] S_2[k] &= (s_1 \\otimes s_2)[n] \\nonumber \\\\\n",
    "&= \\sum_{m=0}^N s_1[m] s_2[(n-m)_N] \\nonumber\n",
    "\\end{align}\n",
    "$$\n",
    "donde \n",
    "$$\n",
    "(n-m)_N = \\begin{cases} n-m & m<n<N \\\\ N - (n-m) & 0\\leq n<m \\end{cases}\n",
    "$$\n",
    "Existe una equivalencia entre la convolución circular y lineal \n",
    "$$\n",
    "(s_1 \\otimes s_2)[n] = (s_{p1} * s_{p2})[n]\n",
    "$$\n",
    "donde\n",
    "$$\n",
    "s_{p1}[n] = \\begin{cases} s_1[n] & 0 \\leq n < N \\\\ 0 & N \\leq n < 2N \\end{cases}\n",
    "$$\n",
    "corresponde a la secuencia original estirada agregando ceros al final (*zero padding*)\n",
    "\n",
    "- La DFT es periódica, con período $N$\n",
    "\n",
    "$$\n",
    "\\begin{align}\n",
    "S[k+N] &= \\sum_{n=0}^{N-1} s[n] e^{-j \\frac{2 \\pi}{N} (k+N) n} \\nonumber \\\\\n",
    "&=   \\sum_{n=0}^{N-1} s[n] e^{-j \\frac{2 \\pi}{N} k n} e^{-j 2 \\pi n} \\nonumber \\\\\n",
    "&= \\sum_{n=0}^{N-1} s[n] e^{-j \\frac{2 \\pi}{N} k n} \\nonumber \n",
    "\\end{align}\n",
    "$$"
   ]
  },
  {
   "cell_type": "markdown",
   "metadata": {
    "slideshow": {
     "slide_type": "subslide"
    }
   },
   "source": [
    "***\n",
    "\n",
    "## Frecuencia de Nyquist\n",
    "\n",
    "- Es la frecuencia más alta con que puede representarse una señal muestreada a $F_s$\n",
    "- Su valor es $\\frac{F_s}{2}$\n",
    "\n",
    "***\n",
    "## Rango frecuencial de la DFT\n",
    "\n",
    "Considerando la frecuencia de Nyquist y la periodicidad de la DFT la correspondencia entre índices y frecuencias es\n",
    "$$\n",
    "\\begin{matrix}\n",
    "k & f = k \\frac{F_s}{N} [Hz] \\\\\n",
    "\\hline\n",
    "0 & 0\\\\\n",
    "1 & \\frac{F_s}{N}\\\\\n",
    "2 & \\frac{2 F_s}{N}\\\\\n",
    "\\vdots & \\vdots\\\\\n",
    "N/2 -1 & \\frac{F_s}{2} - \\frac{F_s}{N} \\\\\n",
    "N/2 & \\frac{F_s}{2} = -\\frac{F_s}{2}\\\\\n",
    "N/2+1 &  \\frac{F_s}{2} + \\frac{F_s}{N} = - \\frac{F_s}{2}  + \\frac{F_s}{N} \\\\\n",
    "\\vdots & \\vdots\\\\\n",
    "N-2 & -\\frac{2 F_s}{N} \\\\\n",
    "N-1 & -\\frac{F_s}{N}\\\\\n",
    "\\end{matrix}\n",
    "$$"
   ]
  },
  {
   "cell_type": "markdown",
   "metadata": {
    "slideshow": {
     "slide_type": "subslide"
    }
   },
   "source": [
    "***\n",
    "\n",
    "## DFT como producto matricial\n",
    "\n",
    "Sea $\\{s_n\\}_{n=0,\\ldots,N-1}$ y definiendo \n",
    "\n",
    "$$\n",
    "W_N = e^{-j \\frac{2\\pi}{N}} = \\cos \\left(\\frac{2\\pi}{N}\\right) - j \\sin \\left(\\frac{2\\pi}{N}\\right)\n",
    "$$\n",
    "\n",
    "podemos expresar la transformada de Fourier discreta como\n",
    "\n",
    "$$\n",
    "S[k] =  \\sum_{n=0}^{N-1} s[n] W_N^{kn}, \\quad k = [0, 1, \\ldots N-1],\n",
    "$$\n",
    "\n",
    "que también puede ser expresado matricialmente como\n",
    "\n",
    "$$\n",
    "\\begin{align}\n",
    "\\begin{pmatrix} \n",
    "S[0] \\\\\n",
    "S[1] \\\\\n",
    "S[2] \\\\\n",
    "\\vdots \\\\\n",
    "S[N-1] \\\\\n",
    "\\end{pmatrix} &=\n",
    "\\begin{pmatrix}\n",
    "1 & 1 & 1 & \\cdots & 1 \\\\\n",
    "1 & W_N & W_N^2 & \\cdots & W_N^{N-1} \\\\\n",
    "1 & W_N^2 & W_N^4 & \\cdots & W_N^{N-2} \\\\\n",
    "\\vdots & \\dots & \\dots & \\ddots &  \\vdots \\\\\n",
    "1 & W_N^{N-1} & W_N^{N-2} & \\cdots & W_N \\\\\n",
    "\\end{pmatrix} \n",
    "\\begin{pmatrix} \n",
    "s[0] \\\\\n",
    "s[1] \\\\\n",
    "s[2] \\\\\n",
    "\\vdots \\\\\n",
    "s[N-1] \\\\\n",
    "\\end{pmatrix} \\nonumber  \\\\\n",
    "S &= \\Omega s,\n",
    "\\end{align}\n",
    "$$\n",
    "\n",
    "\n",
    "Notemos que:\n",
    "- Por definición $W_N^{kn} = \\left(e^{-j \\frac{2\\pi}{N}}\\right)^{kn} = e^{-j \\frac{2\\pi}{N}kn}$\n",
    "- Por periodicidad $W_N^{2(N-1)} = W_N^{2(N-1) - N}  = W_N^{N-2}$\n",
    "- También se tiene simetría hermítica: $W_N^{k(-n)} = W_N^{-kn} = (W_N^{kn})^*$\n",
    "- $\\Omega$ es una matriz cuadrada y simétrica \n",
    "- Las norma de las columnas/filas es N\n",
    "$$\n",
    "\\langle x_k, x_k^*\\rangle = \\sum_{n=0}^{N-1} W_N^{kn} W_N^{-kn} = \\sum_{n=0}^{N-1} W_N^{0} = N\n",
    "$$\n",
    "- Las filas/columnas son ortogonales (asumiendo $k \\neq p$)\n",
    "$$\n",
    "\\langle x_k, x_p^*\\rangle = \\sum_{n=0}^{N-1} W_N^{(k-p)n} = \\frac{1 - W_N^{(k-p)N}}{1 - W_N^{k-p}}\n",
    "$$\n",
    "ya que $W_N^{N(k-p)} = \\cos(2\\pi (k-p)) + j \\sin(2 \\pi (k-p)) = 1$\n",
    "\n",
    "***\n",
    "La DFT tiene complejidad cuadrática: $N^2$ multiplicaciones y $N$ sumas\n",
    "***"
   ]
  },
  {
   "cell_type": "markdown",
   "metadata": {
    "slideshow": {
     "slide_type": "subslide"
    }
   },
   "source": [
    "### Ejemplo\n",
    "\n",
    "Sea $S=\\{S[0], S[1], S[2], S[3]\\}^T$ podemos encontrar $s$ usando\n",
    "\n",
    "$$\n",
    "S= \n",
    "\\begin{pmatrix} \n",
    "S[0] \\\\\n",
    "S[1] \\\\\n",
    "S[2] \\\\\n",
    "S[3] \n",
    "\\end{pmatrix} =\n",
    "\\begin{pmatrix}\n",
    "1 & 1  & 1 & 1\\\\\n",
    "1 & W_4  & W_4^2 & W_4^3 \\\\\n",
    "1 & W_4^2  & W_4^4 & W_4^2 \\\\\n",
    "1 & W_4^3  & W_4^2 & W_4 \\\\\n",
    "\\end{pmatrix} \n",
    "s = \\begin{pmatrix}\n",
    "1 & 1  & 1 & 1\\\\\n",
    "1 & -j  & -1 & j \\\\\n",
    "1 & -1  & 1 & -1 \\\\\n",
    "1 & j  & -1 & -j \\\\\n",
    "\\end{pmatrix} \n",
    "s\n",
    "$$\n",
    "\n",
    "Luego sólo tenemos que encontrar el inverso de $\\Omega$"
   ]
  },
  {
   "cell_type": "code",
   "execution_count": null,
   "metadata": {},
   "outputs": [],
   "source": [
    "np.linalg?"
   ]
  },
  {
   "cell_type": "code",
   "execution_count": null,
   "metadata": {
    "slideshow": {
     "slide_type": "fragment"
    }
   },
   "outputs": [],
   "source": [
    "4*np.linalg.inv([[1, 1, 1, 1], \n",
    "                 [1, -1j, -1, 1j], \n",
    "                 [1, -1, 1, -1], \n",
    "                 [1, 1j, -1, -1j]])"
   ]
  },
  {
   "cell_type": "markdown",
   "metadata": {
    "slideshow": {
     "slide_type": "fragment"
    }
   },
   "source": [
    "$$\n",
    "\\Omega^{-1} = \\frac{1}{4}\n",
    "\\begin{pmatrix}\n",
    "1 & 1 & 1 &  1 \\\\\n",
    "1 & j & -1 &  -j \\\\\n",
    "1 & -1 & 1 &  -1 \\\\\n",
    "1 & -j & -1  & j \\\\\n",
    "\\end{pmatrix} = \\frac{1}{4} \\Omega^*\n",
    "$$\n",
    "\n",
    "Notemos que\n",
    "- El inverso de $\\Omega$ es su complejo conjugado dividido N\n",
    "- Se puede verificar que esto ocurre para todo N\n",
    "\n",
    "***\n",
    "En resumen podemos recuperar $s$ a partir de $S$ usando\n",
    "\n",
    "$$\n",
    "s = \\frac{1}{N} \\Omega^* S\n",
    "$$\n",
    "\n",
    "o \n",
    "\n",
    "$$\n",
    "s[n] = \\frac{1}{N} \\sum_{k=0}^{N-1} S[k] W_N^{-kn}, \\quad n = [0, 1, \\ldots N-1]\n",
    "$$\n",
    "\n",
    "que corresponde a la DFT inversa y cuya únicas diferencias con la DFT son el factor $\\frac{1}{N}$ y el signo del exponente\n",
    "\n",
    "***\n",
    "\n",
    "- Explotaremos estas estructuras cuando derivemos la transformada rápida de Fourier"
   ]
  },
  {
   "cell_type": "markdown",
   "metadata": {
    "slideshow": {
     "slide_type": "subslide"
    }
   },
   "source": [
    "- La DFT es periódica y su período es la frecuencia de Nyquist\n",
    "- Veremos que esto se conecta con el fenómeno de aliasing"
   ]
  },
  {
   "cell_type": "code",
   "execution_count": null,
   "metadata": {
    "slideshow": {
     "slide_type": "fragment"
    }
   },
   "outputs": [],
   "source": [
    "from scipy.signal import square\n",
    "plt.close('all'); fig, ax = plt.subplots(2, 2, figsize=(6, 4))\n",
    "t, dt = np.linspace(0, 5, num=200, endpoint=False, retstep=True); \n",
    "f = np.linspace(-1/dt, 1/dt, num=2*len(t), endpoint=False) \n",
    "tf = 2.0*np.pi*t[:, np.newaxis]*f[:,np.newaxis].T\n",
    "\n",
    "def update(f0):\n",
    "    for i, s in enumerate([np.sin(2.0*np.pi*f0*t), square(2.0*np.pi*f0*t)]):\n",
    "        ax[0, i].cla(); ax[0, i].plot(t, s, linewidth=2);        \n",
    "        S = np.dot(s, np.exp(-1j*tf)); \n",
    "        ax[1, i].cla(); ax[1, i].plot(f, np.absolute(S));\n",
    "        ax[1, i].set_xticks([-20, 20])\n",
    "interact(update, f0=SelectionSlider_nice(options=[1, 2, 5, 10, 19.99, 30]));"
   ]
  },
  {
   "cell_type": "markdown",
   "metadata": {
    "slideshow": {
     "slide_type": "slide"
    }
   },
   "source": [
    "***\n",
    "[Volver al índice](#index)\n",
    "\n",
    "<a id=\"section5\"></a>\n",
    "\n",
    "# Efectos del muestreo  y el enventanado en la DFT\n",
    "\n",
    "***\n",
    "\n",
    "Muestrear es equivalente a multiplicar una señal continua por un tren de impulsos (peineta de Dirac)\n",
    "\n",
    "$$\n",
    "\\text{III}_{T}(t) = \\sum_{m=-\\infty}^\\infty \\delta[t - m T],\n",
    "$$\n",
    "donde $T=\\frac{1}{F_s}$. La transformada de Fourier del tren de impulsos (por demostrar) es\n",
    "$$\n",
    "\\mathbb{FT}[\\text{III}_T] =  2\\pi F_s \\sum_{m=-\\infty}^\\infty  \\delta(\\omega - 2\\pi m F_s)\n",
    "$$\n",
    "\n",
    "Multiplicar en el tiempo corresponde a convolucionar en frecuencia\n",
    "\n",
    "$$\n",
    "\\begin{align}\n",
    "\\mathbb{FT}[s(t) \\text{III}(t)] &= \\mathbb{FT}[s(t)] * \\mathbb{FT}[\\text{III}_T(t)] \\nonumber \\\\\n",
    "&= S(\\omega) * 2\\pi F_s \\sum_{m=-\\infty}^\\infty  \\delta(\\omega - 2\\pi m F_s) \\nonumber \\\\\n",
    "&= 2\\pi F_s \\sum_{m = -\\infty}^{\\infty} S(\\omega - 2 \\pi m F_s) \\nonumber\n",
    "\\end{align}\n",
    "$$\n",
    "- ¿Puedes explicar con palabras simples que ocurre con el espectro de la señal continua al muestrear?\n",
    "\n",
    "<img src=\"img/fft-sampling1.png\">\n",
    "\n",
    "- ¿Qué ocurre cuando el espectro tienes contenido a frecuencias mayores que $F_s/2$?\n",
    "<img src=\"img/fft-sampling2.png\">"
   ]
  },
  {
   "cell_type": "markdown",
   "metadata": {
    "slideshow": {
     "slide_type": "subslide"
    }
   },
   "source": [
    "***\n",
    "## Aliasing\n",
    "\n",
    "- El espectro de una señal muestreada es periódico en $F_s$\n",
    "- Si originalmente la señal tenía componentes con frecuencias mayores a $F_s/2$ se produce un \"traslape espectral\"\n",
    "- Este fenomeno se llama *aliasing* y los componentes traslapados se denominan *aliases*\n",
    "- Cuando existe aliasing no se puede reconstruir la señal original\n",
    "\n",
    "El **teorema del muestreo** (unidad anterior) nos dice que una señal muestreada a $F_s$ con frecuencias menores a $F_s/2$ puede reconstruirse perfectamente\n",
    "\n",
    "Podemos forzar esta condición mediante\n",
    "- Filtrado: Eliminar las frecuencias mayores a $Fs/2$\n",
    "- Aumentar $F_s$ tal que sea dos veces mayor que la frecuencia máxima de interés\n",
    "\n",
    "\n",
    "### Ejemplo:\n",
    "- Se tiene una señal con tres componentes a 1Hz, 12Hz y 23Hz, respectivamente\n",
    "- Modifica la frecuencia de muestreo y detecta los componentes erroneos o aliases en el espectro\n",
    "- Verifica como afectan a la reconstrucción de la señal"
   ]
  },
  {
   "cell_type": "code",
   "execution_count": null,
   "metadata": {
    "slideshow": {
     "slide_type": "fragment"
    }
   },
   "outputs": [],
   "source": [
    "fig, ax = plt.subplots(4, figsize=(6, 6));\n",
    "t = np.arange(-3, 3, step=0.01); N = len(t)\n",
    "s =  np.cos(2*np.pi*t) - 0.5*np.sin(2.0*np.pi*12*t + np.pi/3) + 0.25*np.sin(2.0*np.pi*23*t) \n",
    "ax[0].plot(t, s, '-'); ax[0].set_title('Original')\n",
    "\n",
    "def update(Fs):    \n",
    "    t_short = t[::int(100/Fs)]; s_short = s[::int(100/Fs)]\n",
    "    ax[1].cla(); ax[1].plot(t_short, s_short, '.'); ax[1].set_title('Sampled at %0.2f' %(Fs))\n",
    "    S = fftpack.fft(s_short); f = fftpack.fftshift(fftpack.fftfreq(n=len(S), d=1.0/Fs)); \n",
    "    ax[2].cla(); ax[2].plot(f, fftpack.fftshift((np.absolute(S))), linewidth=2);\n",
    "    S_pad = np.concatenate((S[:int(len(S)/2)], np.zeros(shape=(N-len(S))), S[int(len(S)/2):]))\n",
    "    ax[2].set_title('Spectrum '); s_recon = np.real(fftpack.ifft(S_pad))\n",
    "    ax[3].cla(); ax[3].plot(t, s_recon*len(t)/len(t_short), '-', linewidth=2); \n",
    "    ax[3].set_title(\"Reconstruction from padded spectrum\");\n",
    "interact(update, Fs=SelectionSlider_nice(options=[5, 10, 25, 33, 50, 100], value=100));"
   ]
  },
  {
   "cell_type": "markdown",
   "metadata": {
    "slideshow": {
     "slide_type": "subslide"
    }
   },
   "source": [
    "***\n",
    "\n",
    "## Fuga espectral\n",
    "\n",
    "La fuga espectral (spectral leak):\n",
    "- En una distribución de la energía de un cierto componente espectral hacia frecuencias vecinas\n",
    "- Aparece como lobulos laterales en torno a los componentes espectrales\n",
    "- Sólo aparece si la señal es no periódica dentro del rango de observación \n",
    "- Está asociado a las discontinuidades provocadas por los bordes de la señal\n",
    "    - Una discontinuidad fuerte puede ocupar mucho espacio en frecuencia ¿Por qué?\n",
    "\n",
    "***\n",
    "Multiplicando la señal por una ventana apropiada podemos reducir este efecto a un rango más acotado de frecuencia\n",
    "***\n",
    "\n",
    "### Ventana de Hann\n",
    "\n",
    "Se define como\n",
    "$$\n",
    "w[n] = 0.5 - 0.5 \\cos \\left( \\frac{2\\pi n}{N-1} \\right), \\quad n=0, 1, \\ldots, N-1,\n",
    "$$\n",
    "y tiene bordes que tienden a cero"
   ]
  },
  {
   "cell_type": "code",
   "execution_count": null,
   "metadata": {
    "slideshow": {
     "slide_type": "fragment"
    }
   },
   "outputs": [],
   "source": [
    "plt.close('all'); fig, ax = plt.subplots(2, figsize=(6, 4))\n",
    "def update(f0, window, log_scale=False):\n",
    "    n = np.arange(0, 100);\n",
    "    if window == \"rect\":\n",
    "        w = np.ones_like(n)    \n",
    "    elif window == \"hamming\":\n",
    "        w = 0.5 - 0.5*np.cos(2*np.pi*n/(len(n)))\n",
    "    s = w*np.cos(2.0*np.pi*f0*n); f = fftpack.fftshift(fftpack.fftfreq(n=len(s), d=1))\n",
    "    S = fftpack.fftshift(np.absolute(fftpack.fft(s)))\n",
    "    ax[0].cla(); ax[1].cla(); ax[0].set_title(r'$w[n]cos(2\\pi f_0 n)$')\n",
    "    ax[0].plot(n, s); ax[1].plot(f, S); ax[1].set_title(r'$|S_T(f)|$')\n",
    "    if log_scale:\n",
    "        ax[1].set_yscale('log')\n",
    "interact(update, f0=SelectionSlider_nice(options=[0.05, 0.05214178, 0.055414684, 0.2, 0.241245], value=0.05),\n",
    "         window=SelectionSlider_nice(options=[\"rect\", \"hamming\"]));"
   ]
  },
  {
   "cell_type": "markdown",
   "metadata": {
    "slideshow": {
     "slide_type": "slide"
    }
   },
   "source": [
    "***\n",
    "[Volver al índice](#index)\n",
    "\n",
    "<a id=\"section6\"></a>\n",
    "\n",
    "# Transformada Rápida de Fourier (FFT)\n",
    "\n",
    "***\n",
    "\n",
    "- La computación de la DFT tiene complejidad $\\mathcal{O}(N^2)$\n",
    "- Existe una aproximación numérica con complejidad $\\mathcal{O}(N\\log N)$: la Fast Fourier Transform (FFT). \n",
    "\n",
    "El algoritmo de Cooley-Tukey obtiene una FFT recursiva que explota las simetrías en la DFT\n",
    "\n",
    "$$\n",
    "\\begin{align}\n",
    "S[k] &=  \\sum_{n=0}^{N-1} s[n] W_N^{kn} \\nonumber \\\\\n",
    "&= \\sum_{n=0}^{N/2-1} s[2n] W_N^{k 2n} + \\sum_{n=0}^{N/2-1} s[2n+1] W_N^{k(2n+1)} \\nonumber \\\\\n",
    "&= \\sum_{n=0}^{N/2-1} s[2n] W_{N/2}^{kn} + W_N^{k} \\sum_{n=0}^{N/2-1} s[2n+1] W_{N/2}^{kn} \\nonumber \\\\\n",
    "&= S_E[k] + W_N^{k} S_O[k] ~~ \\forall k \\in [0,N/2]  \\nonumber \n",
    "\\end{align} \n",
    "$$\n",
    "\n",
    "Notar que se calculan dos \"medias\" DFT"
   ]
  },
  {
   "cell_type": "markdown",
   "metadata": {
    "slideshow": {
     "slide_type": "subslide"
    }
   },
   "source": [
    "## Transformada rápida de Fourier\n",
    "\n",
    "\n",
    "Por periodicidad de la DFT tenemos que\n",
    "$$\n",
    "\\begin{align}\n",
    "S_E[k + N/2] &=  \\sum_{n=0}^{N/2-1} s[2n] W_{N/2}^{(k+N/2)n} \\nonumber \\\\\n",
    "&=  \\sum_{n=0}^{N/2-1} s[2n] W_{N/2}^{kn} \\exp \\left(-j2\\pi n \\right) = S_E[k], \\nonumber\n",
    "\\end{align}\n",
    "$$\n",
    "\n",
    "e igualmente\n",
    "\n",
    "$$\n",
    "S_O[k + N/2] = S_O[k],\n",
    "$$\n",
    "\n",
    "juntando ambos tenemos que\n",
    "$$\n",
    "\\begin{align}\n",
    "S[k + N/2] &=  S_E[k + N/2] + W_{N}^{(k+N/2)} S_O[k + N/2] \\nonumber  \\\\\n",
    "&=  S_E[k] + W_{N}^{k} \\exp \\left(-j\\pi\\right) S_O[k] \\nonumber \\\\\n",
    "&=  S_E[k] - W_{N}^{k} S_O[k] \\nonumber \n",
    "\\end{align}\n",
    "$$\n",
    "\n",
    "es decir\n",
    "\n",
    "$$\n",
    "\\begin{align}\n",
    "S[k] &=  S_E[k] + W_{N}^{k} S_O[k] \\nonumber \\\\\n",
    "S[k + N/2] &=  S_E[k] - W_{N}^{k} S_O[k] \\quad \\forall k \\in [0,N/2]  \\nonumber \n",
    "\\end{align}\n",
    "$$\n",
    "\n",
    "- La DFT de $k$ y $k+N/2$ difieren en un signo\n",
    "- Se han explotado las simetrías de la DFT para reducir el costo computacional"
   ]
  },
  {
   "cell_type": "markdown",
   "metadata": {
    "slideshow": {
     "slide_type": "subslide"
    }
   },
   "source": [
    "<img src=\"img/fft-16samples.png\">\n",
    "\n",
    "Ref: http://www.themobilestudio.net/the-fourier-transform-part-14"
   ]
  },
  {
   "cell_type": "markdown",
   "metadata": {
    "slideshow": {
     "slide_type": "fragment"
    }
   },
   "source": [
    "Cantidad de multiplicaciones\n",
    "\n",
    "| N | DFT | FFT | FFT/DFT [%] |\n",
    "|---|---|---|---|\n",
    "| 32 | 1024 | 160 | 15.6 |\n",
    "| 128 | 16,384 | 896 | 5.46 |\n",
    "| 1,024 | 1,048,576 | 10,240 | 0.97 |"
   ]
  },
  {
   "cell_type": "markdown",
   "metadata": {
    "slideshow": {
     "slide_type": "subslide"
    }
   },
   "source": [
    "## Transformada rápida de Fourier\n",
    "\n",
    "- Python: numpy.fft y scipy.fftpack\n",
    "- C: The Fastest Fourier Transform in the WEst (FFTW)\n",
    "- Para FFTW existen python wrappers"
   ]
  },
  {
   "cell_type": "code",
   "execution_count": null,
   "metadata": {
    "slideshow": {
     "slide_type": "fragment"
    }
   },
   "outputs": [],
   "source": [
    "#from scipy.signal import square\n",
    "plt.close('all'); fig, ax = plt.subplots(1, 2, figsize=(6, 3))\n",
    "t, dt = np.linspace(0, 5, num=200, endpoint=False, retstep=True); \n",
    "s = np.sin(2.0*np.pi*t) + 0.25*np.cos(2.0*np.pi*4*t + np.pi/3)\n",
    "\n",
    "ax[0].cla(); ax[0].plot(t, s, linewidth=2);        \n",
    "f = fftpack.fftfreq(n=len(t), d=dt); \n",
    "S = fftpack.fft(s); \n",
    "ax[1].cla(); ax[1].plot(f, np.absolute(S));"
   ]
  },
  {
   "cell_type": "code",
   "execution_count": null,
   "metadata": {
    "slideshow": {
     "slide_type": "fragment"
    }
   },
   "outputs": [],
   "source": [
    "t, dt = np.linspace(-10.0, 10.0, num=1000, retstep=True); \n",
    "s = np.sin(2.0*np.pi*t) \n",
    "freq = np.arange(-0.5/dt, 0.5/dt, step=1.0/20);\n",
    "tf = 2.0*np.pi*t[:, np.newaxis]*freq[:, np.newaxis].T\n",
    "print(\"DFT numpy\")\n",
    "%timeit -n 5 -r 5 np.dot(s, np.exp(-1j*tf));\n",
    "print(\"FFT fftpack\")\n",
    "%timeit -n 5 -r 5 fftpack.fftshift(fftpack.fft(s))"
   ]
  },
  {
   "cell_type": "markdown",
   "metadata": {
    "slideshow": {
     "slide_type": "subslide"
    }
   },
   "source": [
    "### Ejemplo: Espectro de una señal sinusoidal con ruido blanco\n",
    "\n"
   ]
  },
  {
   "cell_type": "code",
   "execution_count": null,
   "metadata": {
    "slideshow": {
     "slide_type": "fragment"
    }
   },
   "outputs": [],
   "source": [
    "fig, ax = plt.subplots(1, 2, figsize=(6, 3));\n",
    "\n",
    "def f(noise_level=0.0, frequency=2.0):\n",
    "    t, dt = np.linspace(-10.0, 10.0, num=1000, retstep=True); \n",
    "    s = np.sin(2.0*np.pi*frequency*t) + noise_level*np.random.randn(len(t));\n",
    "    ax[0].cla(); ax[1].cla(); ax[0].set_xlim([-5, 5]);\n",
    "    ax[0].plot(t, s, linewidth=2); ax[0].set_xlabel(\"Time [s]\");\n",
    "    ax[1].set_xlabel(\"Frequency [Hz]\");\n",
    "    ax[1].plot(fftpack.fftfreq(n=len(t), d=dt), np.absolute(fftpack.fft(s)), linewidth=2); \n",
    "\n",
    "interact(f, noise_level=FloatSlider_nice(min=0.0, max=10.0, description=\"Noise_level\", layout=slider_layout),\n",
    "            frequency=FloatSlider_nice(min=0.0, max=5.0, value=2, description=\"Signal frequency\", layout=slider_layout));"
   ]
  },
  {
   "cell_type": "markdown",
   "metadata": {},
   "source": [
    "## Interpretación gráfica de la Transformada de Fourier\n",
    "\n",
    "La transformada de Fourier discreta de $x[n]$ es\n",
    "$$\n",
    "S[k] = \\sum_{n=0}^{N-1} x[n] e^{-j2\\pi \\frac{nk}{N}}\n",
    "$$\n",
    "\n",
    "donde $S[k]$ es un número complejo, es decir tiene parte real y parte imaginaria\n",
    "\n",
    "Para cada valor de $k$ podemos dibujar la parte imaginaria $-x[n]\\sin (2\\pi nk/N)$ versus la parte real $x[n]\\cos (2\\pi nk/N)$ formando un diagrama polar\n",
    "\n",
    "El vector que se forma corresponde a la transformada de Fourier en $k$, en particular \n",
    "- el largo del vector es el valor absoluto de $S[k]$\n",
    "- el ángulo del vector es el desfase de $S[k]$"
   ]
  },
  {
   "cell_type": "code",
   "execution_count": null,
   "metadata": {},
   "outputs": [],
   "source": [
    "import scipy.fftpack\n",
    "\n",
    "t_plot, dt = np.linspace(0.0, 10.0, num=1000, retstep=True)\n",
    "f0 = 2.12\n",
    "x_plot = np.cos(2.0*np.pi*f0*t_plot) #+ 0.4*np.cos(2.0*np.pi*2*f0*t_plot +np.pi/4) #+ 0.1*np.random.randn(1000)\n",
    "\n",
    "t, x = t_plot[::10], x_plot[::10]\n",
    "freq = fftpack.fftfreq(n=len(x), d=t[1]-t[0])[:len(x)//2]\n",
    "X = fftpack.fft(x)[:len(x)//2]\n",
    "\n",
    "fig = plt.figure(figsize=(8, 6), tight_layout=True)\n",
    "gs = fig.add_gridspec(2, 2)\n",
    "ax = fig.add_subplot(gs[0, :])\n",
    "ax.plot(t_plot, x_plot)\n",
    "line_time = ax.plot([], [], linestyle='--')\n",
    "ax.scatter(t, x, marker='x', c='r')\n",
    "ax = fig.add_subplot(gs[1, 1])\n",
    "ax.plot(freq, np.absolute(X))\n",
    "line_spec = ax.plot([0.0, 0.0], [0, np.amax(np.absolute(X))], linestyle='--')\n",
    "ax.set_xlabel('Frecuencia')\n",
    "ax = fig.add_subplot(gs[1, 0])\n",
    "\n",
    "def update_plot(f=0.0):\n",
    "    p1 = x_plot*np.cos(2.0*np.pi*t_plot*f)\n",
    "    p2 = -x_plot*np.sin(2.0*np.pi*t_plot*f)\n",
    "    p1n = x*np.cos(2.0*np.pi*t*f)\n",
    "    p2n = -x*np.sin(2.0*np.pi*t*f)\n",
    "    line_time[0].set_xdata([1/f, 1/f])\n",
    "    line_time[0].set_ydata([-1, 1])\n",
    "    ax.cla()\n",
    "    ax.plot(p1, p2, linestyle='-', lw=1, alpha=0.85)\n",
    "    ax.set_xlabel('Parte real'); ax.set_ylabel('Parte Imaginaria')\n",
    "    ax.scatter(p1n, p2n, c='r', marker='x', s=20)\n",
    "    ax.set_xlim([-1.5, 1.5]); ax.set_ylim([-1.5, 1.5])\n",
    "    ax.arrow(0, 0, np.mean(p1), np.mean(p2), lw=2, width=0.02)\n",
    "    line_spec[0].set_xdata([f, f])\n",
    "    \n",
    "interact(update_plot, f=FloatSlider_nice(min=0.0, max=5.0, step=0.01, value=2.1));"
   ]
  },
  {
   "cell_type": "markdown",
   "metadata": {},
   "source": [
    "## Toma 2: Efectos de la frecuencia de muestreo y de la ventana de observación en el espectro\n",
    "\n",
    "1. **Fila superior, linea azul**: señal con frecuencia de muestreo 50 Hz y duración 10 segundos\n",
    "1. **Superior izquierda (cruces rojas)**: señal con un décimo de la frecuencia de muestreo pero igual largo temporal\n",
    "1. **Superior derecha (cruces rojas)**: señal con igual frecuencia de muestreo pero con un décimo del largo temporal\n",
    "\n",
    "\n",
    "\n",
    "> La frecuencia de muestreo influye en la frecuencia máxima que podemos estudiar (frecuencia de Nyquist)\n",
    "\n",
    "> El largo temporal o ventana de observación influye en la resolución frecuencial del espectro \n"
   ]
  },
  {
   "cell_type": "code",
   "execution_count": null,
   "metadata": {},
   "outputs": [],
   "source": [
    "x_plot = np.cos(2.0*np.pi*f0*t_plot) + 0.4*np.cos(2.0*np.pi*2*f0*t_plot +np.pi/4) + 0.1*np.random.randn(1000)\n",
    "\n",
    "t, x = t_plot[::10], x_plot[::10]\n",
    "X = fftpack.fft(x)[:len(x)//2]\n",
    "freq = fftpack.fftfreq(n=len(x), d=t[1]-t[0])[:len(x)//2]\n",
    "\n",
    "fig, ax = plt.subplots(2, 2, figsize=(7, 4), tight_layout=True)\n",
    "ax[0, 0].plot(t_plot,x_plot)\n",
    "ax[0, 0].scatter(t, x, marker='x', c='r')\n",
    "ax[1, 0].plot(freq, np.absolute(X))\n",
    "\n",
    "t, x = t_plot[:100], x_plot[:100]\n",
    "X = fftpack.fft(x)[:len(x)//2]\n",
    "freq = fftpack.fftfreq(n=len(x), d=t[1]-t[0])[:len(x)//2]\n",
    "ax[0, 1].plot(t_plot,x_plot)\n",
    "ax[0, 1].scatter(t, x, marker='x', c='r')\n",
    "ax[1, 1].plot(freq, np.absolute(X));"
   ]
  },
  {
   "cell_type": "markdown",
   "metadata": {},
   "source": [
    "## Toma 2: Incertidumbre frecuencia-tiempo\n",
    "\n",
    "Mientras más pequeño es la \"separación en frecuencia\" de dos señales, más tiempo debemos observarlas para poder diferenciarlas"
   ]
  },
  {
   "cell_type": "code",
   "execution_count": null,
   "metadata": {},
   "outputs": [],
   "source": [
    "t, dt = np.linspace(0.0, 5.0, num=1000, retstep=True)\n",
    "\n",
    "fig, ax = plt.subplots(4, figsize=(8, 6), tight_layout=True)\n",
    "\n",
    "for k in range(4):\n",
    "    ax[3-k].plot(t, np.cos(2.0*np.pi*2.1*t))\n",
    "    ax[3-k].plot(t, np.cos(2.0*np.pi*2.1*(1+0.01+0.01*k)*t))\n",
    "    ax[3-k].set_title('Error relativo: %0.2f' %(0.01+0.01*k))"
   ]
  },
  {
   "cell_type": "markdown",
   "metadata": {
    "slideshow": {
     "slide_type": "slide"
    }
   },
   "source": [
    "***\n",
    "[Volver al índice](#index)\n",
    "\n",
    "<a id=\"section7\"></a>\n",
    "\n",
    "# Transformada de Fourier de tiempo reducido (STFT) y espectrograma\n",
    "\n",
    "- La DFT/FFT representa una señal en frecuencia integrando en todo tiempo\n",
    "- ¿Qué ocurre si la frecuencia de mi señal es función del tiempo?\n",
    "- Por ejemplo considere el siguiente caso sencillo\n",
    "\n",
    "$$\n",
    "s(t) = \\begin{cases}\\cos(\\omega_1 t) & t <0  \\\\ \\cos(\\omega_2 t) & t \\geq 0 \\end{cases}\n",
    "$$\n"
   ]
  },
  {
   "cell_type": "code",
   "execution_count": null,
   "metadata": {
    "slideshow": {
     "slide_type": "fragment"
    }
   },
   "outputs": [],
   "source": [
    "plt.close('all'); fig, ax = plt.subplots(2, figsize=(8, 6))\n",
    "t, dt = np.linspace(-0.5, 0.5, num=20000, retstep=True); N=len(t)\n",
    "s = np.concatenate((np.cos(2.0*np.pi*220*t[:N//2]), np.cos(2.0*np.pi*440*t[N//2:])))\n",
    "#s = 0.5*np.cos(2.0*np.pi*220*t) + 0.5*np.cos(2.0*np.pi*440*t)\n",
    "ax[0].plot(t, s); ax[0].set_xlim([-0.05, 0.05])\n",
    "freq = fftpack.fftfreq(n=N, d=dt); S = np.absolute(fftpack.fft(s))\n",
    "ax[1].plot(np.sort(freq), fftpack.fftshift(S)); ax[1].set_xlim([-3000, 3000]);\n",
    "Audio(s, rate=int(1./dt))"
   ]
  },
  {
   "cell_type": "markdown",
   "metadata": {
    "slideshow": {
     "slide_type": "subslide"
    }
   },
   "source": [
    "- o el vibrato de un violín"
   ]
  },
  {
   "cell_type": "code",
   "execution_count": null,
   "metadata": {
    "slideshow": {
     "slide_type": "fragment"
    }
   },
   "outputs": [],
   "source": [
    "plt.close('all'); fig, ax = plt.subplots(2, figsize=(6, 5))\n",
    "t, dt = np.linspace(0.0, 2.0, num=10000, retstep=True); \n",
    "s = np.cos(2.0*np.pi*t*220 + (100/8)*np.sin(2.0*np.pi*t*8))\n",
    "ax[0].plot(t, s); ax[0].set_title(\"Vibrato\"); \n",
    "freq = fftpack.fftfreq(n=len(t), d=dt); S = np.absolute(fftpack.fft(s))\n",
    "ax[1].plot(np.sort(freq), fftpack.fftshift(S)); ax[1].set_xlim([-1000, 1000]);\n",
    "Audio(s, rate=1.0/dt)"
   ]
  },
  {
   "cell_type": "markdown",
   "metadata": {
    "slideshow": {
     "slide_type": "subslide"
    }
   },
   "source": [
    "- o el canto de un ave"
   ]
  },
  {
   "cell_type": "code",
   "execution_count": null,
   "metadata": {
    "slideshow": {
     "slide_type": "fragment"
    }
   },
   "outputs": [],
   "source": [
    "plt.close('all'); fig, ax = plt.subplots(2, figsize=(6, 5))\n",
    "t, dt = np.linspace(0, 0.5, num=10000, retstep=True); \n",
    "s = scipy.signal.chirp(t, f0=5000, f1=3000, t1=t[-1], method='quadratic')\n",
    "ax[0].plot(t, s); ax[0].set_title(\"Chirp\")\n",
    "ax[1].plot(np.sort(fftpack.fftfreq(n=len(t), d=dt)), \n",
    "           np.absolute(fftpack.fftshift(fftpack.fft(s))))\n",
    "Audio(s, rate=1.0/dt)"
   ]
  },
  {
   "cell_type": "markdown",
   "metadata": {
    "slideshow": {
     "slide_type": "subslide"
    }
   },
   "source": [
    "## Frecuencia instantanea\n",
    "\n",
    "- La DFT/FFT nos entrega un \"resumen\" de las frecuencias que existen en la señal\n",
    "- No tenemos claridad de \"donde\" ocurren esas frecuencias\n",
    "- Definamos la **frecuencia instantanea** como el cambio de la fase/ángulo en función del tiempo\n",
    "$$\n",
    "\\omega(t) = 2\\pi f(t) =  \\frac{d \\phi (t)}{dt},\n",
    "$$\n",
    "luego una señal sinusoidal en términos de frecuencia instantanea sería\n",
    "$$\n",
    "s(t) = A \\cos( \\phi(t) ) = A \\cos \\left(\\int_0^t \\omega(\\tau) d\\tau + \\phi(0) \\right),\n",
    "$$\n",
    "¿Qué ocurre si $\\omega(t) = \\omega$?\n",
    "- ¿Cómo podemos detectar la frecuencia instantanea usando análisis de Fourier?\n",
    "\n",
    "### Ejemplo: Frecuencia modulada\n",
    "\n",
    "Sea una señal portadora con frecuencia $f_c$ [Hz] definida como $A_c \\cos ( 2\\pi f_c t)$ y una señal modulada $s_m (t)$ definimos entonces la modulación en frecuencia como\n",
    "$$\n",
    "\\begin{align}\n",
    "s(t) & = A_c \\cos \\left(2\\pi \\int_0^t f_c + K s_m(\\tau) d\\tau \\right) \\nonumber \\\\\n",
    "&= A_c \\cos \\left(2\\pi f_c t + 2\\pi K  \\int_0^t s_m(\\tau) d\\tau \\right), \\nonumber\n",
    "\\end{align}\n",
    "$$\n",
    "donde $K$ es el coeficiente de modulación \n",
    "\n",
    "### Ejemplo: Vibrato\n",
    "\n",
    "Asumamos ahora que $s_m(t) = A_m \\cos(2\\pi f_m t)$, entonces de la última expresión\n",
    "$$\n",
    "s(t) = A_c \\cos \\left(2\\pi f_c t + \\frac{K A_m}{f_m} \\sin(2\\pi f_m t)  \\right),\n",
    "$$\n",
    "donde $f_\\Delta =  \\frac{K A_m}{f_m}$ es la dispersión en frecuencia\n"
   ]
  },
  {
   "cell_type": "markdown",
   "metadata": {
    "slideshow": {
     "slide_type": "subslide"
    }
   },
   "source": [
    "<img src=\"img/stft-sheet.png\">"
   ]
  },
  {
   "cell_type": "markdown",
   "metadata": {
    "slideshow": {
     "slide_type": "subslide"
    }
   },
   "source": [
    "## Espectrograma\n",
    "\n",
    "¿Qué es?\n",
    "- Es una representación visual de la energía de señal distribuida en el tiempo y en la frecuencia\n",
    "- Usualmente el eje horizontal es tiempo y el vertical es frecuencia\n",
    "- El color representa la intensidad para un tiempo y frecuencia dados \n",
    "\n",
    "¿Cómo se obtiene?\n",
    "- Debemos convertir una señal de duración arbitraria a duración finita\n",
    "- Esto equivale a multiplicar por una ventana obtiendo un \"segmento\" de la señal\n",
    "- Movemos la ventana y calculamos una FFT por cada segmento (lineas verticales del espectrograma)\n",
    "- Este procedimiento se conoce como short-time Fourier Transform (STFT)\n",
    "\n",
    "¿Para que sirve?\n",
    "- Estudio de señales no estacionarias\n",
    "- Frecuencia que cambia en el tiempo\n",
    "- Modelos auditivos"
   ]
  },
  {
   "cell_type": "markdown",
   "metadata": {
    "slideshow": {
     "slide_type": "subslide"
    }
   },
   "source": [
    "### Ejemplo: Espectrograma de un vibrato\n"
   ]
  },
  {
   "cell_type": "code",
   "execution_count": null,
   "metadata": {},
   "outputs": [],
   "source": [
    "scipy.signal.spectrogram?"
   ]
  },
  {
   "cell_type": "code",
   "execution_count": null,
   "metadata": {
    "slideshow": {
     "slide_type": "fragment"
    }
   },
   "outputs": [],
   "source": [
    "plt.close('all'); fig, ax = plt.subplots(figsize=(8, 4))\n",
    "t, dt = np.linspace(0.0, 2.0, num=8192, retstep=True); \n",
    "s = np.cos(2.0*np.pi*t*220+8*np.sin(2.0*np.pi*t*4))\n",
    "#s = scipy.signal.square(2.0*np.pi*t*220+8*np.sin(2.0*np.pi*t*4))\n",
    "#t, dt = np.linspace(0, 0.5, num=10000, retstep=True); \n",
    "#s = scipy.signal.chirp(t, f0=5000, f1=3000, t1=t[-1], method='quadratic')\n",
    "\n",
    "def update(Nw, beta):\n",
    "    ax.cla()\n",
    "    freqs, times, Sxx = scipy.signal.spectrogram(s, fs=1.0/dt, nperseg=Nw, detrend=False,\n",
    "                                                 window=('kaiser', beta), noverlap=16)\n",
    "    Times, Freqs = np.meshgrid(times, freqs);\n",
    "    ax.contourf(Times, Freqs, 20*np.log10(Sxx+1e-5), cmap=plt.cm.Spectral_r); \n",
    "    ax.set_xlim([t[0], t[-1]]);\n",
    "    ax.set_xlabel('Tiempo [s]'); ax.set_ylabel('Frequencia [Hz]')\n",
    "interact(update, Nw=SelectionSlider_nice(options=[32, 64, 128, 256, 512, 1024], value=128),\n",
    "         beta=SelectionSlider_nice(options=[0, 6, 8.6, 14], value=6));"
   ]
  },
  {
   "cell_type": "markdown",
   "metadata": {
    "slideshow": {
     "slide_type": "subslide"
    }
   },
   "source": [
    "- También es usual visualizar el espectrograma en 3 dimensiones como una superficie"
   ]
  },
  {
   "cell_type": "code",
   "execution_count": null,
   "metadata": {
    "slideshow": {
     "slide_type": "fragment"
    }
   },
   "outputs": [],
   "source": [
    "from mpl_toolkits.mplot3d import Axes3D\n",
    "plt.close('all'); fig = plt.figure(figsize=(8, 6))\n",
    "ax = fig.gca(projection='3d', proj_type = 'ortho');\n",
    "t, dt = np.linspace(0.0, 2.0, num=8192, retstep=True); \n",
    "s = scipy.signal.square(2.0*np.pi*t*220+8*np.sin(2.0*np.pi*t*4))\n",
    "freqs, times, Sxx = scipy.signal.spectrogram(s, fs=1.0/dt, nperseg=128, detrend=False,\n",
    "                                             window=('kaiser', 6), noverlap=16)\n",
    "Times, Freqs = np.meshgrid(times, freqs);\n",
    "ax.plot_surface(Times, Freqs, 20*np.log10(Sxx+1e-5), cmap=plt.cm.Spectral_r, rcount=200, ccount=200);\n",
    "\n",
    "def change_angle(elevation, azimuth):\n",
    "    ax.view_init(elevation, azimuth); plt.draw()\n",
    "interact(change_angle, elevation=IntSlider_nice(min=45, max=90),\n",
    "         azimuth=IntSlider_nice(min=-90, max=-45));"
   ]
  },
  {
   "cell_type": "markdown",
   "metadata": {
    "slideshow": {
     "slide_type": "subslide"
    }
   },
   "source": [
    "***\n",
    "\n",
    "## Short-time Fourier Transform (STFT)\n",
    "\n",
    "- Formalmente la STFT es ejemplo de distribución de tiempo-frecuencia\n",
    "- Para el caso continuo se define como\n",
    "$$\n",
    "\\mathbb{STFT}[s(t)] = S(\\tau, \\omega) = \\int s(t) w(t-\\tau) e^{-j \\omega t} dt,\n",
    "$$\n",
    "donde $w(\\cdot)$ se conoce como ventana espectral\n",
    "- De forma equivalente para el caso discreto\n",
    "$$\n",
    "S[m, k] = \\sum_{n} s[n] w[n-m] e^{-j \\frac{2\\pi}{N} nk}\n",
    "$$\n",
    "- El espectrograma es usualmente el valor absoluto cuadrado de la STFT"
   ]
  },
  {
   "cell_type": "code",
   "execution_count": null,
   "metadata": {
    "slideshow": {
     "slide_type": "fragment"
    }
   },
   "outputs": [],
   "source": [
    "plt.close('all'); fig, ax = plt.subplots(2, figsize=(6, 5))\n",
    "t, dt = np.linspace(-0.5, 0.5, num=10000, retstep=True); \n",
    "s = np.concatenate((np.cos(2.0*np.pi*10*t[:5000]), np.cos(2.0*np.pi*50*t[5000:])))\n",
    "def update(tau, sigma):\n",
    "    w = np.exp(-0.5*(t-tau)**2/sigma**2)\n",
    "    ax[0].cla(); ax[0].plot(t, w*s); ax[0].set_ylim([-1.1, 1.1]);\n",
    "    freq = fftpack.fftfreq(n=len(t), d=dt); S = np.absolute(fftpack.fft(w*s))\n",
    "    ax[1].cla(); ax[1].plot(np.sort(freq), fftpack.fftshift(S)); ax[1].set_xlim([-250, 250]);\n",
    "interact(update, tau=FloatSlider_nice(min=-0.5, max=0.5, step=0.01),\n",
    "         sigma=SelectionSlider_nice(options=[0.025, 0.05, 0.1, 0.25], value=0.1));"
   ]
  },
  {
   "cell_type": "markdown",
   "metadata": {
    "slideshow": {
     "slide_type": "subslide"
    }
   },
   "source": [
    "## Enventanado\n",
    "\n",
    "- La localidad temporal de la STFT la da la ventana espectral\n",
    "- La ventana espectral es una función finita y simétrica en cero\n",
    "- El ancho de la ventana es un trade-off entre resolución temporal y espectral (principio de incertidumbre)\n",
    "- Idealmente se busca minimizar la \"fuga espectral\" (suavizar bordes)\n",
    "\n",
    "Un ejemplo clásico es la ventana de Hann:\n",
    "$$\n",
    "w[n] = 0.5 + 0.5 \\cos \\left(\\frac{2\\pi n}{N-1} \\right), \\quad n = -\\frac{N+1}{2},\\ldots, -1,0, 1, \\ldots, \\frac{N+1}{2}\n",
    "$$\n",
    "es decir se multiplica la señal por un coseno invertido\n",
    "\n"
   ]
  },
  {
   "cell_type": "code",
   "execution_count": null,
   "metadata": {
    "slideshow": {
     "slide_type": "fragment"
    }
   },
   "outputs": [],
   "source": [
    "plt.close('all'); fig, ax = plt.subplots(2, figsize=(6, 5))\n",
    "s = 0.5 + 0.5*np.cos(2*np.pi*np.arange(-50, 50)/100)\n",
    "ax[0].plot(s);\n",
    "S = np.absolute(fftpack.fftshift(fftpack.fft(s, n=2048))); \n",
    "freq = fftpack.fftfreq(n=len(S), d=dt)\n",
    "ax[1].plot(np.sort(freq), 20*np.log10(S+1e-5)); "
   ]
  },
  {
   "cell_type": "markdown",
   "metadata": {
    "slideshow": {
     "slide_type": "subslide"
    }
   },
   "source": [
    "Otro ejemplo es la ventana de Kaiser de largo $N$ definida como\n",
    "$$\n",
    "w[n] = \\frac{1}{I_0(\\beta)} I_0  \\left ( \\beta \\sqrt{ 1- \\frac{4n^2}{(N-1)^2} }\\right)\n",
    "$$\n",
    "donde $n \\in [-(N-1)/2, (N-1)/2]$ e $I_0(x)$ es la función modificada de Bessel de orden cero\n",
    "\n",
    "Se tiene que\n",
    "- para $\\beta =0 $ se tiene una ventana rectangular\n",
    "- para $\\beta = 6 $ se tiene una aproximación de la ventana de Hanning\n",
    "- A medida que $\\beta$ crece disminuyen los lobulos laterales pero \"engorda\" el lobulo principal"
   ]
  },
  {
   "cell_type": "code",
   "execution_count": null,
   "metadata": {
    "slideshow": {
     "slide_type": "fragment"
    }
   },
   "outputs": [],
   "source": [
    "plt.close('all'); fig, ax = plt.subplots(2, figsize=(6, 5))\n",
    "t, dt = np.linspace(0, 101, 101, retstep=True); \n",
    "def update(beta):\n",
    "    ax[0].cla(); ax[1].cla(); s = scipy.signal.kaiser(len(t), beta);\n",
    "    S = np.absolute(fftpack.fftshift(fftpack.fft(s, n=2048))); \n",
    "    freq = fftpack.fftfreq(n=len(S), d=dt)\n",
    "    ax[0].plot(t, s); ax[1].plot(np.sort(freq), 20*np.log10(S/np.amax(S)))\n",
    "interact(update, beta=SelectionSlider_nice(options=[0, 6, 8.6, 14, 50, 100], value=6));"
   ]
  },
  {
   "cell_type": "markdown",
   "metadata": {
    "slideshow": {
     "slide_type": "slide"
    }
   },
   "source": [
    "***\n",
    "[Volver al índice](#index)\n",
    "\n",
    "<a id=\"ej1\"></a>\n",
    "\n",
    "# Ejercicios propuestos\n",
    "\n",
    "***\n",
    "\n",
    "**P:** Muestre que la transformada de Fourier de la convolución de los argumentos es la multiplicación de las FT de los argumentos"
   ]
  },
  {
   "cell_type": "markdown",
   "metadata": {
    "slideshow": {
     "slide_type": "subslide"
    }
   },
   "source": [
    "***\n",
    "**P**: Sea \n",
    "$$\n",
    "s(t) = |\\sin(t)|\n",
    "$$\n",
    "- ¿Cúal es el período de $\\sin(t)$?\n",
    "- Encuentre la serie de Fourier compleja de s(t) en $[-\\pi, \\pi]$\n",
    "- Muestre que los coeficientes son par y reduzca la serie \n",
    "- Muestre que los términos con $k$ impar son nulos\n",
    "\n",
    "HINT: $ \\sin(x) = \\frac{1}{2j} \\left(e^{jx} - e^{-jx}\\right)$"
   ]
  },
  {
   "cell_type": "markdown",
   "metadata": {
    "slideshow": {
     "slide_type": "fragment"
    }
   },
   "source": [
    "**S**:\n",
    "$$\n",
    "s(t) = \\sum_{k=-\\infty}^{\\infty} c_k e^{jkt}\n",
    "$$\n",
    "con\n",
    "$$\n",
    "c_k = \\frac{1 + e^{jk\\pi}}{\\pi(k^2-1)}, k \\neq 1 \n",
    "$$\n",
    "- Claramente $c_k = c_{-k}$ ya que $e^{jk\\pi} = \\cos(k \\pi) + j \\sin(k\\pi) = \\cos(k\\pi)$\n",
    "- Además si $k$ impar $c_k = 0$"
   ]
  },
  {
   "cell_type": "markdown",
   "metadata": {
    "slideshow": {
     "slide_type": "subslide"
    }
   },
   "source": [
    "**P:** Considere el tren de impulsos (o peineta de Dirac) con período $T$ definido como\n",
    "$$\n",
    "\\text{III}_T(t) = \\sum_{n=-\\infty}^{\\infty} \\delta(t-nT),\n",
    "$$\n",
    "- Encuentre su serie de Fourier\n",
    "- Encuentre su transformada de Fourier"
   ]
  },
  {
   "cell_type": "markdown",
   "metadata": {
    "slideshow": {
     "slide_type": "fragment"
    }
   },
   "source": [
    "**S:**\n",
    "\n",
    "Los coeficientes de Fourier de la peineta son\n",
    "$$\n",
    "\\begin{align}\n",
    "c_k &= \\frac{1}{T} \\int_{-P/2}^{P/2} \\text{III}_T(t) e^{-\\frac{2\\pi k}{T} t} dt \\nonumber \\\\\n",
    "&= \\frac{1}{T} \\sum_{n=-\\infty}^{\\infty} \\int_{-T/2}^{T/2} \\delta(t-nT) e^{-\\frac{2\\pi k}{T} t} dt \\nonumber \\\\\n",
    "&= \\frac{1}{T} \\int_{-T/2}^{T/2} \\delta(t) e^{-\\frac{2\\pi k}{T} t} dt \\nonumber \\\\\n",
    "&= \\frac{1}{T} e^{-\\frac{2\\pi k}{T} 0}  = \\frac{1}{T}, \\nonumber \n",
    "\\end{align}\n",
    "$$\n",
    "Luego su representación en serie de Fourier\n",
    "$$\n",
    "\\text{III}_T(t) = \\frac{1}{T} \\sum_{k=-\\infty}^\\infty e^{ j \\frac{2\\pi k}{T} t},\n",
    "$$\n",
    "y su FT es\n",
    "$$\n",
    "\\begin{align}\n",
    "\\mathbb{FT}[\\text{III}_T(t)] &= \\frac{1}{T} \\int \\sum_{k=-\\infty}^\\infty e^{j \\frac{2\\pi k}{T} t} e^{-j\\omega t} dt \\nonumber \\\\\n",
    "&= \\frac{1}{T} \\sum_{k=-\\infty}^\\infty \\int e^{- j (\\omega - \\frac{2\\pi k }{T}) t} dt \\nonumber \\\\\n",
    "&= \\frac{2\\pi}{T} \\sum_{k=-\\infty}^\\infty \\delta(\\omega - \\frac{2\\pi k}{T}) \\nonumber \\\\\n",
    "&= \\frac{2\\pi}{T} \\text{III}_{\\frac{2\\pi}{T}}(\\omega) \\nonumber \n",
    "\\end{align}\n",
    "$$"
   ]
  },
  {
   "cell_type": "markdown",
   "metadata": {
    "slideshow": {
     "slide_type": "subslide"
    }
   },
   "source": [
    "***\n",
    "**P:** Encuentre la DFT de\n",
    "\n",
    "$$\n",
    "x[n] = \\alpha^n, \\quad n = 0,\\ldots, N-1\n",
    "$$\n",
    "\n",
    "HINT: $\\sum_{n=0}^{N-1} x^n = \\frac{1-x^N}{1-x}, x \\neq 1$"
   ]
  },
  {
   "cell_type": "markdown",
   "metadata": {
    "slideshow": {
     "slide_type": "fragment"
    }
   },
   "source": [
    "**S:**\n",
    "\n",
    "$$\n",
    "\\begin{align}\n",
    "X[k] &= \\sum_{n=0}^{N-1} \\alpha^n W_N^{kn} = \\sum_{n=0}^{N-1} \\left(\\alpha  W_N^{k} \\right)^n \\nonumber \\\\\n",
    "& = \\frac{1 - \\alpha^N W_N^{kN} }{1- \\alpha W_N^{k} } = \\frac{1 - \\alpha^N e^{-j2\\pi k} }{1- \\alpha e^{-j\\frac{2\\pi}{N} k}}, \\nonumber \n",
    "\\end{align}\n",
    "$$\n",
    "donde asumimos que $\\alpha e^{-j\\frac{2\\pi}{N} k} \\neq 1$"
   ]
  },
  {
   "cell_type": "markdown",
   "metadata": {
    "slideshow": {
     "slide_type": "subslide"
    }
   },
   "source": [
    "***\n",
    "**P:** Encuentre la DFT de \n",
    "\n",
    "$$\n",
    "x[n] = \\cos(n\\omega_0), \\quad n=0, \\ldots, N-1\n",
    "$$\n",
    "\n",
    "cuando definimos $\\omega_0 = 2\\pi k_0/N$ y cuando $\\omega_0 \\neq 2\\pi k_0/N$"
   ]
  },
  {
   "cell_type": "markdown",
   "metadata": {
    "slideshow": {
     "slide_type": "fragment"
    }
   },
   "source": [
    "**S:** Podemos escribir la señal como\n",
    "\n",
    "$$\n",
    "x[n] = \\frac{1}{2} \\left (e^{jn\\omega_0} +  e^{-jn\\omega_0} \\right)\n",
    "$$\n",
    "\n",
    "Luego tomando la DFT\n",
    "$$\n",
    "X[k] = \\frac{1}{2} \\sum_{n=0}^{N-1} e^{- j n( \\frac{2\\pi}{N}k -\\omega_0)} +  e^{- j n( \\frac{2\\pi}{N}k +\\omega_0)}\n",
    "$$\n",
    "si $\\omega_0 = 2\\pi k_0 /N$\n",
    "$$\n",
    "X[k] = \\frac{1}{2} \\sum_{n=0}^{N-1} e^{- j n\\frac{2\\pi}{N} ( k - k_0)} +  e^{- j n \\frac{2\\pi}{N}( k +k_0)}\n",
    "$$\n",
    "es decir\n",
    "$$\n",
    "X[k] = \\begin{cases} \\frac{N}{2} & k=k_0 \\text{ o } k=N-k_0 \\\\ 0 & \\text{en otro caso}\\end{cases}\n",
    "$$\n",
    "si $\\omega_0 \\neq 2\\pi k_0 /N$ usamos la serie geométrica\n",
    "$$\n",
    "X[k] = \\frac{1}{2} \\left ( \\frac{1- e^{- j N ( \\frac{2\\pi}{N}k -\\omega_0)}}{1- e^{- j ( \\frac{2\\pi}{N}k -\\omega_0)}} +  \\frac{1- e^{- j N( \\frac{2\\pi}{N}k +\\omega_0)}}{1- e^{- j ( \\frac{2\\pi}{N}k +\\omega_0)}} \\right)\n",
    "$$"
   ]
  },
  {
   "cell_type": "code",
   "execution_count": null,
   "metadata": {
    "slideshow": {
     "slide_type": "fragment"
    }
   },
   "outputs": [],
   "source": [
    "plt.close('all'); fig, ax = plt.subplots(figsize=(6, 3))\n",
    "N = 50; w0 = (2.0*np.pi/N)*10.0;\n",
    "x = np.cos(w0*np.arange(0, N))\n",
    "S = fftpack.fft(x)\n",
    "ax.plot(fftpack.fftfreq(n=N, d=1), np.real(S), 'o');"
   ]
  },
  {
   "cell_type": "markdown",
   "metadata": {
    "slideshow": {
     "slide_type": "subslide"
    }
   },
   "source": [
    "***\n",
    "\n",
    "**P:** \n",
    "\n",
    "Sean las funciones constante \n",
    "$$\n",
    "x[n] = A\n",
    "$$\n",
    "y delta de Kronecker \n",
    "$$\n",
    "\\delta[n-n_0] = \\begin{cases} 1 & n=n_0 \\\\ 0 & n \\neq n_0\\end{cases}\n",
    "$$\n",
    "\n",
    "Encuentre sus DFTs, asumiendo que $n=0,\\ldots, N-1$ y $n_0 \\in [0, N-1]$, ¿Qué ocurre cuando $n_0=0$?\n"
   ]
  },
  {
   "cell_type": "markdown",
   "metadata": {
    "slideshow": {
     "slide_type": "fragment"
    }
   },
   "source": [
    "Para la constante\n",
    "$$\n",
    "\\begin{align}\n",
    "X[k] &= \\sum_{n=0}^{N-1} A e^{-j \\frac{2\\pi}{N} nk} = A \\sum_{n=0}^{N-1} e^{-j \\frac{2\\pi}{N} n k} \\nonumber \\\\\n",
    "& = \\begin{cases} A N & k = 0 \\\\ 0  & k\\neq 0 \\end{cases} \\nonumber \\\\\n",
    "&= A N \\delta[k] \\nonumber \n",
    "\\end{align}\n",
    "$$\n",
    "\n",
    "Para la delta tenemos\n",
    "$$\n",
    "X[k] = \\sum_{n=0}^{N-1} \\delta[n-n_0] e^{-j \\frac{2\\pi}{N} nk} = e^{-j \\frac{2\\pi}{N} n_0 k} = W_N^{n_0 k}\n",
    "$$\n",
    "Si $n_0 = 0$, entonces $X[k] = 1$. \n",
    "\n"
   ]
  },
  {
   "cell_type": "markdown",
   "metadata": {
    "slideshow": {
     "slide_type": "subslide"
    }
   },
   "source": [
    "***\n",
    "**P:** Encuentre la secuencia de 10 puntos que originó\n",
    "$$\n",
    "X[k] = \\begin{cases} 3 & k=0 \\\\ 1 & k=1,\\ldots, 9 \\end{cases}\n",
    "$$"
   ]
  },
  {
   "cell_type": "markdown",
   "metadata": {
    "slideshow": {
     "slide_type": "fragment"
    }
   },
   "source": [
    "**S:** Notemos que\n",
    "$$\n",
    "X[k] = 1  + 2 \\delta[k]\n",
    "$$\n",
    "usando que la DFT es lineal entonces\n",
    "\n",
    "$$\n",
    "x[n] = \\delta[n] + \\frac{1}{5}  \n",
    "$$"
   ]
  },
  {
   "cell_type": "markdown",
   "metadata": {
    "slideshow": {
     "slide_type": "subslide"
    }
   },
   "source": [
    "**P:** Use la DFT para probar que\n",
    "$$\n",
    "\\sum_{n=0}^{N-1} x[n] x^*[n] = \\frac{1}{N} \\sum_{k=0}^{N-1} X[k] X^*[k]\n",
    "$$"
   ]
  },
  {
   "cell_type": "markdown",
   "metadata": {
    "slideshow": {
     "slide_type": "subslide"
    }
   },
   "source": [
    "**P:** Sabemos que cierta señal muestreada con una frecuencia $F_s$ posee componentes espectrales de frecuencias mayores a $F_s/2$. \n",
    "- Explique porqué esto es un problema al usar la DFT para procesar la señal\n",
    "- Encuentre una función que al convolucionarla con la señal en cuestión limite su espectro al rango $[-F_s/2, F_s/2]$"
   ]
  },
  {
   "cell_type": "markdown",
   "metadata": {
    "slideshow": {
     "slide_type": "subslide"
    }
   },
   "source": [
    "**P:** Sea un señal continua $x(t) = \\sin(\\omega_0 t)$ cuyo espectro es\n",
    "$$\n",
    "S(\\omega) = j \\pi \\left[\\delta(\\omega + \\omega_0) - \\delta(\\omega - \\omega_0) \\right]\n",
    "$$\n",
    "- Dibuje el espectro. ¿Es $S(\\omega)$ limitada en ancho de banda? ¿Cuáles son sus límites?\n",
    "- Asuma que muestreamos $x(t)$ con una frecuencia de muestreo $F_s = 4\\omega_0$ . Dibuje el espectro de la señal muestreada entre $-2F_s$ y $2F_s$. Explique porqué si es posible recuperar $x(t)$ en este caso\n",
    "- Asuma que muestreamos $x(t)$ con una frecuencia de muestreo $F_s = 2\\omega_0$. Dibuje el espectro de la señal muestreada entre $-2F_s$ y $2F_s$. Explique porqué no es posible recuperar $x(t)$ en este caso\n",
    "- Usando el gráfico del punto anterior explique porqué un $F_s$ levemente mayor que $2\\omega_0$ es suficiente para recuperar $x(t)$"
   ]
  },
  {
   "cell_type": "markdown",
   "metadata": {
    "slideshow": {
     "slide_type": "subslide"
    }
   },
   "source": [
    "**P:** Sea una señal continua \n",
    "\n",
    "$$\n",
    "x(t) = 1 + \\cos(2000\\pi t) + \\cos(4000 \\pi t)\n",
    "$$ \n",
    "\n",
    "- Encuentre su espectro de frecuencia y dibujelo. ¿Es el espectro limitado en ancho de banda? ¿Cuáles son sus límites?\n",
    "- Si la señal se muestrea con $F_s = 6000$ [Hz], dibuje el espectro de la señal muestreada entre $-2F_s$ y $2F_s$\n",
    "- Muestre que el espectro de la señal continua se recupera si se multiplica el espectro de la señal muestreada con el filtro ideal\n",
    "$$\n",
    "H(f) = \\begin{cases} F_s & |f| < F_s/2 \\\\ 0 & |f| \\geq F_s/2 \\end{cases}\n",
    "$$\n",
    "    "
   ]
  },
  {
   "cell_type": "markdown",
   "metadata": {
    "slideshow": {
     "slide_type": "skip"
    }
   },
   "source": [
    "\n",
    "Vibrating strings: https://www.maths.ed.ac.uk/~jmf/Teaching/MT3/IntegralTransforms.pdf\n",
    "\n",
    "- http://www.robots.ox.ac.uk/~sjrob/Teaching/SP/l7.pdf\n",
    "- http://greenteapress.com/thinkdsp/thinkdsp.pdf\n",
    "- https://www.oreilly.com/library/view/elegant-scipy/9781491922927/ch04.html"
   ]
  },
  {
   "cell_type": "code",
   "execution_count": null,
   "metadata": {},
   "outputs": [],
   "source": []
  }
 ],
 "metadata": {
  "celltoolbar": "Slideshow",
  "kernelspec": {
   "display_name": "Python 3",
   "language": "python",
   "name": "python3"
  },
  "language_info": {
   "codemirror_mode": {
    "name": "ipython",
    "version": 3
   },
   "file_extension": ".py",
   "mimetype": "text/x-python",
   "name": "python",
   "nbconvert_exporter": "python",
   "pygments_lexer": "ipython3",
   "version": "3.7.4"
  }
 },
 "nbformat": 4,
 "nbformat_minor": 2
}
