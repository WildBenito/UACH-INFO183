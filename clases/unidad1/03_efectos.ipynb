{
 "cells": [
  {
   "cell_type": "code",
   "execution_count": 2,
   "metadata": {
    "ExecuteTime": {
     "end_time": "2020-09-28T23:07:22.625211Z",
     "start_time": "2020-09-28T23:07:16.420854Z"
    },
    "slideshow": {
     "slide_type": "skip"
    }
   },
   "outputs": [],
   "source": [
    "%matplotlib inline\n",
    "import numpy as np\n",
    "import scipy.signal\n",
    "import matplotlib.pylab as plt\n",
    "from matplotlib import animation, patches, rc\n",
    "import ipywidgets as widgets\n",
    "import matplotlib as mpl\n",
    "rc('animation', html='html5')\n",
    "rc('savefig', dpi=80)\n",
    "rc('figure', dpi=80)\n",
    "from IPython.display import YouTubeVideo, HTML, Audio"
   ]
  },
  {
   "cell_type": "markdown",
   "metadata": {
    "slideshow": {
     "slide_type": "slide"
    }
   },
   "source": [
    "***\n",
    "\n",
    "<a id=\"section3\"></a>\n",
    "[Volver al índice](#index)\n",
    "\n",
    "# Principio o Teorema de incertidumbre\n",
    "\n",
    "***\n",
    "\n",
    "El principio de incertidumbre de Heisenberg nos dice que la precisión (certeza) con que medimos la posición de una particula es inversamente proporcional a la precisión con que medimos su momentum lineal:\n",
    "\n",
    "$$\n",
    "\\Delta x \\Delta p \\geq \\frac{h}{4\\pi},\n",
    "$$\n",
    "\n",
    "donde $h$ es la constante de Planck. \n",
    "\n",
    "**En señales existe un principio análogo:** No podemos especificar con infinita precisión la localización temporal y frecuencial de una señal al mismo tiempo.\n",
    "\n",
    "***\n",
    "\n",
    "### Ejemplo: Pulso cuadrado\n",
    "\n",
    "Teníamos\n",
    "\n",
    "$$\n",
    "s(t) = \\begin{cases} 1, & |t| < T \\\\ 0, & |t| > T\\end{cases}\n",
    "$$\n",
    "\n",
    "con\n",
    "\n",
    "$$\n",
    "S(\\omega) = \\mathbb{FT}[s(t)] = 2T \\text{sinc}(\\omega T)\n",
    "$$\n",
    "\n",
    "y notamos que a mayor ancho en tiempo menor ancho en frecuencia y viceversa. \n",
    "\n",
    "Definiendo la resolución o ancho de la señal como la distancia entre sus cruces por cero, es fácil verificar que:\n",
    "\n",
    "- $\\Delta t = 2T$\n",
    "- $\\Delta \\omega =  \\omega|_{\\text{sinc}(- \\omega T) = 0}^{\\text{sinc}(\\omega T) = 0} = \\frac{2\\pi}{T}$\n",
    "- $\\Delta t \\Delta \\omega = 4 \\pi$\n",
    "\n",
    "Es decir a menor ancho en el tiempo, mayor ancho en frecuencia y viceverza"
   ]
  },
  {
   "cell_type": "code",
   "execution_count": null,
   "metadata": {
    "slideshow": {
     "slide_type": "fragment"
    }
   },
   "outputs": [],
   "source": [
    "plt.close('all'); fig, ax = plt.subplots(1, 2, figsize=(6, 3))\n",
    "t = np.linspace(-5, 5, num=500); f = np.linspace(-5, 5, num=500)\n",
    "ax[0].set_xlabel('Time [s]'); ax[1].set_xlabel('Frequency [Hz]');\n",
    "line_square = ax[0].plot(t, np.zeros_like(t), linewidth=4); ax[0].set_ylim([-.1, 1.1])\n",
    "line_gabor1 = ax[0].plot([-1, 1], [0, 0], 'r--')\n",
    "line_sinc = ax[1].plot(f, np.zeros_like(f), linewidth=4)\n",
    "line_gabor2 = ax[1].plot([-0.5, 0.5], [0, 0], 'r--')\n",
    "\n",
    "def update(T):    \n",
    "    s = np.zeros_like(t); s[(t> - T) & (t<  T)] = 1    \n",
    "    line_square[0].set_ydata(s);  line_gabor1[0].set_xdata([-T, T])\n",
    "    S = 2*T*np.sinc(2*f*T); line_sinc[0].set_ydata(S); \n",
    "    line_gabor2[0].set_xdata([-0.5/T, 0.5/T])\n",
    "    ax[1].set_ylim([-2*T/np.pi, 2.2*T])\n",
    "    \n",
    "interact(update, T=SelectionSlider_nice(options=[1/8, 1/4, 1/2, 1, 2, 4], value=1));"
   ]
  },
  {
   "cell_type": "markdown",
   "metadata": {
    "slideshow": {
     "slide_type": "subslide"
    }
   },
   "source": [
    "***\n",
    "\n",
    "### Intuición: Resolución frecuencial de una sinusoide"
   ]
  },
  {
   "cell_type": "code",
   "execution_count": null,
   "metadata": {
    "slideshow": {
     "slide_type": "fragment"
    }
   },
   "outputs": [],
   "source": [
    "plt.close('all'); fig, ax = plt.subplots(figsize=(7, 3))\n",
    "t = np.arange(-4, 4, step=1e-2)\n",
    "def update(dt):\n",
    "    ax.cla(); ax.plot(t, np.cos(2.0*np.pi*t))\n",
    "    ax.plot(t, np.cos(2.0*np.pi*(1.0+0.125/dt)*t))\n",
    "    rect = patches.Rectangle((-dt, -1), 2*dt, 2, fill=False, lw=2)\n",
    "    ax.add_patch(rect)\n",
    "interact(update, dt=SelectionSlider_nice(options=[0.5, 1., 2.]));"
   ]
  },
  {
   "cell_type": "markdown",
   "metadata": {
    "slideshow": {
     "slide_type": "subslide"
    }
   },
   "source": [
    "Denis Gabor (1946) fue el primero en darse cuenta de que el principio de incertidumbre aplica para señales. Formalmente su teorema:\n",
    "\n",
    "Para una señal con energía finita \n",
    "$$\n",
    "E = \\int |s(t)|^2 dt\n",
    "$$\n",
    "con valor medio \n",
    "$$\n",
    "\\langle t \\rangle = \\frac{1}{E} \\int t |s(t)|^2 dt,\n",
    "$$\n",
    "y varianza temporal\n",
    "$$\n",
    "(\\Delta t)^2 = \\frac{1}{E} \\int (t - \\langle t \\rangle)^2 |s(t)|^2 dt,\n",
    "$$\n",
    "cuya transformada de Fourier $\\mathbb{FT}[s(t)] = S(\\omega)$ tiene un valor medio en frecuencia\n",
    "$$\n",
    "\\langle \\omega \\rangle = \\frac{1}{E} \\int (\\omega - \\langle \\omega \\rangle) |S (\\omega)|^2 d \\omega\n",
    "$$\n",
    "y varianza frecuencial\n",
    "$$\n",
    "(\\Delta \\omega)^2 = \\frac{1}{E} \\int (\\omega - \\langle \\omega \\rangle)^2 |S(\\omega)|^2 d\\omega\n",
    "$$\n",
    "\n",
    "***\n",
    "Entonces se cumple que\n",
    "\n",
    "$$\n",
    "\\Delta t \\Delta \\omega \\geq \\frac{1}{2},\n",
    "$$\n",
    "\n",
    "es decir $\\Delta t$ y $\\Delta \\omega$ no pueden ser arbitrariamente pequeños. Esto se conoce también como límite de Gabor\n",
    "\n",
    "***\n"
   ]
  },
  {
   "cell_type": "markdown",
   "metadata": {
    "slideshow": {
     "slide_type": "subslide"
    }
   },
   "source": [
    "***\n",
    "\n",
    "### Ejemplo: Transformada de Fourier de una Gaussiana\n",
    "\n",
    "La función Gaussiana se define como\n",
    "\n",
    "$$\n",
    "s(t) = \\alpha e^{- \\beta t^2}\n",
    "$$\n",
    "y su transformada de Fourier es\n",
    "\n",
    "$$\n",
    "\\begin{align}\n",
    "S(\\omega) &= \\alpha \\int  e^{- \\beta t^2} e^{-j\\omega t} dt \\nonumber \\\\\n",
    "&= \\alpha e^{- \\frac{\\omega^2}{4\\beta}}\\int e^{-\\beta (t + \\frac{j\\omega}{2\\beta})^2 } dt \\nonumber \\\\\n",
    "&= \\alpha e^{- \\frac{\\omega^2}{4\\beta}} \\sqrt{\\frac{\\pi}{\\beta}} = \\hat \\alpha e^{- \\hat \\beta \\omega^2}, \\nonumber \n",
    "\\end{align}\n",
    "$$\n",
    "es decir otra gaussiana.\n",
    "\n",
    "La gaussiana es la unica función que cumple $\\Delta t \\Delta \\omega = \\frac{1}{2}$"
   ]
  },
  {
   "cell_type": "markdown",
   "metadata": {
    "slideshow": {
     "slide_type": "subslide"
    }
   },
   "source": [
    "***\n",
    "\n",
    "## Definiciones\n",
    "\n",
    "- Función limitada en el tiempo\n",
    "$$\n",
    "s(t) = 0 \\quad \\forall |t| > T,\n",
    "$$\n",
    "para alguna constante $T$\n",
    "\n",
    "- Función limitada en ancho de banda\n",
    "$$\n",
    "S(\\omega) = 0 \\quad \\forall |\\omega| > \\Omega,\n",
    "$$\n",
    "para alguna constante $\\Omega$"
   ]
  },
  {
   "cell_type": "markdown",
   "metadata": {
    "slideshow": {
     "slide_type": "subslide"
    }
   },
   "source": [
    "***\n",
    "\n",
    "## Enventanado\n",
    "\n",
    "- En la práctica no trabajamos con señales de duración infinita\n",
    "- Una señal de duración infinita puede hacerse finita multiplicando por una **ventana** finita\n",
    "- Por ejemplo\n",
    "$$\n",
    "s_T(t) = \\cos(\\omega_0 t) \\text{rect}(t/T),\n",
    "$$\n",
    "donde \n",
    "$$\n",
    "\\text{rect}(x) = \\begin{cases} 1 & |x| \\leq 1 \\\\ 0 & |x| > 0 \\end{cases}\n",
    "$$\n",
    "es una ventana rectangular, *i.e.* pulso cuadrado\n",
    "\n",
    "¿Cúal es la transformada de Fourier de $s_T(t)$?\n",
    "\n",
    "$$\n",
    "\\begin{align}\n",
    "S_T(\\omega) &= \\int s_T(t) e^{-j\\omega t} dt \\nonumber \\\\\n",
    "&= \\int_{-T}^T \\cos(\\omega_0 t) \\cos(\\omega t) dt \\nonumber \\\\\n",
    "&= T \\text{sinc}((\\omega - \\omega_0)T) +  T \\text{sinc}((\\omega + \\omega_0)T) \\nonumber \n",
    "\\end{align}\n",
    "$$\n",
    "\n",
    "\n",
    "Donde usamos que \n",
    "$$\n",
    "2 \\cos(\\alpha)\\cos(\\beta) = \\cos(\\alpha - \\beta) +  \\cos(\\alpha + \\beta)\n",
    "$$\n",
    "\n",
    "Que también se resuelve usando la propiedad de modulación\n",
    "$$\n",
    "\\begin{align}\n",
    "S_T(\\omega) &= T \\text{sinc}((\\omega - \\omega_0)T) +  T \\text{sinc}((\\omega + \\omega_0)T) \\nonumber \\\\\n",
    "&=  T \\text{sinc}(\\omega T) * \\left[ \\delta(\\omega - \\omega_0) + \\delta(\\omega + \\omega_0) \\right] \\nonumber \\\\\n",
    "&= \\frac{1}{2\\pi} \\mathbb{FT}[\\text{rect}(t/T)] * \\mathbb{FT}[\\cos(\\omega_0 t)] \\nonumber\n",
    "\\end{align}\n",
    "$$\n",
    "\n",
    "- Es decir que multiplicar por una ventana rectangular en el tiempo es equivalente a convolucionar con un sinc en frecuencia\n",
    "- ¿Qué repercusión tiene esto en el espectro?"
   ]
  },
  {
   "cell_type": "code",
   "execution_count": null,
   "metadata": {
    "slideshow": {
     "slide_type": "fragment"
    }
   },
   "outputs": [],
   "source": [
    "plt.close('all'); fig, ax = plt.subplots(2, figsize=(6, 4))\n",
    "f = np.linspace(-3, 3, num=500)\n",
    "def update(T, window):\n",
    "    t = np.arange(-T, T, step=1e-2); \n",
    "    tf = np.cos(2.0*np.pi*t[:, np.newaxis]*f[:, np.newaxis].T);\n",
    "    if window == \"rect\":\n",
    "        w = np.ones_like(t)\n",
    "    elif window == \"gaussian\":\n",
    "        w = np.exp(-0.5*t**2/(0.333*T)**2)\n",
    "    s = w*np.cos(2.0*np.pi*t); \n",
    "    S = np.average(s[:, np.newaxis]*tf, axis=0)\n",
    "    ax[0].cla(); ax[1].cla(); ax[0].set_title(r'$s_T(t) = rect(t/T)cos(2\\pi t)$')\n",
    "    ax[0].plot(t, s); ax[1].plot(f, S); ax[1].set_title(r'$\\Re[S_T(f)]$')\n",
    "interact(update, T=SelectionSlider_nice(options=[0.5, 1, 2, 4, 8, 16], value=8),\n",
    "         window=SelectionSlider_nice(options=[\"rect\", \"gaussian\"]));"
   ]
  },
  {
   "cell_type": "markdown",
   "metadata": {
    "slideshow": {
     "slide_type": "slide"
    }
   },
   "source": [
    "***\n",
    "[Volver al índice](#index)\n",
    "\n",
    "<a id=\"section5\"></a>\n",
    "\n",
    "# Efectos del muestreo  y el enventanado en la DFT\n",
    "\n",
    "***\n",
    "\n",
    "Muestrear es equivalente a multiplicar una señal continua por un tren de impulsos (peineta de Dirac)\n",
    "\n",
    "$$\n",
    "\\text{III}_{T}(t) = \\sum_{m=-\\infty}^\\infty \\delta[t - m T],\n",
    "$$\n",
    "donde $T=\\frac{1}{F_s}$. La transformada de Fourier del tren de impulsos (por demostrar) es\n",
    "$$\n",
    "\\mathbb{FT}[\\text{III}_T] =  2\\pi F_s \\sum_{m=-\\infty}^\\infty  \\delta(\\omega - 2\\pi m F_s)\n",
    "$$\n",
    "\n",
    "Multiplicar en el tiempo corresponde a convolucionar en frecuencia\n",
    "\n",
    "$$\n",
    "\\begin{align}\n",
    "\\mathbb{FT}[s(t) \\text{III}(t)] &= \\mathbb{FT}[s(t)] * \\mathbb{FT}[\\text{III}_T(t)] \\nonumber \\\\\n",
    "&= S(\\omega) * 2\\pi F_s \\sum_{m=-\\infty}^\\infty  \\delta(\\omega - 2\\pi m F_s) \\nonumber \\\\\n",
    "&= 2\\pi F_s \\sum_{m = -\\infty}^{\\infty} S(\\omega - 2 \\pi m F_s) \\nonumber\n",
    "\\end{align}\n",
    "$$\n",
    "- ¿Puedes explicar con palabras simples que ocurre con el espectro de la señal continua al muestrear?\n",
    "\n",
    "<img src=\"img/fft-sampling1.png\">\n",
    "\n",
    "- ¿Qué ocurre cuando el espectro tienes contenido a frecuencias mayores que $F_s/2$?\n",
    "<img src=\"img/fft-sampling2.png\">"
   ]
  },
  {
   "cell_type": "markdown",
   "metadata": {
    "slideshow": {
     "slide_type": "subslide"
    }
   },
   "source": [
    "***\n",
    "## Aliasing\n",
    "\n",
    "- El espectro de una señal muestreada es periódico en $F_s$\n",
    "- Si originalmente la señal tenía componentes con frecuencias mayores a $F_s/2$ se produce un \"traslape espectral\"\n",
    "- Este fenomeno se llama *aliasing* y los componentes traslapados se denominan *aliases*\n",
    "- Cuando existe aliasing no se puede reconstruir la señal original\n",
    "\n",
    "El **teorema del muestreo** (unidad anterior) nos dice que una señal muestreada a $F_s$ con frecuencias menores a $F_s/2$ puede reconstruirse perfectamente\n",
    "\n",
    "Podemos forzar esta condición mediante\n",
    "- Filtrado: Eliminar las frecuencias mayores a $Fs/2$\n",
    "- Aumentar $F_s$ tal que sea dos veces mayor que la frecuencia máxima de interés\n",
    "\n",
    "\n",
    "### Ejemplo:\n",
    "- Se tiene una señal con tres componentes a 1Hz, 12Hz y 23Hz, respectivamente\n",
    "- Modifica la frecuencia de muestreo y detecta los componentes erroneos o aliases en el espectro\n",
    "- Verifica como afectan a la reconstrucción de la señal"
   ]
  },
  {
   "cell_type": "code",
   "execution_count": null,
   "metadata": {
    "slideshow": {
     "slide_type": "fragment"
    }
   },
   "outputs": [],
   "source": [
    "fig, ax = plt.subplots(4, figsize=(6, 6));\n",
    "t = np.arange(-3, 3, step=0.01); N = len(t)\n",
    "s =  np.cos(2*np.pi*t) - 0.5*np.sin(2.0*np.pi*12*t + np.pi/3) + 0.25*np.sin(2.0*np.pi*23*t) \n",
    "ax[0].plot(t, s, '-'); ax[0].set_title('Original')\n",
    "\n",
    "def update(Fs):    \n",
    "    t_short = t[::int(100/Fs)]; s_short = s[::int(100/Fs)]\n",
    "    ax[1].cla(); ax[1].plot(t_short, s_short, '.'); ax[1].set_title('Sampled at %0.2f' %(Fs))\n",
    "    S = fftpack.fft(s_short); f = fftpack.fftshift(fftpack.fftfreq(n=len(S), d=1.0/Fs)); \n",
    "    ax[2].cla(); ax[2].plot(f, fftpack.fftshift((np.absolute(S))), linewidth=2);\n",
    "    S_pad = np.concatenate((S[:int(len(S)/2)], np.zeros(shape=(N-len(S))), S[int(len(S)/2):]))\n",
    "    ax[2].set_title('Spectrum '); s_recon = np.real(fftpack.ifft(S_pad))\n",
    "    ax[3].cla(); ax[3].plot(t, s_recon*len(t)/len(t_short), '-', linewidth=2); \n",
    "    ax[3].set_title(\"Reconstruction from padded spectrum\");\n",
    "interact(update, Fs=SelectionSlider_nice(options=[5, 10, 25, 33, 50, 100], value=100));"
   ]
  },
  {
   "cell_type": "markdown",
   "metadata": {
    "slideshow": {
     "slide_type": "subslide"
    }
   },
   "source": [
    "***\n",
    "\n",
    "## Fuga espectral\n",
    "\n",
    "La fuga espectral (spectral leak):\n",
    "- En una distribución de la energía de un cierto componente espectral hacia frecuencias vecinas\n",
    "- Aparece como lobulos laterales en torno a los componentes espectrales\n",
    "- Sólo aparece si la señal es no periódica dentro del rango de observación \n",
    "- Está asociado a las discontinuidades provocadas por los bordes de la señal\n",
    "    - Una discontinuidad fuerte puede ocupar mucho espacio en frecuencia ¿Por qué?\n",
    "\n",
    "***\n",
    "Multiplicando la señal por una ventana apropiada podemos reducir este efecto a un rango más acotado de frecuencia\n",
    "***\n",
    "\n",
    "### Ventana de Hann\n",
    "\n",
    "Se define como\n",
    "$$\n",
    "w[n] = 0.5 - 0.5 \\cos \\left( \\frac{2\\pi n}{N-1} \\right), \\quad n=0, 1, \\ldots, N-1,\n",
    "$$\n",
    "y tiene bordes que tienden a cero"
   ]
  },
  {
   "cell_type": "code",
   "execution_count": null,
   "metadata": {
    "slideshow": {
     "slide_type": "fragment"
    }
   },
   "outputs": [],
   "source": [
    "plt.close('all'); fig, ax = plt.subplots(2, figsize=(6, 4))\n",
    "def update(f0, window, log_scale=False):\n",
    "    n = np.arange(0, 100);\n",
    "    if window == \"rect\":\n",
    "        w = np.ones_like(n)    \n",
    "    elif window == \"hamming\":\n",
    "        w = 0.5 - 0.5*np.cos(2*np.pi*n/(len(n)))\n",
    "    s = w*np.cos(2.0*np.pi*f0*n); f = fftpack.fftshift(fftpack.fftfreq(n=len(s), d=1))\n",
    "    S = fftpack.fftshift(np.absolute(fftpack.fft(s)))\n",
    "    ax[0].cla(); ax[1].cla(); ax[0].set_title(r'$w[n]cos(2\\pi f_0 n)$')\n",
    "    ax[0].plot(n, s); ax[1].plot(f, S); ax[1].set_title(r'$|S_T(f)|$')\n",
    "    if log_scale:\n",
    "        ax[1].set_yscale('log')\n",
    "interact(update, f0=SelectionSlider_nice(options=[0.05, 0.05214178, 0.055414684, 0.2, 0.241245], value=0.05),\n",
    "         window=SelectionSlider_nice(options=[\"rect\", \"hamming\"]));"
   ]
  },
  {
   "cell_type": "markdown",
   "metadata": {},
   "source": [
    "## Toma 2: Efectos de la frecuencia de muestreo y de la ventana de observación en el espectro\n",
    "\n",
    "1. **Fila superior, linea azul**: señal con frecuencia de muestreo 50 Hz y duración 10 segundos\n",
    "1. **Superior izquierda (cruces rojas)**: señal con un décimo de la frecuencia de muestreo pero igual largo temporal\n",
    "1. **Superior derecha (cruces rojas)**: señal con igual frecuencia de muestreo pero con un décimo del largo temporal\n",
    "\n",
    "\n",
    "\n",
    "> La frecuencia de muestreo influye en la frecuencia máxima que podemos estudiar (frecuencia de Nyquist)\n",
    "\n",
    "> El largo temporal o ventana de observación influye en la resolución frecuencial del espectro \n"
   ]
  },
  {
   "cell_type": "code",
   "execution_count": null,
   "metadata": {},
   "outputs": [],
   "source": [
    "x_plot = np.cos(2.0*np.pi*f0*t_plot) + 0.4*np.cos(2.0*np.pi*2*f0*t_plot +np.pi/4) + 0.1*np.random.randn(1000)\n",
    "\n",
    "t, x = t_plot[::10], x_plot[::10]\n",
    "X = fftpack.fft(x)[:len(x)//2]\n",
    "freq = fftpack.fftfreq(n=len(x), d=t[1]-t[0])[:len(x)//2]\n",
    "\n",
    "fig, ax = plt.subplots(2, 2, figsize=(7, 4), tight_layout=True)\n",
    "ax[0, 0].plot(t_plot,x_plot)\n",
    "ax[0, 0].scatter(t, x, marker='x', c='r')\n",
    "ax[1, 0].plot(freq, np.absolute(X))\n",
    "\n",
    "t, x = t_plot[:100], x_plot[:100]\n",
    "X = fftpack.fft(x)[:len(x)//2]\n",
    "freq = fftpack.fftfreq(n=len(x), d=t[1]-t[0])[:len(x)//2]\n",
    "ax[0, 1].plot(t_plot,x_plot)\n",
    "ax[0, 1].scatter(t, x, marker='x', c='r')\n",
    "ax[1, 1].plot(freq, np.absolute(X));"
   ]
  },
  {
   "cell_type": "markdown",
   "metadata": {},
   "source": [
    "## Toma 2: Incertidumbre frecuencia-tiempo\n",
    "\n",
    "Mientras más pequeño es la \"separación en frecuencia\" de dos señales, más tiempo debemos observarlas para poder diferenciarlas"
   ]
  },
  {
   "cell_type": "code",
   "execution_count": null,
   "metadata": {},
   "outputs": [],
   "source": [
    "t, dt = np.linspace(0.0, 5.0, num=1000, retstep=True)\n",
    "\n",
    "fig, ax = plt.subplots(4, figsize=(8, 6), tight_layout=True)\n",
    "\n",
    "for k in range(4):\n",
    "    ax[3-k].plot(t, np.cos(2.0*np.pi*2.1*t))\n",
    "    ax[3-k].plot(t, np.cos(2.0*np.pi*2.1*(1+0.01+0.01*k)*t))\n",
    "    ax[3-k].set_title('Error relativo: %0.2f' %(0.01+0.01*k))"
   ]
  }
 ],
 "metadata": {
  "kernelspec": {
   "display_name": "Python 3",
   "language": "python",
   "name": "python3"
  },
  "language_info": {
   "codemirror_mode": {
    "name": "ipython",
    "version": 3
   },
   "file_extension": ".py",
   "mimetype": "text/x-python",
   "name": "python",
   "nbconvert_exporter": "python",
   "pygments_lexer": "ipython3",
   "version": "3.8.5"
  },
  "toc": {
   "base_numbering": 1,
   "nav_menu": {},
   "number_sections": true,
   "sideBar": true,
   "skip_h1_title": false,
   "title_cell": "Table of Contents",
   "title_sidebar": "Contents",
   "toc_cell": false,
   "toc_position": {},
   "toc_section_display": true,
   "toc_window_display": false
  }
 },
 "nbformat": 4,
 "nbformat_minor": 2
}
