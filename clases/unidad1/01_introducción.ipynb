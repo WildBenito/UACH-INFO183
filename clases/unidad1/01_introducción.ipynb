{
 "cells": [
  {
   "cell_type": "code",
   "execution_count": null,
   "metadata": {
    "ExecuteTime": {
     "end_time": "2020-09-11T00:50:48.655537Z",
     "start_time": "2020-09-11T00:50:48.444759Z"
    },
    "slideshow": {
     "slide_type": "skip"
    }
   },
   "outputs": [],
   "source": [
    "%matplotlib inline\n",
    "import numpy as np\n",
    "import scipy.signal\n",
    "import matplotlib.pylab as plt\n",
    "from matplotlib import animation, patches, rc\n",
    "import ipywidgets as widgets\n",
    "import matplotlib as mpl\n",
    "rc('animation', html='html5')\n",
    "rc('savefig', dpi=80)\n",
    "rc('figure', dpi=80)\n",
    "from IPython.display import YouTubeVideo, HTML, Audio"
   ]
  },
  {
   "cell_type": "markdown",
   "metadata": {},
   "source": [
    "# Introducción al procesamiento digital de señales"
   ]
  },
  {
   "cell_type": "markdown",
   "metadata": {},
   "source": [
    "## ¿Qué es un sistema?\n",
    "\n",
    "Es un proceso que produce una señal de salida en función de una señal de entrada\n",
    "\n",
    "<img src=\"../images/signal-intro.png\" width=\"600\" align=\"center\" />"
   ]
  },
  {
   "cell_type": "markdown",
   "metadata": {},
   "source": [
    "## ¿Qué es una señal?\n",
    "\n",
    "Una señal es una función que describe o representa el comportamiento de un fenómeno físico o sistema\n",
    "\n",
    "Este comportamiento puede variar ya sea en el tiempo, espacio u otra variable\n",
    "\n",
    "Revisemos los siguientes ejemplos ¿Cuáles son las variables independientes y dependientes en cada caso?"
   ]
  },
  {
   "cell_type": "markdown",
   "metadata": {
    "slideshow": {
     "slide_type": "subslide"
    }
   },
   "source": [
    "### Las variaciones del [IPSA](https://es.wikipedia.org/wiki/%C3%8Dndice_de_Precio_Selectivo_de_Acciones) entre 2006 y 2015\n",
    "\n",
    "<img src=\"../images/signal-ipsa.png\" width=\"800\" align=\"center\"/>"
   ]
  },
  {
   "cell_type": "markdown",
   "metadata": {
    "slideshow": {
     "slide_type": "subslide"
    }
   },
   "source": [
    "### Los pulsos de reloj de un microcontrolador\n",
    "\n",
    "<img src=\"../images/signal-clock.png\" width=\"400\" align=\"center\"/>"
   ]
  },
  {
   "cell_type": "markdown",
   "metadata": {
    "slideshow": {
     "slide_type": "subslide"
    }
   },
   "source": [
    "### El brillo relativo de una estrella medido desde la Tierra. La estrella es orbitada por un [exoplaneta](https://en.wikipedia.org/wiki/Exoplanet)\n",
    "\n",
    "<img class=\"displayed\" src=\"../images/signal-transit.gif\" width=\"600\" align=\"center\"/>"
   ]
  },
  {
   "cell_type": "markdown",
   "metadata": {
    "slideshow": {
     "slide_type": "subslide"
    }
   },
   "source": [
    "### Una conversación humana grabada digitalmente\n",
    "\n",
    "<img src=\"../images/signal-audio.gif\">"
   ]
  },
  {
   "cell_type": "markdown",
   "metadata": {
    "slideshow": {
     "slide_type": "subslide"
    }
   },
   "source": [
    "### Actividad cerebral medida usando [ElectroEncefalografía](https://es.wikipedia.org/wiki/Electroencefalograf%C3%ADa)\n",
    "\n",
    "<img  src=\"../images/signal-eeg.png\" width=\"600\" align=\"center\"/>"
   ]
  },
  {
   "cell_type": "markdown",
   "metadata": {
    "slideshow": {
     "slide_type": "subslide"
    }
   },
   "source": [
    "### Información meteorológica de un huracán\n",
    "\n",
    "<img src=\"../images/signal-weather.gif\" width=\"500\" align=\"center\"/>"
   ]
  },
  {
   "cell_type": "markdown",
   "metadata": {
    "slideshow": {
     "slide_type": "subslide"
    }
   },
   "source": [
    "### Una película\n",
    "\n",
    "<img src=\"../images/signal-bunny.gif\" width=\"700\" align=\"center\"/>"
   ]
  },
  {
   "cell_type": "markdown",
   "metadata": {
    "slideshow": {
     "slide_type": "subslide"
    }
   },
   "source": [
    "## ¿Qué es el procesamiento de señales? \n",
    "\n",
    "Disciplina que se decida al **diseño de sistemas** para\n",
    "\n",
    "- representar ...\n",
    "- filtrar ...\n",
    "- codificar ...\n",
    "- transmitir ...\n",
    "- estimar ...\n",
    "- detectar ...\n",
    "- inferir ...\n",
    "- descubrir ...\n",
    "- reconocer ...\n",
    "- síntesizar ...\n",
    "- reproducir ...\n",
    "- etc\n",
    "\n",
    "... señales\n",
    "\n",
    "\n",
    "Fuente: [Jose S.F. Moura, \"What is signal processing\", *IEEE signal processing magazine*](http://ieeexplore.ieee.org/stamp/stamp.jsp?arnumber=5230869\")"
   ]
  },
  {
   "cell_type": "code",
   "execution_count": null,
   "metadata": {},
   "outputs": [],
   "source": [
    "YouTubeVideo('R90ciUoxcJU')"
   ]
  },
  {
   "cell_type": "markdown",
   "metadata": {
    "slideshow": {
     "slide_type": "slide"
    }
   },
   "source": [
    "## Definición matemática de una señal\n",
    "\n",
    "Una señal se representa matematicamente como una **función** \n",
    "\n",
    "$$\n",
    "y = f(x)\n",
    "$$\n",
    "\n",
    "es decir un mapeo entre el espacio de entrada y el espacio de salida\n",
    "\n",
    "$$\n",
    "f: \\mathcal{X} \\rightarrow \\mathcal{Y}, \\quad x \\in \\mathcal{X} \\wedge y \\in \\mathcal{Y},\n",
    "$$\n",
    "\n",
    "donde:\n",
    "\n",
    "- $x$ se llama **variable independiente**, **entrada** o **argumento** y su espacio se llama **dominio**\n",
    "- $y$ se llama **variable dependiente**, **salida** o **retorno** y su espacio se llama **codominio**"
   ]
  },
  {
   "cell_type": "markdown",
   "metadata": {
    "slideshow": {
     "slide_type": "subslide"
    }
   },
   "source": [
    "### Funciones matemáticas típicas\n",
    "\n",
    "Impulso unitario:\n",
    "$$\n",
    "\\delta[n] = \\begin{cases} 1 & n=0\\\\ 0 & n \\neq 0 \\end{cases}\n",
    "$$\n",
    "Escalo unitario:\n",
    "$$\n",
    "u[n] = \\sum_{k=0}^\\infty \\delta[n-k] = \\begin{cases} 1 & n\\geq 0\\\\ 0 & n < 0 \\end{cases} \n",
    "$$\n",
    "Propiedad: $\\delta[n] = u[n] - u[n-1]$\n",
    "\n",
    "Función exponencial real:\n",
    "$$\n",
    "y[n] = C e^{\\alpha n}\n",
    "$$\n",
    "\n",
    "Función exponencial compleja:\n",
    "$$\n",
    "y[n] = e^{jn\\omega} = \\Re [e^{jn\\omega}] + j \\Im[e^{jn\\omega}]  = \\cos(n\\omega) + j \\sin (n\\omega)\n",
    "$$\n",
    "\n",
    "Función exponencial compleja general:\n",
    "$$\n",
    "y[n] = |C|e^{\\alpha n + j\\omega n + j\\phi} = |C|e^{\\alpha n} [\\cos(\\omega n + \\phi) + j\\sin(\\omega n + \\phi)]\n",
    "$$\n",
    "Función Gaussiana\n",
    "$$\n",
    "y[n] = e^{- \\alpha (n-n_0)^2}, \\alpha> 0\n",
    "$$"
   ]
  },
  {
   "cell_type": "code",
   "execution_count": null,
   "metadata": {
    "ExecuteTime": {
     "end_time": "2020-09-11T00:45:27.016285Z",
     "start_time": "2020-09-11T00:45:26.840526Z"
    },
    "slideshow": {
     "slide_type": "subslide"
    }
   },
   "outputs": [],
   "source": [
    "fig, ax = plt.subplots(2, 3, figsize=(8, 5), constrained_layout=True)\n",
    "fig.suptitle('Funciones típicas', fontsize=14)\n",
    "x = np.linspace(-10, 10, num=1000)\n",
    "ax[0, 0].plot(x, x, label='y = x');  \n",
    "ax[0, 0].plot(x, np.absolute(x), label='y = |x|', linestyle='--');  ax[0, 0].legend()\n",
    "ax[0, 1].plot(x[x>0], np.sqrt(x[x>0]), label='y = sqrt(x)'); \n",
    "ax[0, 1].plot(x[x>0], np.log(x[x>0]), label='y = log(x)', linestyle='--');  ax[0, 1].legend();\n",
    "ax[0, 2].plot(x, np.exp(0.25*x), label='y = exp(x/4)');\n",
    "ax[0, 2].plot(x, np.exp(-0.25*x), label='y = exp(-x/4)', linestyle='--');  ax[0, 2].legend(); \n",
    "ax[1, 0].plot(x, np.cos(x), label='y=cos(x)')\n",
    "ax[1, 0].plot(x, np.sin(x), label='y=sin(x)', linestyle='--'); ax[1, 0].legend(loc=1)\n",
    "ax[1, 1].plot(x, np.heaviside(x, 0), label='y=step(x)'); \n",
    "ax[1, 1].plot(x, 1.0/(1.0+np.exp(-x)), label='y=logit(x)', linestyle='--'); ax[1, 1].legend(loc=1)\n",
    "ax[1, 2].plot(x, scipy.signal.unit_impulse(len(x), 'mid'), label='y=delta(x)');\n",
    "ax[1, 2].plot(x, np.exp(-0.5*x**2), label='y=exp(-x^2)', linestyle='--'); ax[1, 2].legend(loc=1);"
   ]
  },
  {
   "cell_type": "markdown",
   "metadata": {
    "slideshow": {
     "slide_type": "subslide"
    }
   },
   "source": [
    "### Algunas propiedades de las funciones\n",
    "\n",
    "- Función par o simétrica: \n",
    "$$\n",
    "f(x) = f(-x)\n",
    "$$\n",
    "- Función inpar o antisimétrica: \n",
    "$$\n",
    "f(x) = -f(-x)\n",
    "$$\n",
    "- Función periódica: \n",
    "$$\n",
    "\\exists ~ T ~\\text{tal que}~ f(x) = f(x+T)\n",
    "$$\n",
    "- Función lineal (adición vectorial y multiplicación escalar): \n",
    "$$\n",
    "f(ax + by) = a f(x) + b f(y),\n",
    "$$\n",
    "con $a$, $b$ coeficientes escalares \n"
   ]
  },
  {
   "cell_type": "code",
   "execution_count": null,
   "metadata": {
    "ExecuteTime": {
     "end_time": "2020-09-11T00:46:31.968583Z",
     "start_time": "2020-09-11T00:46:31.844374Z"
    },
    "scrolled": false,
    "slideshow": {
     "slide_type": "subslide"
    }
   },
   "outputs": [],
   "source": [
    "fig, ax = plt.subplots(figsize=(8, 3))\n",
    "x = np.linspace(-10, 10, num=1000)\n",
    "ax.plot(x, -(-x)**3, label='y = x');  "
   ]
  },
  {
   "cell_type": "code",
   "execution_count": null,
   "metadata": {
    "ExecuteTime": {
     "end_time": "2020-09-11T00:52:13.004973Z",
     "start_time": "2020-09-11T00:52:12.877271Z"
    },
    "slideshow": {
     "slide_type": "subslide"
    }
   },
   "outputs": [],
   "source": [
    "%%capture\n",
    "fig, ax = plt.subplots(figsize=(8, 3))\n",
    "t = np.linspace(-6, 6, num=1000)\n",
    "x = np.sin(2*np.pi*1*t)\n",
    "line = ax.plot(t, x)\n",
    "\n",
    "def update(k = 1): \n",
    "    line[0].set_ydata(np.sin(2*np.pi*0.01*k*t));\n",
    "    ax.set_title(\"Frequency: %0.2f [Hz]\" %(0.01*k))\n",
    "    return (line[0], )\n",
    "\n",
    "anim=animation.FuncAnimation(fig, update, frames=100, interval=100, blit=True)"
   ]
  },
  {
   "cell_type": "code",
   "execution_count": null,
   "metadata": {},
   "outputs": [],
   "source": [
    "HTML(anim.to_html5_video())"
   ]
  },
  {
   "cell_type": "code",
   "execution_count": null,
   "metadata": {
    "ExecuteTime": {
     "end_time": "2020-09-11T00:45:56.753217Z",
     "start_time": "2020-09-11T00:45:56.671315Z"
    },
    "slideshow": {
     "slide_type": "subslide"
    }
   },
   "outputs": [],
   "source": [
    "%%capture\n",
    "fig, ax = plt.subplots(3, 1, figsize=(8, 5), constrained_layout=True)\n",
    "x = np.linspace(-2, 2, num=500)\n",
    "line0, = ax[0].plot(x, np.cos(2.0*np.pi*x)); \n",
    "ax[0].set_title('Sinusoidal')\n",
    "line1, = ax[1].plot(x, scipy.signal.sawtooth(2.0*np.pi*x));  \n",
    "ax[1].set_title('Diente de sierra')\n",
    "line2, = ax[2].plot(x, scipy.signal.square(x));  \n",
    "ax[2].set_title('Cuadrada');\n",
    "\n",
    "def update(k = 1): \n",
    "    arg = 2.0*np.pi*(x - k*0.01)\n",
    "    line0.set_ydata(np.cos(arg))\n",
    "    line1.set_ydata(scipy.signal.sawtooth(arg))\n",
    "    line2.set_ydata(scipy.signal.square(arg))\n",
    "    return (line0, line1, line2,)\n",
    "anim = animation.FuncAnimation(fig, update, frames=100, interval=20, blit=True);"
   ]
  },
  {
   "cell_type": "code",
   "execution_count": null,
   "metadata": {},
   "outputs": [],
   "source": [
    "HTML(anim.to_html5_video())"
   ]
  },
  {
   "cell_type": "markdown",
   "metadata": {
    "slideshow": {
     "slide_type": "subslide"
    }
   },
   "source": [
    "## Clasificación de señales según tipo de variable\n",
    "\n",
    "A grandes rasgos podemos clasificar las señales como:\n",
    "\n",
    "- Variable independiente continua (columna izquierda)\n",
    "- Variable independiente discreta (columna derecha)\n",
    "- Variable dependiente continua/análoga (fila superior)\n",
    "- Variable dependiente cuantizada/digital (fila inferior)"
   ]
  },
  {
   "cell_type": "markdown",
   "metadata": {},
   "source": [
    "<img src=\"../images/signal-classification1.png\" width=\"600\" align=\"center\">"
   ]
  },
  {
   "cell_type": "markdown",
   "metadata": {
    "slideshow": {
     "slide_type": "subslide"
    }
   },
   "source": [
    "- Los computadores trabajan con **señales digitales de tiempo discreto**\n",
    "- Los señales \"naturales\" son en general analógicas de tiempo continuo\n",
    "\n",
    "\n",
    "Entonces, para trabajar con señales analógicas en nuestro computador:\n",
    "\n",
    "1. Se discretiza en el tiempo **muestreando** según el reloj del sistema, por ejemplo:\n",
    "$$\n",
    "x_A(t=kT_S) = x[k], \\quad k \\in \\mathbb{Z}\n",
    "$$\n",
    "1. Se cuantiza la amplitud, por ejemplo:\n",
    "$$\n",
    "v_D = \\begin{cases} 0 & v_A \\in [0.0, 0.8] V \\\\ 1 & v_A \\in [2.0, 5.0] V\\end{cases}\n",
    "$$  "
   ]
  },
  {
   "cell_type": "code",
   "execution_count": null,
   "metadata": {
    "ExecuteTime": {
     "end_time": "2020-09-11T00:41:58.216146Z",
     "start_time": "2020-09-11T00:41:58.120616Z"
    },
    "slideshow": {
     "slide_type": "subslide"
    }
   },
   "outputs": [],
   "source": [
    "fig, ax = plt.subplots(1, 3, figsize=(8, 3), tight_layout=True)\n",
    "x = np.linspace(0.0, 2.0, num=1000)\n",
    "y = np.sin(2.0*np.pi*1.0*x)\n",
    "ax[0].plot(x, y)\n",
    "ax[1].plot(x, np.floor(y//0.249))\n",
    "ax[2].stem(x[::20], np.floor(y[::20]//0.249), use_line_collection=True);"
   ]
  },
  {
   "cell_type": "markdown",
   "metadata": {},
   "source": [
    "\n",
    "<div class=\"alert alert-info\">\n",
    "    \n",
    "Una señal discreta es una secuencia de valores indexada por un entero, es decir un <b>arreglo</b>\n",
    "\n",
    "</div>\n",
    "  "
   ]
  },
  {
   "cell_type": "markdown",
   "metadata": {
    "slideshow": {
     "slide_type": "subslide"
    }
   },
   "source": [
    "## Propiedades de las señales\n",
    "\n",
    "En general trabajaremos con señales que, dentro de un rango de interés, son **acotadas** en energía, potencia y/o en ancho de banda. Es decir son señales finitas (no divergen ni se vuelven singulares)\n",
    "\n",
    "<div class=\"alert alert-info\">\n",
    "    La energía de una señal mide su \"tamaño\" o el \"espacio que ocupa\". Para una señal analógica y discreta, respectivamente\n",
    "</div>\n",
    "\n",
    "Matemáticamente, se define como\n",
    "\n",
    "$$\n",
    "E_s = \\int_{-\\infty}^\\infty |s(t)|^2 \\,dt  \\qquad E_s = \\sum_{n=-\\infty}^\\infty |s[n]|^2 \n",
    "$$\n",
    "\n",
    "Una señal acotada en energía debe cumplir $E_s < \\infty$"
   ]
  },
  {
   "cell_type": "markdown",
   "metadata": {
    "slideshow": {
     "slide_type": "subslide"
    }
   },
   "source": [
    "<div class=\"alert alert-info\">\n",
    "\n",
    "La potencia promedio de una señal se define como su energía por unidad de tiempo\n",
    "\n",
    "</div>\n",
    "\n",
    "Matemáticamente, se define como\n",
    "\n",
    "$$\n",
    "P_s = \\lim_{T\\to \\infty} \\frac{1}{2T} \\int_{- T}^{T} |s(t)|^2 \\,dt  \\qquad P_s = \\lim_{N\\to \\infty} \\frac{1}{2N+1} \\sum_{n = - N}^{N} |s[n]|^2 \n",
    "$$\n",
    "\n",
    "Una señal acotada en potencia debe cumplir $P_s < \\infty$\n",
    "\n",
    "Una señal de energía finita tiene potencia cero\n",
    "\n",
    "Una señal de potencia finita tiene duración infinita"
   ]
  },
  {
   "cell_type": "markdown",
   "metadata": {},
   "source": [
    "<div class=\"alert alert-info\">\n",
    "    \n",
    "El ancho de banda de una señal mide su tasa de cambio o velocidad<br>\n",
    "    \n",
    "</div> \n",
    "\n",
    "Una señal acotada en ancho de banda debe tener transiciones suaves"
   ]
  },
  {
   "cell_type": "markdown",
   "metadata": {
    "slideshow": {
     "slide_type": "subslide"
    }
   },
   "source": [
    "¿Cual es la energía de esta señal?\n",
    "$$\n",
    "s(t) = \\begin{cases} 0 & t < 0 \\\\ 2e^{-t/2} & t \\geq 0\\end{cases}\n",
    "$$"
   ]
  },
  {
   "cell_type": "code",
   "execution_count": null,
   "metadata": {
    "ExecuteTime": {
     "end_time": "2020-09-11T00:48:23.914313Z",
     "start_time": "2020-09-11T00:48:23.878989Z"
    },
    "slideshow": {
     "slide_type": "fragment"
    }
   },
   "outputs": [],
   "source": [
    "plt.close('all'); fig, ax = plt.subplots(figsize=(8, 3))\n",
    "dt=0.001; x = np.arange(-5, 20, step=dt)\n",
    "y = np.zeros(shape=(x.shape))\n",
    "y[x>=0] = 2*np.exp(-x[x>=0]/2)\n",
    "ax.plot(x, y)\n",
    "\n",
    "print((y**2).sum()*dt);"
   ]
  },
  {
   "cell_type": "markdown",
   "metadata": {
    "slideshow": {
     "slide_type": "slide"
    }
   },
   "source": [
    "## Clasificación de señales según su naturaleza\n",
    "\n",
    "- **Señal determinista:** Puede describirse completamente por una ecuación matemática\n",
    "\n",
    "Por ejemplo\n",
    "\n",
    "$$\n",
    "y = \\cos(x)\\sin(2x) + 0.1x\n",
    "$$"
   ]
  },
  {
   "cell_type": "code",
   "execution_count": null,
   "metadata": {
    "ExecuteTime": {
     "end_time": "2020-09-11T00:41:00.199762Z",
     "start_time": "2020-09-11T00:40:58.121Z"
    },
    "slideshow": {
     "slide_type": "fragment"
    }
   },
   "outputs": [],
   "source": [
    "fig, ax = plt.subplots(figsize=(8, 3))\n",
    "x = np.linspace(-10, 10, num=1000)\n",
    "ax.plot(x, np.cos(x)*np.sin(2*x) + 0.1*x);  "
   ]
  },
  {
   "cell_type": "markdown",
   "metadata": {
    "slideshow": {
     "slide_type": "fragment"
    }
   },
   "source": [
    "- **Señal estocástica:** Se describe probabilisticamente, es decir en términos de su densidad de probabilidad.\n",
    "   \n",
    "Por ejemplo\n",
    "\n",
    "$$ \n",
    "z \\sim \\mathcal{N}(\\mu, \\Sigma) \n",
    "$$\n"
   ]
  },
  {
   "cell_type": "code",
   "execution_count": null,
   "metadata": {
    "ExecuteTime": {
     "end_time": "2020-09-11T00:41:00.200672Z",
     "start_time": "2020-09-11T00:40:58.125Z"
    },
    "slideshow": {
     "slide_type": "fragment"
    }
   },
   "outputs": [],
   "source": [
    "fig, ax = plt.subplots(figsize=(8, 3))\n",
    "z = np.random.multivariate_normal(np.zeros(100), np.eye(100))\n",
    "ax.hist(z, alpha=0.75)\n",
    "ax.scatter(z, [0]*len(z), c='k');  "
   ]
  },
  {
   "cell_type": "markdown",
   "metadata": {
    "slideshow": {
     "slide_type": "subslide"
    }
   },
   "source": [
    "### Variable aleatoria\n",
    "\n",
    "Es una variable cuyos valores posibles son resultados de un fenomeno aleatorio \n",
    "\n",
    "- Se describe en términos de su función de densidad de probabilidad (fdp) o distribución \n",
    "- Los valores observados a partir de la V.A. se llaman **realizaciones**\n",
    "- Por lo general asumimos que las realizaciones son **iid**: independientes e identicamente distribuidas\n",
    "- Usualmente se denota como $X$ y sus realizaciones como $\\{x_1, x_2, \\ldots, x_N\\}$\n",
    "\n"
   ]
  },
  {
   "cell_type": "markdown",
   "metadata": {
    "slideshow": {
     "slide_type": "subslide"
    }
   },
   "source": [
    "### Distribuciones de probabilidad y momentos estadísticos \n",
    "\n",
    "Una distribución se describe a través de sus momentos estadísticos. \n",
    "\n",
    "\n",
    "Para una variable aleatoria X su momento de orden k es\n",
    "$$\n",
    "\\mu_k = \\mathbb{E} \\left[X^k\\right]\n",
    "$$\n",
    "y su momento central de orden k\n",
    "$$\n",
    "\\hat \\mu_k =\\mathbb{E} \\left[(X - \\mathbb{E}[X])^k\\right]\n",
    "$$\n",
    "donde la esperanza se define como\n",
    "$$\n",
    "\\mathbb{E}[X] = \\sum_n x_n p(x_n)\n",
    "$$\n",
    "y la media muestreal es\n",
    "$$\n",
    "\\langle X \\rangle = \\frac{1}{N} \\sum_{n=1}^N x_n\n",
    "$$\n",
    "\n",
    "Los momentos estadísticos más usados son la \n",
    "- Media ($\\mu$): $\\mu_1$ \n",
    "- Varianza ($\\sigma^2$): $\\hat \\mu_2$ \n",
    "- Simetría: $\\frac{\\hat \\mu_3 }{\\sqrt{\\hat \\mu_2^3}}$\n",
    "- Kurtosis: $\\frac{\\hat \\mu_4 }{ \\hat \\mu_2^2}$\n",
    "\n",
    "\n",
    "<img src=\"../images/moments.png\">\n",
    "\n",
    "\n",
    "\n"
   ]
  },
  {
   "cell_type": "markdown",
   "metadata": {
    "slideshow": {
     "slide_type": "subslide"
    }
   },
   "source": [
    "### Proceso aleatorio y proceso estacionario\n",
    "\n",
    "- Un proceso aleatorio es una colección de variables aleatorias indexadas \n",
    "$$\n",
    "X^t = {X_1, X_2, X_3, \\ldots, X_T}\n",
    "$$\n",
    "- Una realización del P.A. es una serie de tiempo \n",
    "$$\n",
    "X^t \\sim \\{x_t\\}_{t=1,\\ldots,T} = {x_1, x_2, x_3, \\ldots, x_T}\n",
    "$$\n",
    "- Un **proceso estacionario** es aquel donde sus momentos no varían con el tiempo, es decir\n",
    "$$\n",
    "\\mathbb{E}[X_1] = \\mathbb{E}[X_2] = \\ldots = \\mathbb{E}[X_T] \n",
    "$$\n",
    "- Un **proceso ergódico** es aquel donde los momentos se pueden deducir a partir de una realización (suficientemente larga) del P.A. \n",
    "    - Esto es útil pues muchas veces observamos sólo una realización\n",
    "    - Los promedios muestreales del ensamble equivalen a promedios muestreales temporales\n",
    "\n",
    "$$\n",
    "\\langle x_t \\rangle = \\mathbb{E}[X_k] ~~\\forall k\n",
    "$$\n",
    "\n",
    "<img src=\"../images/stationary-and-ergodic.png\" width=\"800\">"
   ]
  },
  {
   "cell_type": "code",
   "execution_count": null,
   "metadata": {
    "ExecuteTime": {
     "end_time": "2020-09-11T00:41:00.201721Z",
     "start_time": "2020-09-11T00:40:58.130Z"
    },
    "slideshow": {
     "slide_type": "fragment"
    }
   },
   "outputs": [],
   "source": [
    "%%capture\n",
    "fig, ax = plt.subplots(1, 2, figsize=(8, 3), tight_layout=True)\n",
    "x = np.linspace(-3, 3, num=100); \n",
    "\n",
    "data = np.random.randn(10000)\n",
    "def update(N = 1):    \n",
    "    ax[0].cla(); ax[1].cla(); ax[0].set_ylim(-3.5, 3.5);\n",
    "    ax[1].set_ylim(-3, 3); ax[1].set_xlim(0, 0.5);\n",
    "    ax[0].plot(data[:10**N]); \n",
    "    ax[1].hist(data[:10**N], bins=10, density=True, orientation=u'horizontal'); \n",
    "    ax[1].plot(np.exp(-x**2)/np.sqrt(2.0*np.pi), x); \n",
    "    return ()\n",
    "\n",
    "anim = animation.FuncAnimation(fig, update, frames=5, interval=2000, blit=True)"
   ]
  },
  {
   "cell_type": "markdown",
   "metadata": {},
   "source": [
    "Realizaciones de un proceso estocástico con distribución Gaussiana\n",
    "\n",
    "Mientras más muestras observamos, mejor se aprecia la distribución subyacente"
   ]
  },
  {
   "cell_type": "code",
   "execution_count": null,
   "metadata": {},
   "outputs": [],
   "source": [
    "HTML(anim.to_html5_video())"
   ]
  },
  {
   "cell_type": "markdown",
   "metadata": {},
   "source": [
    "Realizaciones de un proceso estocástico con distribución Gaussiana con media cero\n",
    "\n",
    "Cada columna tiene una covarianza distinta\n",
    "\n",
    "Mientras más grande es el valor de \"tau\" más correlacionas están las muestras"
   ]
  },
  {
   "cell_type": "code",
   "execution_count": null,
   "metadata": {
    "ExecuteTime": {
     "end_time": "2020-09-11T00:41:00.202626Z",
     "start_time": "2020-09-11T00:40:58.134Z"
    },
    "slideshow": {
     "slide_type": "subslide"
    }
   },
   "outputs": [],
   "source": [
    "fig, ax = plt.subplots(1, 3, figsize=(10, 5), tight_layout=True, sharex=True, sharey=True)\n",
    "ax[0].set_ylim(-5, 25)\n",
    "np.random.seed(0); \n",
    "    \n",
    "def draw_random_plot(ax, tau):\n",
    "    for k in range(0, 25, 5): \n",
    "        ax.plot(100*[k], 'k--', alpha=0.5)\n",
    "        dt = np.repeat(np.reshape(np.arange(100), (1, -1)), 100, axis=0)\n",
    "        S = np.exp(-0.5*np.square(dt - dt.T)/tau**2)\n",
    "        data = k + np.random.multivariate_normal(np.zeros(100), S)\n",
    "        ax.plot(data); \n",
    "        \n",
    "draw_random_plot(ax[0], tau=0.5)\n",
    "draw_random_plot(ax[1], tau=1)\n",
    "draw_random_plot(ax[2], tau=2)"
   ]
  },
  {
   "cell_type": "markdown",
   "metadata": {
    "slideshow": {
     "slide_type": "subslide"
    }
   },
   "source": [
    "## Ruido\n",
    "\n",
    "En la práctica no solemos observar señales puramente deterministas. Esto se debe a la presencia del **ruido**\n",
    "\n",
    "El ruido es una corrupción indeseable y usualmente estocástica que modifica la señal de interés\n",
    "\n",
    "\n",
    "### Corrupción aditiva\n",
    "\n",
    "Un supuesto muy usado es considerar que el ruido es una **corrupción aditiva**\n",
    "\n",
    "$$\n",
    "y[k] = x[k] + n[k],\n",
    "$$\n",
    "\n",
    "donde $y$ es la señal observada, $x$ es la señal de interés y $n$ es una señal de ruido"
   ]
  },
  {
   "cell_type": "code",
   "execution_count": null,
   "metadata": {
    "ExecuteTime": {
     "end_time": "2020-09-11T00:41:00.203547Z",
     "start_time": "2020-09-11T00:40:58.137Z"
    },
    "slideshow": {
     "slide_type": "subslide"
    }
   },
   "outputs": [],
   "source": [
    "t = np.linspace(-10, 10, num=500)\n",
    "x = np.cos(t)*np.sin(2*t) + 0.1*t\n",
    "s = 1.2\n",
    "np.random.seed(0)\n",
    "n = np.random.randn(len(t))\n",
    "\n",
    "fig, ax = plt.subplots(1, 3, figsize=(8, 3), tight_layout=True)\n",
    "ax[0].cla(); ax[0].plot(t, x)\n",
    "ax[1].cla(); ax[1].plot(t, n*s); ax[1].set_ylim(-5, 5)\n",
    "ax[2].cla(); ax[2].plot(t, x+n*s) \n",
    "ax[2].set_title(\"SNR: %0.2f [dB]\" %(10*np.log10(np.sum(x**2)/np.sum((n*s)**2))))"
   ]
  },
  {
   "cell_type": "markdown",
   "metadata": {
    "slideshow": {
     "slide_type": "subslide"
    }
   },
   "source": [
    "<div class=\"alert alert-info\">\n",
    "    \n",
    "Podemos cuantificar el \"nivel de ruido\" o la claridad de la señal observado en términos de la razón señal a ruido (SNR)\n",
    "</div>\n",
    "\n",
    "- La SNR se define como la razón entre la energía de la señal y la energía del ruido\n",
    "- La SNR se mide en decibeles [dB]\n",
    "\n",
    "$$\n",
    "\\text{SNR} = 10 \\log_{10} \\frac{E_x}{E_n}\n",
    "$$"
   ]
  },
  {
   "cell_type": "markdown",
   "metadata": {
    "slideshow": {
     "slide_type": "subslide"
    }
   },
   "source": [
    "### Tipos de ruido\n",
    "Podemos clasificar el ruido según\n",
    "\n",
    "-  la distribución que sigue, *e.g.* ruido Gaussiano, ruido Uniforme\n",
    "-  la dependencia temporal entre sus realizaciones (características espectrales), *e.g.* ruido blanco, ruido rojo\n"
   ]
  },
  {
   "cell_type": "code",
   "execution_count": null,
   "metadata": {},
   "outputs": [],
   "source": [
    "Fs = 44100\n",
    "y = np.random.randn(Fs*10)\n",
    "y = y/np.max(np.absolute(y))\n",
    "fig, ax = plt.subplots()\n",
    "ax.plot(y)\n",
    "\n",
    "Audio(y, rate=Fs)"
   ]
  },
  {
   "cell_type": "code",
   "execution_count": null,
   "metadata": {},
   "outputs": [],
   "source": [
    "dy = np.random.uniform(-1, 1, Fs*10)\n",
    "y = np.cumsum(dy)\n",
    "y = (y - np.mean(y))\n",
    "y = y/np.amax(np.absolute(y))\n",
    "fig, ax = plt.subplots()\n",
    "ax.plot(y)\n",
    "Audio(y, rate=Fs)"
   ]
  },
  {
   "cell_type": "markdown",
   "metadata": {
    "slideshow": {
     "slide_type": "slide"
    }
   },
   "source": [
    "### Ejemplo: Reducción de ruido usando promedios\n",
    "\n",
    "Sea una señal periódica con ruido es aditivo, estacionario y de media cero\n",
    "\n",
    "En este caso podemos reducir el ruido haciendo promedios de la señal de interés\n",
    "\n",
    "$$\n",
    "\\langle y \\rangle = \\langle x + n \\rangle = \\langle x  \\rangle + \\langle  n \\rangle= \\langle x \\rangle\n",
    "$$\n",
    "\n",
    "Sólo funciona si alineamos adecuadamente la señal"
   ]
  },
  {
   "cell_type": "code",
   "execution_count": null,
   "metadata": {
    "ExecuteTime": {
     "end_time": "2020-09-11T00:41:00.206576Z",
     "start_time": "2020-09-11T00:40:58.150Z"
    },
    "slideshow": {
     "slide_type": "fragment"
    }
   },
   "outputs": [],
   "source": [
    "x = np.linspace(0, 10, num=1000)\n",
    "s = 1.\n",
    "data = scipy.signal.square(2.0*np.pi*x) + s*np.random.randn(1000);     \n",
    "\n",
    "fig, ax = plt.subplots(figsize=(8, 5), tight_layout=True)\n",
    "ax.set_ylim(-5, 35)\n",
    "data_avg = 0.0\n",
    "for k in range(0, 35, 5): \n",
    "    ax.plot([0, 10], 2*[k], 'k--', alpha=0.5, linewidth=4)\n",
    "    data = scipy.signal.square(2.0*np.pi*x) + s*np.random.randn(1000);        \n",
    "    data_avg += data\n",
    "    ax.plot(x, k + data, alpha=0.8); \n",
    "ax.plot([11, 21], 2*[15], 'k--', alpha=0.5, linewidth=4);\n",
    "ax.plot(11+ x, 15 + data_avg/7, 'k'); \n"
   ]
  },
  {
   "cell_type": "code",
   "execution_count": null,
   "metadata": {},
   "outputs": [],
   "source": []
  }
 ],
 "metadata": {
  "kernelspec": {
   "display_name": "Python 3",
   "language": "python",
   "name": "python3"
  },
  "language_info": {
   "codemirror_mode": {
    "name": "ipython",
    "version": 3
   },
   "file_extension": ".py",
   "mimetype": "text/x-python",
   "name": "python",
   "nbconvert_exporter": "python",
   "pygments_lexer": "ipython3",
   "version": "3.8.5"
  },
  "toc": {
   "base_numbering": 1,
   "nav_menu": {},
   "number_sections": true,
   "sideBar": true,
   "skip_h1_title": false,
   "title_cell": "Table of Contents",
   "title_sidebar": "Contents",
   "toc_cell": false,
   "toc_position": {},
   "toc_section_display": true,
   "toc_window_display": true
  },
  "widgets": {
   "application/vnd.jupyter.widget-state+json": {
    "state": {
     "0041955412314f3cb87cc425ff5cdce6": {
      "model_module": "@jupyter-widgets/base",
      "model_module_version": "1.2.0",
      "model_name": "LayoutModel",
      "state": {}
     },
     "00e0d7896991478f97a9b0dab150724d": {
      "model_module": "@jupyter-widgets/controls",
      "model_module_version": "1.5.0",
      "model_name": "FloatSliderModel",
      "state": {
       "description": "Varianza",
       "layout": "IPY_MODEL_9776671686a746b0908c51567d948a03",
       "max": 3,
       "min": 0.01,
       "step": 0.1,
       "style": "IPY_MODEL_f05b8ecc8d1b4f7fba77108547aebd8c",
       "value": 0.01
      }
     },
     "02a983a5c0a640bda1d6a8cdf88a3803": {
      "model_module": "@jupyter-widgets/controls",
      "model_module_version": "1.5.0",
      "model_name": "SliderStyleModel",
      "state": {
       "description_width": ""
      }
     },
     "04ec778b20cf4407a67496bb1b051b27": {
      "model_module": "@jupyter-widgets/output",
      "model_module_version": "1.0.0",
      "model_name": "OutputModel",
      "state": {
       "layout": "IPY_MODEL_a20ce46cdf3744388868087d138add46"
      }
     },
     "09216013fa57492a866a79ee86e543a0": {
      "model_module": "@jupyter-widgets/controls",
      "model_module_version": "1.5.0",
      "model_name": "VBoxModel",
      "state": {
       "_dom_classes": [
        "widget-interact"
       ],
       "children": [
        "IPY_MODEL_7ce319469fae4ea8987d22060de90453",
        "IPY_MODEL_511c3ea29d1a45eeb0c47b9fd05663dc",
        "IPY_MODEL_8b2da5f332d341fa85c9102e19440e6d"
       ],
       "layout": "IPY_MODEL_637139cd79864980ae9066843cb42d4a"
      }
     },
     "0b579fbcfdb24028a867a4c0788f66f5": {
      "model_module": "@jupyter-widgets/controls",
      "model_module_version": "1.5.0",
      "model_name": "VBoxModel",
      "state": {
       "_dom_classes": [
        "widget-interact"
       ],
       "children": [
        "IPY_MODEL_00e0d7896991478f97a9b0dab150724d",
        "IPY_MODEL_b8dd3a3625324fe1b8476652b527c3c1"
       ],
       "layout": "IPY_MODEL_1aab1733713848c29e9fcee80601ab41"
      }
     },
     "0ebbcd4dc29745f29279af5004d1d14e": {
      "model_module": "@jupyter-widgets/controls",
      "model_module_version": "1.5.0",
      "model_name": "IntSliderModel",
      "state": {
       "description": "Random seed",
       "layout": "IPY_MODEL_5319c48a5881491cab8e973e9dce0fd6",
       "style": "IPY_MODEL_c29822bf3d9f4bbbb32a24e2bbe6c5c4"
      }
     },
     "11639c22d1914536ae493bc0acb13a52": {
      "model_module": "@jupyter-widgets/base",
      "model_module_version": "1.2.0",
      "model_name": "LayoutModel",
      "state": {}
     },
     "13524a9fa67b4af0b73422f5bbcd08e8": {
      "model_module": "@jupyter-widgets/base",
      "model_module_version": "1.2.0",
      "model_name": "LayoutModel",
      "state": {}
     },
     "13ab499780134a56b57875476738a656": {
      "model_module": "@jupyter-widgets/output",
      "model_module_version": "1.0.0",
      "model_name": "OutputModel",
      "state": {
       "layout": "IPY_MODEL_30fbbb135fef44b28f4287a052ecc3c8"
      }
     },
     "191296e9b07346569dbd03102085f4eb": {
      "model_module": "@jupyter-widgets/base",
      "model_module_version": "1.2.0",
      "model_name": "LayoutModel",
      "state": {}
     },
     "1a132742fa7a49df8c3c842bb2819808": {
      "model_module": "@jupyter-widgets/controls",
      "model_module_version": "1.5.0",
      "model_name": "VBoxModel",
      "state": {
       "_dom_classes": [
        "widget-interact"
       ],
       "children": [
        "IPY_MODEL_48ff52649dfc48948535f0933acef4f4",
        "IPY_MODEL_d7f8b86f2d3c45d79e6eb90ed696fe6c",
        "IPY_MODEL_04ec778b20cf4407a67496bb1b051b27"
       ],
       "layout": "IPY_MODEL_9e98e7649b4b4053b1236758b6b7f3ed"
      }
     },
     "1aab1733713848c29e9fcee80601ab41": {
      "model_module": "@jupyter-widgets/base",
      "model_module_version": "1.2.0",
      "model_name": "LayoutModel",
      "state": {}
     },
     "1cfcb091cb144fed8b3f2515b4be817a": {
      "model_module": "@jupyter-widgets/base",
      "model_module_version": "1.2.0",
      "model_name": "LayoutModel",
      "state": {}
     },
     "27b5eb17b1fb454a8bbdd36987a10078": {
      "model_module": "@jupyter-widgets/controls",
      "model_module_version": "1.5.0",
      "model_name": "SliderStyleModel",
      "state": {
       "description_width": ""
      }
     },
     "294a5206fae645a4ad1420d4109821aa": {
      "model_module": "@jupyter-widgets/controls",
      "model_module_version": "1.5.0",
      "model_name": "FloatSliderModel",
      "state": {
       "description": "Noise $\\sigma$",
       "layout": "IPY_MODEL_13524a9fa67b4af0b73422f5bbcd08e8",
       "max": 1.5,
       "min": 0.1,
       "step": 0.1,
       "style": "IPY_MODEL_9a0afeacf721488aad6309b7fbb9690b",
       "value": 1
      }
     },
     "2a0af33f1a3e4fcfa2b55e934717a412": {
      "model_module": "@jupyter-widgets/controls",
      "model_module_version": "1.5.0",
      "model_name": "VBoxModel",
      "state": {
       "_dom_classes": [
        "widget-interact"
       ],
       "children": [
        "IPY_MODEL_0ebbcd4dc29745f29279af5004d1d14e",
        "IPY_MODEL_e085083f5139452287b4ab3fa36540fe"
       ],
       "layout": "IPY_MODEL_7ab0b9a677214988985aaf8b04dd1093"
      }
     },
     "30fbbb135fef44b28f4287a052ecc3c8": {
      "model_module": "@jupyter-widgets/base",
      "model_module_version": "1.2.0",
      "model_name": "LayoutModel",
      "state": {}
     },
     "346815f24f8d498db4172c2f323a3964": {
      "model_module": "@jupyter-widgets/base",
      "model_module_version": "1.2.0",
      "model_name": "LayoutModel",
      "state": {}
     },
     "3540a46b6a5945b5994453b1f3065bba": {
      "model_module": "@jupyter-widgets/controls",
      "model_module_version": "1.5.0",
      "model_name": "SliderStyleModel",
      "state": {
       "description_width": ""
      }
     },
     "35f7c3a48eca404a90821fe2f819b666": {
      "model_module": "@jupyter-widgets/controls",
      "model_module_version": "1.5.0",
      "model_name": "IntSliderModel",
      "state": {
       "description": "log Number of realizations",
       "layout": "IPY_MODEL_f48c4e8fce214d949ab14cc053eeb607",
       "max": 4,
       "style": "IPY_MODEL_3540a46b6a5945b5994453b1f3065bba",
       "value": 3
      }
     },
     "35fc5dce413f418fb6be1f4a7d5b8ac6": {
      "model_module": "@jupyter-widgets/base",
      "model_module_version": "1.2.0",
      "model_name": "LayoutModel",
      "state": {}
     },
     "37e8925c05f142d5a82768d481c5dee9": {
      "model_module": "@jupyter-widgets/base",
      "model_module_version": "1.2.0",
      "model_name": "LayoutModel",
      "state": {}
     },
     "3a81c566b27e4444855115640d337863": {
      "model_module": "@jupyter-widgets/base",
      "model_module_version": "1.2.0",
      "model_name": "LayoutModel",
      "state": {}
     },
     "3abb5a1a6518412e9ec19df52419ccde": {
      "model_module": "@jupyter-widgets/controls",
      "model_module_version": "1.5.0",
      "model_name": "IntSliderModel",
      "state": {
       "description": "Semilla",
       "layout": "IPY_MODEL_85c31c1f5ebe4fad98dbf0249f00d5f9",
       "style": "IPY_MODEL_acf4f57867cc496a9fef30f01f4b52d8"
      }
     },
     "3b76fd5a2ba04e1eb37bb95201ba2cec": {
      "model_module": "@jupyter-widgets/base",
      "model_module_version": "1.2.0",
      "model_name": "LayoutModel",
      "state": {}
     },
     "3d7f303f57ad43e4b66e77e7e277fc96": {
      "model_module": "@jupyter-widgets/output",
      "model_module_version": "1.0.0",
      "model_name": "OutputModel",
      "state": {
       "layout": "IPY_MODEL_9948644773fa47878a7d0b513a6ccbfd"
      }
     },
     "3ff803e024fd41ee9b1584c99cfac78d": {
      "model_module": "@jupyter-widgets/controls",
      "model_module_version": "1.5.0",
      "model_name": "FloatSliderModel",
      "state": {
       "description": "Correlación",
       "layout": "IPY_MODEL_d7559390896a479baaaad9240030613a",
       "max": 10,
       "min": 0.1,
       "step": 0.1,
       "style": "IPY_MODEL_9f4675765256425591a45ba810527a47",
       "value": 0.1
      }
     },
     "483917297c0046e68bf9c816bad714ea": {
      "model_module": "@jupyter-widgets/output",
      "model_module_version": "1.0.0",
      "model_name": "OutputModel",
      "state": {
       "layout": "IPY_MODEL_b12d5d883ea54685b9536bd980765012"
      }
     },
     "48ff52649dfc48948535f0933acef4f4": {
      "model_module": "@jupyter-widgets/controls",
      "model_module_version": "1.5.0",
      "model_name": "IntSliderModel",
      "state": {
       "description": "Semilla",
       "layout": "IPY_MODEL_3a81c566b27e4444855115640d337863",
       "style": "IPY_MODEL_27b5eb17b1fb454a8bbdd36987a10078",
       "value": 81
      }
     },
     "4be45aa928d24778a7d679160a41d2f2": {
      "model_module": "@jupyter-widgets/controls",
      "model_module_version": "1.5.0",
      "model_name": "VBoxModel",
      "state": {
       "_dom_classes": [
        "widget-interact"
       ],
       "children": [
        "IPY_MODEL_fe84744402214e1aba5b0c5b16039557",
        "IPY_MODEL_62b146ea6c3e4ed2a052229bad747f8e",
        "IPY_MODEL_82d825484a52462c93c17aeff5de2cd3"
       ],
       "layout": "IPY_MODEL_3b76fd5a2ba04e1eb37bb95201ba2cec"
      }
     },
     "4f2344ab3bf844bf8c1a514ae459bf08": {
      "model_module": "@jupyter-widgets/base",
      "model_module_version": "1.2.0",
      "model_name": "LayoutModel",
      "state": {}
     },
     "4ffda9fc811646bfb7c801be2b6016dd": {
      "model_module": "@jupyter-widgets/controls",
      "model_module_version": "1.5.0",
      "model_name": "SliderStyleModel",
      "state": {
       "description_width": ""
      }
     },
     "5051256443714f429b8df9d2b739cea5": {
      "model_module": "@jupyter-widgets/base",
      "model_module_version": "1.2.0",
      "model_name": "LayoutModel",
      "state": {}
     },
     "509ba44793054385b4b5db23e41692d0": {
      "model_module": "@jupyter-widgets/controls",
      "model_module_version": "1.5.0",
      "model_name": "SliderStyleModel",
      "state": {
       "description_width": ""
      }
     },
     "50aacebc90074d758e8c2ac6ee43ed36": {
      "model_module": "@jupyter-widgets/base",
      "model_module_version": "1.2.0",
      "model_name": "LayoutModel",
      "state": {}
     },
     "50aec50214184e07a7fb4283296b5691": {
      "model_module": "@jupyter-widgets/controls",
      "model_module_version": "1.5.0",
      "model_name": "SliderStyleModel",
      "state": {
       "description_width": ""
      }
     },
     "511c3ea29d1a45eeb0c47b9fd05663dc": {
      "model_module": "@jupyter-widgets/controls",
      "model_module_version": "1.5.0",
      "model_name": "FloatSliderModel",
      "state": {
       "description": "Time decay",
       "layout": "IPY_MODEL_94fd87cec0c94b4898b1d102382e0b2e",
       "max": 10,
       "min": 0.1,
       "step": 0.1,
       "style": "IPY_MODEL_54a12b99bcc0469aab5255ba3da1836b",
       "value": 0.1
      }
     },
     "5319c48a5881491cab8e973e9dce0fd6": {
      "model_module": "@jupyter-widgets/base",
      "model_module_version": "1.2.0",
      "model_name": "LayoutModel",
      "state": {}
     },
     "53f4f0797e4645c69d96bdb1cbc4b2dc": {
      "model_module": "@jupyter-widgets/base",
      "model_module_version": "1.2.0",
      "model_name": "LayoutModel",
      "state": {}
     },
     "54a12b99bcc0469aab5255ba3da1836b": {
      "model_module": "@jupyter-widgets/controls",
      "model_module_version": "1.5.0",
      "model_name": "SliderStyleModel",
      "state": {
       "description_width": ""
      }
     },
     "5756d3f819b445cea3abd794f34c0803": {
      "model_module": "@jupyter-widgets/base",
      "model_module_version": "1.2.0",
      "model_name": "LayoutModel",
      "state": {}
     },
     "5f6b75f311fb420d823ed2ec36a22e3f": {
      "model_module": "@jupyter-widgets/base",
      "model_module_version": "1.2.0",
      "model_name": "LayoutModel",
      "state": {}
     },
     "6118bfaa07004f86b715903ee0cf3b24": {
      "model_module": "@jupyter-widgets/controls",
      "model_module_version": "1.5.0",
      "model_name": "VBoxModel",
      "state": {
       "_dom_classes": [
        "widget-interact"
       ],
       "children": [
        "IPY_MODEL_cbe0f81664bc401dadb2842cc9201550",
        "IPY_MODEL_947c641569e54801930e769a335f2560"
       ],
       "layout": "IPY_MODEL_7e9eb818a6e94b3fa560fe784b8ce8c4"
      }
     },
     "62b146ea6c3e4ed2a052229bad747f8e": {
      "model_module": "@jupyter-widgets/controls",
      "model_module_version": "1.5.0",
      "model_name": "FloatSliderModel",
      "state": {
       "description": "Correlación",
       "layout": "IPY_MODEL_9d65291058fa4d3eaa9075abc3d87f4d",
       "max": 10,
       "min": 0.1,
       "step": 0.1,
       "style": "IPY_MODEL_8cca88a486744034867ef20e1a928e86",
       "value": 10
      }
     },
     "62c0d603cd8f4ecea2f618a35e7ccb68": {
      "model_module": "@jupyter-widgets/base",
      "model_module_version": "1.2.0",
      "model_name": "LayoutModel",
      "state": {}
     },
     "637139cd79864980ae9066843cb42d4a": {
      "model_module": "@jupyter-widgets/base",
      "model_module_version": "1.2.0",
      "model_name": "LayoutModel",
      "state": {}
     },
     "65cd851ee2b34c69a057c72d45a2662d": {
      "model_module": "@jupyter-widgets/output",
      "model_module_version": "1.0.0",
      "model_name": "OutputModel",
      "state": {
       "layout": "IPY_MODEL_0041955412314f3cb87cc425ff5cdce6"
      }
     },
     "6750217e17a048b6ad6467da554bcc01": {
      "model_module": "@jupyter-widgets/controls",
      "model_module_version": "1.5.0",
      "model_name": "SliderStyleModel",
      "state": {
       "description_width": ""
      }
     },
     "6792476b6a1544d39ed8b02612e7cd48": {
      "model_module": "@jupyter-widgets/controls",
      "model_module_version": "1.5.0",
      "model_name": "FloatSliderModel",
      "state": {
       "description": "Correlación",
       "layout": "IPY_MODEL_ae1d689666d64a8caff1505f645c7b9a",
       "max": 10,
       "min": 0.1,
       "step": 0.1,
       "style": "IPY_MODEL_4ffda9fc811646bfb7c801be2b6016dd",
       "value": 6.4
      }
     },
     "6ba7323fa1834fcfbc719e6387080ce2": {
      "model_module": "@jupyter-widgets/controls",
      "model_module_version": "1.5.0",
      "model_name": "SliderStyleModel",
      "state": {
       "description_width": ""
      }
     },
     "6d10245e146b4571b2cab98352b552d1": {
      "model_module": "@jupyter-widgets/controls",
      "model_module_version": "1.5.0",
      "model_name": "VBoxModel",
      "state": {
       "_dom_classes": [
        "widget-interact"
       ],
       "children": [
        "IPY_MODEL_9cd8443662e1431aa95631334457e40c",
        "IPY_MODEL_294a5206fae645a4ad1420d4109821aa",
        "IPY_MODEL_c944b50369ea42bd964b03998638b6ca"
       ],
       "layout": "IPY_MODEL_74c801db3dbc444fa48d876ae9c824fd"
      }
     },
     "6f20b4f95bc24770bc4476f0c0900890": {
      "model_module": "@jupyter-widgets/base",
      "model_module_version": "1.2.0",
      "model_name": "LayoutModel",
      "state": {}
     },
     "6f238b05ae4142bd937508d956a732ea": {
      "model_module": "@jupyter-widgets/base",
      "model_module_version": "1.2.0",
      "model_name": "LayoutModel",
      "state": {}
     },
     "74c801db3dbc444fa48d876ae9c824fd": {
      "model_module": "@jupyter-widgets/base",
      "model_module_version": "1.2.0",
      "model_name": "LayoutModel",
      "state": {}
     },
     "74db221afcfc4db29d9d4821ceb7fea5": {
      "model_module": "@jupyter-widgets/controls",
      "model_module_version": "1.5.0",
      "model_name": "VBoxModel",
      "state": {
       "_dom_classes": [
        "widget-interact"
       ],
       "children": [
        "IPY_MODEL_81eabc176a884bcfbdb775a5cc070bb1",
        "IPY_MODEL_65cd851ee2b34c69a057c72d45a2662d"
       ],
       "layout": "IPY_MODEL_78f91fd2d5e043a7b3b3aa72fd72cdc3"
      }
     },
     "78f91fd2d5e043a7b3b3aa72fd72cdc3": {
      "model_module": "@jupyter-widgets/base",
      "model_module_version": "1.2.0",
      "model_name": "LayoutModel",
      "state": {}
     },
     "7ab0b9a677214988985aaf8b04dd1093": {
      "model_module": "@jupyter-widgets/base",
      "model_module_version": "1.2.0",
      "model_name": "LayoutModel",
      "state": {}
     },
     "7bee9e60cd004a0ca8001604cdb3a03a": {
      "model_module": "@jupyter-widgets/base",
      "model_module_version": "1.2.0",
      "model_name": "LayoutModel",
      "state": {}
     },
     "7c4d0f932b224cc88c56a66f328be087": {
      "model_module": "@jupyter-widgets/controls",
      "model_module_version": "1.5.0",
      "model_name": "IntSliderModel",
      "state": {
       "description": "Random seed",
       "layout": "IPY_MODEL_a390e75bb2604b698bfec7bf77a25e60",
       "style": "IPY_MODEL_bac3a57ce33a4b6f909faacdbffe19c5"
      }
     },
     "7ce319469fae4ea8987d22060de90453": {
      "model_module": "@jupyter-widgets/controls",
      "model_module_version": "1.5.0",
      "model_name": "IntSliderModel",
      "state": {
       "description": "Random seed",
       "layout": "IPY_MODEL_50aacebc90074d758e8c2ac6ee43ed36",
       "style": "IPY_MODEL_f920fa6515c44315abdc750f163b1ab4"
      }
     },
     "7e9eb818a6e94b3fa560fe784b8ce8c4": {
      "model_module": "@jupyter-widgets/base",
      "model_module_version": "1.2.0",
      "model_name": "LayoutModel",
      "state": {}
     },
     "7fece4854d714cf89a684c3962af667d": {
      "model_module": "@jupyter-widgets/base",
      "model_module_version": "1.2.0",
      "model_name": "LayoutModel",
      "state": {}
     },
     "805b1e4e5215449395735e8eff7203fe": {
      "model_module": "@jupyter-widgets/controls",
      "model_module_version": "1.5.0",
      "model_name": "VBoxModel",
      "state": {
       "_dom_classes": [
        "widget-interact"
       ],
       "children": [
        "IPY_MODEL_c088588a3d624df88b12ebc2d06b6d3d",
        "IPY_MODEL_3ff803e024fd41ee9b1584c99cfac78d",
        "IPY_MODEL_c2c8e3644411430b96051f66032356fe"
       ],
       "layout": "IPY_MODEL_7fece4854d714cf89a684c3962af667d"
      }
     },
     "81eabc176a884bcfbdb775a5cc070bb1": {
      "model_module": "@jupyter-widgets/controls",
      "model_module_version": "1.5.0",
      "model_name": "FloatSliderModel",
      "state": {
       "description": "$\\sigma$",
       "layout": "IPY_MODEL_35fc5dce413f418fb6be1f4a7d5b8ac6",
       "max": 3,
       "min": 0.01,
       "step": 0.1,
       "style": "IPY_MODEL_da45453c51d3458fb2d6aefc234ba76c",
       "value": 0.01
      }
     },
     "82d825484a52462c93c17aeff5de2cd3": {
      "model_module": "@jupyter-widgets/output",
      "model_module_version": "1.0.0",
      "model_name": "OutputModel",
      "state": {
       "layout": "IPY_MODEL_4f2344ab3bf844bf8c1a514ae459bf08"
      }
     },
     "85c31c1f5ebe4fad98dbf0249f00d5f9": {
      "model_module": "@jupyter-widgets/base",
      "model_module_version": "1.2.0",
      "model_name": "LayoutModel",
      "state": {}
     },
     "867ece0d93d747798ac1be56bc9518e7": {
      "model_module": "@jupyter-widgets/controls",
      "model_module_version": "1.5.0",
      "model_name": "VBoxModel",
      "state": {
       "_dom_classes": [
        "widget-interact"
       ],
       "children": [
        "IPY_MODEL_dcef7283d11a48669ab7c77c9999a7e2",
        "IPY_MODEL_6792476b6a1544d39ed8b02612e7cd48",
        "IPY_MODEL_b055c2251c7e41a69a9716406fd7f2ab"
       ],
       "layout": "IPY_MODEL_5051256443714f429b8df9d2b739cea5"
      }
     },
     "88d3b7859058450a8f098750b47e0919": {
      "model_module": "@jupyter-widgets/controls",
      "model_module_version": "1.5.0",
      "model_name": "SliderStyleModel",
      "state": {
       "description_width": ""
      }
     },
     "8b2da5f332d341fa85c9102e19440e6d": {
      "model_module": "@jupyter-widgets/output",
      "model_module_version": "1.0.0",
      "model_name": "OutputModel",
      "state": {
       "layout": "IPY_MODEL_53f4f0797e4645c69d96bdb1cbc4b2dc"
      }
     },
     "8cca88a486744034867ef20e1a928e86": {
      "model_module": "@jupyter-widgets/controls",
      "model_module_version": "1.5.0",
      "model_name": "SliderStyleModel",
      "state": {
       "description_width": ""
      }
     },
     "947c641569e54801930e769a335f2560": {
      "model_module": "@jupyter-widgets/output",
      "model_module_version": "1.0.0",
      "model_name": "OutputModel",
      "state": {
       "layout": "IPY_MODEL_d560a4f5c8a74ca0a2fc9af59034e54d"
      }
     },
     "94fd87cec0c94b4898b1d102382e0b2e": {
      "model_module": "@jupyter-widgets/base",
      "model_module_version": "1.2.0",
      "model_name": "LayoutModel",
      "state": {}
     },
     "967c06cf55e24d13822acff3976f1854": {
      "model_module": "@jupyter-widgets/base",
      "model_module_version": "1.2.0",
      "model_name": "LayoutModel",
      "state": {}
     },
     "9776671686a746b0908c51567d948a03": {
      "model_module": "@jupyter-widgets/base",
      "model_module_version": "1.2.0",
      "model_name": "LayoutModel",
      "state": {}
     },
     "9948644773fa47878a7d0b513a6ccbfd": {
      "model_module": "@jupyter-widgets/base",
      "model_module_version": "1.2.0",
      "model_name": "LayoutModel",
      "state": {}
     },
     "9a0afeacf721488aad6309b7fbb9690b": {
      "model_module": "@jupyter-widgets/controls",
      "model_module_version": "1.5.0",
      "model_name": "SliderStyleModel",
      "state": {
       "description_width": ""
      }
     },
     "9cd8443662e1431aa95631334457e40c": {
      "model_module": "@jupyter-widgets/controls",
      "model_module_version": "1.5.0",
      "model_name": "IntSliderModel",
      "state": {
       "description": "Random seed",
       "layout": "IPY_MODEL_dec2323a74494af4bf38e2385e11aa62",
       "style": "IPY_MODEL_6750217e17a048b6ad6467da554bcc01"
      }
     },
     "9d65291058fa4d3eaa9075abc3d87f4d": {
      "model_module": "@jupyter-widgets/base",
      "model_module_version": "1.2.0",
      "model_name": "LayoutModel",
      "state": {}
     },
     "9e98e7649b4b4053b1236758b6b7f3ed": {
      "model_module": "@jupyter-widgets/base",
      "model_module_version": "1.2.0",
      "model_name": "LayoutModel",
      "state": {}
     },
     "9f4675765256425591a45ba810527a47": {
      "model_module": "@jupyter-widgets/controls",
      "model_module_version": "1.5.0",
      "model_name": "SliderStyleModel",
      "state": {
       "description_width": ""
      }
     },
     "a20ce46cdf3744388868087d138add46": {
      "model_module": "@jupyter-widgets/base",
      "model_module_version": "1.2.0",
      "model_name": "LayoutModel",
      "state": {}
     },
     "a390e75bb2604b698bfec7bf77a25e60": {
      "model_module": "@jupyter-widgets/base",
      "model_module_version": "1.2.0",
      "model_name": "LayoutModel",
      "state": {}
     },
     "a79f456a9fed47a6b08cfa324a383875": {
      "model_module": "@jupyter-widgets/controls",
      "model_module_version": "1.5.0",
      "model_name": "SliderStyleModel",
      "state": {
       "description_width": ""
      }
     },
     "a7a0533faeb6458db65b67341d9c08d1": {
      "model_module": "@jupyter-widgets/controls",
      "model_module_version": "1.5.0",
      "model_name": "VBoxModel",
      "state": {
       "_dom_classes": [
        "widget-interact"
       ],
       "children": [
        "IPY_MODEL_35f7c3a48eca404a90821fe2f819b666",
        "IPY_MODEL_f79ee83105ef4e29a8610228b7daf896",
        "IPY_MODEL_3d7f303f57ad43e4b66e77e7e277fc96"
       ],
       "layout": "IPY_MODEL_c285e80b03ee4352932d26848d244db4"
      }
     },
     "ac4ace7558dc435a97c6c4ba076661e4": {
      "model_module": "@jupyter-widgets/base",
      "model_module_version": "1.2.0",
      "model_name": "LayoutModel",
      "state": {}
     },
     "acf4f57867cc496a9fef30f01f4b52d8": {
      "model_module": "@jupyter-widgets/controls",
      "model_module_version": "1.5.0",
      "model_name": "SliderStyleModel",
      "state": {
       "description_width": ""
      }
     },
     "ae1d689666d64a8caff1505f645c7b9a": {
      "model_module": "@jupyter-widgets/base",
      "model_module_version": "1.2.0",
      "model_name": "LayoutModel",
      "state": {}
     },
     "b055c2251c7e41a69a9716406fd7f2ab": {
      "model_module": "@jupyter-widgets/output",
      "model_module_version": "1.0.0",
      "model_name": "OutputModel",
      "state": {
       "layout": "IPY_MODEL_d78c4e86b08147a2a46c7f888ba49e24"
      }
     },
     "b12d5d883ea54685b9536bd980765012": {
      "model_module": "@jupyter-widgets/base",
      "model_module_version": "1.2.0",
      "model_name": "LayoutModel",
      "state": {}
     },
     "b776fd3227c84be19275883f75bd5a17": {
      "model_module": "@jupyter-widgets/controls",
      "model_module_version": "1.5.0",
      "model_name": "SliderStyleModel",
      "state": {
       "description_width": ""
      }
     },
     "b8dd3a3625324fe1b8476652b527c3c1": {
      "model_module": "@jupyter-widgets/output",
      "model_module_version": "1.0.0",
      "model_name": "OutputModel",
      "state": {
       "layout": "IPY_MODEL_6f20b4f95bc24770bc4476f0c0900890"
      }
     },
     "b91d338567b54bb7a43e6d12599633f5": {
      "model_module": "@jupyter-widgets/controls",
      "model_module_version": "1.5.0",
      "model_name": "SliderStyleModel",
      "state": {
       "description_width": ""
      }
     },
     "bac3a57ce33a4b6f909faacdbffe19c5": {
      "model_module": "@jupyter-widgets/controls",
      "model_module_version": "1.5.0",
      "model_name": "SliderStyleModel",
      "state": {
       "description_width": ""
      }
     },
     "c088588a3d624df88b12ebc2d06b6d3d": {
      "model_module": "@jupyter-widgets/controls",
      "model_module_version": "1.5.0",
      "model_name": "IntSliderModel",
      "state": {
       "description": "Semilla",
       "layout": "IPY_MODEL_d1d88c565f5645c591f3c9fc2f147c2a",
       "style": "IPY_MODEL_88d3b7859058450a8f098750b47e0919"
      }
     },
     "c285e80b03ee4352932d26848d244db4": {
      "model_module": "@jupyter-widgets/base",
      "model_module_version": "1.2.0",
      "model_name": "LayoutModel",
      "state": {}
     },
     "c29822bf3d9f4bbbb32a24e2bbe6c5c4": {
      "model_module": "@jupyter-widgets/controls",
      "model_module_version": "1.5.0",
      "model_name": "SliderStyleModel",
      "state": {
       "description_width": ""
      }
     },
     "c2c8e3644411430b96051f66032356fe": {
      "model_module": "@jupyter-widgets/output",
      "model_module_version": "1.0.0",
      "model_name": "OutputModel",
      "state": {
       "layout": "IPY_MODEL_191296e9b07346569dbd03102085f4eb"
      }
     },
     "c6b2c48b686e484085595ca4e3f81078": {
      "model_module": "@jupyter-widgets/controls",
      "model_module_version": "1.5.0",
      "model_name": "VBoxModel",
      "state": {
       "_dom_classes": [
        "widget-interact"
       ],
       "children": [
        "IPY_MODEL_da1fa7fae30044adb64c81ea513fcb4a",
        "IPY_MODEL_13ab499780134a56b57875476738a656"
       ],
       "layout": "IPY_MODEL_ac4ace7558dc435a97c6c4ba076661e4"
      }
     },
     "c944b50369ea42bd964b03998638b6ca": {
      "model_module": "@jupyter-widgets/output",
      "model_module_version": "1.0.0",
      "model_name": "OutputModel",
      "state": {
       "layout": "IPY_MODEL_62c0d603cd8f4ecea2f618a35e7ccb68"
      }
     },
     "caf6aad8dda549d7aa6b9089331907f7": {
      "model_module": "@jupyter-widgets/base",
      "model_module_version": "1.2.0",
      "model_name": "LayoutModel",
      "state": {}
     },
     "cb99abd6158348dbb6f90a8e5cb6957a": {
      "model_module": "@jupyter-widgets/base",
      "model_module_version": "1.2.0",
      "model_name": "LayoutModel",
      "state": {}
     },
     "cbe0f81664bc401dadb2842cc9201550": {
      "model_module": "@jupyter-widgets/controls",
      "model_module_version": "1.5.0",
      "model_name": "FloatSliderModel",
      "state": {
       "description": "Gaussian noise $\\sigma$",
       "layout": "IPY_MODEL_cb99abd6158348dbb6f90a8e5cb6957a",
       "max": 3,
       "min": 0.01,
       "step": 0.1,
       "style": "IPY_MODEL_50aec50214184e07a7fb4283296b5691",
       "value": 1.71
      }
     },
     "d1d88c565f5645c591f3c9fc2f147c2a": {
      "model_module": "@jupyter-widgets/base",
      "model_module_version": "1.2.0",
      "model_name": "LayoutModel",
      "state": {}
     },
     "d3fde064e2124ece99be946d4b2bfc38": {
      "model_module": "@jupyter-widgets/controls",
      "model_module_version": "1.5.0",
      "model_name": "VBoxModel",
      "state": {
       "_dom_classes": [
        "widget-interact"
       ],
       "children": [
        "IPY_MODEL_7c4d0f932b224cc88c56a66f328be087",
        "IPY_MODEL_fb45bb89c26b4639910e0d06c7f2e003",
        "IPY_MODEL_dbd94195bbad4618acfab6533373be2f"
       ],
       "layout": "IPY_MODEL_1cfcb091cb144fed8b3f2515b4be817a"
      }
     },
     "d560a4f5c8a74ca0a2fc9af59034e54d": {
      "model_module": "@jupyter-widgets/base",
      "model_module_version": "1.2.0",
      "model_name": "LayoutModel",
      "state": {}
     },
     "d7559390896a479baaaad9240030613a": {
      "model_module": "@jupyter-widgets/base",
      "model_module_version": "1.2.0",
      "model_name": "LayoutModel",
      "state": {}
     },
     "d78c4e86b08147a2a46c7f888ba49e24": {
      "model_module": "@jupyter-widgets/base",
      "model_module_version": "1.2.0",
      "model_name": "LayoutModel",
      "state": {}
     },
     "d7f8b86f2d3c45d79e6eb90ed696fe6c": {
      "model_module": "@jupyter-widgets/controls",
      "model_module_version": "1.5.0",
      "model_name": "FloatSliderModel",
      "state": {
       "description": "Correlación",
       "layout": "IPY_MODEL_967c06cf55e24d13822acff3976f1854",
       "max": 10,
       "min": 0.1,
       "step": 0.1,
       "style": "IPY_MODEL_b91d338567b54bb7a43e6d12599633f5",
       "value": 10
      }
     },
     "da1fa7fae30044adb64c81ea513fcb4a": {
      "model_module": "@jupyter-widgets/controls",
      "model_module_version": "1.5.0",
      "model_name": "IntSliderModel",
      "state": {
       "description": "Semilla",
       "layout": "IPY_MODEL_7bee9e60cd004a0ca8001604cdb3a03a",
       "style": "IPY_MODEL_6ba7323fa1834fcfbc719e6387080ce2"
      }
     },
     "da45453c51d3458fb2d6aefc234ba76c": {
      "model_module": "@jupyter-widgets/controls",
      "model_module_version": "1.5.0",
      "model_name": "SliderStyleModel",
      "state": {
       "description_width": ""
      }
     },
     "dbd94195bbad4618acfab6533373be2f": {
      "model_module": "@jupyter-widgets/output",
      "model_module_version": "1.0.0",
      "model_name": "OutputModel",
      "state": {
       "layout": "IPY_MODEL_346815f24f8d498db4172c2f323a3964"
      }
     },
     "dcef7283d11a48669ab7c77c9999a7e2": {
      "model_module": "@jupyter-widgets/controls",
      "model_module_version": "1.5.0",
      "model_name": "IntSliderModel",
      "state": {
       "description": "Semilla",
       "layout": "IPY_MODEL_37e8925c05f142d5a82768d481c5dee9",
       "style": "IPY_MODEL_509ba44793054385b4b5db23e41692d0"
      }
     },
     "dec2323a74494af4bf38e2385e11aa62": {
      "model_module": "@jupyter-widgets/base",
      "model_module_version": "1.2.0",
      "model_name": "LayoutModel",
      "state": {}
     },
     "e085083f5139452287b4ab3fa36540fe": {
      "model_module": "@jupyter-widgets/output",
      "model_module_version": "1.0.0",
      "model_name": "OutputModel",
      "state": {
       "layout": "IPY_MODEL_6f238b05ae4142bd937508d956a732ea"
      }
     },
     "f05b8ecc8d1b4f7fba77108547aebd8c": {
      "model_module": "@jupyter-widgets/controls",
      "model_module_version": "1.5.0",
      "model_name": "SliderStyleModel",
      "state": {
       "description_width": ""
      }
     },
     "f48c4e8fce214d949ab14cc053eeb607": {
      "model_module": "@jupyter-widgets/base",
      "model_module_version": "1.2.0",
      "model_name": "LayoutModel",
      "state": {}
     },
     "f79ee83105ef4e29a8610228b7daf896": {
      "model_module": "@jupyter-widgets/controls",
      "model_module_version": "1.5.0",
      "model_name": "IntSliderModel",
      "state": {
       "description": "Random seed",
       "layout": "IPY_MODEL_11639c22d1914536ae493bc0acb13a52",
       "style": "IPY_MODEL_02a983a5c0a640bda1d6a8cdf88a3803",
       "value": 88
      }
     },
     "f7fc12d9745e49efb941526abd28c8a6": {
      "model_module": "@jupyter-widgets/controls",
      "model_module_version": "1.5.0",
      "model_name": "VBoxModel",
      "state": {
       "_dom_classes": [
        "widget-interact"
       ],
       "children": [
        "IPY_MODEL_3abb5a1a6518412e9ec19df52419ccde",
        "IPY_MODEL_483917297c0046e68bf9c816bad714ea"
       ],
       "layout": "IPY_MODEL_5756d3f819b445cea3abd794f34c0803"
      }
     },
     "f920fa6515c44315abdc750f163b1ab4": {
      "model_module": "@jupyter-widgets/controls",
      "model_module_version": "1.5.0",
      "model_name": "SliderStyleModel",
      "state": {
       "description_width": ""
      }
     },
     "fb45bb89c26b4639910e0d06c7f2e003": {
      "model_module": "@jupyter-widgets/controls",
      "model_module_version": "1.5.0",
      "model_name": "FloatSliderModel",
      "state": {
       "description": "Noise $\\sigma$",
       "layout": "IPY_MODEL_5f6b75f311fb420d823ed2ec36a22e3f",
       "max": 1.5,
       "min": 0.1,
       "step": 0.1,
       "style": "IPY_MODEL_b776fd3227c84be19275883f75bd5a17",
       "value": 1
      }
     },
     "fe84744402214e1aba5b0c5b16039557": {
      "model_module": "@jupyter-widgets/controls",
      "model_module_version": "1.5.0",
      "model_name": "IntSliderModel",
      "state": {
       "description": "Semilla",
       "layout": "IPY_MODEL_caf6aad8dda549d7aa6b9089331907f7",
       "style": "IPY_MODEL_a79f456a9fed47a6b08cfa324a383875",
       "value": 58
      }
     }
    },
    "version_major": 2,
    "version_minor": 0
   }
  }
 },
 "nbformat": 4,
 "nbformat_minor": 2
}
